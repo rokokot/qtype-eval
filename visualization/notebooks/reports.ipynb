{
 "cells": [
  {
   "cell_type": "markdown",
   "id": "c1089d17",
   "metadata": {},
   "source": [
    "## Generating Reports and Visuals"
   ]
  },
  {
   "cell_type": "markdown",
   "id": "9fe321c0",
   "metadata": {},
   "source": []
  },
  {
   "cell_type": "code",
   "execution_count": 1,
   "id": "7ed1bdee",
   "metadata": {},
   "outputs": [
    {
     "name": "stdout",
     "output_type": "stream",
     "text": [
      "Collecting git+https://github.com/bauwenst/fiject.git\n",
      "  Cloning https://github.com/bauwenst/fiject.git to /tmp/pip-req-build-w4_8_ali\n",
      "  Running command git clone --filter=blob:none --quiet https://github.com/bauwenst/fiject.git /tmp/pip-req-build-w4_8_ali\n",
      "  Resolved https://github.com/bauwenst/fiject.git to commit 2588362e72c5750176778b9ca80027f07617cbf1\n",
      "  Installing build dependencies ... \u001b[?25ldone\n",
      "\u001b[?25h  Getting requirements to build wheel ... \u001b[?25ldone\n",
      "\u001b[?25h  Preparing metadata (pyproject.toml) ... \u001b[?25ldone\n",
      "\u001b[?25hRequirement already satisfied: matplotlib>=3.5.3 in /home/robin/Research/qtype-eval/.venv/lib/python3.12/site-packages (from fiject==2025.1.1) (3.9.4)\n",
      "Requirement already satisfied: seaborn>=0.12.1 in /home/robin/Research/qtype-eval/.venv/lib/python3.12/site-packages (from fiject==2025.1.1) (0.13.2)\n",
      "Collecting natsort (from fiject==2025.1.1)\n",
      "  Downloading natsort-8.4.0-py3-none-any.whl.metadata (21 kB)\n",
      "Requirement already satisfied: contourpy>=1.0.1 in /home/robin/Research/qtype-eval/.venv/lib/python3.12/site-packages (from matplotlib>=3.5.3->fiject==2025.1.1) (1.3.0)\n",
      "Requirement already satisfied: cycler>=0.10 in /home/robin/Research/qtype-eval/.venv/lib/python3.12/site-packages (from matplotlib>=3.5.3->fiject==2025.1.1) (0.12.1)\n",
      "Requirement already satisfied: fonttools>=4.22.0 in /home/robin/Research/qtype-eval/.venv/lib/python3.12/site-packages (from matplotlib>=3.5.3->fiject==2025.1.1) (4.56.0)\n",
      "Requirement already satisfied: kiwisolver>=1.3.1 in /home/robin/Research/qtype-eval/.venv/lib/python3.12/site-packages (from matplotlib>=3.5.3->fiject==2025.1.1) (1.4.7)\n",
      "Requirement already satisfied: numpy>=1.23 in /home/robin/Research/qtype-eval/.venv/lib/python3.12/site-packages (from matplotlib>=3.5.3->fiject==2025.1.1) (1.26.4)\n",
      "Requirement already satisfied: packaging>=20.0 in /home/robin/Research/qtype-eval/.venv/lib/python3.12/site-packages (from matplotlib>=3.5.3->fiject==2025.1.1) (24.2)\n",
      "Requirement already satisfied: pillow>=8 in /home/robin/Research/qtype-eval/.venv/lib/python3.12/site-packages (from matplotlib>=3.5.3->fiject==2025.1.1) (11.1.0)\n",
      "Requirement already satisfied: pyparsing>=2.3.1 in /home/robin/Research/qtype-eval/.venv/lib/python3.12/site-packages (from matplotlib>=3.5.3->fiject==2025.1.1) (3.2.3)\n",
      "Requirement already satisfied: python-dateutil>=2.7 in /home/robin/Research/qtype-eval/.venv/lib/python3.12/site-packages (from matplotlib>=3.5.3->fiject==2025.1.1) (2.9.0.post0)\n",
      "Requirement already satisfied: pandas>=1.2 in /home/robin/Research/qtype-eval/.venv/lib/python3.12/site-packages (from seaborn>=0.12.1->fiject==2025.1.1) (2.2.3)\n",
      "Requirement already satisfied: pytz>=2020.1 in /home/robin/Research/qtype-eval/.venv/lib/python3.12/site-packages (from pandas>=1.2->seaborn>=0.12.1->fiject==2025.1.1) (2025.2)\n",
      "Requirement already satisfied: tzdata>=2022.7 in /home/robin/Research/qtype-eval/.venv/lib/python3.12/site-packages (from pandas>=1.2->seaborn>=0.12.1->fiject==2025.1.1) (2025.2)\n",
      "Requirement already satisfied: six>=1.5 in /home/robin/Research/qtype-eval/.venv/lib/python3.12/site-packages (from python-dateutil>=2.7->matplotlib>=3.5.3->fiject==2025.1.1) (1.17.0)\n",
      "Downloading natsort-8.4.0-py3-none-any.whl (38 kB)\n",
      "Building wheels for collected packages: fiject\n",
      "  Building wheel for fiject (pyproject.toml) ... \u001b[?25ldone\n",
      "\u001b[?25h  Created wheel for fiject: filename=fiject-2025.1.1-py3-none-any.whl size=57197 sha256=b009fb8691ebfedfc4a49a30cccdf269b7d15fde613f71b9e25cdc5a01895216\n",
      "  Stored in directory: /tmp/pip-ephem-wheel-cache-hgapurat/wheels/29/0b/72/111b9c34627e7b9ccd2f01373cdf2aa4c4f66e071f3b0f6225\n",
      "Successfully built fiject\n",
      "Installing collected packages: natsort, fiject\n",
      "Successfully installed fiject-2025.1.1 natsort-8.4.0\n"
     ]
    }
   ],
   "source": [
    "!pip install git+https://github.com/bauwenst/fiject.git"
   ]
  },
  {
   "cell_type": "code",
   "execution_count": 27,
   "metadata": {},
   "outputs": [],
   "source": [
    "import pandas as pd\n",
    "import matplotlib.pyplot as plt\n",
    "import seaborn as sns\n",
    "import numpy as np\n",
    "from fiject import LineGraph, CacheMode\n"
   ]
  },
  {
   "cell_type": "code",
   "execution_count": 28,
   "metadata": {},
   "outputs": [],
   "source": [
    "df = pd.read_csv('/home/robin/Research/qtype-eval/visualization/notebooks/FINAL_MERGED_RESULTS.csv')"
   ]
  },
  {
   "cell_type": "code",
   "execution_count": 33,
   "metadata": {},
   "outputs": [
    {
     "name": "stdout",
     "output_type": "stream",
     "text": [
      "Successfully preloaded data for visual 'question_type_probe_accuracy' sparing you 0m0s of computation time.\n",
      "Writing figure question_type_probe_accuracy ...\n"
     ]
    }
   ],
   "source": [
    "def create_simple_visualization():\n",
    "    g_question = LineGraph(\"question_type_probe_accuracy\", caching=CacheMode.IF_MISSING)\n",
    "    if g_question.needs_computation:\n",
    "        \n",
    "        layers = [1, 2, 3, 4, 5, 6, 7, 8, 9, 10, 11, 12]\n",
    "        \n",
    "        ar_values =[0.8571428571428571,0.8571428571428571,0.7662337662337663,0.7792207792207793,0.7272727272727273,0.7662337662337663,0.7662337662337663,0.7662337662337663,0.7792207792207793,0.7142857142857143,0.6753246753246753,0.6233766233766234]\n",
    "        for i, layer in enumerate(layers):\n",
    "            g_question.add(\"Arabic\", layer, ar_values[i])\n",
    "\n",
    "        en_values = [0.9363636363636364,0.8545454545454545,0.9090909090909091,0.9545454545454546,0.9727272727272728,0.9636363636363636,0.9363636363636364,0.9454545454545454,0.9545454545454546,0.9545454545454546,0.9272727272727272,0.9]\n",
    "        for i, layer in enumerate(layers):\n",
    "            g_question.add(\"English\", layer, en_values[i])\n",
    "        \n",
    "        fi_values = [0.8909090909090909,0.9181818181818182,0.8363636363636363,0.8818181818181818,0.9454545454545454,0.8909090909090909,0.9363636363636364,0.9,0.9090909090909091,0.9,0.8727272727272727,0.8636363636363636]\n",
    "        for i, layer in enumerate(layers):\n",
    "            g_question.add(\"Finnish\", layer, fi_values[i])\n",
    "        \n",
    "        id_values = [0.6909090909090909,0.7,0.7090909090909091,0.6727272727272727,0.7909090909090909,0.8090909090909091,0.8090909090909091,0.8,0.7545454545454545,0.7818181818181819,0.7090909090909091,0.6272727272727273]\n",
    "        for i, layer in enumerate(layers):\n",
    "            g_question.add(\"Indonesian\", layer, id_values[i])\n",
    "\n",
    "        ja_values = [0.75,0.6847826086956522,0.6739130434782609,0.7282608695652174,0.6304347826086957,0.7065217391304348,0.717391304347826,0.6521739130434783,0.7934782608695652,0.8260869565217391,0.7934782608695652,0.7717391304347826]\n",
    "        for i, layer in enumerate(layers):\n",
    "            g_question.add(\"Japanese\", layer, ja_values[i])\n",
    "\n",
    "        ko_values = [0.6363636363636364,0.6818181818181818,0.6636363636363637,0.6545454545454545,0.7181818181818181,0.7181818181818181,0.7454545454545455,0.7545454545454545,0.7636363636363637,0.7636363636363637,0.7363636363636363,0.7]\n",
    "        for i, layer in enumerate(layers):\n",
    "            g_question.add(\"Korean\", layer, ko_values[i])\n",
    "\n",
    "        ru_values = [0.9090909090909091,0.9,0.9545454545454546,0.9636363636363636,0.9727272727272728,0.9454545454545454,0.9545454545454546,0.9636363636363636,0.9545454545454546,0.9636363636363636,0.9727272727272728,0.9636363636363636]\n",
    "        for i, layer in enumerate(layers):\n",
    "            g_question.add(\"Russian\", layer, ru_values[i])\n",
    "    \n",
    "    g_question.commit()\n",
    "\n",
    "if __name__ == \"__main__\":\n",
    "    create_simple_visualization()"
   ]
  },
  {
   "cell_type": "code",
   "execution_count": null,
   "metadata": {},
   "outputs": [
    {
     "name": "stdout",
     "output_type": "stream",
     "text": [
      "Question type data after adjusted filtering: 28 rows\n",
      "Complexity data after adjusted filtering: 28 rows\n"
     ]
    }
   ],
   "source": [
    "def complexity_probe_line():\n",
    "    g_question = LineGraph(\"complexity_probe_mse\", caching=CacheMode.IF_MISSING)\n",
    "    if g_question.needs_computation:\n",
    "        \n",
    "        layers = [1, 2, 3, 4, 5, 6, 7, 8, 9, 10, 11, 12]\n",
    "        \n",
    "        ar_values =[0.03399290516972542,0.03338051959872246]\n",
    "        for i, layer in enumerate(layers):\n",
    "            g_question.add(\"Arabic\", layer, ar_values[i])\n",
    "\n",
    "        en_values = [0.0165211483836174,0.018173784017562866]\n",
    "        for i, layer in enumerate(layers):\n",
    "            g_question.add(\"English\", layer, en_values[i])\n",
    "        \n",
    "        fi_values = [0.02535470761358738]\n",
    "        for i, layer in enumerate(layers):\n",
    "            g_question.add(\"Finnish\", layer, fi_values[i])\n",
    "        \n",
    "        id_values = [0.024353371933102608]\n",
    "        for i, layer in enumerate(layers):\n",
    "            g_question.add(\"Indonesian\", layer, id_values[i])\n",
    "\n",
    "        ja_values = [0.018212871626019478,]\n",
    "        for i, layer in enumerate(layers):\n",
    "            g_question.add(\"Japanese\", layer, ja_values[i])\n",
    "\n",
    "        ko_values = [0.02085908316075802,]\n",
    "        for i, layer in enumerate(layers):\n",
    "            g_question.add(\"Korean\", layer, ko_values[i])\n",
    "\n",
    "        ru_values = [0.045390259474515915,]\n",
    "        for i, layer in enumerate(layers):\n",
    "            g_question.add(\"Russian\", layer, ru_values[i])\n",
    "    \n",
    "    g_question.commit()\n",
    "\n",
    "if __name__ == \"__main__\":\n",
    "complexity_probe_line()"
   ]
  },
  {
   "cell_type": "code",
   "execution_count": null,
   "metadata": {},
   "outputs": [
    {
     "data": {
      "text/html": [
       "<div>\n",
       "<style scoped>\n",
       "    .dataframe tbody tr th:only-of-type {\n",
       "        vertical-align: middle;\n",
       "    }\n",
       "\n",
       "    .dataframe tbody tr th {\n",
       "        vertical-align: top;\n",
       "    }\n",
       "\n",
       "    .dataframe thead th {\n",
       "        text-align: right;\n",
       "    }\n",
       "</style>\n",
       "<table border=\"1\" class=\"dataframe\">\n",
       "  <thead>\n",
       "    <tr style=\"text-align: right;\">\n",
       "      <th></th>\n",
       "      <th>language</th>\n",
       "      <th>task</th>\n",
       "      <th>submetric</th>\n",
       "      <th>model_type</th>\n",
       "      <th>layer</th>\n",
       "      <th>metric</th>\n",
       "      <th>real</th>\n",
       "      <th>control1</th>\n",
       "      <th>control2</th>\n",
       "      <th>control3</th>\n",
       "      <th>control_mean</th>\n",
       "      <th>split</th>\n",
       "    </tr>\n",
       "  </thead>\n",
       "  <tbody>\n",
       "  </tbody>\n",
       "</table>\n",
       "</div>"
      ],
      "text/plain": [
       "Empty DataFrame\n",
       "Columns: [language, task, submetric, model_type, layer, metric, real, control1, control2, control3, control_mean, split]\n",
       "Index: []"
      ]
     },
     "execution_count": 26,
     "metadata": {},
     "output_type": "execute_result"
    }
   ],
   "source": []
  },
  {
   "cell_type": "code",
   "execution_count": null,
   "id": "6b8b1d79",
   "metadata": {},
   "outputs": [
    {
     "data": {
      "text/html": [
       "<div>\n",
       "<style scoped>\n",
       "    .dataframe tbody tr th:only-of-type {\n",
       "        vertical-align: middle;\n",
       "    }\n",
       "\n",
       "    .dataframe tbody tr th {\n",
       "        vertical-align: top;\n",
       "    }\n",
       "\n",
       "    .dataframe thead th {\n",
       "        text-align: right;\n",
       "    }\n",
       "</style>\n",
       "<table border=\"1\" class=\"dataframe\">\n",
       "  <thead>\n",
       "    <tr style=\"text-align: right;\">\n",
       "      <th></th>\n",
       "      <th>language</th>\n",
       "      <th>task</th>\n",
       "      <th>submetric</th>\n",
       "      <th>model_type</th>\n",
       "      <th>layer</th>\n",
       "      <th>metric</th>\n",
       "      <th>real</th>\n",
       "      <th>control1</th>\n",
       "      <th>control2</th>\n",
       "      <th>control3</th>\n",
       "      <th>control_mean</th>\n",
       "      <th>split</th>\n",
       "    </tr>\n",
       "  </thead>\n",
       "  <tbody>\n",
       "  </tbody>\n",
       "</table>\n",
       "</div>"
      ],
      "text/plain": [
       "Empty DataFrame\n",
       "Columns: [language, task, submetric, model_type, layer, metric, real, control1, control2, control3, control_mean, split]\n",
       "Index: []"
      ]
     },
     "execution_count": 18,
     "metadata": {},
     "output_type": "execute_result"
    }
   ],
   "source": []
  },
  {
   "cell_type": "code",
   "execution_count": null,
   "id": "df46ecc2",
   "metadata": {},
   "outputs": [],
   "source": []
  },
  {
   "cell_type": "code",
   "execution_count": null,
   "id": "d66ead88",
   "metadata": {},
   "outputs": [],
   "source": []
  },
  {
   "cell_type": "code",
   "execution_count": null,
   "id": "e0c6b532",
   "metadata": {},
   "outputs": [],
   "source": []
  },
  {
   "cell_type": "code",
   "execution_count": null,
   "id": "e809a21d",
   "metadata": {},
   "outputs": [],
   "source": []
  }
 ],
 "metadata": {
  "kernelspec": {
   "display_name": ".venv",
   "language": "python",
   "name": "python3"
  },
  "language_info": {
   "codemirror_mode": {
    "name": "ipython",
    "version": 3
   },
   "file_extension": ".py",
   "mimetype": "text/x-python",
   "name": "python",
   "nbconvert_exporter": "python",
   "pygments_lexer": "ipython3",
   "version": "3.12.3"
  }
 },
 "nbformat": 4,
 "nbformat_minor": 5
}
