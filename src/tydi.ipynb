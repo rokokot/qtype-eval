{
 "cells": [
  {
   "cell_type": "markdown",
   "metadata": {},
   "source": [
    "## Code for annotating the TiDy QA"
   ]
  },
  {
   "cell_type": "markdown",
   "metadata": {},
   "source": []
  },
  {
   "cell_type": "code",
   "execution_count": 1,
   "metadata": {},
   "outputs": [
    {
     "name": "stderr",
     "output_type": "stream",
     "text": [
      "/home/robin/.cache/pypoetry/virtualenvs/qtype-eval-pAepV5Z2-py3.12/lib/python3.12/site-packages/tqdm/auto.py:21: TqdmWarning: IProgress not found. Please update jupyter and ipywidgets. See https://ipywidgets.readthedocs.io/en/stable/user_install.html\n",
      "  from .autonotebook import tqdm as notebook_tqdm\n"
     ]
    }
   ],
   "source": [
    "import pandas as pd\n",
    "from datasets import load_from_disk\n",
    "import gc\n"
   ]
  },
  {
   "cell_type": "code",
   "execution_count": 3,
   "metadata": {},
   "outputs": [],
   "source": [
    "validation_polar = load_from_disk(\"/home/robin/Research/qtype-eval/tydiqa-validation-polar\")\n",
    "validation_wh = load_from_disk(\"/home/robin/Research/qtype-eval/tydiqa-validation-wh\")\n",
    "train_polar = load_from_disk(\"/home/robin/Research/qtype-eval/tydiq-train-polar\")\n",
    "train_wh = load_from_disk(\"/home/robin/Research/qtype-eval/tydiqa-train-wh\")"
   ]
  },
  {
   "cell_type": "code",
   "execution_count": 10,
   "metadata": {},
   "outputs": [
    {
     "name": "stdout",
     "output_type": "stream",
     "text": [
      "735\n",
      "10595\n",
      "5222\n",
      "97390\n"
     ]
    }
   ],
   "source": [
    "validation_polar.set_format('pandas')\n",
    "print(len(validation_polar))\n",
    "validation_wh.set_format('pandas')\n",
    "print(len(validation_wh)) \n",
    "train_polar.set_format('pandas')\n",
    "print(len(train_polar))\n",
    "train_wh.set_format('pandas')\n",
    "print(len(train_wh))"
   ]
  },
  {
   "cell_type": "code",
   "execution_count": 5,
   "metadata": {},
   "outputs": [
    {
     "data": {
      "text/html": [
       "<div>\n",
       "<style scoped>\n",
       "    .dataframe tbody tr th:only-of-type {\n",
       "        vertical-align: middle;\n",
       "    }\n",
       "\n",
       "    .dataframe tbody tr th {\n",
       "        vertical-align: top;\n",
       "    }\n",
       "\n",
       "    .dataframe thead th {\n",
       "        text-align: right;\n",
       "    }\n",
       "</style>\n",
       "<table border=\"1\" class=\"dataframe\">\n",
       "  <thead>\n",
       "    <tr style=\"text-align: right;\">\n",
       "      <th></th>\n",
       "      <th>question_text</th>\n",
       "      <th>language</th>\n",
       "      <th>annotations</th>\n",
       "      <th>__index_level_0__</th>\n",
       "    </tr>\n",
       "  </thead>\n",
       "  <tbody>\n",
       "    <tr>\n",
       "      <th>0</th>\n",
       "      <td>DNAの中にアミノ酸は含まれていますか？</td>\n",
       "      <td>japanese</td>\n",
       "      <td>{'minimal_answers_end_byte': [-1, -1, -1], 'mi...</td>\n",
       "      <td>32</td>\n",
       "    </tr>\n",
       "    <tr>\n",
       "      <th>1</th>\n",
       "      <td>Do zebra finches have stripes?</td>\n",
       "      <td>english</td>\n",
       "      <td>{'minimal_answers_end_byte': [-1, -1, -1], 'mi...</td>\n",
       "      <td>51</td>\n",
       "    </tr>\n",
       "    <tr>\n",
       "      <th>2</th>\n",
       "      <td>フグを調理するには、専用の免許が必要？</td>\n",
       "      <td>japanese</td>\n",
       "      <td>{'minimal_answers_end_byte': [-1, -1, -1], 'mi...</td>\n",
       "      <td>66</td>\n",
       "    </tr>\n",
       "    <tr>\n",
       "      <th>3</th>\n",
       "      <td>Были ли канонизированы русские князья Борис и ...</td>\n",
       "      <td>russian</td>\n",
       "      <td>{'minimal_answers_end_byte': [-1, -1, -1], 'mi...</td>\n",
       "      <td>79</td>\n",
       "    </tr>\n",
       "    <tr>\n",
       "      <th>4</th>\n",
       "      <td>노브고로드 공화국 입법은 베체 체제인가요?</td>\n",
       "      <td>korean</td>\n",
       "      <td>{'minimal_answers_end_byte': [-1, -1, -1], 'mi...</td>\n",
       "      <td>92</td>\n",
       "    </tr>\n",
       "  </tbody>\n",
       "</table>\n",
       "</div>"
      ],
      "text/plain": [
       "                                       question_text  language  \\\n",
       "0                               DNAの中にアミノ酸は含まれていますか？  japanese   \n",
       "1                     Do zebra finches have stripes?   english   \n",
       "2                                フグを調理するには、専用の免許が必要？  japanese   \n",
       "3  Были ли канонизированы русские князья Борис и ...   russian   \n",
       "4                            노브고로드 공화국 입법은 베체 체제인가요?    korean   \n",
       "\n",
       "                                         annotations  __index_level_0__  \n",
       "0  {'minimal_answers_end_byte': [-1, -1, -1], 'mi...                 32  \n",
       "1  {'minimal_answers_end_byte': [-1, -1, -1], 'mi...                 51  \n",
       "2  {'minimal_answers_end_byte': [-1, -1, -1], 'mi...                 66  \n",
       "3  {'minimal_answers_end_byte': [-1, -1, -1], 'mi...                 79  \n",
       "4  {'minimal_answers_end_byte': [-1, -1, -1], 'mi...                 92  "
      ]
     },
     "execution_count": 5,
     "metadata": {},
     "output_type": "execute_result"
    }
   ],
   "source": [
    "validation_polar[:5]"
   ]
  },
  {
   "cell_type": "code",
   "execution_count": 6,
   "metadata": {},
   "outputs": [
    {
     "data": {
      "text/html": [
       "<div>\n",
       "<style scoped>\n",
       "    .dataframe tbody tr th:only-of-type {\n",
       "        vertical-align: middle;\n",
       "    }\n",
       "\n",
       "    .dataframe tbody tr th {\n",
       "        vertical-align: top;\n",
       "    }\n",
       "\n",
       "    .dataframe thead th {\n",
       "        text-align: right;\n",
       "    }\n",
       "</style>\n",
       "<table border=\"1\" class=\"dataframe\">\n",
       "  <thead>\n",
       "    <tr style=\"text-align: right;\">\n",
       "      <th></th>\n",
       "      <th>question_text</th>\n",
       "      <th>language</th>\n",
       "      <th>annotations</th>\n",
       "      <th>__index_level_0__</th>\n",
       "    </tr>\n",
       "  </thead>\n",
       "  <tbody>\n",
       "    <tr>\n",
       "      <th>0</th>\n",
       "      <td>Какая глубина Чудского озера?</td>\n",
       "      <td>russian</td>\n",
       "      <td>{'minimal_answers_end_byte': [2841, 2841, 2841...</td>\n",
       "      <td>188</td>\n",
       "    </tr>\n",
       "    <tr>\n",
       "      <th>1</th>\n",
       "      <td>제주도는 동아시아에 속하나요?</td>\n",
       "      <td>korean</td>\n",
       "      <td>{'minimal_answers_end_byte': [-1, -1, -1], 'mi...</td>\n",
       "      <td>189</td>\n",
       "    </tr>\n",
       "    <tr>\n",
       "      <th>2</th>\n",
       "      <td>siapakah pemimpin Dinasti Ikhsyidiyah?</td>\n",
       "      <td>indonesian</td>\n",
       "      <td>{'minimal_answers_end_byte': [-1, -1, -1], 'mi...</td>\n",
       "      <td>190</td>\n",
       "    </tr>\n",
       "    <tr>\n",
       "      <th>3</th>\n",
       "      <td>ろうそくの開発は社会に大きな変化をもたらした？</td>\n",
       "      <td>japanese</td>\n",
       "      <td>{'minimal_answers_end_byte': [-1, -1, -1], 'mi...</td>\n",
       "      <td>191</td>\n",
       "    </tr>\n",
       "    <tr>\n",
       "      <th>4</th>\n",
       "      <td>ما كان إسم حصان الرسول صلي الله عليه وسلم ؟</td>\n",
       "      <td>arabic</td>\n",
       "      <td>{'minimal_answers_end_byte': [-1, 590, 590], '...</td>\n",
       "      <td>193</td>\n",
       "    </tr>\n",
       "    <tr>\n",
       "      <th>5</th>\n",
       "      <td>Miten kultaa huuhdotaan?</td>\n",
       "      <td>finnish</td>\n",
       "      <td>{'minimal_answers_end_byte': [843, -1, -1], 'm...</td>\n",
       "      <td>195</td>\n",
       "    </tr>\n",
       "    <tr>\n",
       "      <th>6</th>\n",
       "      <td>How many dogs die from dog fighting?</td>\n",
       "      <td>english</td>\n",
       "      <td>{'minimal_answers_end_byte': [-1, -1, -1], 'mi...</td>\n",
       "      <td>196</td>\n",
       "    </tr>\n",
       "    <tr>\n",
       "      <th>7</th>\n",
       "      <td>처음으로 암살당한 미국 대통령은 누구인가?</td>\n",
       "      <td>korean</td>\n",
       "      <td>{'minimal_answers_end_byte': [11873, -1, -1], ...</td>\n",
       "      <td>198</td>\n",
       "    </tr>\n",
       "    <tr>\n",
       "      <th>8</th>\n",
       "      <td>Kapankah fillm 300 pertama kali tayang ?</td>\n",
       "      <td>indonesian</td>\n",
       "      <td>{'minimal_answers_end_byte': [-1, -1, -1], 'mi...</td>\n",
       "      <td>199</td>\n",
       "    </tr>\n",
       "    <tr>\n",
       "      <th>9</th>\n",
       "      <td>메이저 리그 베이스볼 설립 연도는 언제인가요?</td>\n",
       "      <td>korean</td>\n",
       "      <td>{'minimal_answers_end_byte': [374, 287, -1], '...</td>\n",
       "      <td>200</td>\n",
       "    </tr>\n",
       "  </tbody>\n",
       "</table>\n",
       "</div>"
      ],
      "text/plain": [
       "                                 question_text    language  \\\n",
       "0                Какая глубина Чудского озера?     russian   \n",
       "1                             제주도는 동아시아에 속하나요?      korean   \n",
       "2       siapakah pemimpin Dinasti Ikhsyidiyah?  indonesian   \n",
       "3                      ろうそくの開発は社会に大きな変化をもたらした？    japanese   \n",
       "4  ما كان إسم حصان الرسول صلي الله عليه وسلم ؟      arabic   \n",
       "5                     Miten kultaa huuhdotaan?     finnish   \n",
       "6         How many dogs die from dog fighting?     english   \n",
       "7                      처음으로 암살당한 미국 대통령은 누구인가?      korean   \n",
       "8     Kapankah fillm 300 pertama kali tayang ?  indonesian   \n",
       "9                    메이저 리그 베이스볼 설립 연도는 언제인가요?      korean   \n",
       "\n",
       "                                         annotations  __index_level_0__  \n",
       "0  {'minimal_answers_end_byte': [2841, 2841, 2841...                188  \n",
       "1  {'minimal_answers_end_byte': [-1, -1, -1], 'mi...                189  \n",
       "2  {'minimal_answers_end_byte': [-1, -1, -1], 'mi...                190  \n",
       "3  {'minimal_answers_end_byte': [-1, -1, -1], 'mi...                191  \n",
       "4  {'minimal_answers_end_byte': [-1, 590, 590], '...                193  \n",
       "5  {'minimal_answers_end_byte': [843, -1, -1], 'm...                195  \n",
       "6  {'minimal_answers_end_byte': [-1, -1, -1], 'mi...                196  \n",
       "7  {'minimal_answers_end_byte': [11873, -1, -1], ...                198  \n",
       "8  {'minimal_answers_end_byte': [-1, -1, -1], 'mi...                199  \n",
       "9  {'minimal_answers_end_byte': [374, 287, -1], '...                200  "
      ]
     },
     "execution_count": 6,
     "metadata": {},
     "output_type": "execute_result"
    }
   ],
   "source": [
    "validation_wh[100:110]"
   ]
  },
  {
   "cell_type": "code",
   "execution_count": 7,
   "metadata": {},
   "outputs": [
    {
     "data": {
      "text/html": [
       "<div>\n",
       "<style scoped>\n",
       "    .dataframe tbody tr th:only-of-type {\n",
       "        vertical-align: middle;\n",
       "    }\n",
       "\n",
       "    .dataframe tbody tr th {\n",
       "        vertical-align: top;\n",
       "    }\n",
       "\n",
       "    .dataframe thead th {\n",
       "        text-align: right;\n",
       "    }\n",
       "</style>\n",
       "<table border=\"1\" class=\"dataframe\">\n",
       "  <thead>\n",
       "    <tr style=\"text-align: right;\">\n",
       "      <th></th>\n",
       "      <th>question_text</th>\n",
       "      <th>language</th>\n",
       "      <th>annotations</th>\n",
       "      <th>__index_level_0__</th>\n",
       "    </tr>\n",
       "  </thead>\n",
       "  <tbody>\n",
       "    <tr>\n",
       "      <th>0</th>\n",
       "      <td>هل عدم القيام بجهد جسماني ممكن ان يسبب الأرق؟</td>\n",
       "      <td>arabic</td>\n",
       "      <td>{'minimal_answers_end_byte': [-1], 'minimal_an...</td>\n",
       "      <td>18</td>\n",
       "    </tr>\n",
       "    <tr>\n",
       "      <th>1</th>\n",
       "      <td>Is Creole a pidgin of French?</td>\n",
       "      <td>english</td>\n",
       "      <td>{'minimal_answers_end_byte': [-1], 'minimal_an...</td>\n",
       "      <td>50</td>\n",
       "    </tr>\n",
       "    <tr>\n",
       "      <th>2</th>\n",
       "      <td>Does plastic decompose at all?</td>\n",
       "      <td>english</td>\n",
       "      <td>{'minimal_answers_end_byte': [-1], 'minimal_an...</td>\n",
       "      <td>87</td>\n",
       "    </tr>\n",
       "    <tr>\n",
       "      <th>3</th>\n",
       "      <td>Можно излечиться от наркотической зависимости ...</td>\n",
       "      <td>russian</td>\n",
       "      <td>{'minimal_answers_end_byte': [-1], 'minimal_an...</td>\n",
       "      <td>133</td>\n",
       "    </tr>\n",
       "    <tr>\n",
       "      <th>4</th>\n",
       "      <td>Onko Kalervo Kummola toiminut kansanedustajana?</td>\n",
       "      <td>finnish</td>\n",
       "      <td>{'minimal_answers_end_byte': [-1], 'minimal_an...</td>\n",
       "      <td>136</td>\n",
       "    </tr>\n",
       "  </tbody>\n",
       "</table>\n",
       "</div>"
      ],
      "text/plain": [
       "                                       question_text language  \\\n",
       "0      هل عدم القيام بجهد جسماني ممكن ان يسبب الأرق؟   arabic   \n",
       "1                      Is Creole a pidgin of French?  english   \n",
       "2                     Does plastic decompose at all?  english   \n",
       "3  Можно излечиться от наркотической зависимости ...  russian   \n",
       "4    Onko Kalervo Kummola toiminut kansanedustajana?  finnish   \n",
       "\n",
       "                                         annotations  __index_level_0__  \n",
       "0  {'minimal_answers_end_byte': [-1], 'minimal_an...                 18  \n",
       "1  {'minimal_answers_end_byte': [-1], 'minimal_an...                 50  \n",
       "2  {'minimal_answers_end_byte': [-1], 'minimal_an...                 87  \n",
       "3  {'minimal_answers_end_byte': [-1], 'minimal_an...                133  \n",
       "4  {'minimal_answers_end_byte': [-1], 'minimal_an...                136  "
      ]
     },
     "execution_count": 7,
     "metadata": {},
     "output_type": "execute_result"
    }
   ],
   "source": [
    "train_polar[:5]"
   ]
  },
  {
   "cell_type": "code",
   "execution_count": 8,
   "metadata": {},
   "outputs": [
    {
     "data": {
      "text/html": [
       "<div>\n",
       "<style scoped>\n",
       "    .dataframe tbody tr th:only-of-type {\n",
       "        vertical-align: middle;\n",
       "    }\n",
       "\n",
       "    .dataframe tbody tr th {\n",
       "        vertical-align: top;\n",
       "    }\n",
       "\n",
       "    .dataframe thead th {\n",
       "        text-align: right;\n",
       "    }\n",
       "</style>\n",
       "<table border=\"1\" class=\"dataframe\">\n",
       "  <thead>\n",
       "    <tr style=\"text-align: right;\">\n",
       "      <th></th>\n",
       "      <th>question_text</th>\n",
       "      <th>language</th>\n",
       "      <th>annotations</th>\n",
       "      <th>__index_level_0__</th>\n",
       "    </tr>\n",
       "  </thead>\n",
       "  <tbody>\n",
       "    <tr>\n",
       "      <th>0</th>\n",
       "      <td>متى إنتهت حرب نورماندي ؟</td>\n",
       "      <td>arabic</td>\n",
       "      <td>{'minimal_answers_end_byte': [-1], 'minimal_an...</td>\n",
       "      <td>72</td>\n",
       "    </tr>\n",
       "    <tr>\n",
       "      <th>1</th>\n",
       "      <td>ما هي ضريبة الدخل ؟</td>\n",
       "      <td>arabic</td>\n",
       "      <td>{'minimal_answers_end_byte': [353], 'minimal_a...</td>\n",
       "      <td>74</td>\n",
       "    </tr>\n",
       "    <tr>\n",
       "      <th>2</th>\n",
       "      <td>What was the highest value of the yen in 2018?</td>\n",
       "      <td>english</td>\n",
       "      <td>{'minimal_answers_end_byte': [-1], 'minimal_an...</td>\n",
       "      <td>76</td>\n",
       "    </tr>\n",
       "    <tr>\n",
       "      <th>3</th>\n",
       "      <td>Milloin Hopeanuoli manga on aloitettu julkaise...</td>\n",
       "      <td>finnish</td>\n",
       "      <td>{'minimal_answers_end_byte': [-1], 'minimal_an...</td>\n",
       "      <td>78</td>\n",
       "    </tr>\n",
       "    <tr>\n",
       "      <th>4</th>\n",
       "      <td>로마 가톨릭교회 초대 추기경은 누구인가?</td>\n",
       "      <td>korean</td>\n",
       "      <td>{'minimal_answers_end_byte': [-1], 'minimal_an...</td>\n",
       "      <td>79</td>\n",
       "    </tr>\n",
       "  </tbody>\n",
       "</table>\n",
       "</div>"
      ],
      "text/plain": [
       "                                       question_text language  \\\n",
       "0                           متى إنتهت حرب نورماندي ؟   arabic   \n",
       "1                                ما هي ضريبة الدخل ؟   arabic   \n",
       "2     What was the highest value of the yen in 2018?  english   \n",
       "3  Milloin Hopeanuoli manga on aloitettu julkaise...  finnish   \n",
       "4                             로마 가톨릭교회 초대 추기경은 누구인가?   korean   \n",
       "\n",
       "                                         annotations  __index_level_0__  \n",
       "0  {'minimal_answers_end_byte': [-1], 'minimal_an...                 72  \n",
       "1  {'minimal_answers_end_byte': [353], 'minimal_a...                 74  \n",
       "2  {'minimal_answers_end_byte': [-1], 'minimal_an...                 76  \n",
       "3  {'minimal_answers_end_byte': [-1], 'minimal_an...                 78  \n",
       "4  {'minimal_answers_end_byte': [-1], 'minimal_an...                 79  "
      ]
     },
     "execution_count": 8,
     "metadata": {},
     "output_type": "execute_result"
    }
   ],
   "source": [
    "train_wh[45:50]"
   ]
  },
  {
   "cell_type": "markdown",
   "metadata": {},
   "source": [
    "## UDpipe\n",
    "\n",
    "UDPipe is a trainable pipeline for tokenization, tagging, lemmatization and dependency parsing of CoNLL-U files. It is language-agnostic and can be trained given annotated data in CoNLL-U format. Trained models are provided for nearly all UD treebanks. We will use UDPipe to tag and annotate our question sentences extracted from the TyDi QA dataset.\n"
   ]
  },
  {
   "cell_type": "code",
   "execution_count": null,
   "metadata": {},
   "outputs": [],
   "source": []
  },
  {
   "cell_type": "code",
   "execution_count": null,
   "metadata": {},
   "outputs": [],
   "source": [
    "\n",
    "\n"
   ]
  },
  {
   "cell_type": "code",
   "execution_count": null,
   "metadata": {},
   "outputs": [],
   "source": []
  },
  {
   "cell_type": "code",
   "execution_count": null,
   "metadata": {},
   "outputs": [],
   "source": []
  },
  {
   "cell_type": "markdown",
   "metadata": {},
   "source": [
    "## Memory hygiene"
   ]
  },
  {
   "cell_type": "code",
   "execution_count": 9,
   "metadata": {},
   "outputs": [
    {
     "data": {
      "text/plain": [
       "83"
      ]
     },
     "execution_count": 9,
     "metadata": {},
     "output_type": "execute_result"
    }
   ],
   "source": [
    "pd.DataFrame.cache = {}\n",
    "gc.collect()"
   ]
  }
 ],
 "metadata": {
  "kernelspec": {
   "display_name": "qtype-eval-pAepV5Z2-py3.12",
   "language": "python",
   "name": "python3"
  },
  "language_info": {
   "codemirror_mode": {
    "name": "ipython",
    "version": 3
   },
   "file_extension": ".py",
   "mimetype": "text/x-python",
   "name": "python",
   "nbconvert_exporter": "python",
   "pygments_lexer": "ipython3",
   "version": "3.12.3"
  }
 },
 "nbformat": 4,
 "nbformat_minor": 2
}
