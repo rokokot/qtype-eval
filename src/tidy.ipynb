{
 "cells": [
  {
   "cell_type": "markdown",
   "metadata": {},
   "source": [
    "## Code for annotating the TiDy QA"
   ]
  },
  {
   "cell_type": "markdown",
   "metadata": {},
   "source": []
  },
  {
   "cell_type": "markdown",
   "metadata": {},
   "source": []
  },
  {
   "cell_type": "code",
   "execution_count": 2,
   "metadata": {},
   "outputs": [
    {
     "name": "stderr",
     "output_type": "stream",
     "text": [
      "/home/robin/.cache/pypoetry/virtualenvs/qtype-eval-pAepV5Z2-py3.12/lib/python3.12/site-packages/tqdm/auto.py:21: TqdmWarning: IProgress not found. Please update jupyter and ipywidgets. See https://ipywidgets.readthedocs.io/en/stable/user_install.html\n",
      "  from .autonotebook import tqdm as notebook_tqdm\n"
     ]
    }
   ],
   "source": [
    "import pandas as pd\n",
    "import gc\n",
    "from datasets import load_dataset, Dataset"
   ]
  },
  {
   "cell_type": "code",
   "execution_count": 60,
   "metadata": {},
   "outputs": [],
   "source": [
    "pd.set_option('display.max_colwidth', 100)\n",
    "#pd.set_option('display.max_rows', 100)"
   ]
  },
  {
   "cell_type": "code",
   "execution_count": 4,
   "metadata": {},
   "outputs": [],
   "source": [
    "\n",
    "\n",
    "ds = load_dataset(\"google-research-datasets/tydiqa\", \"primary_task\")\n"
   ]
  },
  {
   "cell_type": "code",
   "execution_count": 26,
   "metadata": {},
   "outputs": [
    {
     "data": {
      "text/html": [
       "<div>\n",
       "<style scoped>\n",
       "    .dataframe tbody tr th:only-of-type {\n",
       "        vertical-align: middle;\n",
       "    }\n",
       "\n",
       "    .dataframe tbody tr th {\n",
       "        vertical-align: top;\n",
       "    }\n",
       "\n",
       "    .dataframe thead th {\n",
       "        text-align: right;\n",
       "    }\n",
       "</style>\n",
       "<table border=\"1\" class=\"dataframe\">\n",
       "  <thead>\n",
       "    <tr style=\"text-align: right;\">\n",
       "      <th></th>\n",
       "      <th>passage_answer_candidates</th>\n",
       "      <th>question_text</th>\n",
       "      <th>document_title</th>\n",
       "      <th>language</th>\n",
       "      <th>annotations</th>\n",
       "      <th>document_plaintext</th>\n",
       "      <th>document_url</th>\n",
       "    </tr>\n",
       "  </thead>\n",
       "  <tbody>\n",
       "    <tr>\n",
       "      <th>0</th>\n",
       "      <td>{'plaintext_start_byte': [1, 517, 1805, 2966, 3905, 4507, 5589, 6535, 7123, 8376, 9376, 10474, 1...</td>\n",
       "      <td>หม่อมราชวงศ์สุขุมพันธุ์ บริพัตร เรียนจบจากที่ไหน ?</td>\n",
       "      <td>หม่อมราชวงศ์สุขุมพันธุ์ บริพัตร</td>\n",
       "      <td>thai</td>\n",
       "      <td>{'passage_answer_candidate_index': [-1, -1, -1], 'minimal_answers_start_byte': [-1, -1, -1], 'mi...</td>\n",
       "      <td>\\nรองศาสตราจารย์[1] หม่อมราชวงศ์สุขุมพันธุ์ บริพัตร  (22 กันยายน 2495 -) ผู้ว่าราชการกรุงเทพมหาน...</td>\n",
       "      <td>https://th.wikipedia.org/wiki/%E0%B8%AB%E0%B8%A1%E0%B9%88%E0%B8%AD%E0%B8%A1%E0%B8%A3%E0%B8%B2%E0...</td>\n",
       "    </tr>\n",
       "    <tr>\n",
       "      <th>1</th>\n",
       "      <td>{'plaintext_start_byte': [1, 280, 468, 812], 'plaintext_end_byte': [279, 446, 811, 1131]}</td>\n",
       "      <td>Ukubwa wa Rijili Kantori ni kiasi gani?</td>\n",
       "      <td>Rijili Kantori</td>\n",
       "      <td>swahili</td>\n",
       "      <td>{'passage_answer_candidate_index': [-1, -1, -1], 'minimal_answers_start_byte': [-1, -1, -1], 'mi...</td>\n",
       "      <td>\\nRijili Kantori , Rijili Kantarusi au ing. Alpha Centauri (pia: Toliman au Rigil Kentaurus) ni ...</td>\n",
       "      <td>https://sw.wikipedia.org/wiki/Rijili%20Kantori</td>\n",
       "    </tr>\n",
       "    <tr>\n",
       "      <th>2</th>\n",
       "      <td>{'plaintext_start_byte': [1, 1124, 2274, 2571, 4459, 5552, 8358, 10229, 10830, 11782, 13107, 145...</td>\n",
       "      <td>అలి గౌహర్ ఎన్ని సంవత్సరాలు జీవించాడు?</td>\n",
       "      <td>అహమ్మద్ షా బహదూర్</td>\n",
       "      <td>telugu</td>\n",
       "      <td>{'passage_answer_candidate_index': [27, -1, -1], 'minimal_answers_start_byte': [39087, -1, -1], ...</td>\n",
       "      <td>\\nఅహమ్మద్ షా బహదూర్, మిర్జా అహమ్మద్ షా, షహన్‌షా అహమ్మద్ బహదూర్ (1725 డిసెంబరు 23 - 1775 జనవరి 1)...</td>\n",
       "      <td>https://te.wikipedia.org/wiki/%E0%B0%85%E0%B0%B9%E0%B0%AE%E0%B1%8D%E0%B0%AE%E0%B0%A6%E0%B1%8D%20...</td>\n",
       "    </tr>\n",
       "    <tr>\n",
       "      <th>3</th>\n",
       "      <td>{'plaintext_start_byte': [0, 351, 553, 1244, 1556, 1805, 2642, 3364, 3717, 4238, 4639, 5510, 612...</td>\n",
       "      <td>Milloin Kokemäki on perustettu?</td>\n",
       "      <td>Kokemäki</td>\n",
       "      <td>finnish</td>\n",
       "      <td>{'passage_answer_candidate_index': [-1, 16, -1], 'minimal_answers_start_byte': [-1, 8154, -1], '...</td>\n",
       "      <td>\\nKokemäki () on Suomen kaupunki, joka sijaitsee Satakunnan maakunnassa. Kaupungissa on  asukast...</td>\n",
       "      <td>https://fi.wikipedia.org/wiki/Kokem%C3%A4ki</td>\n",
       "    </tr>\n",
       "    <tr>\n",
       "      <th>4</th>\n",
       "      <td>{'plaintext_start_byte': [1, 1091, 2520, 3062, 4349, 5245, 6507, 9353, 10279, 11612, 13592, 1541...</td>\n",
       "      <td>১৯৮১ সালে বাংলাদেশের সেনাবাহিনীর সেনাপ্রধান কে ছিলেন ?</td>\n",
       "      <td>হুসেইন মুহাম্মদ এরশাদ</td>\n",
       "      <td>bengali</td>\n",
       "      <td>{'passage_answer_candidate_index': [-1, -1, -1], 'minimal_answers_start_byte': [-1, -1, -1], 'mi...</td>\n",
       "      <td>\\nহুসেইন মুহাম্মদ এরশাদ (ফেব্রুয়ারি ১, ১৯৩০) বাংলাদেশের সাবেক সেনা প্রধান, এককালীন প্রধান সামরি...</td>\n",
       "      <td>https://bn.wikipedia.org/wiki/%E0%A6%B9%E0%A7%81%E0%A6%B8%E0%A7%87%E0%A6%87%E0%A6%A8%20%E0%A6%AE...</td>\n",
       "    </tr>\n",
       "  </tbody>\n",
       "</table>\n",
       "</div>"
      ],
      "text/plain": [
       "                                                                             passage_answer_candidates  \\\n",
       "0  {'plaintext_start_byte': [1, 517, 1805, 2966, 3905, 4507, 5589, 6535, 7123, 8376, 9376, 10474, 1...   \n",
       "1            {'plaintext_start_byte': [1, 280, 468, 812], 'plaintext_end_byte': [279, 446, 811, 1131]}   \n",
       "2  {'plaintext_start_byte': [1, 1124, 2274, 2571, 4459, 5552, 8358, 10229, 10830, 11782, 13107, 145...   \n",
       "3  {'plaintext_start_byte': [0, 351, 553, 1244, 1556, 1805, 2642, 3364, 3717, 4238, 4639, 5510, 612...   \n",
       "4  {'plaintext_start_byte': [1, 1091, 2520, 3062, 4349, 5245, 6507, 9353, 10279, 11612, 13592, 1541...   \n",
       "\n",
       "                                            question_text                   document_title  \\\n",
       "0      หม่อมราชวงศ์สุขุมพันธุ์ บริพัตร เรียนจบจากที่ไหน ?  หม่อมราชวงศ์สุขุมพันธุ์ บริพัตร   \n",
       "1                 Ukubwa wa Rijili Kantori ni kiasi gani?                   Rijili Kantori   \n",
       "2                   అలి గౌహర్ ఎన్ని సంవత్సరాలు జీవించాడు?                అహమ్మద్ షా బహదూర్   \n",
       "3                         Milloin Kokemäki on perustettu?                         Kokemäki   \n",
       "4  ১৯৮১ সালে বাংলাদেশের সেনাবাহিনীর সেনাপ্রধান কে ছিলেন ?            হুসেইন মুহাম্মদ এরশাদ   \n",
       "\n",
       "  language  \\\n",
       "0     thai   \n",
       "1  swahili   \n",
       "2   telugu   \n",
       "3  finnish   \n",
       "4  bengali   \n",
       "\n",
       "                                                                                           annotations  \\\n",
       "0  {'passage_answer_candidate_index': [-1, -1, -1], 'minimal_answers_start_byte': [-1, -1, -1], 'mi...   \n",
       "1  {'passage_answer_candidate_index': [-1, -1, -1], 'minimal_answers_start_byte': [-1, -1, -1], 'mi...   \n",
       "2  {'passage_answer_candidate_index': [27, -1, -1], 'minimal_answers_start_byte': [39087, -1, -1], ...   \n",
       "3  {'passage_answer_candidate_index': [-1, 16, -1], 'minimal_answers_start_byte': [-1, 8154, -1], '...   \n",
       "4  {'passage_answer_candidate_index': [-1, -1, -1], 'minimal_answers_start_byte': [-1, -1, -1], 'mi...   \n",
       "\n",
       "                                                                                    document_plaintext  \\\n",
       "0  \\nรองศาสตราจารย์[1] หม่อมราชวงศ์สุขุมพันธุ์ บริพัตร  (22 กันยายน 2495 -) ผู้ว่าราชการกรุงเทพมหาน...   \n",
       "1  \\nRijili Kantori , Rijili Kantarusi au ing. Alpha Centauri (pia: Toliman au Rigil Kentaurus) ni ...   \n",
       "2  \\nఅహమ్మద్ షా బహదూర్, మిర్జా అహమ్మద్ షా, షహన్‌షా అహమ్మద్ బహదూర్ (1725 డిసెంబరు 23 - 1775 జనవరి 1)...   \n",
       "3  \\nKokemäki () on Suomen kaupunki, joka sijaitsee Satakunnan maakunnassa. Kaupungissa on  asukast...   \n",
       "4  \\nহুসেইন মুহাম্মদ এরশাদ (ফেব্রুয়ারি ১, ১৯৩০) বাংলাদেশের সাবেক সেনা প্রধান, এককালীন প্রধান সামরি...   \n",
       "\n",
       "                                                                                          document_url  \n",
       "0  https://th.wikipedia.org/wiki/%E0%B8%AB%E0%B8%A1%E0%B9%88%E0%B8%AD%E0%B8%A1%E0%B8%A3%E0%B8%B2%E0...  \n",
       "1                                                       https://sw.wikipedia.org/wiki/Rijili%20Kantori  \n",
       "2  https://te.wikipedia.org/wiki/%E0%B0%85%E0%B0%B9%E0%B0%AE%E0%B1%8D%E0%B0%AE%E0%B0%A6%E0%B1%8D%20...  \n",
       "3                                                          https://fi.wikipedia.org/wiki/Kokem%C3%A4ki  \n",
       "4  https://bn.wikipedia.org/wiki/%E0%A6%B9%E0%A7%81%E0%A6%B8%E0%A7%87%E0%A6%87%E0%A6%A8%20%E0%A6%AE...  "
      ]
     },
     "execution_count": 26,
     "metadata": {},
     "output_type": "execute_result"
    }
   ],
   "source": [
    "ds.set_format(\"pandas\")\n",
    "ds['validation'][:5]\n",
    "\n",
    "#df = ds['validation'][:5]\n",
    "#print(df['annotations'].to_string())\n"
   ]
  },
  {
   "cell_type": "code",
   "execution_count": 48,
   "metadata": {},
   "outputs": [
    {
     "name": "stdout",
     "output_type": "stream",
     "text": [
      "0    {'passage_answer_candidate_index': [-1], 'minimal_answers_start_byte': [-1], 'minimal_answers_end_byte': [-1], 'yes_no_answer': ['NONE']}\n",
      "1    {'passage_answer_candidate_index': [-1], 'minimal_answers_start_byte': [-1], 'minimal_answers_end_byte': [-1], 'yes_no_answer': ['NONE']}\n",
      "2    {'passage_answer_candidate_index': [-1], 'minimal_answers_start_byte': [-1], 'minimal_answers_end_byte': [-1], 'yes_no_answer': ['NONE']}\n",
      "3    {'passage_answer_candidate_index': [-1], 'minimal_answers_start_byte': [-1], 'minimal_answers_end_byte': [-1], 'yes_no_answer': ['NONE']}\n",
      "4    {'passage_answer_candidate_index': [-1], 'minimal_answers_start_byte': [-1], 'minimal_answers_end_byte': [-1], 'yes_no_answer': ['NONE']}\n"
     ]
    }
   ],
   "source": [
    "ds.set_format(\"pandas\")\n",
    "df = ds['train'][:5]\n",
    "\n",
    "\n",
    "\n",
    "print(df['annotations'].to_string())"
   ]
  },
  {
   "cell_type": "code",
   "execution_count": 15,
   "metadata": {},
   "outputs": [],
   "source": [
    "pd.set_option('display.max_columns', None)  # Show all columns\n",
    "pd.set_option('display.max_colwidth', 100)  # Set maximum column width\n",
    "pd.set_option('display.max_rows', 10)       # Limit number of rows displayed\n",
    "pd.set_option('display.width', 100)        # Set display width"
   ]
  },
  {
   "cell_type": "code",
   "execution_count": 29,
   "metadata": {},
   "outputs": [
    {
     "name": "stdout",
     "output_type": "stream",
     "text": [
      "Dataset({\n",
      "    features: ['question_text', 'language', 'annotations', '__index_level_0__'],\n",
      "    num_rows: 551\n",
      "})\n",
      "Dataset({\n",
      "    features: ['question_text', 'language', 'annotations', '__index_level_0__'],\n",
      "    num_rows: 18119\n",
      "})\n"
     ]
    }
   ],
   "source": [
    "\n",
    "ds.set_format(\"pandas\")\n",
    "\n",
    "df = ds['validation'][:].copy()\n",
    "\n",
    "\n",
    "\n",
    "\n",
    "polar_filter = df['annotations'].apply(lambda x: all(ans not in ['NONE','NO'] for ans in x['yes_no_answer']))\n",
    "\n",
    "\n",
    "polar = df[polar_filter]\n",
    "wh = df[~polar_filter]\n",
    "\n",
    "polar_questions = polar[['question_text', 'language', 'annotations']]\n",
    "wh_questions = wh[['question_text', 'language', 'annotations']]\n",
    "\n",
    "polar_ds = Dataset.from_pandas(polar_questions)\n",
    "print(polar_ds)\n",
    "\n",
    "\n",
    "wh_ds = Dataset.from_pandas(wh_questions)\n",
    "print(wh_ds)"
   ]
  },
  {
   "cell_type": "code",
   "execution_count": 34,
   "metadata": {},
   "outputs": [
    {
     "data": {
      "text/html": [
       "<div>\n",
       "<style scoped>\n",
       "    .dataframe tbody tr th:only-of-type {\n",
       "        vertical-align: middle;\n",
       "    }\n",
       "\n",
       "    .dataframe tbody tr th {\n",
       "        vertical-align: top;\n",
       "    }\n",
       "\n",
       "    .dataframe thead th {\n",
       "        text-align: right;\n",
       "    }\n",
       "</style>\n",
       "<table border=\"1\" class=\"dataframe\">\n",
       "  <thead>\n",
       "    <tr style=\"text-align: right;\">\n",
       "      <th></th>\n",
       "      <th>question_text</th>\n",
       "      <th>language</th>\n",
       "      <th>annotations</th>\n",
       "      <th>__index_level_0__</th>\n",
       "    </tr>\n",
       "  </thead>\n",
       "  <tbody>\n",
       "    <tr>\n",
       "      <th>0</th>\n",
       "      <td>หม่อมราชวงศ์สุขุมพันธุ์ บริพัตร เรียนจบจากที่ไหน ?</td>\n",
       "      <td>thai</td>\n",
       "      <td>{'minimal_answers_end_byte': [-1, -1, -1], 'minimal_answers_start_byte': [-1, -1, -1], 'passage_...</td>\n",
       "      <td>0</td>\n",
       "    </tr>\n",
       "    <tr>\n",
       "      <th>1</th>\n",
       "      <td>Ukubwa wa Rijili Kantori ni kiasi gani?</td>\n",
       "      <td>swahili</td>\n",
       "      <td>{'minimal_answers_end_byte': [-1, -1, -1], 'minimal_answers_start_byte': [-1, -1, -1], 'passage_...</td>\n",
       "      <td>1</td>\n",
       "    </tr>\n",
       "    <tr>\n",
       "      <th>2</th>\n",
       "      <td>అలి గౌహర్ ఎన్ని సంవత్సరాలు జీవించాడు?</td>\n",
       "      <td>telugu</td>\n",
       "      <td>{'minimal_answers_end_byte': [39089, -1, -1], 'minimal_answers_start_byte': [39087, -1, -1], 'pa...</td>\n",
       "      <td>2</td>\n",
       "    </tr>\n",
       "    <tr>\n",
       "      <th>3</th>\n",
       "      <td>Milloin Kokemäki on perustettu?</td>\n",
       "      <td>finnish</td>\n",
       "      <td>{'minimal_answers_end_byte': [-1, 8158, -1], 'minimal_answers_start_byte': [-1, 8154, -1], 'pass...</td>\n",
       "      <td>3</td>\n",
       "    </tr>\n",
       "    <tr>\n",
       "      <th>4</th>\n",
       "      <td>১৯৮১ সালে বাংলাদেশের সেনাবাহিনীর সেনাপ্রধান কে ছিলেন ?</td>\n",
       "      <td>bengali</td>\n",
       "      <td>{'minimal_answers_end_byte': [-1, -1, -1], 'minimal_answers_start_byte': [-1, -1, -1], 'passage_...</td>\n",
       "      <td>4</td>\n",
       "    </tr>\n",
       "  </tbody>\n",
       "</table>\n",
       "</div>"
      ],
      "text/plain": [
       "                                            question_text language  \\\n",
       "0      หม่อมราชวงศ์สุขุมพันธุ์ บริพัตร เรียนจบจากที่ไหน ?     thai   \n",
       "1                 Ukubwa wa Rijili Kantori ni kiasi gani?  swahili   \n",
       "2                   అలి గౌహర్ ఎన్ని సంవత్సరాలు జీవించాడు?   telugu   \n",
       "3                         Milloin Kokemäki on perustettu?  finnish   \n",
       "4  ১৯৮১ সালে বাংলাদেশের সেনাবাহিনীর সেনাপ্রধান কে ছিলেন ?  bengali   \n",
       "\n",
       "                                                                                           annotations  \\\n",
       "0  {'minimal_answers_end_byte': [-1, -1, -1], 'minimal_answers_start_byte': [-1, -1, -1], 'passage_...   \n",
       "1  {'minimal_answers_end_byte': [-1, -1, -1], 'minimal_answers_start_byte': [-1, -1, -1], 'passage_...   \n",
       "2  {'minimal_answers_end_byte': [39089, -1, -1], 'minimal_answers_start_byte': [39087, -1, -1], 'pa...   \n",
       "3  {'minimal_answers_end_byte': [-1, 8158, -1], 'minimal_answers_start_byte': [-1, 8154, -1], 'pass...   \n",
       "4  {'minimal_answers_end_byte': [-1, -1, -1], 'minimal_answers_start_byte': [-1, -1, -1], 'passage_...   \n",
       "\n",
       "   __index_level_0__  \n",
       "0                  0  \n",
       "1                  1  \n",
       "2                  2  \n",
       "3                  3  \n",
       "4                  4  "
      ]
     },
     "execution_count": 34,
     "metadata": {},
     "output_type": "execute_result"
    }
   ],
   "source": [
    "polar_ds.set_format('pandas')\n",
    "wh_ds.set_format('pandas')\n",
    "polar_ds[:5]\n",
    "wh_ds[:5]"
   ]
  },
  {
   "cell_type": "code",
   "execution_count": null,
   "metadata": {},
   "outputs": [],
   "source": []
  },
  {
   "cell_type": "markdown",
   "metadata": {},
   "source": [
    "## Memory hygiene"
   ]
  },
  {
   "cell_type": "code",
   "execution_count": 63,
   "metadata": {},
   "outputs": [
    {
     "data": {
      "text/plain": [
       "1417"
      ]
     },
     "execution_count": 63,
     "metadata": {},
     "output_type": "execute_result"
    }
   ],
   "source": [
    "pd.DataFrame.cache = {}\n",
    "gc.collect()"
   ]
  }
 ],
 "metadata": {
  "kernelspec": {
   "display_name": "qtype-eval-pAepV5Z2-py3.12",
   "language": "python",
   "name": "python3"
  },
  "language_info": {
   "codemirror_mode": {
    "name": "ipython",
    "version": 3
   },
   "file_extension": ".py",
   "mimetype": "text/x-python",
   "name": "python",
   "nbconvert_exporter": "python",
   "pygments_lexer": "ipython3",
   "version": "3.12.3"
  }
 },
 "nbformat": 4,
 "nbformat_minor": 2
}
