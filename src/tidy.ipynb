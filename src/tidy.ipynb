{
 "cells": [
  {
   "cell_type": "markdown",
   "metadata": {},
   "source": [
    "## Code for annotating the TiDy QA"
   ]
  },
  {
   "cell_type": "markdown",
   "metadata": {},
   "source": []
  },
  {
   "cell_type": "markdown",
   "metadata": {},
   "source": []
  },
  {
   "cell_type": "code",
   "execution_count": 2,
   "metadata": {},
   "outputs": [
    {
     "name": "stderr",
     "output_type": "stream",
     "text": [
      "/home/robin/.cache/pypoetry/virtualenvs/qtype-eval-pAepV5Z2-py3.12/lib/python3.12/site-packages/tqdm/auto.py:21: TqdmWarning: IProgress not found. Please update jupyter and ipywidgets. See https://ipywidgets.readthedocs.io/en/stable/user_install.html\n",
      "  from .autonotebook import tqdm as notebook_tqdm\n"
     ]
    }
   ],
   "source": [
    "import pandas as pd\n",
    "import gc\n",
    "from datasets import load_dataset, Dataset"
   ]
  },
  {
   "cell_type": "code",
   "execution_count": 38,
   "metadata": {},
   "outputs": [],
   "source": [
    "pd.set_option('display.max_colwidth', 1000)\n",
    "#pd.set_option('display.max_rows', 100)"
   ]
  },
  {
   "cell_type": "code",
   "execution_count": 4,
   "metadata": {},
   "outputs": [],
   "source": [
    "\n",
    "\n",
    "ds = load_dataset(\"google-research-datasets/tydiqa\", \"primary_task\")\n"
   ]
  },
  {
   "cell_type": "code",
   "execution_count": 71,
   "metadata": {},
   "outputs": [
    {
     "name": "stdout",
     "output_type": "stream",
     "text": [
      "185586\n"
     ]
    }
   ],
   "source": [
    "ds.set_format(\"pandas\")\n",
    "ds['validation'][:5]\n",
    "\n",
    "#df = ds['validation'][:5]\n",
    "#print(df['annotations'].to_string())\n",
    "print(len(ds['train'])+len(ds['validation']))"
   ]
  },
  {
   "cell_type": "code",
   "execution_count": 39,
   "metadata": {},
   "outputs": [
    {
     "name": "stdout",
     "output_type": "stream",
     "text": [
      "0          {'passage_answer_candidate_index': [-1, -1, -1], 'minimal_answers_start_byte': [-1, -1, -1], 'minimal_answers_end_byte': [-1, -1, -1], 'yes_no_answer': ['NONE', 'NONE', 'NONE']}\n",
      "1          {'passage_answer_candidate_index': [-1, -1, -1], 'minimal_answers_start_byte': [-1, -1, -1], 'minimal_answers_end_byte': [-1, -1, -1], 'yes_no_answer': ['NONE', 'NONE', 'NONE']}\n",
      "2    {'passage_answer_candidate_index': [27, -1, -1], 'minimal_answers_start_byte': [39087, -1, -1], 'minimal_answers_end_byte': [39089, -1, -1], 'yes_no_answer': ['NONE', 'NONE', 'NONE']}\n",
      "3      {'passage_answer_candidate_index': [-1, 16, -1], 'minimal_answers_start_byte': [-1, 8154, -1], 'minimal_answers_end_byte': [-1, 8158, -1], 'yes_no_answer': ['NONE', 'NONE', 'NONE']}\n",
      "4          {'passage_answer_candidate_index': [-1, -1, -1], 'minimal_answers_start_byte': [-1, -1, -1], 'minimal_answers_end_byte': [-1, -1, -1], 'yes_no_answer': ['NONE', 'NONE', 'NONE']}\n"
     ]
    }
   ],
   "source": [
    "ds.set_format(\"pandas\")\n",
    "df = ds['validation'][:5]\n",
    "\n",
    "\n",
    "\n",
    "print(df['annotations'].to_string())"
   ]
  },
  {
   "cell_type": "code",
   "execution_count": 15,
   "metadata": {},
   "outputs": [],
   "source": [
    "pd.set_option('display.max_columns', None)  # Show all columns\n",
    "pd.set_option('display.max_colwidth', 100)  # Set maximum column width\n",
    "pd.set_option('display.max_rows', 10)       # Limit number of rows displayed\n",
    "pd.set_option('display.width', 100)        # Set display width"
   ]
  },
  {
   "cell_type": "code",
   "execution_count": 29,
   "metadata": {},
   "outputs": [
    {
     "name": "stdout",
     "output_type": "stream",
     "text": [
      "Dataset({\n",
      "    features: ['question_text', 'language', 'annotations', '__index_level_0__'],\n",
      "    num_rows: 551\n",
      "})\n",
      "Dataset({\n",
      "    features: ['question_text', 'language', 'annotations', '__index_level_0__'],\n",
      "    num_rows: 18119\n",
      "})\n"
     ]
    }
   ],
   "source": [
    "\n",
    "ds.set_format(\"pandas\")\n",
    "\n",
    "df = ds['validation'][:].copy()\n",
    "\n",
    "\n",
    "\n",
    "\n",
    "polar_filter = df['annotations'].apply(lambda x: all(ans not in ['NONE','NO'] for ans in x['yes_no_answer']))\n",
    "\n",
    "\n",
    "polar = df[polar_filter]\n",
    "wh = df[~polar_filter]\n",
    "\n",
    "polar_questions = polar[['question_text', 'language', 'annotations']]\n",
    "wh_questions = wh[['question_text', 'language', 'annotations']]\n",
    "\n",
    "polar_ds = Dataset.from_pandas(polar_questions)\n",
    "print(polar_ds)\n",
    "\n",
    "\n",
    "wh_ds = Dataset.from_pandas(wh_questions)\n",
    "print(wh_ds)"
   ]
  },
  {
   "cell_type": "code",
   "execution_count": 34,
   "metadata": {},
   "outputs": [
    {
     "data": {
      "text/html": [
       "<div>\n",
       "<style scoped>\n",
       "    .dataframe tbody tr th:only-of-type {\n",
       "        vertical-align: middle;\n",
       "    }\n",
       "\n",
       "    .dataframe tbody tr th {\n",
       "        vertical-align: top;\n",
       "    }\n",
       "\n",
       "    .dataframe thead th {\n",
       "        text-align: right;\n",
       "    }\n",
       "</style>\n",
       "<table border=\"1\" class=\"dataframe\">\n",
       "  <thead>\n",
       "    <tr style=\"text-align: right;\">\n",
       "      <th></th>\n",
       "      <th>question_text</th>\n",
       "      <th>language</th>\n",
       "      <th>annotations</th>\n",
       "      <th>__index_level_0__</th>\n",
       "    </tr>\n",
       "  </thead>\n",
       "  <tbody>\n",
       "    <tr>\n",
       "      <th>0</th>\n",
       "      <td>หม่อมราชวงศ์สุขุมพันธุ์ บริพัตร เรียนจบจากที่ไหน ?</td>\n",
       "      <td>thai</td>\n",
       "      <td>{'minimal_answers_end_byte': [-1, -1, -1], 'minimal_answers_start_byte': [-1, -1, -1], 'passage_...</td>\n",
       "      <td>0</td>\n",
       "    </tr>\n",
       "    <tr>\n",
       "      <th>1</th>\n",
       "      <td>Ukubwa wa Rijili Kantori ni kiasi gani?</td>\n",
       "      <td>swahili</td>\n",
       "      <td>{'minimal_answers_end_byte': [-1, -1, -1], 'minimal_answers_start_byte': [-1, -1, -1], 'passage_...</td>\n",
       "      <td>1</td>\n",
       "    </tr>\n",
       "    <tr>\n",
       "      <th>2</th>\n",
       "      <td>అలి గౌహర్ ఎన్ని సంవత్సరాలు జీవించాడు?</td>\n",
       "      <td>telugu</td>\n",
       "      <td>{'minimal_answers_end_byte': [39089, -1, -1], 'minimal_answers_start_byte': [39087, -1, -1], 'pa...</td>\n",
       "      <td>2</td>\n",
       "    </tr>\n",
       "    <tr>\n",
       "      <th>3</th>\n",
       "      <td>Milloin Kokemäki on perustettu?</td>\n",
       "      <td>finnish</td>\n",
       "      <td>{'minimal_answers_end_byte': [-1, 8158, -1], 'minimal_answers_start_byte': [-1, 8154, -1], 'pass...</td>\n",
       "      <td>3</td>\n",
       "    </tr>\n",
       "    <tr>\n",
       "      <th>4</th>\n",
       "      <td>১৯৮১ সালে বাংলাদেশের সেনাবাহিনীর সেনাপ্রধান কে ছিলেন ?</td>\n",
       "      <td>bengali</td>\n",
       "      <td>{'minimal_answers_end_byte': [-1, -1, -1], 'minimal_answers_start_byte': [-1, -1, -1], 'passage_...</td>\n",
       "      <td>4</td>\n",
       "    </tr>\n",
       "  </tbody>\n",
       "</table>\n",
       "</div>"
      ],
      "text/plain": [
       "                                            question_text language  \\\n",
       "0      หม่อมราชวงศ์สุขุมพันธุ์ บริพัตร เรียนจบจากที่ไหน ?     thai   \n",
       "1                 Ukubwa wa Rijili Kantori ni kiasi gani?  swahili   \n",
       "2                   అలి గౌహర్ ఎన్ని సంవత్సరాలు జీవించాడు?   telugu   \n",
       "3                         Milloin Kokemäki on perustettu?  finnish   \n",
       "4  ১৯৮১ সালে বাংলাদেশের সেনাবাহিনীর সেনাপ্রধান কে ছিলেন ?  bengali   \n",
       "\n",
       "                                                                                           annotations  \\\n",
       "0  {'minimal_answers_end_byte': [-1, -1, -1], 'minimal_answers_start_byte': [-1, -1, -1], 'passage_...   \n",
       "1  {'minimal_answers_end_byte': [-1, -1, -1], 'minimal_answers_start_byte': [-1, -1, -1], 'passage_...   \n",
       "2  {'minimal_answers_end_byte': [39089, -1, -1], 'minimal_answers_start_byte': [39087, -1, -1], 'pa...   \n",
       "3  {'minimal_answers_end_byte': [-1, 8158, -1], 'minimal_answers_start_byte': [-1, 8154, -1], 'pass...   \n",
       "4  {'minimal_answers_end_byte': [-1, -1, -1], 'minimal_answers_start_byte': [-1, -1, -1], 'passage_...   \n",
       "\n",
       "   __index_level_0__  \n",
       "0                  0  \n",
       "1                  1  \n",
       "2                  2  \n",
       "3                  3  \n",
       "4                  4  "
      ]
     },
     "execution_count": 34,
     "metadata": {},
     "output_type": "execute_result"
    }
   ],
   "source": [
    "polar_ds.set_format('pandas')\n",
    "wh_ds.set_format('pandas')\n",
    "polar_ds[:5]\n",
    "wh_ds[:5]"
   ]
  },
  {
   "cell_type": "code",
   "execution_count": 85,
   "metadata": {},
   "outputs": [],
   "source": [
    "from datasets import load_from_disk\n",
    "\n",
    "validation_polar = load_from_disk(\"/home/robin/Research/qtype-eval/tydiqa-validation-polar\")\n",
    "validation_wh = load_from_disk(\"/home/robin/Research/qtype-eval/tydiqa-validation-wh\")\n",
    "train_polar = load_from_disk(\"/home/robin/Research/qtype-eval/tydiq-train-polar\")\n",
    "train_wh = load_from_disk(\"/home/robin/Research/qtype-eval/tydiqa-train-wh\")\n",
    "\n",
    "validation_polar.set_format('pandas')\n",
    "validation_wh.set_format('pandas')\n",
    "train_polar.set_format('pandas')\n",
    "train_wh.set_format('pandas')\n",
    "#validation_polar[:5]\n",
    "#validation_wh[100:110]\n",
    "#train_polar[:5]\n",
    "#train_wh[45:50]\n",
    "\n"
   ]
  },
  {
   "cell_type": "code",
   "execution_count": 86,
   "metadata": {},
   "outputs": [
    {
     "name": "stdout",
     "output_type": "stream",
     "text": [
      "97390\n",
      "5222\n",
      "735\n",
      "10595\n"
     ]
    }
   ],
   "source": [
    "print(len(train_wh))\n",
    "print(len(train_polar))\n",
    "print(len(validation_polar))\n",
    "print(len(validation_wh))"
   ]
  },
  {
   "cell_type": "code",
   "execution_count": 87,
   "metadata": {},
   "outputs": [
    {
     "name": "stdout",
     "output_type": "stream",
     "text": [
      "\n",
      "=== Complete Summary ===\n",
      "            Polar-Valid  WH-Valid  Polar-Train  WH-Train\n",
      "language                                                \n",
      "arabic               98      1282         1179     21913\n",
      "english              77       954          444      8767\n",
      "finnish              94      1988          950     14335\n",
      "indonesian           64      1741          328     14624\n",
      "japanese            142      1567         1031     15257\n",
      "korean               65      1633          296     10685\n",
      "russian             195      1430          994     11809\n"
     ]
    }
   ],
   "source": [
    "\n",
    "pd.set_option('display.max_rows', None)\n",
    "pd.set_option('display.max_columns', None)\n",
    "pd.set_option('display.width', None)\n",
    "pd.set_option('display.max_colwidth', None)\n",
    "\n",
    "def get_language_counts(df, name):\n",
    "    counts = df[:]['language'].value_counts()\n",
    " \n",
    "    return counts\n",
    "\n",
    "# Print counts for each split\n",
    "polar_valid_counts = get_language_counts(validation_polar, \"Polar Questions - Validation Split\")\n",
    "wh_valid_counts = get_language_counts(validation_wh, \"WH Questions - Validation Split\")\n",
    "polar_train_counts = get_language_counts(train_polar, \"Polar Questions - Training Split\")\n",
    "wh_train_counts = get_language_counts(train_wh, \"WH Questions - Training Split\")\n",
    "\n",
    "# Create summary DataFrame\n",
    "summary = pd.DataFrame({\n",
    "    'Polar-Valid': polar_valid_counts,\n",
    "    'WH-Valid': wh_valid_counts,\n",
    "    'Polar-Train': polar_train_counts,\n",
    "    'WH-Train': wh_train_counts\n",
    "})\n",
    "\n",
    "print(\"\\n=== Complete Summary ===\")\n",
    "print(summary)\n",
    "\n"
   ]
  },
  {
   "cell_type": "markdown",
   "metadata": {},
   "source": [
    "## Memory hygiene"
   ]
  },
  {
   "cell_type": "code",
   "execution_count": 88,
   "metadata": {},
   "outputs": [
    {
     "data": {
      "text/plain": [
       "587"
      ]
     },
     "execution_count": 88,
     "metadata": {},
     "output_type": "execute_result"
    }
   ],
   "source": [
    "pd.DataFrame.cache = {}\n",
    "gc.collect()"
   ]
  }
 ],
 "metadata": {
  "kernelspec": {
   "display_name": "qtype-eval-pAepV5Z2-py3.12",
   "language": "python",
   "name": "python3"
  },
  "language_info": {
   "codemirror_mode": {
    "name": "ipython",
    "version": 3
   },
   "file_extension": ".py",
   "mimetype": "text/x-python",
   "name": "python",
   "nbconvert_exporter": "python",
   "pygments_lexer": "ipython3",
   "version": "3.12.3"
  }
 },
 "nbformat": 4,
 "nbformat_minor": 2
}
