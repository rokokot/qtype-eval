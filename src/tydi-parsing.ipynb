{
 "cells": [
  {
   "cell_type": "markdown",
   "metadata": {},
   "source": [
    "# Using UDPipe for POS tagging and Dependency parsing\n",
    "\n",
    "This notebooks describes how we used UDPipe to annotate the TiDy QA data."
   ]
  },
  {
   "cell_type": "markdown",
   "metadata": {},
   "source": []
  },
  {
   "cell_type": "code",
   "execution_count": 2,
   "metadata": {},
   "outputs": [
    {
     "name": "stdout",
     "output_type": "stream",
     "text": [
      "Requirement already satisfied: pandas in /home/robin/.pyenv/versions/3.8.20/envs/py38-trankit-env/lib/python3.8/site-packages (2.0.3)\n",
      "Requirement already satisfied: pytz>=2020.1 in /home/robin/.pyenv/versions/3.8.20/envs/py38-trankit-env/lib/python3.8/site-packages (from pandas) (2025.1)\n",
      "Requirement already satisfied: numpy>=1.20.3 in /home/robin/.pyenv/versions/3.8.20/envs/py38-trankit-env/lib/python3.8/site-packages (from pandas) (1.24.4)\n",
      "Requirement already satisfied: python-dateutil>=2.8.2 in /home/robin/.pyenv/versions/3.8.20/envs/py38-trankit-env/lib/python3.8/site-packages (from pandas) (2.9.0.post0)\n",
      "Requirement already satisfied: tzdata>=2022.1 in /home/robin/.pyenv/versions/3.8.20/envs/py38-trankit-env/lib/python3.8/site-packages (from pandas) (2025.1)\n",
      "Requirement already satisfied: six>=1.5 in /home/robin/.pyenv/versions/3.8.20/envs/py38-trankit-env/lib/python3.8/site-packages (from python-dateutil>=2.8.2->pandas) (1.17.0)\n",
      "\n",
      "\u001b[1m[\u001b[0m\u001b[34;49mnotice\u001b[0m\u001b[1;39;49m]\u001b[0m\u001b[39;49m A new release of pip is available: \u001b[0m\u001b[31;49m23.0.1\u001b[0m\u001b[39;49m -> \u001b[0m\u001b[32;49m25.0.1\u001b[0m\n",
      "\u001b[1m[\u001b[0m\u001b[34;49mnotice\u001b[0m\u001b[1;39;49m]\u001b[0m\u001b[39;49m To update, run: \u001b[0m\u001b[32;49mpip install --upgrade pip\u001b[0m\n"
     ]
    }
   ],
   "source": [
    "\n",
    "!pip install pandas"
   ]
  },
  {
   "cell_type": "code",
   "execution_count": 5,
   "metadata": {},
   "outputs": [],
   "source": [
    "import pandas as pd\n",
    "import requests\n",
    "import json\n",
    "from pathlib import Path\n",
    "import io\n",
    "import glob\n",
    "import gc\n",
    "import os\n"
   ]
  },
  {
   "cell_type": "code",
   "execution_count": null,
   "metadata": {},
   "outputs": [
    {
     "name": "stdout",
     "output_type": "stream",
     "text": [
      "\n",
      "\n",
      "Можно излечиться от наркотической зависимости полностью?\n",
      "\n",
      "\n",
      "Is Creole a pidgin of French?\n",
      "\n",
      "\n",
      "هل كان خالد بكداش الأمين العالم السابق للحزب الشبوعي السوري ذو أصول كردية؟\n",
      "\n",
      "\n",
      "Были ли канонизированы русские князья Борис и Глеб?\n",
      "\n",
      "\n",
      "كم عدد مرات فوز الأوروغواي ببطولة كاس العالم لكرو القدم؟\n",
      "\n",
      "\n",
      "한국에서 일어난 가장 많은 연쇄살인사건은 무엇인가?\n",
      "\n",
      "\n",
      "2019년까지 월드컵은 몇개국에서 개최되었는가?\n",
      "\n",
      "\n",
      "노브고로드 공화국 입법은 베체 체제인가요?\n",
      "\n",
      "\n",
      "What is a way to increase your wound healing speed?\n",
      "\n",
      "\n",
      "Сколько машин в день проезжает по Крымскому мосту?\n",
      "\n",
      "\n",
      "When did the art deco movement begin?\n",
      "\n",
      "\n",
      "Возможно ли вылечить ВИЧ?\n",
      "\n",
      "\n",
      "Phormの創始者は誰\n",
      "\n",
      "\n",
      "Ovatko eläinrasvat kiellettyjä raaka-aineita luonnonkosmetiikassa?\n",
      "\n",
      "\n",
      "Siapakah yang menemuka benua Amerika ?\n",
      "\n",
      "\n",
      "Onko Kalervo Kummola toiminut kansanedustajana?\n",
      "\n",
      "\n",
      "berapakah jenis ras yang ada didunia?\n",
      "\n",
      "\n",
      "Milloin Charles Fort syntyi?\n",
      "\n",
      "\n",
      "DNAの中にアミノ酸は含まれていますか？\n",
      "\n",
      "\n",
      "ما هي المسألة الشرقية ؟\n",
      "\n",
      "\n",
      "Apakah Baladewa seorang manusia?\n",
      "\n",
      "\n",
      "로마의 면적은 서울시의 2배인가요?\n",
      "\n",
      "\n",
      "Milloin Kokemäki on perustettu?\n",
      "\n",
      "\n",
      "キリスト教はユダヤ人を迫害した？\n",
      "\n",
      "\n",
      "2018年アメリカで一番治安の悪い州はどこ\n",
      "\n",
      "\n",
      "Do zebra finches have stripes?\n",
      "\n",
      "\n",
      "Apakah Learning Management System  memerlukan jaringan internet?\n",
      "\n",
      "\n",
      "هل عدم القيام بجهد جسماني ممكن ان يسبب الأرق؟\n"
     ]
    }
   ],
   "source": [
    "txt_files = glob.glob(\"/home/robin/Research/qtype-eval/TyDi-questions/*.txt\", recursive=True)\n",
    "\n",
    "for txt_file in txt_files:\n",
    "    with open(txt_file, \"r\", encoding=\"utf-8\") as f:\n",
    "        lines = f.readlines()\n",
    "        if len(lines) >= 1:\n",
    "            print('\\n')\n",
    "            print(lines[0].strip())\n",
    "\n"
   ]
  },
  {
   "cell_type": "code",
   "execution_count": null,
   "metadata": {},
   "outputs": [],
   "source": [
    "API_URL = 'https://lindat.mff.cuni.cz/services/udpipe/api/process'\n"
   ]
  },
  {
   "cell_type": "code",
   "execution_count": null,
   "metadata": {},
   "outputs": [
    {
     "name": "stdout",
     "output_type": "stream",
     "text": [
      "processing tidy-questions-polar-train-english.txt ...\n",
      "saved parsed output to parsed-tydi-english/tidy-questions-polar-train-english.conllu\n",
      "processing tidy-questions-polar-valid-english.txt ...\n",
      "saved parsed output to parsed-tydi-english/tidy-questions-polar-valid-english.conllu\n",
      "processing tidy-questions-wh-train-english.txt ...\n",
      "saved parsed output to parsed-tydi-english/tidy-questions-wh-train-english.conllu\n",
      "processing tidy-questions-wh-valid-english.txt ...\n",
      "saved parsed output to parsed-tydi-english/tidy-questions-wh-valid-english.conllu\n"
     ]
    }
   ],
   "source": [
    "\n",
    "def udpipe(sentence):\n",
    "  \"\"\"\n",
    "  Function which sends a question from .txt file to udpipe for tagging/parsing.\n",
    "  Returns a conllu representation of the data.\n",
    "  \"\"\"\n",
    "\n",
    "  data = {'data': sentence,\n",
    "          'model': 'english',\n",
    "          'tokenizer': '',\n",
    "          'tagger': '',\n",
    "          'parser': ''\n",
    "  }\n",
    "  response = requests.post(API_URL, data=data)\n",
    "  response.raise_for_status()\n",
    "  return response.json()['result']\n",
    "\n",
    "\n",
    "def run_english(files, output):\n",
    "    \"\"\"\n",
    "    Reads .txt files from a list of file paths, processes them via Udpipe v2,\n",
    "    and writes .conllu outputs to the output directory.\n",
    "    \"\"\"\n",
    "    os.makedirs(output, exist_ok=True)\n",
    "\n",
    "    for file in files:\n",
    "        with open(file, 'r', encoding='utf-8') as f:\n",
    "            text = f.read()\n",
    "\n",
    "        print(f'processing {os.path.basename(file)} ...')\n",
    "\n",
    "        try:\n",
    "            conllu = udpipe(text)\n",
    "            out_file = Path(output, f'{Path(file).stem}.conllu')\n",
    "            with open(out_file, 'w', encoding='utf-8') as out:\n",
    "                out.write(conllu)\n",
    "            print(f'saved parsed output to {out_file}')\n",
    "        except Exception as e:\n",
    "            print(f'error processing {file}: {e}')\n",
    "\n",
    "files = [\n",
    "    '/home/robin/Research/qtype-eval/TyDi-questions/tidy-questions-polar-train-english.txt',\n",
    "    '/home/robin/Research/qtype-eval/TyDi-questions/tidy-questions-polar-valid-english.txt',\n",
    "    '/home/robin/Research/qtype-eval/TyDi-questions/tidy-questions-wh-train-english.txt',\n",
    "    '/home/robin/Research/qtype-eval/TyDi-questions/tidy-questions-wh-valid-english.txt'\n",
    "\n",
    "]\n",
    "run_english(files, 'parsed-tydi')\n"
   ]
  },
  {
   "cell_type": "code",
   "execution_count": 32,
   "metadata": {},
   "outputs": [
    {
     "name": "stdout",
     "output_type": "stream",
     "text": [
      "processing tidy-questions-polar-train-russian.txt ...\n",
      "saved parsed output to parsed-tydi/tidy-questions-polar-train-russian.conllu\n",
      "processing tidy-questions-polar-valid-russian.txt ...\n",
      "saved parsed output to parsed-tydi/tidy-questions-polar-valid-russian.conllu\n",
      "processing tidy-questions-wh-train-russian.txt ...\n",
      "saved parsed output to parsed-tydi/tidy-questions-wh-train-russian.conllu\n",
      "processing tidy-questions-wh-valid-russian.txt ...\n",
      "saved parsed output to parsed-tydi/tidy-questions-wh-valid-russian.conllu\n"
     ]
    }
   ],
   "source": [
    "\n",
    "def udpipe(sentence):\n",
    "  \"\"\"\n",
    "  Function which sends a question from .txt file to udpipe for tagging/parsing.\n",
    "  Returns a conllu representation of the data.\n",
    "  \"\"\"\n",
    "\n",
    "  data = {'data': sentence,\n",
    "          'model': 'russian-gsd-ud-2.15-241121',\n",
    "          'tokenizer': '',\n",
    "          'tagger': '',\n",
    "          'parser': ''\n",
    "  }\n",
    "  response = requests.post(API_URL, data=data)\n",
    "  response.raise_for_status()\n",
    "  return response.json()['result']\n",
    "\n",
    "\n",
    "def run_english(files, output):\n",
    "    \"\"\"\n",
    "    Reads .txt files from a list of file paths, processes them via Udpipe v2,\n",
    "    and writes .conllu outputs to the output directory.\n",
    "    \"\"\"\n",
    "    os.makedirs(output, exist_ok=True)\n",
    "\n",
    "    for file in files:\n",
    "        with open(file, 'r', encoding='utf-8') as f:\n",
    "            text = f.read()\n",
    "\n",
    "        print(f'processing {os.path.basename(file)} ...')\n",
    "\n",
    "        try:\n",
    "            conllu = udpipe(text)\n",
    "            out_file = Path(output, f'{Path(file).stem}.conllu')\n",
    "            with open(out_file, 'w', encoding='utf-8') as out:\n",
    "                out.write(conllu)\n",
    "            print(f'saved parsed output to {out_file}')\n",
    "        except Exception as e:\n",
    "            print(f'error processing {file}: {e}')\n",
    "\n",
    "files = [\n",
    "    '/home/robin/Research/qtype-eval/TyDi-questions/tidy-questions-polar-train-russian.txt',\n",
    "    '/home/robin/Research/qtype-eval/TyDi-questions/tidy-questions-polar-valid-russian.txt',\n",
    "    '/home/robin/Research/qtype-eval/TyDi-questions/tidy-questions-wh-train-russian.txt',\n",
    "    '/home/robin/Research/qtype-eval/TyDi-questions/tidy-questions-wh-valid-russian.txt'\n",
    "\n",
    "]\n",
    "run_english(files, 'parsed-tydi')\n"
   ]
  },
  {
   "cell_type": "code",
   "execution_count": 34,
   "metadata": {},
   "outputs": [
    {
     "name": "stdout",
     "output_type": "stream",
     "text": [
      "processing tidy-questions-polar-train-korean.txt ...\n",
      "saved parsed output to parsed-tydi/tidy-questions-polar-train-korean.conllu\n",
      "processing tidy-questions-polar-valid-korean.txt ...\n",
      "saved parsed output to parsed-tydi/tidy-questions-polar-valid-korean.conllu\n",
      "processing tidy-questions-wh-train-korean.txt ...\n",
      "saved parsed output to parsed-tydi/tidy-questions-wh-train-korean.conllu\n",
      "processing tidy-questions-wh-valid-korean.txt ...\n",
      "saved parsed output to parsed-tydi/tidy-questions-wh-valid-korean.conllu\n"
     ]
    }
   ],
   "source": [
    "\n",
    "def udpipe(sentence):\n",
    "  \"\"\"\n",
    "  Function which sends a question from .txt file to udpipe for tagging/parsing.\n",
    "  Returns a conllu representation of the data.\n",
    "  \"\"\"\n",
    "\n",
    "  data = {'data': sentence,\n",
    "          'model': 'korean-kaist-ud-2.15-241121',\n",
    "          'tokenizer': '',\n",
    "          'tagger': '',\n",
    "          'parser': ''\n",
    "  }\n",
    "  response = requests.post(API_URL, data=data)\n",
    "  response.raise_for_status()\n",
    "  return response.json()['result']\n",
    "\n",
    "\n",
    "def run_english(files, output):\n",
    "    \"\"\"\n",
    "    Reads .txt files from a list of file paths, processes them via Udpipe v2,\n",
    "    and writes .conllu outputs to the output directory.\n",
    "    \"\"\"\n",
    "    os.makedirs(output, exist_ok=True)\n",
    "\n",
    "    for file in files:\n",
    "        with open(file, 'r', encoding='utf-8') as f:\n",
    "            text = f.read()\n",
    "\n",
    "        print(f'processing {os.path.basename(file)} ...')\n",
    "\n",
    "        try:\n",
    "            conllu = udpipe(text)\n",
    "            out_file = Path(output, f'{Path(file).stem}.conllu')\n",
    "            with open(out_file, 'w', encoding='utf-8') as out:\n",
    "                out.write(conllu)\n",
    "            print(f'saved parsed output to {out_file}')\n",
    "        except Exception as e:\n",
    "            print(f'error processing {file}: {e}')\n",
    "\n",
    "files = [\n",
    "    '/home/robin/Research/qtype-eval/TyDi-questions/tidy-questions-polar-train-korean.txt',\n",
    "    '/home/robin/Research/qtype-eval/TyDi-questions/tidy-questions-polar-valid-korean.txt',\n",
    "    '/home/robin/Research/qtype-eval/TyDi-questions/tidy-questions-wh-train-korean.txt',\n",
    "    '/home/robin/Research/qtype-eval/TyDi-questions/tidy-questions-wh-valid-korean.txt'\n",
    "\n",
    "]\n",
    "run_english(files, 'parsed-tydi')\n"
   ]
  },
  {
   "cell_type": "code",
   "execution_count": null,
   "metadata": {},
   "outputs": [],
   "source": []
  },
  {
   "cell_type": "code",
   "execution_count": null,
   "metadata": {},
   "outputs": [],
   "source": []
  },
  {
   "cell_type": "code",
   "execution_count": null,
   "metadata": {},
   "outputs": [],
   "source": []
  },
  {
   "cell_type": "code",
   "execution_count": null,
   "metadata": {},
   "outputs": [],
   "source": []
  },
  {
   "cell_type": "markdown",
   "metadata": {},
   "source": [
    "## Memory hygiene"
   ]
  },
  {
   "cell_type": "code",
   "execution_count": 6,
   "metadata": {},
   "outputs": [
    {
     "data": {
      "text/plain": [
       "0"
      ]
     },
     "execution_count": 6,
     "metadata": {},
     "output_type": "execute_result"
    }
   ],
   "source": [
    "pd.DataFrame.cache = {}\n",
    "gc.collect()"
   ]
  },
  {
   "cell_type": "code",
   "execution_count": null,
   "metadata": {},
   "outputs": [],
   "source": []
  }
 ],
 "metadata": {
  "kernelspec": {
   "display_name": "py38-trankit-env",
   "language": "python",
   "name": "python3"
  },
  "language_info": {
   "codemirror_mode": {
    "name": "ipython",
    "version": 3
   },
   "file_extension": ".py",
   "mimetype": "text/x-python",
   "name": "python",
   "nbconvert_exporter": "python",
   "pygments_lexer": "ipython3",
   "version": "3.8.20"
  }
 },
 "nbformat": 4,
 "nbformat_minor": 2
}
