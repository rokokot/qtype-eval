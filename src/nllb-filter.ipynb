{
 "cells": [
  {
   "cell_type": "markdown",
   "metadata": {},
   "source": [
    "### NLLB data processing"
   ]
  },
  {
   "cell_type": "code",
   "execution_count": null,
   "metadata": {},
   "outputs": [],
   "source": [
    "import os\n",
    "\n",
    "hindi = os.path.expanduser(\"/home/robin/Research/qtype-eval/data/en-hi.tmx\")\n"
   ]
  },
  {
   "cell_type": "code",
   "execution_count": null,
   "metadata": {},
   "outputs": [
    {
     "name": "stdout",
     "output_type": "stream",
     "text": [
      "\n",
      "Reading first 2 entries from: /home/robin/Research/qtype-eval/data/en-hi.tmx\n"
     ]
    }
   ],
   "source": [
    "from PythonTmx import from_tmx\n",
    "import gc  # For garbage collection\n",
    "\n",
    "def read_tmx_entries(file_path, num_entries=2):\n",
    "    \"\"\"\n",
    "    Read the first n entries from a TMX file efficiently\n",
    "    \"\"\"\n",
    "    try:\n",
    "        print(f\"\\nReading first {num_entries} entries from: {file_path}\")\n",
    "        \n",
    "        # Create Tmx object and iterate only through needed entries\n",
    "        tmx_file = from_tmx(file_path)\n",
    "        \n",
    "        for i, tu in enumerate(tmx_file):\n",
    "            if i >= num_entries:\n",
    "                break\n",
    "                \n",
    "            print(f\"\\nEntry {i+1}:\")\n",
    "            for tuv in tu.tuvs:\n",
    "                print(f\"{tuv.xmllang}: {tuv.segment}\")\n",
    "            \n",
    "        # Clean up\n",
    "        del tmx_file\n",
    "        gc.collect()\n",
    "            \n",
    "    except Exception as e:\n",
    "        print(f\"Error: {e}\")\n",
    "\n",
    "# Simple single-file usage\n",
    "\n",
    "read_tmx_entries(hindi, num_entries=2)"
   ]
  },
  {
   "cell_type": "code",
   "execution_count": null,
   "metadata": {},
   "outputs": [],
   "source": []
  }
 ],
 "metadata": {
  "kernelspec": {
   "display_name": "qtype-eval-pAepV5Z2-py3.12",
   "language": "python",
   "name": "python3"
  },
  "language_info": {
   "codemirror_mode": {
    "name": "ipython",
    "version": 3
   },
   "file_extension": ".py",
   "mimetype": "text/x-python",
   "name": "python",
   "nbconvert_exporter": "python",
   "pygments_lexer": "ipython3",
   "version": "3.12.3"
  }
 },
 "nbformat": 4,
 "nbformat_minor": 2
}
