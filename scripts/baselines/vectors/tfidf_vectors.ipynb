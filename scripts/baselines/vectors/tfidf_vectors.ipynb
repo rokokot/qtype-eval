{
 "cells": [
  {
   "cell_type": "markdown",
   "metadata": {},
   "source": [
    "## Generating TF-IDF Vectors\n",
    "##### Prepare data and extract Text2Text TF-IDF features for our questions"
   ]
  },
  {
   "cell_type": "code",
   "execution_count": null,
   "metadata": {},
   "outputs": [],
   "source": [
    "#from google.colab import drive\n",
    "#drive.mount('/content/drive')"
   ]
  },
  {
   "cell_type": "code",
   "execution_count": null,
   "metadata": {},
   "outputs": [],
   "source": [
    "%%bash\n",
    "pip install -q text2text\n",
    "pip install wandb"
   ]
  },
  {
   "cell_type": "code",
   "execution_count": 1,
   "metadata": {},
   "outputs": [],
   "source": [
    "import pandas as pd\n",
    "from pathlib import Path\n",
    "import numpy as np\n",
    "import pickle\n",
    "import os\n",
    "import matplotlib.pyplot as plt\n",
    "from sklearn.model_selection import train_test_split\n",
    "import seaborn as sns\n",
    "import text2text as t2t\n",
    "from datasets import load_dataset\n",
    "from tqdm.auto import tqdm\n",
    "import wandb\n",
    "\n",
    "SEED = 69\n",
    "np.random.seed(SEED)"
   ]
  },
  {
   "cell_type": "code",
   "execution_count": 2,
   "metadata": {},
   "outputs": [
    {
     "name": "stderr",
     "output_type": "stream",
     "text": [
      "\u001b[34m\u001b[1mwandb\u001b[0m: Using wandb-core as the SDK backend.  Please refer to https://wandb.me/wandb-core for more information.\n"
     ]
    },
    {
     "name": "stderr",
     "output_type": "stream",
     "text": [
      "\u001b[34m\u001b[1mwandb\u001b[0m: Currently logged in as: \u001b[33mrokii\u001b[0m (\u001b[33mrokii-ku-leuven\u001b[0m) to \u001b[32mhttps://api.wandb.ai\u001b[0m. Use \u001b[1m`wandb login --relogin`\u001b[0m to force relogin\n"
     ]
    },
    {
     "data": {
      "text/html": [
       "Tracking run with wandb version 0.19.8"
      ],
      "text/plain": [
       "<IPython.core.display.HTML object>"
      ]
     },
     "metadata": {},
     "output_type": "display_data"
    },
    {
     "data": {
      "text/html": [
       "Run data is saved locally in <code>/home/robin/Research/qtype-eval/scripts/baselines/vectors/wandb/run-20250322_155727-gjoivhpr</code>"
      ],
      "text/plain": [
       "<IPython.core.display.HTML object>"
      ]
     },
     "metadata": {},
     "output_type": "display_data"
    },
    {
     "data": {
      "text/html": [
       "Syncing run <strong><a href='https://wandb.ai/rokii-ku-leuven/MAIthesis/runs/gjoivhpr' target=\"_blank\">data-preparation</a></strong> to <a href='https://wandb.ai/rokii-ku-leuven/MAIthesis' target=\"_blank\">Weights & Biases</a> (<a href='https://wandb.me/developer-guide' target=\"_blank\">docs</a>)<br>"
      ],
      "text/plain": [
       "<IPython.core.display.HTML object>"
      ]
     },
     "metadata": {},
     "output_type": "display_data"
    },
    {
     "data": {
      "text/html": [
       " View project at <a href='https://wandb.ai/rokii-ku-leuven/MAIthesis' target=\"_blank\">https://wandb.ai/rokii-ku-leuven/MAIthesis</a>"
      ],
      "text/plain": [
       "<IPython.core.display.HTML object>"
      ]
     },
     "metadata": {},
     "output_type": "display_data"
    },
    {
     "data": {
      "text/html": [
       " View run at <a href='https://wandb.ai/rokii-ku-leuven/MAIthesis/runs/gjoivhpr' target=\"_blank\">https://wandb.ai/rokii-ku-leuven/MAIthesis/runs/gjoivhpr</a>"
      ],
      "text/plain": [
       "<IPython.core.display.HTML object>"
      ]
     },
     "metadata": {},
     "output_type": "display_data"
    },
    {
     "data": {
      "text/html": [
       "<button onClick=\"this.nextSibling.style.display='block';this.style.display='none';\">Display W&B run</button><iframe src='https://wandb.ai/rokii-ku-leuven/MAIthesis/runs/gjoivhpr?jupyter=true' style='border:none;width:100%;height:420px;display:none;'></iframe>"
      ],
      "text/plain": [
       "<wandb.sdk.wandb_run.Run at 0x7ce0c381cd40>"
      ]
     },
     "execution_count": 2,
     "metadata": {},
     "output_type": "execute_result"
    }
   ],
   "source": [
    "wandb.init(\n",
    "  project=\"MAIthesis\",\n",
    "  name=\"data-preparation\",\n",
    "  tags=[\"data-prep\", \"tfidf\"],\n",
    "  job_type=\"data-processing\"\n",
    ")"
   ]
  },
  {
   "cell_type": "code",
   "execution_count": 3,
   "metadata": {},
   "outputs": [
    {
     "data": {
      "application/vnd.jupyter.widget-view+json": {
       "model_id": "942790e792fe4d5fa344a6c18ff8d042",
       "version_major": 2,
       "version_minor": 0
      },
      "text/plain": [
       "README.md:   0%|          | 0.00/15.0k [00:00<?, ?B/s]"
      ]
     },
     "metadata": {},
     "output_type": "display_data"
    },
    {
     "data": {
      "application/vnd.jupyter.widget-view+json": {
       "model_id": "e8e5c27d2e844a15a2b6d8513ae1179d",
       "version_major": 2,
       "version_minor": 0
      },
      "text/plain": [
       "tydi_train_base.csv:   0%|          | 0.00/885k [00:00<?, ?B/s]"
      ]
     },
     "metadata": {},
     "output_type": "display_data"
    },
    {
     "data": {
      "application/vnd.jupyter.widget-view+json": {
       "model_id": "929849d59d9b4bfaaaedc846dc4f8a5e",
       "version_major": 2,
       "version_minor": 0
      },
      "text/plain": [
       "dev_base.csv:   0%|          | 0.00/57.4k [00:00<?, ?B/s]"
      ]
     },
     "metadata": {},
     "output_type": "display_data"
    },
    {
     "data": {
      "application/vnd.jupyter.widget-view+json": {
       "model_id": "9c4c324d181a434e8548ad024d691309",
       "version_major": 2,
       "version_minor": 0
      },
      "text/plain": [
       "ud_test_base.csv:   0%|          | 0.00/97.2k [00:00<?, ?B/s]"
      ]
     },
     "metadata": {},
     "output_type": "display_data"
    },
    {
     "data": {
      "application/vnd.jupyter.widget-view+json": {
       "model_id": "891e646698594771ba5aa31e8760b2bc",
       "version_major": 2,
       "version_minor": 0
      },
      "text/plain": [
       "Generating train split:   0%|          | 0/7460 [00:00<?, ? examples/s]"
      ]
     },
     "metadata": {},
     "output_type": "display_data"
    },
    {
     "data": {
      "application/vnd.jupyter.widget-view+json": {
       "model_id": "39705b6e4d9d4897b3cfed22dc6b35a2",
       "version_major": 2,
       "version_minor": 0
      },
      "text/plain": [
       "Generating validation split:   0%|          | 0/441 [00:00<?, ? examples/s]"
      ]
     },
     "metadata": {},
     "output_type": "display_data"
    },
    {
     "data": {
      "application/vnd.jupyter.widget-view+json": {
       "model_id": "963a2cbbf61d478bacfdca024367d7c0",
       "version_major": 2,
       "version_minor": 0
      },
      "text/plain": [
       "Generating test split:   0%|          | 0/719 [00:00<?, ? examples/s]"
      ]
     },
     "metadata": {},
     "output_type": "display_data"
    }
   ],
   "source": [
    "dataset = load_dataset('rokokot/question-type-and-complexity-v2')\n",
    "train_data = dataset['train']\n",
    "train_df = train_data.to_pandas()\n",
    "dev_data = dataset['validation']\n",
    "dev_df = dev_data.to_pandas()\n",
    "test_data = dataset['test']\n",
    "test_df = test_data.to_pandas()\n",
    "\n",
    "#wandb.log({\"train_data_rows\": len(train_df), \"dev_data_rows\": len(dev_df), \"test_data_rows\": len(test_df), \"data_columns\": len(train_df.columns)})\n"
   ]
  },
  {
   "cell_type": "code",
   "execution_count": null,
   "metadata": {},
   "outputs": [
    {
     "name": "stdout",
     "output_type": "stream",
     "text": [
      "   language  complexity_score  lang_norm_complexity_score\n",
      "0        fi             1.459                    0.360751\n",
      "1        ru             1.243                    0.253591\n",
      "2        fi             1.455                    0.359693\n",
      "3        ko             2.471                    0.510456\n",
      "4        en             1.986                    0.515021\n",
      "5        ru             1.307                    0.271271\n",
      "6        id             2.698                    0.624780\n",
      "7        ko             2.310                    0.467292\n",
      "8        ja             1.889                    0.499308\n",
      "9        en             2.416                    0.656983\n",
      "10       ar             1.475                    0.416025\n",
      "11       id             2.274                    0.500586\n",
      "12       ja             1.357                    0.315353\n",
      "13       ar             1.377                    0.385824\n"
     ]
    }
   ],
   "source": [
    "def normalize_complexity_scores(df):\n",
    "    df['lang_norm_complexity_score'] = 0.0\n",
    "    for language, group in df.groupby('language'):\n",
    "        min_score = group['complexity_score'].min()\n",
    "        max_score = group['complexity_score'].max()\n",
    "        if min_score == max_score:\n",
    "            df.loc[df['language'] == language, 'lang_norm_complexity_score'] = 0.5\n",
    "        else:\n",
    "            normalized_scores = (group['complexity_score'] - min_score) / (max_score - min_score)\n",
    "            df.loc[df['language'] == language, 'lang_norm_complexity_score'] = normalized_scores.values\n",
    "    return df\n",
    "\n",
    "train_df = normalize_complexity_scores(train_df)\n",
    "dev_df = normalize_complexity_scores(dev_df)\n",
    "test_df = normalize_complexity_scores(test_df)\n",
    "sample_df = train_df.groupby('language').head(2).reset_index(drop=True)\n",
    "print(sample_df[['language', 'complexity_score', 'lang_norm_complexity_score']])\n"
   ]
  },
  {
   "cell_type": "code",
   "execution_count": 9,
   "metadata": {},
   "outputs": [
    {
     "name": "stdout",
     "output_type": "stream",
     "text": [
      "questions:\n",
      "Onko Tampereen rantatunneli Suomen pisin maantietunneli?... (lang id: fi)\n",
      "В каком фильме снимался Дзюн Фукуяма?... (lang id: ru)\n",
      "Kuka oli Mary Jane Watsonin lempisukulainen perheen ulkopuolelta?... (lang id: fi)\n"
     ]
    }
   ],
   "source": [
    "print(\"questions:\")\n",
    "for i in range(3):\n",
    "    print(f\"{train_df['text'][i][:100]}... (lang id: {train_df['language'][i]})\")"
   ]
  },
  {
   "cell_type": "code",
   "execution_count": 5,
   "metadata": {},
   "outputs": [
    {
     "data": {
      "application/vnd.jupyter.widget-view+json": {
       "model_id": "2826e8653aca460ca8238499e460d87c",
       "version_major": 2,
       "version_minor": 0
      },
      "text/plain": [
       "  0%|          | 0/7460 [00:00<?, ?it/s]"
      ]
     },
     "metadata": {},
     "output_type": "display_data"
    },
    {
     "data": {
      "application/vnd.jupyter.widget-view+json": {
       "model_id": "4aadb5d579284ebca1861553a13830e8",
       "version_major": 2,
       "version_minor": 0
      },
      "text/plain": [
       "  0%|          | 0/441 [00:00<?, ?it/s]"
      ]
     },
     "metadata": {},
     "output_type": "display_data"
    },
    {
     "data": {
      "application/vnd.jupyter.widget-view+json": {
       "model_id": "44cc9915b74a4817b01f49fa18051b96",
       "version_major": 2,
       "version_minor": 0
      },
      "text/plain": [
       "  0%|          | 0/719 [00:00<?, ?it/s]"
      ]
     },
     "metadata": {},
     "output_type": "display_data"
    },
    {
     "name": "stdout",
     "output_type": "stream",
     "text": [
      "Training TF-IDF matrix shape: (7460, 1)\n",
      "Dev TF-IDF matrix shape: (441, 1)\n",
      "Test TF-IDF matrix shape: (719, 1)\n"
     ]
    }
   ],
   "source": [
    "tfidfer = t2t.Tfidfer() \n",
    "\n",
    "def extract_tfidf_vectors(questions, languages):\n",
    "    vectors = []\n",
    "    for i, (question, lang) in enumerate(tqdm(zip(questions, languages), total=len(questions))):\n",
    "        vector = tfidfer.transform([question], src_lang=lang, output='matrix')[0]\n",
    "        vectors.append(vector)\n",
    "    return np.vstack(vectors)\n",
    "\n",
    "X_train = extract_tfidf_vectors(train_df['text'].tolist(), train_df['language'].tolist())\n",
    "X_dev = extract_tfidf_vectors(dev_df['text'].tolist(), dev_df['language'].tolist())\n",
    "X_test = extract_tfidf_vectors(test_df['text'].tolist(), test_df['language'].tolist())\n",
    "\n",
    "print(f\"Training TF-IDF matrix shape: {X_train.shape}\")\n",
    "print(f\"Dev TF-IDF matrix shape: {X_dev.shape}\")\n",
    "print(f\"Test TF-IDF matrix shape: {X_test.shape}\")"
   ]
  },
  {
   "cell_type": "code",
   "execution_count": 6,
   "metadata": {},
   "outputs": [],
   "source": [
    "with open('/home/robin/Research/qtype-eval/scripts/baselines/vectors/tfidf_vectors_train.pkl', 'wb') as v:   # Save TF-IDF features for reuse\n",
    "    pickle.dump(X_train, v)\n",
    "\n",
    "with open('/home/robin/Research/qtype-eval/scripts/baselines/vectors/tfidf_vectors_dev.pkl', 'wb') as v:\n",
    "    pickle.dump(X_dev, v)\n",
    "\n",
    "with open('/home/robin/Research/qtype-eval/scripts/baselines/vectors/tfidf_vectors_test.pkl', 'wb') as v:\n",
    "    pickle.dump(X_test, v)"
   ]
  },
  {
   "cell_type": "code",
   "execution_count": 10,
   "metadata": {},
   "outputs": [
    {
     "data": {
      "text/html": [],
      "text/plain": [
       "<IPython.core.display.HTML object>"
      ]
     },
     "metadata": {},
     "output_type": "display_data"
    },
    {
     "data": {
      "text/html": [
       " View run <strong style=\"color:#cdcd00\">data-preparation</strong> at: <a href='https://wandb.ai/rokii-ku-leuven/MAIthesis/runs/gjoivhpr' target=\"_blank\">https://wandb.ai/rokii-ku-leuven/MAIthesis/runs/gjoivhpr</a><br> View project at: <a href='https://wandb.ai/rokii-ku-leuven/MAIthesis' target=\"_blank\">https://wandb.ai/rokii-ku-leuven/MAIthesis</a><br>Synced 5 W&B file(s), 0 media file(s), 0 artifact file(s) and 0 other file(s)"
      ],
      "text/plain": [
       "<IPython.core.display.HTML object>"
      ]
     },
     "metadata": {},
     "output_type": "display_data"
    },
    {
     "data": {
      "text/html": [
       "Find logs at: <code>./wandb/run-20250322_155727-gjoivhpr/logs</code>"
      ],
      "text/plain": [
       "<IPython.core.display.HTML object>"
      ]
     },
     "metadata": {},
     "output_type": "display_data"
    }
   ],
   "source": [
    "wandb.finish()"
   ]
  },
  {
   "cell_type": "code",
   "execution_count": null,
   "metadata": {},
   "outputs": [],
   "source": []
  }
 ],
 "metadata": {
  "kernelspec": {
   "display_name": "qtype-eval-pAepV5Z2-py3.12",
   "language": "python",
   "name": "python3"
  },
  "language_info": {
   "codemirror_mode": {
    "name": "ipython",
    "version": 3
   },
   "file_extension": ".py",
   "mimetype": "text/x-python",
   "name": "python",
   "nbconvert_exporter": "python",
   "pygments_lexer": "ipython3",
   "version": "3.12.3"
  }
 },
 "nbformat": 4,
 "nbformat_minor": 2
}
