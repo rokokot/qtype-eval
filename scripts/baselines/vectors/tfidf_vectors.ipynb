{
 "cells": [
  {
   "cell_type": "markdown",
   "metadata": {},
   "source": [
    "## Generating TF-IDF Vectors\n",
    "##### Prepare data and extract Text2Text TF-IDF features for our questions"
   ]
  },
  {
   "cell_type": "code",
   "execution_count": null,
   "metadata": {},
   "outputs": [],
   "source": [
    "#from google.colab import drive\n",
    "#drive.mount('/content/drive')"
   ]
  },
  {
   "cell_type": "code",
   "execution_count": null,
   "metadata": {},
   "outputs": [],
   "source": [
    "%%bash\n",
    "pip install -q text2text\n",
    "pip install wandb"
   ]
  },
  {
   "cell_type": "code",
   "execution_count": 1,
   "metadata": {},
   "outputs": [],
   "source": [
    "import pandas as pd\n",
    "from pathlib import Path\n",
    "import numpy as np\n",
    "import pickle\n",
    "import os\n",
    "import matplotlib.pyplot as plt\n",
    "from sklearn.model_selection import train_test_split\n",
    "import scipy.sparse as sp\n",
    "import seaborn as sns\n",
    "import text2text as t2t\n",
    "from datasets import load_dataset\n",
    "from tqdm.auto import tqdm\n",
    "import json\n",
    "import wandb\n",
    "\n",
    "SEED = 69\n",
    "np.random.seed(SEED)"
   ]
  },
  {
   "cell_type": "code",
   "execution_count": 2,
   "metadata": {},
   "outputs": [
    {
     "name": "stderr",
     "output_type": "stream",
     "text": [
      "\u001b[34m\u001b[1mwandb\u001b[0m: Using wandb-core as the SDK backend.  Please refer to https://wandb.me/wandb-core for more information.\n"
     ]
    },
    {
     "name": "stderr",
     "output_type": "stream",
     "text": [
      "\u001b[34m\u001b[1mwandb\u001b[0m: Currently logged in as: \u001b[33mrokii\u001b[0m (\u001b[33mrokii-ku-leuven\u001b[0m) to \u001b[32mhttps://api.wandb.ai\u001b[0m. Use \u001b[1m`wandb login --relogin`\u001b[0m to force relogin\n"
     ]
    },
    {
     "data": {
      "text/html": [
       "Tracking run with wandb version 0.19.8"
      ],
      "text/plain": [
       "<IPython.core.display.HTML object>"
      ]
     },
     "metadata": {},
     "output_type": "display_data"
    },
    {
     "data": {
      "text/html": [
       "Run data is saved locally in <code>/home/robin/Research/qtype-eval/scripts/baselines/vectors/wandb/run-20250323_152250-8y3smy0m</code>"
      ],
      "text/plain": [
       "<IPython.core.display.HTML object>"
      ]
     },
     "metadata": {},
     "output_type": "display_data"
    },
    {
     "data": {
      "text/html": [
       "Syncing run <strong><a href='https://wandb.ai/rokii-ku-leuven/MAIthesis/runs/8y3smy0m' target=\"_blank\">data-preparation</a></strong> to <a href='https://wandb.ai/rokii-ku-leuven/MAIthesis' target=\"_blank\">Weights & Biases</a> (<a href='https://wandb.me/developer-guide' target=\"_blank\">docs</a>)<br>"
      ],
      "text/plain": [
       "<IPython.core.display.HTML object>"
      ]
     },
     "metadata": {},
     "output_type": "display_data"
    },
    {
     "data": {
      "text/html": [
       " View project at <a href='https://wandb.ai/rokii-ku-leuven/MAIthesis' target=\"_blank\">https://wandb.ai/rokii-ku-leuven/MAIthesis</a>"
      ],
      "text/plain": [
       "<IPython.core.display.HTML object>"
      ]
     },
     "metadata": {},
     "output_type": "display_data"
    },
    {
     "data": {
      "text/html": [
       " View run at <a href='https://wandb.ai/rokii-ku-leuven/MAIthesis/runs/8y3smy0m' target=\"_blank\">https://wandb.ai/rokii-ku-leuven/MAIthesis/runs/8y3smy0m</a>"
      ],
      "text/plain": [
       "<IPython.core.display.HTML object>"
      ]
     },
     "metadata": {},
     "output_type": "display_data"
    },
    {
     "data": {
      "text/html": [
       "<button onClick=\"this.nextSibling.style.display='block';this.style.display='none';\">Display W&B run</button><iframe src='https://wandb.ai/rokii-ku-leuven/MAIthesis/runs/8y3smy0m?jupyter=true' style='border:none;width:100%;height:420px;display:none;'></iframe>"
      ],
      "text/plain": [
       "<wandb.sdk.wandb_run.Run at 0x70a924500da0>"
      ]
     },
     "execution_count": 2,
     "metadata": {},
     "output_type": "execute_result"
    }
   ],
   "source": [
    "wandb.init(\n",
    "  project=\"MAIthesis\",\n",
    "  name=\"data-preparation\",\n",
    "  tags=[\"data-prep\", \"tfidf\"],\n",
    "  job_type=\"data-processing\"\n",
    ")"
   ]
  },
  {
   "cell_type": "code",
   "execution_count": 3,
   "metadata": {},
   "outputs": [],
   "source": [
    "dataset = load_dataset('rokokot/question-type-and-complexity-v2')\n",
    "train_data = dataset['train']\n",
    "train_df = train_data.to_pandas()\n",
    "dev_data = dataset['validation']\n",
    "dev_df = dev_data.to_pandas()\n",
    "test_data = dataset['test']\n",
    "test_df = test_data.to_pandas()\n",
    "\n",
    "#wandb.log({\"train_data_rows\": len(train_df), \"dev_data_rows\": len(dev_df), \"test_data_rows\": len(test_df), \"data_columns\": len(train_df.columns)})\n"
   ]
  },
  {
   "cell_type": "code",
   "execution_count": 4,
   "metadata": {},
   "outputs": [
    {
     "name": "stdout",
     "output_type": "stream",
     "text": [
      "questions:\n",
      "Onko Tampereen rantatunneli Suomen pisin maantietunneli?... (lang id: fi)\n",
      "В каком фильме снимался Дзюн Фукуяма?... (lang id: ru)\n",
      "Kuka oli Mary Jane Watsonin lempisukulainen perheen ulkopuolelta?... (lang id: fi)\n"
     ]
    }
   ],
   "source": [
    "print(\"questions:\")\n",
    "for i in range(3):\n",
    "    print(f\"{train_df['text'][i][:100]}... (lang id: {train_df['language'][i]})\")"
   ]
  },
  {
   "cell_type": "code",
   "execution_count": 5,
   "metadata": {},
   "outputs": [
    {
     "data": {
      "application/vnd.jupyter.widget-view+json": {
       "model_id": "5c4f718448884aa8ae69987eca16fdd9",
       "version_major": 2,
       "version_minor": 0
      },
      "text/plain": [
       "  0%|          | 0/7460 [00:00<?, ?it/s]"
      ]
     },
     "metadata": {},
     "output_type": "display_data"
    },
    {
     "data": {
      "application/vnd.jupyter.widget-view+json": {
       "model_id": "106be4c1a3924ff78d1c4d545c3d733d",
       "version_major": 2,
       "version_minor": 0
      },
      "text/plain": [
       "  0%|          | 0/441 [00:00<?, ?it/s]"
      ]
     },
     "metadata": {},
     "output_type": "display_data"
    },
    {
     "data": {
      "application/vnd.jupyter.widget-view+json": {
       "model_id": "15528dc08efe4aaf8166f0980e55f767",
       "version_major": 2,
       "version_minor": 0
      },
      "text/plain": [
       "  0%|          | 0/719 [00:00<?, ?it/s]"
      ]
     },
     "metadata": {},
     "output_type": "display_data"
    },
    {
     "name": "stdout",
     "output_type": "stream",
     "text": [
      "Training TF-IDF matrix shape: (7460, 1)\n",
      "Dev TF-IDF matrix shape: (441, 1)\n",
      "Test TF-IDF matrix shape: (719, 1)\n"
     ]
    }
   ],
   "source": [
    "tfidfer = t2t.Tfidfer()\n",
    "indexer = t2t.Indexer()\n",
    "\n",
    "\n",
    "def extract_tfidf_vectors(questions, languages):\n",
    "    vectors = []\n",
    "    for i, (question, lang) in enumerate(tqdm(zip(questions, languages), total=len(questions))):\n",
    "        vector = tfidfer.transform([question], src_lang=lang, output='matrix')[0]\n",
    "        vectors.append(vector)\n",
    "    return np.vstack(vectors)\n",
    "\n",
    "X_train = extract_tfidf_vectors(train_df['text'].tolist(), train_df['language'].tolist())\n",
    "X_dev = extract_tfidf_vectors(dev_df['text'].tolist(), dev_df['language'].tolist())\n",
    "X_test = extract_tfidf_vectors(test_df['text'].tolist(), test_df['language'].tolist())\n",
    "\n",
    "print(f\"Training TF-IDF matrix shape: {X_train.shape}\")\n",
    "print(f\"Dev TF-IDF matrix shape: {X_dev.shape}\")\n",
    "print(f\"Test TF-IDF matrix shape: {X_test.shape}\")\n",
    "\n"
   ]
  },
  {
   "cell_type": "code",
   "execution_count": 6,
   "metadata": {},
   "outputs": [],
   "source": [
    "with open('/home/robin/Research/qtype-eval/scripts/baselines/vectors/tfidf_vectors_train.pkl', 'wb') as v:   # Save TF-IDF features for reuse\n",
    "    pickle.dump(X_train, v)\n",
    "\n",
    "with open('/home/robin/Research/qtype-eval/scripts/baselines/vectors/tfidf_vectors_dev.pkl', 'wb') as v:\n",
    "    pickle.dump(X_dev, v)\n",
    "\n",
    "with open('/home/robin/Research/qtype-eval/scripts/baselines/vectors/tfidf_vectors_test.pkl', 'wb') as v:\n",
    "    pickle.dump(X_test, v)"
   ]
  },
  {
   "cell_type": "code",
   "execution_count": null,
   "metadata": {},
   "outputs": [
    {
     "name": "stdout",
     "output_type": "stream",
     "text": [
      "IDF values saved successfully\n",
      "Token to index mapping saved successfully\n",
      "Could not get feature names: No method to get feature names\n"
     ]
    }
   ],
   "source": [
    "try:\n",
    "    with open('/home/robin/Research/qtype-eval/scripts/baselines/vectors/idf_values.pkl', 'wb') as f:\n",
    "        pickle.dump(tfidfer.idf, f)\n",
    "    print(\"IDF values saved successfully\")\n",
    "except AttributeError:\n",
    "    print(\"Could not access IDF values directly\")\n",
    "\n",
    "# Get tokenizer vocabulary if available\n",
    "try:\n",
    "    tokenizer = t2t.Tokenizer()\n",
    "    vocab = tokenizer.__class__.tokenizer.get_vocab()\n",
    "    token_to_index = {token: idx for token, idx in vocab.items()}\n",
    "    \n",
    "    # Save the token to index mapping\n",
    "    with open('/home/robin/Research/qtype-eval/scripts/baselines/vectors/token_to_index_mapping.pkl', 'wb') as f:\n",
    "        pickle.dump(token_to_index, f)\n",
    "    print(\"Token to index mapping saved successfully\")\n",
    "except (AttributeError, TypeError):\n",
    "    print(\"Could not access tokenizer vocabulary\")\n"
   ]
  },
  {
   "cell_type": "code",
   "execution_count": 8,
   "metadata": {},
   "outputs": [
    {
     "data": {
      "text/html": [],
      "text/plain": [
       "<IPython.core.display.HTML object>"
      ]
     },
     "metadata": {},
     "output_type": "display_data"
    },
    {
     "data": {
      "text/html": [
       " View run <strong style=\"color:#cdcd00\">data-preparation</strong> at: <a href='https://wandb.ai/rokii-ku-leuven/MAIthesis/runs/8y3smy0m' target=\"_blank\">https://wandb.ai/rokii-ku-leuven/MAIthesis/runs/8y3smy0m</a><br> View project at: <a href='https://wandb.ai/rokii-ku-leuven/MAIthesis' target=\"_blank\">https://wandb.ai/rokii-ku-leuven/MAIthesis</a><br>Synced 5 W&B file(s), 0 media file(s), 0 artifact file(s) and 0 other file(s)"
      ],
      "text/plain": [
       "<IPython.core.display.HTML object>"
      ]
     },
     "metadata": {},
     "output_type": "display_data"
    },
    {
     "data": {
      "text/html": [
       "Find logs at: <code>./wandb/run-20250323_152250-8y3smy0m/logs</code>"
      ],
      "text/plain": [
       "<IPython.core.display.HTML object>"
      ]
     },
     "metadata": {},
     "output_type": "display_data"
    }
   ],
   "source": [
    "wandb.finish()"
   ]
  }
 ],
 "metadata": {
  "kernelspec": {
   "display_name": "qtype-eval-pAepV5Z2-py3.12",
   "language": "python",
   "name": "python3"
  },
  "language_info": {
   "codemirror_mode": {
    "name": "ipython",
    "version": 3
   },
   "file_extension": ".py",
   "mimetype": "text/x-python",
   "name": "python",
   "nbconvert_exporter": "python",
   "pygments_lexer": "ipython3",
   "version": "3.12.3"
  }
 },
 "nbformat": 4,
 "nbformat_minor": 2
}
