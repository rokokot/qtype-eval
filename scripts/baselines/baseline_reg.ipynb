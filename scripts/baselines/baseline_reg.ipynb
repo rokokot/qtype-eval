{
 "cells": [
  {
   "cell_type": "markdown",
   "metadata": {},
   "source": [
    "# Complexity Score Prediction Baselines: (S)TF-IDF Baseline Experiments\n",
    "#### Multilingual Question Type Classification and Complexity Prediction\n",
    "\n",
    "In this notebook we will be developing a set of baselines for complexity score prediction using subword TF-IDF vectors generated with the text2text toolkit. \n",
    "\n",
    "##### Author: Robin Kokot\n",
    "##### Date: March 2025\n"
   ]
  },
  {
   "cell_type": "code",
   "execution_count": null,
   "metadata": {},
   "outputs": [],
   "source": [
    "#from google.colab import drive\n",
    "#drive.mount('/content/drive')"
   ]
  },
  {
   "cell_type": "markdown",
   "metadata": {},
   "source": [
    "### Setup and Data Loading"
   ]
  },
  {
   "cell_type": "code",
   "execution_count": 1,
   "metadata": {},
   "outputs": [],
   "source": [
    "import pandas as pd\n",
    "import numpy as np\n",
    "import matplotlib.pyplot as plt\n",
    "import seaborn as sns\n",
    "import pickle\n",
    "import xgboost as xgb\n",
    "from sklearn.metrics import mean_squared_error, mean_absolute_error, r2_score\n",
    "from datasets import load_dataset\n",
    "import wandb\n",
    "import logging\n",
    "import time\n",
    "import os\n",
    "from sklearn.model_selection import GridSearchCV\n",
    "\n",
    "# ==================== Set up displays\n",
    "\n",
    "pd.set_option('display.max_columns', None)\n",
    "pd.set_option('display.max_rows', 20)\n",
    "pd.set_option('display.width', 1000)\n",
    "\n",
    "# ==================== Set up seed constant\n",
    "\n",
    "SEED = 69\n",
    "np.random.seed(SEED)"
   ]
  },
  {
   "cell_type": "code",
   "execution_count": 13,
   "metadata": {},
   "outputs": [],
   "source": [
    "# ==================== Wandb config\n",
    "run = wandb.init(project=\"MAIthesis\", name=\"xgboost-reg-baseline\", tags=[\"baseline\", \"xgboost\", \"question-complexity\", \"regression\", \"tfidf\"],     job_type=\"model-training\")\n",
    "\n",
    "config = wandb.config\n",
    "config.max_depth = 6\n",
    "config.learning_rate = 0.1\n",
    "config.n_estimators = 200\n",
    "config.objective = 'reg:squarederror'\n",
    "config.random_state = 69\n",
    "config.subsample = 0.8\n",
    "config.colsample_bytree = 0.8\n",
    "config.early_stopping_rounds = 20\n",
    "config.eval_metric=['rmse', 'mae']\n",
    "\n",
    "wandb.run.notes = \"Baseline experiments for question complexity prediction using XGBoost regressor on subword TF-IDF vectors\"\n"
   ]
  },
  {
   "cell_type": "code",
   "execution_count": 14,
   "metadata": {},
   "outputs": [
    {
     "name": "stdout",
     "output_type": "stream",
     "text": [
      "Original vs Language-Normalized scores (sample from different languages):\n"
     ]
    },
    {
     "data": {
      "text/html": [
       "<div>\n",
       "<style scoped>\n",
       "    .dataframe tbody tr th:only-of-type {\n",
       "        vertical-align: middle;\n",
       "    }\n",
       "\n",
       "    .dataframe tbody tr th {\n",
       "        vertical-align: top;\n",
       "    }\n",
       "\n",
       "    .dataframe thead th {\n",
       "        text-align: right;\n",
       "    }\n",
       "</style>\n",
       "<table border=\"1\" class=\"dataframe\">\n",
       "  <thead>\n",
       "    <tr style=\"text-align: right;\">\n",
       "      <th></th>\n",
       "      <th>language</th>\n",
       "      <th>complexity_score</th>\n",
       "      <th>lang_norm_complexity_score</th>\n",
       "    </tr>\n",
       "  </thead>\n",
       "  <tbody>\n",
       "    <tr>\n",
       "      <th>0</th>\n",
       "      <td>fi</td>\n",
       "      <td>1.459</td>\n",
       "      <td>0.360751</td>\n",
       "    </tr>\n",
       "    <tr>\n",
       "      <th>1</th>\n",
       "      <td>ru</td>\n",
       "      <td>1.243</td>\n",
       "      <td>0.253591</td>\n",
       "    </tr>\n",
       "    <tr>\n",
       "      <th>2</th>\n",
       "      <td>fi</td>\n",
       "      <td>1.455</td>\n",
       "      <td>0.359693</td>\n",
       "    </tr>\n",
       "    <tr>\n",
       "      <th>3</th>\n",
       "      <td>ko</td>\n",
       "      <td>2.471</td>\n",
       "      <td>0.510456</td>\n",
       "    </tr>\n",
       "    <tr>\n",
       "      <th>4</th>\n",
       "      <td>en</td>\n",
       "      <td>1.986</td>\n",
       "      <td>0.515021</td>\n",
       "    </tr>\n",
       "    <tr>\n",
       "      <th>5</th>\n",
       "      <td>ru</td>\n",
       "      <td>1.307</td>\n",
       "      <td>0.271271</td>\n",
       "    </tr>\n",
       "    <tr>\n",
       "      <th>6</th>\n",
       "      <td>id</td>\n",
       "      <td>2.698</td>\n",
       "      <td>0.624780</td>\n",
       "    </tr>\n",
       "    <tr>\n",
       "      <th>7</th>\n",
       "      <td>ko</td>\n",
       "      <td>2.310</td>\n",
       "      <td>0.467292</td>\n",
       "    </tr>\n",
       "    <tr>\n",
       "      <th>8</th>\n",
       "      <td>ja</td>\n",
       "      <td>1.889</td>\n",
       "      <td>0.499308</td>\n",
       "    </tr>\n",
       "    <tr>\n",
       "      <th>9</th>\n",
       "      <td>en</td>\n",
       "      <td>2.416</td>\n",
       "      <td>0.656983</td>\n",
       "    </tr>\n",
       "    <tr>\n",
       "      <th>10</th>\n",
       "      <td>ar</td>\n",
       "      <td>1.475</td>\n",
       "      <td>0.416025</td>\n",
       "    </tr>\n",
       "    <tr>\n",
       "      <th>11</th>\n",
       "      <td>id</td>\n",
       "      <td>2.274</td>\n",
       "      <td>0.500586</td>\n",
       "    </tr>\n",
       "    <tr>\n",
       "      <th>12</th>\n",
       "      <td>ja</td>\n",
       "      <td>1.357</td>\n",
       "      <td>0.315353</td>\n",
       "    </tr>\n",
       "    <tr>\n",
       "      <th>13</th>\n",
       "      <td>ar</td>\n",
       "      <td>1.377</td>\n",
       "      <td>0.385824</td>\n",
       "    </tr>\n",
       "  </tbody>\n",
       "</table>\n",
       "</div>"
      ],
      "text/plain": [
       "   language  complexity_score  lang_norm_complexity_score\n",
       "0        fi             1.459                    0.360751\n",
       "1        ru             1.243                    0.253591\n",
       "2        fi             1.455                    0.359693\n",
       "3        ko             2.471                    0.510456\n",
       "4        en             1.986                    0.515021\n",
       "5        ru             1.307                    0.271271\n",
       "6        id             2.698                    0.624780\n",
       "7        ko             2.310                    0.467292\n",
       "8        ja             1.889                    0.499308\n",
       "9        en             2.416                    0.656983\n",
       "10       ar             1.475                    0.416025\n",
       "11       id             2.274                    0.500586\n",
       "12       ja             1.357                    0.315353\n",
       "13       ar             1.377                    0.385824"
      ]
     },
     "metadata": {},
     "output_type": "display_data"
    }
   ],
   "source": [
    "# ==================== Dataset loading and label config\n",
    "dataset = load_dataset(\"rokokot/question-type-and-complexity-v2\")\n",
    "train = pd.DataFrame(dataset['train'])\n",
    "test = pd.DataFrame(dataset['test'])\n",
    "dev = pd.DataFrame(dataset['validation'])\n",
    "\n",
    "# ==================== Normalize total complexity scores\n",
    "def normalize_complexity_scores(df):    # normalize total scores, per language\n",
    "  df['lang_norm_complexity_score'] = 0.0\n",
    "  for language, group in df.groupby('language'):\n",
    "    min_score = group['complexity_score'].min()\n",
    "    max_score = group['complexity_score'].max()\n",
    "    if min_score == max_score:\n",
    "      df.loc[df['language'] == language, 'lang_norm_complexity_score'] = 0.5\n",
    "    else:\n",
    "      normalized_scores = (group['complexity_score'] - min_score) / (max_score - min_score)\n",
    "      df.loc[df['language'] == language, 'lang_norm_complexity_score'] = normalized_scores.values\n",
    "  return df\n",
    "\n",
    "train_df = normalize_complexity_scores(train)\n",
    "test_df = normalize_complexity_scores(test)\n",
    "dev_df = normalize_complexity_scores(dev)\n",
    "\n",
    "print(\"Original vs Language-Normalized scores (sample from different languages):\")\n",
    "sample_df = train_df.groupby('language').head(2).reset_index(drop=True)\n",
    "\n",
    "display(sample_df[['language', 'complexity_score', 'lang_norm_complexity_score']])\n"
   ]
  },
  {
   "cell_type": "code",
   "execution_count": 15,
   "metadata": {},
   "outputs": [
    {
     "name": "stdout",
     "output_type": "stream",
     "text": [
      "Train target distribution: mean=0.3855, std=0.1693, min=0.0000, max=1.0000\n",
      "Test target distribution: mean=0.4294, std=0.2127, min=0.0000, max=1.0000\n",
      "Validation target distribution: mean=0.4466, std=0.2359, min=0.0000, max=1.0000\n"
     ]
    }
   ],
   "source": [
    "y_train = np.array(train_df['lang_norm_complexity_score'])\n",
    "y_dev = np.array(dev_df['lang_norm_complexity_score'])\n",
    "y_test = np.array(test_df['lang_norm_complexity_score'])\n",
    "\n",
    "print(f\"Train target distribution: mean={y_train.mean():.4f}, std={y_train.std():.4f}, min={y_train.min():.4f}, max={y_train.max():.4f}\")\n",
    "print(f\"Test target distribution: mean={y_test.mean():.4f}, std={y_test.std():.4f}, min={y_test.min():.4f}, max={y_test.max():.4f}\")\n",
    "print(f\"Validation target distribution: mean={y_dev.mean():.4f}, std={y_dev.std():.4f}, min={y_dev.min():.4f}, max={y_dev.max():.4f}\")\n"
   ]
  },
  {
   "cell_type": "code",
   "execution_count": 16,
   "metadata": {},
   "outputs": [
    {
     "name": "stdout",
     "output_type": "stream",
     "text": [
      "\n",
      "Loading TF-IDF vectors...\n",
      "\n",
      "Checking shapes of features and targets:\n",
      "Train - Features: 7460, Targets: 7460\n",
      "Test - Features: 719, Targets: 719\n",
      "Validation - Features: 441, Targets: 441\n"
     ]
    }
   ],
   "source": [
    "\n",
    "# ==================== TFIDF vectors loading\n",
    "print(\"\\nLoading TF-IDF vectors...\")\n",
    "train_vectors = \"/home/robin/Research/qtype-eval/scripts/baselines/vectors/tfidf_vectors_train.pkl\"\n",
    "dev_vectors = \"/home/robin/Research/qtype-eval/scripts/baselines/vectors/tfidf_vectors_dev.pkl\"\n",
    "test_vectors = \"/home/robin/Research/qtype-eval/scripts/baselines/vectors/tfidf_vectors_test.pkl\"\n",
    "\n",
    "with open(train_vectors, 'rb') as v:\n",
    "    X_train = pickle.load(v)\n",
    "with open(dev_vectors, 'rb') as v:\n",
    "    X_dev = pickle.load(v)\n",
    "with open(test_vectors, 'rb') as v:\n",
    "    X_test = pickle.load(v)\n",
    "\n",
    "print(\"\\nChecking shapes of features and targets:\")\n",
    "print(f\"Train - Features: {X_train.shape[0]}, Targets: {y_train.shape[0]}\")\n",
    "print(f\"Test - Features: {X_test.shape[0]}, Targets: {y_test.shape[0]}\")\n",
    "print(f\"Validation - Features: {X_dev.shape[0]}, Targets: {y_dev.shape[0]}\")\n"
   ]
  },
  {
   "cell_type": "code",
   "execution_count": 17,
   "metadata": {},
   "outputs": [
    {
     "name": "stdout",
     "output_type": "stream",
     "text": [
      "X_train type: <class 'numpy.ndarray'>\n",
      "X_train shape: (7460, 1)\n"
     ]
    }
   ],
   "source": [
    "print(\"X_train type:\", type(X_train))\n",
    "if hasattr(X_train, 'shape'):\n",
    "    print(\"X_train shape:\", X_train.shape)\n",
    "elif isinstance(X_train, list):\n",
    "    print(\"X_train is a list of length:\", len(X_train))\n",
    "    print(\"First element type:\", type(X_train[0]))\n",
    "\n",
    "import numpy as np\n",
    "from scipy.sparse import vstack\n",
    "\n",
    "# Extract sparse matrices from the array and stack them\n",
    "sparse_matrices = [matrix[0] for matrix in X_train]  # Assuming each row has a single element\n",
    "X_train_stacked = vstack(sparse_matrices)\n",
    "\n",
    "sparse_matrices = [matrix[0] for matrix in X_dev]  # Assuming each row has a single element\n",
    "X_dev_stacked = vstack(sparse_matrices)\n",
    "\n",
    "# Same for test data\n",
    "sparse_matrices_test = [matrix[0] for matrix in X_test]\n",
    "X_test_stacked = vstack(sparse_matrices_test)"
   ]
  },
  {
   "cell_type": "code",
   "execution_count": 10,
   "metadata": {},
   "outputs": [
    {
     "data": {
      "image/png": "[encoded data removed]",
      "text/plain": [
       "<Figure size 1000x600 with 1 Axes>"
      ]
     },
     "metadata": {},
     "output_type": "display_data"
    }
   ],
   "source": [
    "# ==================== Visualization of complexity score distribution\n",
    "plt.figure(figsize=(10, 6))\n",
    "plt.hist(y_train, bins=30, alpha=0.7, label='Train')\n",
    "plt.hist(y_dev, bins=30, alpha=0.7, label='Dev')\n",
    "plt.hist(y_test, bins=30, alpha=0.7, label='Test')\n",
    "plt.xlabel('Complexity Score')\n",
    "plt.ylabel('Frequency')\n",
    "plt.title('Distribution of Complexity Scores')\n",
    "plt.legend()\n",
    "plt.tight_layout()\n",
    "wandb.log({\"complexity_distribution\": wandb.Image(plt)})"
   ]
  },
  {
   "cell_type": "code",
   "execution_count": 20,
   "metadata": {},
   "outputs": [],
   "source": [
    "# ==================== XGBoost Training and Evaluation\n",
    "xgb_reg = xgb.XGBRegressor(\n",
    "    max_depth=config.max_depth,\n",
    "    learning_rate=config.learning_rate,\n",
    "    n_estimators=config.n_estimators,\n",
    "    objective=config.objective,\n",
    "    random_state=config.random_state,\n",
    "    subsample=config.subsample,\n",
    "    eval_metric=['rmse', 'mae'],\n",
    "    colsample_bytree=config.colsample_bytree,\n",
    "    early_stopping_rounds=config.early_stopping_rounds\n",
    ")\n",
    "\n",
    "wandb.config.update({\n",
    "    \"model_type\": \"XGBoost\",\n",
    "    \"feature_type\": \"TF-IDF\",\n",
    "    \"train_samples\": X_train_stacked.shape[0],\n",
    "    \"test_samples\": X_test_stacked.shape[0],\n",
    "    \"dev_samples\": X_dev_stacked.shape[0],\n",
    "    \"feature_dim\": X_train_stacked.shape[1]\n",
    "})"
   ]
  },
  {
   "cell_type": "code",
   "execution_count": 21,
   "metadata": {},
   "outputs": [
    {
     "name": "stdout",
     "output_type": "stream",
     "text": [
      "[0]\tvalidation_0-rmse:0.16392\tvalidation_0-mae:0.13164\tvalidation_1-rmse:0.23759\tvalidation_1-mae:0.19293\n"
     ]
    },
    {
     "ename": "KeyboardInterrupt",
     "evalue": "",
     "output_type": "error",
     "traceback": [
      "\u001b[31m---------------------------------------------------------------------------\u001b[39m",
      "\u001b[31mKeyboardInterrupt\u001b[39m                         Traceback (most recent call last)",
      "\u001b[36mCell\u001b[39m\u001b[36m \u001b[39m\u001b[32mIn[21]\u001b[39m\u001b[32m, line 3\u001b[39m\n\u001b[32m      1\u001b[39m start_time = time.time()\n\u001b[32m----> \u001b[39m\u001b[32m3\u001b[39m \u001b[43mxgb_reg\u001b[49m\u001b[43m.\u001b[49m\u001b[43mfit\u001b[49m\u001b[43m(\u001b[49m\u001b[43mX_train_stacked\u001b[49m\u001b[43m,\u001b[49m\u001b[43m \u001b[49m\u001b[43my_train\u001b[49m\u001b[43m,\u001b[49m\u001b[43m \u001b[49m\u001b[43meval_set\u001b[49m\u001b[43m=\u001b[49m\u001b[43m[\u001b[49m\u001b[43m(\u001b[49m\u001b[43mX_train_stacked\u001b[49m\u001b[43m,\u001b[49m\u001b[43m \u001b[49m\u001b[43my_train\u001b[49m\u001b[43m)\u001b[49m\u001b[43m,\u001b[49m\u001b[43m \u001b[49m\u001b[43m(\u001b[49m\u001b[43mX_dev_stacked\u001b[49m\u001b[43m,\u001b[49m\u001b[43m \u001b[49m\u001b[43my_dev\u001b[49m\u001b[43m)\u001b[49m\u001b[43m]\u001b[49m\u001b[43m,\u001b[49m\u001b[43mverbose\u001b[49m\u001b[43m=\u001b[49m\u001b[32;43m100\u001b[39;49m\u001b[43m)\u001b[49m\n\u001b[32m      5\u001b[39m training_time = time.time() - start_time\n\u001b[32m      6\u001b[39m \u001b[38;5;28mprint\u001b[39m(\u001b[33mf\u001b[39m\u001b[33m\"\u001b[39m\u001b[33mtraining took \u001b[39m\u001b[38;5;132;01m{\u001b[39;00mtraining_time\u001b[38;5;132;01m:\u001b[39;00m\u001b[33m.2f\u001b[39m\u001b[38;5;132;01m}\u001b[39;00m\u001b[33m seconds\u001b[39m\u001b[33m\"\u001b[39m)\n",
      "\u001b[36mFile \u001b[39m\u001b[32m~/.cache/pypoetry/virtualenvs/qtype-eval-pAepV5Z2-py3.12/lib/python3.12/site-packages/xgboost/core.py:729\u001b[39m, in \u001b[36mrequire_keyword_args.<locals>.throw_if.<locals>.inner_f\u001b[39m\u001b[34m(*args, **kwargs)\u001b[39m\n\u001b[32m    727\u001b[39m \u001b[38;5;28;01mfor\u001b[39;00m k, arg \u001b[38;5;129;01min\u001b[39;00m \u001b[38;5;28mzip\u001b[39m(sig.parameters, args):\n\u001b[32m    728\u001b[39m     kwargs[k] = arg\n\u001b[32m--> \u001b[39m\u001b[32m729\u001b[39m \u001b[38;5;28;01mreturn\u001b[39;00m \u001b[43mfunc\u001b[49m\u001b[43m(\u001b[49m\u001b[43m*\u001b[49m\u001b[43m*\u001b[49m\u001b[43mkwargs\u001b[49m\u001b[43m)\u001b[49m\n",
      "\u001b[36mFile \u001b[39m\u001b[32m~/.cache/pypoetry/virtualenvs/qtype-eval-pAepV5Z2-py3.12/lib/python3.12/site-packages/xgboost/sklearn.py:1247\u001b[39m, in \u001b[36mXGBModel.fit\u001b[39m\u001b[34m(self, X, y, sample_weight, base_margin, eval_set, verbose, xgb_model, sample_weight_eval_set, base_margin_eval_set, feature_weights)\u001b[39m\n\u001b[32m   1244\u001b[39m \u001b[38;5;28;01melse\u001b[39;00m:\n\u001b[32m   1245\u001b[39m     obj = \u001b[38;5;28;01mNone\u001b[39;00m\n\u001b[32m-> \u001b[39m\u001b[32m1247\u001b[39m \u001b[38;5;28mself\u001b[39m._Booster = \u001b[43mtrain\u001b[49m\u001b[43m(\u001b[49m\n\u001b[32m   1248\u001b[39m \u001b[43m    \u001b[49m\u001b[43mparams\u001b[49m\u001b[43m,\u001b[49m\n\u001b[32m   1249\u001b[39m \u001b[43m    \u001b[49m\u001b[43mtrain_dmatrix\u001b[49m\u001b[43m,\u001b[49m\n\u001b[32m   1250\u001b[39m \u001b[43m    \u001b[49m\u001b[38;5;28;43mself\u001b[39;49m\u001b[43m.\u001b[49m\u001b[43mget_num_boosting_rounds\u001b[49m\u001b[43m(\u001b[49m\u001b[43m)\u001b[49m\u001b[43m,\u001b[49m\n\u001b[32m   1251\u001b[39m \u001b[43m    \u001b[49m\u001b[43mevals\u001b[49m\u001b[43m=\u001b[49m\u001b[43mevals\u001b[49m\u001b[43m,\u001b[49m\n\u001b[32m   1252\u001b[39m \u001b[43m    \u001b[49m\u001b[43mearly_stopping_rounds\u001b[49m\u001b[43m=\u001b[49m\u001b[38;5;28;43mself\u001b[39;49m\u001b[43m.\u001b[49m\u001b[43mearly_stopping_rounds\u001b[49m\u001b[43m,\u001b[49m\n\u001b[32m   1253\u001b[39m \u001b[43m    \u001b[49m\u001b[43mevals_result\u001b[49m\u001b[43m=\u001b[49m\u001b[43mevals_result\u001b[49m\u001b[43m,\u001b[49m\n\u001b[32m   1254\u001b[39m \u001b[43m    \u001b[49m\u001b[43mobj\u001b[49m\u001b[43m=\u001b[49m\u001b[43mobj\u001b[49m\u001b[43m,\u001b[49m\n\u001b[32m   1255\u001b[39m \u001b[43m    \u001b[49m\u001b[43mcustom_metric\u001b[49m\u001b[43m=\u001b[49m\u001b[43mmetric\u001b[49m\u001b[43m,\u001b[49m\n\u001b[32m   1256\u001b[39m \u001b[43m    \u001b[49m\u001b[43mverbose_eval\u001b[49m\u001b[43m=\u001b[49m\u001b[43mverbose\u001b[49m\u001b[43m,\u001b[49m\n\u001b[32m   1257\u001b[39m \u001b[43m    \u001b[49m\u001b[43mxgb_model\u001b[49m\u001b[43m=\u001b[49m\u001b[43mmodel\u001b[49m\u001b[43m,\u001b[49m\n\u001b[32m   1258\u001b[39m \u001b[43m    \u001b[49m\u001b[43mcallbacks\u001b[49m\u001b[43m=\u001b[49m\u001b[38;5;28;43mself\u001b[39;49m\u001b[43m.\u001b[49m\u001b[43mcallbacks\u001b[49m\u001b[43m,\u001b[49m\n\u001b[32m   1259\u001b[39m \u001b[43m\u001b[49m\u001b[43m)\u001b[49m\n\u001b[32m   1261\u001b[39m \u001b[38;5;28mself\u001b[39m._set_evaluation_result(evals_result)\n\u001b[32m   1262\u001b[39m \u001b[38;5;28;01mreturn\u001b[39;00m \u001b[38;5;28mself\u001b[39m\n",
      "\u001b[36mFile \u001b[39m\u001b[32m~/.cache/pypoetry/virtualenvs/qtype-eval-pAepV5Z2-py3.12/lib/python3.12/site-packages/xgboost/core.py:729\u001b[39m, in \u001b[36mrequire_keyword_args.<locals>.throw_if.<locals>.inner_f\u001b[39m\u001b[34m(*args, **kwargs)\u001b[39m\n\u001b[32m    727\u001b[39m \u001b[38;5;28;01mfor\u001b[39;00m k, arg \u001b[38;5;129;01min\u001b[39;00m \u001b[38;5;28mzip\u001b[39m(sig.parameters, args):\n\u001b[32m    728\u001b[39m     kwargs[k] = arg\n\u001b[32m--> \u001b[39m\u001b[32m729\u001b[39m \u001b[38;5;28;01mreturn\u001b[39;00m \u001b[43mfunc\u001b[49m\u001b[43m(\u001b[49m\u001b[43m*\u001b[49m\u001b[43m*\u001b[49m\u001b[43mkwargs\u001b[49m\u001b[43m)\u001b[49m\n",
      "\u001b[36mFile \u001b[39m\u001b[32m~/.cache/pypoetry/virtualenvs/qtype-eval-pAepV5Z2-py3.12/lib/python3.12/site-packages/xgboost/training.py:184\u001b[39m, in \u001b[36mtrain\u001b[39m\u001b[34m(params, dtrain, num_boost_round, evals, obj, maximize, early_stopping_rounds, evals_result, verbose_eval, xgb_model, callbacks, custom_metric)\u001b[39m\n\u001b[32m    182\u001b[39m         \u001b[38;5;28;01mbreak\u001b[39;00m\n\u001b[32m    183\u001b[39m     bst.update(dtrain, iteration=i, fobj=obj)\n\u001b[32m--> \u001b[39m\u001b[32m184\u001b[39m     \u001b[38;5;28;01mif\u001b[39;00m \u001b[43mcb_container\u001b[49m\u001b[43m.\u001b[49m\u001b[43mafter_iteration\u001b[49m\u001b[43m(\u001b[49m\u001b[43mbst\u001b[49m\u001b[43m,\u001b[49m\u001b[43m \u001b[49m\u001b[43mi\u001b[49m\u001b[43m,\u001b[49m\u001b[43m \u001b[49m\u001b[43mdtrain\u001b[49m\u001b[43m,\u001b[49m\u001b[43m \u001b[49m\u001b[43mevals\u001b[49m\u001b[43m)\u001b[49m:\n\u001b[32m    185\u001b[39m         \u001b[38;5;28;01mbreak\u001b[39;00m\n\u001b[32m    187\u001b[39m bst = cb_container.after_training(bst)\n",
      "\u001b[36mFile \u001b[39m\u001b[32m~/.cache/pypoetry/virtualenvs/qtype-eval-pAepV5Z2-py3.12/lib/python3.12/site-packages/xgboost/callback.py:264\u001b[39m, in \u001b[36mCallbackContainer.after_iteration\u001b[39m\u001b[34m(self, model, epoch, dtrain, evals)\u001b[39m\n\u001b[32m    262\u001b[39m \u001b[38;5;28;01mfor\u001b[39;00m _, name \u001b[38;5;129;01min\u001b[39;00m evals:\n\u001b[32m    263\u001b[39m     \u001b[38;5;28;01massert\u001b[39;00m name.find(\u001b[33m\"\u001b[39m\u001b[33m-\u001b[39m\u001b[33m\"\u001b[39m) == -\u001b[32m1\u001b[39m, \u001b[33m\"\u001b[39m\u001b[33mDataset name should not contain `-`\u001b[39m\u001b[33m\"\u001b[39m\n\u001b[32m--> \u001b[39m\u001b[32m264\u001b[39m score: \u001b[38;5;28mstr\u001b[39m = \u001b[43mmodel\u001b[49m\u001b[43m.\u001b[49m\u001b[43meval_set\u001b[49m\u001b[43m(\u001b[49m\u001b[43mevals\u001b[49m\u001b[43m,\u001b[49m\u001b[43m \u001b[49m\u001b[43mepoch\u001b[49m\u001b[43m,\u001b[49m\u001b[43m \u001b[49m\u001b[38;5;28;43mself\u001b[39;49m\u001b[43m.\u001b[49m\u001b[43mmetric\u001b[49m\u001b[43m,\u001b[49m\u001b[43m \u001b[49m\u001b[38;5;28;43mself\u001b[39;49m\u001b[43m.\u001b[49m\u001b[43m_output_margin\u001b[49m\u001b[43m)\u001b[49m\n\u001b[32m    265\u001b[39m metric_score = _parse_eval_str(score)\n\u001b[32m    266\u001b[39m \u001b[38;5;28mself\u001b[39m._update_history(metric_score, epoch)\n",
      "\u001b[36mFile \u001b[39m\u001b[32m~/.cache/pypoetry/virtualenvs/qtype-eval-pAepV5Z2-py3.12/lib/python3.12/site-packages/xgboost/core.py:2353\u001b[39m, in \u001b[36mBooster.eval_set\u001b[39m\u001b[34m(self, evals, iteration, feval, output_margin)\u001b[39m\n\u001b[32m   2350\u001b[39m evnames = c_array(ctypes.c_char_p, [c_str(d[\u001b[32m1\u001b[39m]) \u001b[38;5;28;01mfor\u001b[39;00m d \u001b[38;5;129;01min\u001b[39;00m evals])\n\u001b[32m   2351\u001b[39m msg = ctypes.c_char_p()\n\u001b[32m   2352\u001b[39m _check_call(\n\u001b[32m-> \u001b[39m\u001b[32m2353\u001b[39m     \u001b[43m_LIB\u001b[49m\u001b[43m.\u001b[49m\u001b[43mXGBoosterEvalOneIter\u001b[49m\u001b[43m(\u001b[49m\n\u001b[32m   2354\u001b[39m \u001b[43m        \u001b[49m\u001b[38;5;28;43mself\u001b[39;49m\u001b[43m.\u001b[49m\u001b[43mhandle\u001b[49m\u001b[43m,\u001b[49m\n\u001b[32m   2355\u001b[39m \u001b[43m        \u001b[49m\u001b[43mctypes\u001b[49m\u001b[43m.\u001b[49m\u001b[43mc_int\u001b[49m\u001b[43m(\u001b[49m\u001b[43miteration\u001b[49m\u001b[43m)\u001b[49m\u001b[43m,\u001b[49m\n\u001b[32m   2356\u001b[39m \u001b[43m        \u001b[49m\u001b[43mdmats\u001b[49m\u001b[43m,\u001b[49m\n\u001b[32m   2357\u001b[39m \u001b[43m        \u001b[49m\u001b[43mevnames\u001b[49m\u001b[43m,\u001b[49m\n\u001b[32m   2358\u001b[39m \u001b[43m        \u001b[49m\u001b[43mc_bst_ulong\u001b[49m\u001b[43m(\u001b[49m\u001b[38;5;28;43mlen\u001b[39;49m\u001b[43m(\u001b[49m\u001b[43mevals\u001b[49m\u001b[43m)\u001b[49m\u001b[43m)\u001b[49m\u001b[43m,\u001b[49m\n\u001b[32m   2359\u001b[39m \u001b[43m        \u001b[49m\u001b[43mctypes\u001b[49m\u001b[43m.\u001b[49m\u001b[43mbyref\u001b[49m\u001b[43m(\u001b[49m\u001b[43mmsg\u001b[49m\u001b[43m)\u001b[49m\u001b[43m,\u001b[49m\n\u001b[32m   2360\u001b[39m \u001b[43m    \u001b[49m\u001b[43m)\u001b[49m\n\u001b[32m   2361\u001b[39m )\n\u001b[32m   2362\u001b[39m \u001b[38;5;28;01massert\u001b[39;00m msg.value \u001b[38;5;129;01mis\u001b[39;00m \u001b[38;5;129;01mnot\u001b[39;00m \u001b[38;5;28;01mNone\u001b[39;00m\n\u001b[32m   2363\u001b[39m res = msg.value.decode()  \u001b[38;5;66;03m# pylint: disable=no-member\u001b[39;00m\n",
      "\u001b[31mKeyboardInterrupt\u001b[39m: "
     ]
    }
   ],
   "source": [
    "start_time = time.time()\n",
    "\n",
    "xgb_reg.fit(X_train_stacked, y_train, eval_set=[(X_train_stacked, y_train), (X_dev_stacked, y_dev)],verbose=100)\n",
    "\n",
    "training_time = time.time() - start_time\n",
    "print(f\"training took {training_time:.2f} seconds\")\n",
    "wandb.log({\"training_time\": training_time})"
   ]
  },
  {
   "cell_type": "code",
   "execution_count": null,
   "metadata": {},
   "outputs": [],
   "source": [
    "# ==================== Model Evaluation\n",
    "print(\"\\nEvaluating model on development set...\")\n",
    "y_pred_dev = xgb_reg.predict(X_dev)\n",
    "\n",
    "rmse_dev = np.sqrt(mean_squared_error(y_dev, y_pred_dev))\n",
    "mae_dev = mean_absolute_error(y_dev, y_pred_dev)\n",
    "r2_dev = r2_score(y_dev, y_pred_dev)\n",
    "\n",
    "print(f\"Dev Set: RMSE = {rmse_dev:.4f}, MAE = {mae_dev:.4f}, R² = {r2_dev:.4f}\")\n",
    "wandb.log({\"dev_rmse\": rmse_dev, \"dev_mae\": mae_dev, \"dev_r2\": r2_dev})\n",
    "\n",
    "plt.figure(figsize=(8, 8))\n",
    "plt.scatter(y_dev, y_pred_dev, alpha=0.5)\n",
    "plt.plot([y_dev.min(), y_dev.max()], [y_dev.min(), y_dev.max()], 'r--')\n",
    "plt.xlabel('Actual Complexity')\n",
    "plt.ylabel('Predicted Complexity')\n",
    "plt.title('Predicted vs Actual Complexity (Dev Set)')\n",
    "plt.tight_layout()\n",
    "wandb.log({\"dev_predictions_scatter\": wandb.Image(plt)})\n",
    "\n",
    "plt.figure(figsize=(8, 6))\n",
    "residuals = y_pred_dev - y_dev\n",
    "plt.scatter(y_pred_dev, residuals, alpha=0.5)\n",
    "plt.axhline(y=0, color='r', linestyle='--')\n",
    "plt.xlabel('Predicted Complexity')\n",
    "plt.ylabel('Residuals')\n",
    "plt.title('Residual Plot (Dev Set)')\n",
    "plt.tight_layout()\n",
    "wandb.log({\"dev_residuals\": wandb.Image(plt)})"
   ]
  },
  {
   "cell_type": "code",
   "execution_count": null,
   "metadata": {},
   "outputs": [],
   "source": [
    "# ==================== Evaluating on test set\n",
    "print(\"\\nEvaluating model on test set...\")\n",
    "y_pred_test = xgb_reg.predict(X_test)\n",
    "\n",
    "rmse_test = np.sqrt(mean_squared_error(y_test, y_pred_test))\n",
    "mae_test = mean_absolute_error(y_test, y_pred_test)\n",
    "r2_test = r2_score(y_test, y_pred_test)\n",
    "\n",
    "print(f\"Test Set: RMSE = {rmse_test:.4f}, MAE = {mae_test:.4f}, R² = {r2_test:.4f}\")\n",
    "wandb.log({\"test_rmse\": rmse_test, \"test_mae\": mae_test, \"test_r2\": r2_test})\n",
    "\n",
    "plt.figure(figsize=(8, 8))\n",
    "plt.scatter(y_test, y_pred_test, alpha=0.5)\n",
    "plt.plot([y_test.min(), y_test.max()], [y_test.min(), y_test.max()], 'r--')\n",
    "plt.xlabel('Actual Complexity')\n",
    "plt.ylabel('Predicted Complexity')\n",
    "plt.title('Predicted vs Actual Complexity (Test Set)')\n",
    "plt.tight_layout()\n",
    "wandb.log({\"test_predictions_scatter\": wandb.Image(plt)})\n",
    "\n",
    "plt.figure(figsize=(8, 6))\n",
    "residuals = y_pred_test - y_test\n",
    "plt.scatter(y_pred_test, residuals, alpha=0.5)\n",
    "plt.axhline(y=0, color='r', linestyle='--')\n",
    "plt.xlabel('Predicted Complexity')\n",
    "plt.ylabel('Residuals')\n",
    "plt.title('Residual Plot (Test Set)')\n",
    "plt.tight_layout()\n",
    "wandb.log({\"test_residuals\": wandb.Image(plt)})\n"
   ]
  },
  {
   "cell_type": "code",
   "execution_count": null,
   "metadata": {},
   "outputs": [],
   "source": [
    "# ==================== Feature Importance Analysis\n",
    "print(\"\\nAnalyzing feature importance...\")\n",
    "importance = xgb_reg.feature_importances_\n",
    "feature_importance_df = pd.DataFrame({\n",
    "    'feature_index': range(len(importance)),\n",
    "    'importance': importance\n",
    "}).sort_values('importance', ascending=False)\n",
    "\n",
    "top_features = feature_importance_df.head(20)\n",
    "print(\"Top 20 important features:\")\n",
    "print(top_features)\n",
    "\n",
    "plt.figure(figsize=(10, 6))\n",
    "plt.bar(range(20), top_features['importance'])\n",
    "plt.xlabel('Feature Index')\n",
    "plt.ylabel('Importance')\n",
    "plt.title('Top 20 Important Features')\n",
    "plt.tight_layout()\n",
    "wandb.log({\"feature_importance\": wandb.Image(plt)})\n",
    "wandb.log({\"feature_importance_table\": wandb.Table(\n",
    "    data=[[int(idx), float(imp)] for idx, imp in zip(top_features['feature_index'], top_features['importance'])],\n",
    "    columns=[\"feature_index\", \"importance\"])\n",
    "})"
   ]
  },
  {
   "cell_type": "code",
   "execution_count": null,
   "metadata": {},
   "outputs": [],
   "source": [
    "# ==================== Save Model\n",
    "model_path = 'xgboost_regression_baseline_model.json'\n",
    "xgb_reg.save_model(model_path)\n",
    "wandb.save(model_path)"
   ]
  },
  {
   "cell_type": "code",
   "execution_count": null,
   "metadata": {},
   "outputs": [],
   "source": [
    "# add analysis by language"
   ]
  },
  {
   "cell_type": "code",
   "execution_count": null,
   "metadata": {},
   "outputs": [],
   "source": [
    "# plot roc and learning curves"
   ]
  },
  {
   "cell_type": "code",
   "execution_count": null,
   "metadata": {},
   "outputs": [],
   "source": [
    "# add hyperparameter tuning"
   ]
  },
  {
   "cell_type": "code",
   "execution_count": null,
   "metadata": {},
   "outputs": [],
   "source": [
    "wandb.finish()"
   ]
  }
 ],
 "metadata": {
  "kernelspec": {
   "display_name": "qtype-eval-pAepV5Z2-py3.12",
   "language": "python",
   "name": "python3"
  },
  "language_info": {
   "codemirror_mode": {
    "name": "ipython",
    "version": 3
   },
   "file_extension": ".py",
   "mimetype": "text/x-python",
   "name": "python",
   "nbconvert_exporter": "python",
   "pygments_lexer": "ipython3",
   "version": "3.12.3"
  }
 },
 "nbformat": 4,
 "nbformat_minor": 2
}
