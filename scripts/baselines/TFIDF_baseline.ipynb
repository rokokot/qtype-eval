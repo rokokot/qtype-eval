{
 "cells": [
  {
   "cell_type": "markdown",
   "metadata": {},
   "source": [
    "# Multilingual Question Type Classification and Complexity Prediction: (S)TF-IDF Baseline Experiments\n",
    "\n",
    "##### Author: Robin Kokot\n",
    "##### Date: March 2025\n"
   ]
  },
  {
   "cell_type": "markdown",
   "metadata": {},
   "source": [
    "# Section A: Setup and Data Loading"
   ]
  },
  {
   "cell_type": "code",
   "execution_count": null,
   "metadata": {},
   "outputs": [],
   "source": [
    "import numpy as np\n",
    "import pandas as pd\n",
    "import matplotlib.pyplot as plt\n",
    "import seaborn as sns\n",
    "import text2text as t2t\n",
    "import xgboost as xgb\n",
    "from sklearn.model_selection import train_test_split, GridSearchCV, cross_val_score, StratifiedKFold, KFold\n",
    "from sklearn.metrics import accuracy_score, f1_score, confusion_matrix, mean_squared_error, mean_absolute_error\n",
    "from sklearn.preprocessing import StandardScaler\n",
    "import warnings\n",
    "import pickle\n",
    "import os\n",
    "from scipy.stats import pearsonr\n",
    "from tqdm.notebook import tqdm\n",
    "\n",
    "# ==================== Set up displays\n",
    "\n",
    "pd.set_option('display.max_columns', None)\n",
    "pd.set_option('dispaly.max_rows', 20)\n",
    "pd.set_option('display.width', 1000)\n",
    "\n",
    "#==================== Set up seed constant\n",
    "\n",
    "SEED = 69\n",
    "np.random.seed(SEED)"
   ]
  },
  {
   "cell_type": "code",
   "execution_count": null,
   "metadata": {},
   "outputs": [],
   "source": [
    "train_data = pd.read_csv('baseline_data/tydi_all_combined.csv')\n",
    "dev_data = pd.read_csv('baseline_data/all_dev.csv')\n",
    "\n",
    "print(f' shape of train data: {train_data.shape}')\n",
    "print(f' shape of dev data: {dev_data.shape}')\n",
    "\n",
    "for col in train_data.columns:\n",
    "  print(f' - {col}: {train_data[col].dtype}')  # shows data type of each column in the split\n",
    "for col in dev_data.columns:\n",
    "  print(f' - {col}: {dev_data[col].dtype}')\n",
    "\n",
    "print('sample of train')\n",
    "train_data.head()\n",
    "print('sample of dev')\n",
    "dev_data.head()"
   ]
  },
  {
   "cell_type": "markdown",
   "metadata": {},
   "source": [
    "# Section B: Exploring the Data"
   ]
  },
  {
   "cell_type": "markdown",
   "metadata": {},
   "source": []
  },
  {
   "cell_type": "code",
   "execution_count": null,
   "metadata": {},
   "outputs": [],
   "source": []
  },
  {
   "cell_type": "code",
   "execution_count": null,
   "metadata": {},
   "outputs": [],
   "source": []
  },
  {
   "cell_type": "markdown",
   "metadata": {},
   "source": [
    "# Section C: Preprocessing"
   ]
  },
  {
   "cell_type": "markdown",
   "metadata": {},
   "source": []
  },
  {
   "cell_type": "code",
   "execution_count": null,
   "metadata": {},
   "outputs": [],
   "source": [
    "# ==================== Define a set of features to use in the models\n",
    "\n",
    "linguistic_features = ['avg_links_len', 'avg_max_depth', 'avg_subordinate_chain_len', 'avg_verb_edges', 'lexical_density', 'n_tokens']\n",
    "\n",
    "# ==================== Divide the combined set into monolingual splits, instead of using the og csv files\n",
    "\n",
    "def get_language_info(lang=None, data=None):\n",
    "  if data is None:\n",
    "    data = dev_data\n",
    "  if lang is None:\n",
    "    return data\n",
    "  return data[data['language'] == lang]\n",
    "\n",
    "# ==================== creates a set of numpy arrays from our six linguistic features\n",
    "\n",
    "X_train_ling = train_data[linguistic_features].values\n",
    "y_train_clf = train_data['question_type'].values\n",
    "y_train_reg = train_data['complexity_score'].values\n",
    "\n",
    "X_dev_ling = dev_data[linguistic_features].values\n",
    "y_dev_clf = dev_data['question_type'].values\n",
    "y_dev_reg = dev_data['complexity_score'].values\n",
    "\n",
    "print(f'train set: ')\n",
    "\n",
    "\n",
    "\n"
   ]
  },
  {
   "cell_type": "code",
   "execution_count": null,
   "metadata": {},
   "outputs": [],
   "source": []
  },
  {
   "cell_type": "markdown",
   "metadata": {},
   "source": [
    "# Section D: TF-IDF Feature Extraction\n"
   ]
  },
  {
   "cell_type": "markdown",
   "metadata": {},
   "source": [
    "# Experiment 1: Question Type Classification\n"
   ]
  },
  {
   "cell_type": "markdown",
   "metadata": {},
   "source": [
    "# Experiment 2: Complexity Score Prediction"
   ]
  },
  {
   "cell_type": "markdown",
   "metadata": {},
   "source": [
    "# Results and Analysis\n"
   ]
  },
  {
   "cell_type": "markdown",
   "metadata": {},
   "source": []
  }
 ],
 "metadata": {
  "kernelspec": {
   "display_name": "qtype-eval-pAepV5Z2-py3.12",
   "language": "python",
   "name": "python3"
  },
  "language_info": {
   "codemirror_mode": {
    "name": "ipython",
    "version": 3
   },
   "file_extension": ".py",
   "mimetype": "text/x-python",
   "name": "python",
   "nbconvert_exporter": "python",
   "pygments_lexer": "ipython3",
   "version": "3.12.3"
  }
 },
 "nbformat": 4,
 "nbformat_minor": 2
}
