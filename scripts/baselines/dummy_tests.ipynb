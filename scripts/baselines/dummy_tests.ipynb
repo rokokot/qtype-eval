{
 "cells": [
  {
   "cell_type": "markdown",
   "metadata": {},
   "source": [
    "# Experiment 1: Question Type Classification\n"
   ]
  },
  {
   "cell_type": "code",
   "execution_count": null,
   "metadata": {},
   "outputs": [],
   "source": [
    "from sklearn.dummy import DummyClassifier\n",
    "from sklearn.metrics import accuracy_score, classification_report\n",
    "\n",
    "dummy_uniform = DummyClassifier(strategy='uniform', random_state=SEED)\n",
    "dummy_uniform.fit(X_train_tfidf_clf, y_train_clf)\n",
    "y_pred_uniform = dummy_uniform.predict(X_dev_tfidf_clf)\n",
    "\n",
    "print(\"\\nUniform Dummy Classifier:\")\n",
    "print(f\"Accuracy: {accuracy_score(y_dev_clf, y_pred_uniform):.4f}\")\n",
    "print(classification_report(y_dev_clf, y_pred_uniform))\n",
    "\n",
    "cm = confusion_matrix(y_dev_clf, y_pred_uniform)\n",
    "print(cm)\n"
   ]
  },
  {
   "cell_type": "code",
   "execution_count": null,
   "metadata": {},
   "outputs": [],
   "source": [
    "# Most frequent strategy\n",
    "dummy_most_frequent = DummyClassifier(strategy='most_frequent', random_state=SEED)\n",
    "dummy_most_frequent.fit(X_train_ling_clf, y_train_clf)\n",
    "y_pred_most_frequent = dummy_most_frequent.predict(X_dev_ling_clf)\n",
    "\n",
    "print(\"\\nMost Frequent Dummy Classifier:\")\n",
    "print(f\"Accuracy: {accuracy_score(y_dev_clf, y_pred_most_frequent):.4f}\")\n",
    "print(classification_report(y_dev_clf, y_pred_most_frequent))\n"
   ]
  },
  {
   "cell_type": "code",
   "execution_count": null,
   "metadata": {},
   "outputs": [],
   "source": [
    "\n",
    "# Stratified strategy\n",
    "dummy_stratified = DummyClassifier(strategy='stratified', random_state=SEED)\n",
    "dummy_stratified.fit(X_train_ling_clf, y_train_clf)\n",
    "y_pred_stratified = dummy_stratified.predict(X_dev_ling_clf)\n",
    "\n",
    "print(\"\\nStratified Dummy Classifier:\")\n",
    "print(f\"Accuracy: {accuracy_score(y_dev_clf, y_pred_stratified):.4f}\")\n",
    "print(classification_report(y_dev_clf, y_pred_stratified))"
   ]
  },
  {
   "cell_type": "code",
   "execution_count": null,
   "metadata": {},
   "outputs": [],
   "source": []
  }
 ],
 "metadata": {
  "language_info": {
   "name": "python"
  }
 },
 "nbformat": 4,
 "nbformat_minor": 2
}
