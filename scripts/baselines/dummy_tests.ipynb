{
 "cells": [
  {
   "cell_type": "markdown",
   "metadata": {},
   "source": [
    "# Question Type and Complexity Dummy Baseline Experiments\n",
    "#### Multilingual Question Type Classification and Complexity Prediction\n",
    "\n",
    "This notebook implements simple baselines for both question type classification (polar vs. content) and complexity regression.\n",
    "\n",
    "We'll use simple dummy models from scikit-learn as baselines and use these results for comparison with ML models.\n",
    "\n",
    "##### Author: Robin Kokot\n",
    "##### Date: March 2025\n"
   ]
  },
  {
   "cell_type": "code",
   "execution_count": null,
   "metadata": {},
   "outputs": [],
   "source": [
    "#from google.colab import drive\n",
    "#drive.mount('/content/drive')"
   ]
  },
  {
   "cell_type": "code",
   "execution_count": 1,
   "metadata": {},
   "outputs": [],
   "source": [
    "import pandas as pd\n",
    "import numpy as np\n",
    "import matplotlib.pyplot as plt\n",
    "import seaborn as sns\n",
    "import pickle\n",
    "import time\n",
    "import os\n",
    "from sklearn.dummy import DummyClassifier, DummyRegressor\n",
    "from sklearn.linear_model import LogisticRegression, LinearRegression\n",
    "from sklearn.metrics import (accuracy_score, precision_recall_fscore_support, confusion_matrix, classification_report,mean_squared_error, mean_absolute_error, r2_score)\n",
    "import xgboost as xgb\n",
    "from datasets import load_dataset\n",
    "import wandb\n",
    "import logging\n",
    "\n",
    "# ==================== Set up displays\n",
    "pd.set_option('display.max_columns', None)\n",
    "pd.set_option('display.max_rows', 20)\n",
    "pd.set_option('display.width', 1000)\n",
    "\n",
    "# ==================== Set up seed constant\n",
    "SEED = 69\n",
    "np.random.seed(SEED)\n"
   ]
  },
  {
   "cell_type": "code",
   "execution_count": 2,
   "metadata": {},
   "outputs": [
    {
     "name": "stderr",
     "output_type": "stream",
     "text": [
      "\u001b[34m\u001b[1mwandb\u001b[0m: Using wandb-core as the SDK backend.  Please refer to https://wandb.me/wandb-core for more information.\n",
      "\u001b[34m\u001b[1mwandb\u001b[0m: Currently logged in as: \u001b[33mrokii\u001b[0m (\u001b[33mrokii-ku-leuven\u001b[0m) to \u001b[32mhttps://api.wandb.ai\u001b[0m. Use \u001b[1m`wandb login --relogin`\u001b[0m to force relogin\n"
     ]
    },
    {
     "data": {
      "text/html": [
       "Tracking run with wandb version 0.19.8"
      ],
      "text/plain": [
       "<IPython.core.display.HTML object>"
      ]
     },
     "metadata": {},
     "output_type": "display_data"
    },
    {
     "data": {
      "text/html": [
       "Run data is saved locally in <code>/home/robin/Research/qtype-eval/scripts/baselines/wandb/run-20250323_173858-7mxnnz6f</code>"
      ],
      "text/plain": [
       "<IPython.core.display.HTML object>"
      ]
     },
     "metadata": {},
     "output_type": "display_data"
    },
    {
     "data": {
      "text/html": [
       "Syncing run <strong><a href='https://wandb.ai/rokii-ku-leuven/MAIthesis/runs/7mxnnz6f' target=\"_blank\">dummy-baselines</a></strong> to <a href='https://wandb.ai/rokii-ku-leuven/MAIthesis' target=\"_blank\">Weights & Biases</a> (<a href='https://wandb.me/developer-guide' target=\"_blank\">docs</a>)<br>"
      ],
      "text/plain": [
       "<IPython.core.display.HTML object>"
      ]
     },
     "metadata": {},
     "output_type": "display_data"
    },
    {
     "data": {
      "text/html": [
       " View project at <a href='https://wandb.ai/rokii-ku-leuven/MAIthesis' target=\"_blank\">https://wandb.ai/rokii-ku-leuven/MAIthesis</a>"
      ],
      "text/plain": [
       "<IPython.core.display.HTML object>"
      ]
     },
     "metadata": {},
     "output_type": "display_data"
    },
    {
     "data": {
      "text/html": [
       " View run at <a href='https://wandb.ai/rokii-ku-leuven/MAIthesis/runs/7mxnnz6f' target=\"_blank\">https://wandb.ai/rokii-ku-leuven/MAIthesis/runs/7mxnnz6f</a>"
      ],
      "text/plain": [
       "<IPython.core.display.HTML object>"
      ]
     },
     "metadata": {},
     "output_type": "display_data"
    }
   ],
   "source": [
    "# ==================== Wandb config\n",
    "run = wandb.init(project=\"MAIthesis\", name=\"dummy-baselines\", tags=[\"baseline\", \"dummy-models\", \"question-classification\", \"complexity-regression\", \"tfidf\"], job_type=\"model-training\")\n",
    "\n",
    "config = wandb.config\n",
    "config.logreg_max_iter = 1000\n",
    "config.logreg_C = 1.0\n",
    "config.linear_fit_intercept = True\n",
    "config.random_state = SEED\n",
    "\n",
    "wandb.run.notes = \"Combined control experiments with dummy models for both question type classification and complexity regression using TF-IDF vectors\"\n"
   ]
  },
  {
   "cell_type": "code",
   "execution_count": 4,
   "metadata": {},
   "outputs": [
    {
     "name": "stdout",
     "output_type": "stream",
     "text": [
      "Loading dataset...\n",
      "Classification label distribution (train): [3778 3682]\n",
      "Classification label distribution (test): [367 352]\n",
      "Classification label distribution (dev): [223 218]\n",
      "\n",
      "Regression target stats (train): mean=0.3855, std=0.1693, min=0.0000, max=1.0000\n",
      "Regression target stats (test): mean=0.4294, std=0.2127, min=0.0000, max=1.0000\n",
      "Regression target stats (dev): mean=0.4466, std=0.2359, min=0.0000, max=1.0000\n",
      "\n",
      "===== Example Questions with Labels and Complexity Scores =====\n",
      "\n",
      "Example 1:\n",
      "Text: Onko Tampereen rantatunneli Suomen pisin maantietunneli?\n",
      "Language: fi\n",
      "Question Type: 1\n",
      "Original Complexity Score: 1.4590\n",
      "Language-Normalized Complexity Score: 0.3608\n",
      "\n",
      "Example 2:\n",
      "Text: В каком фильме снимался Дзюн Фукуяма?\n",
      "Language: ru\n",
      "Question Type: 0\n",
      "Original Complexity Score: 1.2430\n",
      "Language-Normalized Complexity Score: 0.2536\n",
      "\n",
      "Example 3:\n",
      "Text: Kuka oli Mary Jane Watsonin lempisukulainen perheen ulkopuolelta?\n",
      "Language: fi\n",
      "Question Type: 0\n",
      "Original Complexity Score: 1.4550\n",
      "Language-Normalized Complexity Score: 0.3597\n",
      "\n",
      "Example 4:\n",
      "Text: Milloin HMS Castleton tilattiin?\n",
      "Language: fi\n",
      "Question Type: 0\n",
      "Original Complexity Score: 1.7320\n",
      "Language-Normalized Complexity Score: 0.4330\n",
      "\n",
      "Example 5:\n",
      "Text: 6.25전쟁 당시 남한 편에서 싸운 나라는 몇 개국인가?\n",
      "Language: ko\n",
      "Question Type: 0\n",
      "Original Complexity Score: 2.4710\n",
      "Language-Normalized Complexity Score: 0.5105\n"
     ]
    }
   ],
   "source": [
    "# ==================== Dataset loading and label config\n",
    "print(\"Loading dataset...\")\n",
    "dataset = load_dataset(\"rokokot/question-type-and-complexity-v2\")\n",
    "\n",
    "train_df = pd.DataFrame(dataset['train'])\n",
    "dev_df = pd.DataFrame(dataset['validation'])\n",
    "test_df = pd.DataFrame(dataset['test'])\n",
    "\n",
    "y_class_train = np.array(dataset['train']['question_type'])  \n",
    "y_class_dev = np.array(dataset['validation']['question_type'])\n",
    "y_class_test = np.array(dataset['test']['question_type'])\n",
    "\n",
    "def normalize_complexity_scores(df):\n",
    "    df['lang_norm_complexity_score'] = 0.0\n",
    "    for language, group in df.groupby('language'):\n",
    "        min_score = group['complexity_score'].min()\n",
    "        max_score = group['complexity_score'].max()\n",
    "        if min_score == max_score:\n",
    "            df.loc[df['language'] == language, 'lang_norm_complexity_score'] = 0.5\n",
    "        else:\n",
    "            normalized_scores = (group['complexity_score'] - min_score) / (max_score - min_score)\n",
    "            df.loc[df['language'] == language, 'lang_norm_complexity_score'] = normalized_scores.values\n",
    "\n",
    "    return df\n",
    "\n",
    "train_df = normalize_complexity_scores(train_df)\n",
    "dev_df = normalize_complexity_scores(dev_df)\n",
    "test_df = normalize_complexity_scores(test_df)\n",
    "\n",
    "y_reg_train = np.array(train_df['lang_norm_complexity_score']) \n",
    "y_reg_dev = np.array(dev_df['lang_norm_complexity_score'])\n",
    "y_reg_test = np.array(test_df['lang_norm_complexity_score'])\n",
    "\n",
    "langs_train = np.array(train_df['language'])\n",
    "langs_dev = np.array(dev_df['language'])\n",
    "langs_test = np.array(test_df['language'])\n",
    "\n",
    "print(f\"Classification label distribution (train): {np.bincount(y_class_train)}\")\n",
    "print(f\"Classification label distribution (test): {np.bincount(y_class_test)}\")\n",
    "print(f\"Classification label distribution (dev): {np.bincount(y_class_dev)}\")\n",
    "\n",
    "print(f\"\\nRegression target stats (train): mean={y_reg_train.mean():.4f}, std={y_reg_train.std():.4f}, min={y_reg_train.min():.4f}, max={y_reg_train.max():.4f}\")\n",
    "print(f\"Regression target stats (test): mean={y_reg_test.mean():.4f}, std={y_reg_test.std():.4f}, min={y_reg_test.min():.4f}, max={y_reg_test.max():.4f}\")\n",
    "print(f\"Regression target stats (dev): mean={y_reg_dev.mean():.4f}, std={y_reg_dev.std():.4f}, min={y_reg_dev.min():.4f}, max={y_reg_dev.max():.4f}\")\n",
    "\n",
    "print(\"\\n===== Example Questions with Labels and Complexity Scores =====\")\n",
    "num_examples = 5\n",
    "for i in range(num_examples):\n",
    "    print(f\"\\nExample {i+1}:\")\n",
    "    print(f\"Text: {train_df['text'].iloc[i]}\")\n",
    "    print(f\"Language: {train_df['language'].iloc[i]}\")\n",
    "    print(f\"Question Type: {train_df['question_type'].iloc[i]}\")\n",
    "    print(f\"Original Complexity Score: {train_df['complexity_score'].iloc[i]:.4f}\")\n",
    "    print(f\"Language-Normalized Complexity Score: {train_df['lang_norm_complexity_score'].iloc[i]:.4f}\")\n"
   ]
  },
  {
   "cell_type": "code",
   "execution_count": 5,
   "metadata": {},
   "outputs": [
    {
     "name": "stdout",
     "output_type": "stream",
     "text": [
      "Loading TF-IDF vectors...\n",
      "TF-IDF vectors loaded successfully.\n",
      "Train - Features: 7460, Classification Labels: 7460, Regression Targets: 7460\n",
      "Test - Features: 719, Classification Labels: 719, Regression Targets: 719\n",
      "Validation - Features: 441, Classification Labels: 441, Regression Targets: 441\n"
     ]
    }
   ],
   "source": [
    "# ==================== TFIDF vectors loading\n",
    "tfidf_dir = \"/home/robin/Research/qtype-eval/scripts/baselines/vectors\"\n",
    "train_vectors = f\"{tfidf_dir}/tfidf_vectors_train.pkl\"\n",
    "dev_vectors = f\"{tfidf_dir}/tfidf_vectors_dev.pkl\"\n",
    "test_vectors = f\"{tfidf_dir}/tfidf_vectors_test.pkl\"\n",
    "\n",
    "\n",
    "print(\"Loading TF-IDF vectors...\")\n",
    "with open(train_vectors, 'rb') as v:    \n",
    "    X_train = pickle.load(v)\n",
    "with open(dev_vectors, 'rb') as v:\n",
    "    X_dev = pickle.load(v)\n",
    "with open(test_vectors, 'rb') as v:\n",
    "    X_test = pickle.load(v)\n",
    "print(\"TF-IDF vectors loaded successfully.\")\n",
    "\n",
    "print(f\"Train - Features: {X_train.shape[0]}, Classification Labels: {y_class_train.shape[0]}, Regression Targets: {y_reg_train.shape[0]}\")\n",
    "print(f\"Test - Features: {X_test.shape[0]}, Classification Labels: {y_class_test.shape[0]}, Regression Targets: {y_reg_test.shape[0]}\")\n",
    "print(f\"Validation - Features: {X_dev.shape[0]}, Classification Labels: {y_class_dev.shape[0]}, Regression Targets: {y_reg_dev.shape[0]}\")\n"
   ]
  },
  {
   "cell_type": "code",
   "execution_count": 6,
   "metadata": {},
   "outputs": [],
   "source": [
    "wandb.config.update({\n",
    "    \"feature_type\": \"TF-IDF\",\n",
    "    \"train_samples\": X_train.shape[0],\n",
    "    \"test_samples\": X_test.shape[0],\n",
    "    \"dev_samples\": X_dev.shape[0],\n",
    "    \"feature_dim\": X_train.shape[1]\n",
    "})"
   ]
  },
  {
   "cell_type": "markdown",
   "metadata": {},
   "source": [
    "# clf implementation"
   ]
  },
  {
   "cell_type": "code",
   "execution_count": 7,
   "metadata": {},
   "outputs": [],
   "source": [
    "# ==================== Helper functions for classification\n",
    "def evaluate_classifier(y_true, y_pred, model_name):\n",
    "    \"\"\"Evaluate classifier performance and print results\"\"\"\n",
    "    accuracy = accuracy_score(y_true, y_pred)\n",
    "    precision, recall, f1, _ = precision_recall_fscore_support(y_true, y_pred, average='binary')\n",
    "    cm = confusion_matrix(y_true, y_pred)\n",
    "    \n",
    "    print(f\"{model_name} - Accuracy: {accuracy:.4f}, F1 Score: {f1:.4f}\")\n",
    "    print(f\"Confusion Matrix:\\n{cm}\")\n",
    "    \n",
    "    # Create confusion matrix plot\n",
    "    plt.figure(figsize=(8, 6))\n",
    "    sns.heatmap(cm, annot=True, fmt='d', cmap='Blues', xticklabels=['Content', 'Polar'], yticklabels=['Content', 'Polar'])\n",
    "    plt.xlabel('Predicted')\n",
    "    plt.ylabel('Actual')\n",
    "    plt.title(f'Confusion Matrix ({model_name})')\n",
    "    plt.tight_layout()\n",
    "    \n",
    "    # Log to wandb\n",
    "    clean_name = model_name.lower().replace(' ', '_').replace('(', '').replace(')', '')\n",
    "    wandb.log({\n",
    "        f\"classification_{clean_name}_accuracy\": accuracy,\n",
    "        f\"classification_{clean_name}_precision\": precision,\n",
    "        f\"classification_{clean_name}_recall\": recall,\n",
    "        f\"classification_{clean_name}_f1\": f1,\n",
    "        f\"classification_{clean_name}_cm\": wandb.Image(plt)\n",
    "    })\n",
    "    plt.close()\n",
    "    \n",
    "    return {\n",
    "        'accuracy': accuracy,\n",
    "        'precision': precision,\n",
    "        'recall': recall,\n",
    "        'f1': f1,\n",
    "        'confusion_matrix': cm\n",
    "    }"
   ]
  },
  {
   "cell_type": "code",
   "execution_count": 8,
   "metadata": {},
   "outputs": [
    {
     "name": "stdout",
     "output_type": "stream",
     "text": [
      "\n",
      "--- Question Type Classification Baselines ---\n",
      "\n",
      "Training DummyClassifier with strategy: stratified\n",
      "Training time: 0.0027 seconds\n",
      "Dummy Classifier (stratified) - Accuracy: 0.4645, F1 Score: 0.4444\n",
      "Confusion Matrix:\n",
      "[[180 187]\n",
      " [198 154]]\n",
      "\n",
      "Training DummyClassifier with strategy: most_frequent\n",
      "Training time: 0.0021 seconds\n",
      "Dummy Classifier (most_frequent) - Accuracy: 0.5104, F1 Score: 0.0000\n",
      "Confusion Matrix:\n",
      "[[367   0]\n",
      " [352   0]]\n"
     ]
    },
    {
     "name": "stderr",
     "output_type": "stream",
     "text": [
      "/home/robin/.cache/pypoetry/virtualenvs/qtype-eval-pAepV5Z2-py3.12/lib/python3.12/site-packages/sklearn/metrics/_classification.py:1565: UndefinedMetricWarning: Precision is ill-defined and being set to 0.0 due to no predicted samples. Use `zero_division` parameter to control this behavior.\n",
      "  _warn_prf(average, modifier, f\"{metric.capitalize()} is\", len(result))\n"
     ]
    },
    {
     "name": "stdout",
     "output_type": "stream",
     "text": [
      "\n",
      "Training DummyClassifier with strategy: uniform\n",
      "Training time: 0.0020 seconds\n",
      "Dummy Classifier (uniform) - Accuracy: 0.5160, F1 Score: 0.5233\n",
      "Confusion Matrix:\n",
      "[[180 187]\n",
      " [161 191]]\n"
     ]
    }
   ],
   "source": [
    "# ==================== Dummy classification models\n",
    "print(\"\\n--- Question Type Classification Baselines ---\")\n",
    "\n",
    "# Test different strategies for dummy classifier\n",
    "dummy_strategies = ['stratified', 'most_frequent', 'uniform']\n",
    "dummy_clf_results = {}\n",
    "\n",
    "for strategy in dummy_strategies:\n",
    "    print(f\"\\nTraining DummyClassifier with strategy: {strategy}\")\n",
    "    dummy_clf = DummyClassifier(strategy=strategy, random_state=SEED)\n",
    "    \n",
    "    # Training\n",
    "    start_time = time.time()\n",
    "    dummy_clf.fit(X_train, y_class_train)\n",
    "    train_time = time.time() - start_time\n",
    "    print(f\"Training time: {train_time:.4f} seconds\")\n",
    "    \n",
    "    # Prediction on test set\n",
    "    start_time = time.time()\n",
    "    y_pred = dummy_clf.predict(X_test)\n",
    "    predict_time = time.time() - start_time\n",
    "    \n",
    "    # Evaluate\n",
    "    results = evaluate_classifier(y_class_test, y_pred, f\"Dummy Classifier ({strategy})\")\n",
    "    results['train_time'] = train_time\n",
    "    results['predict_time'] = predict_time\n",
    "    dummy_clf_results[strategy] = results\n",
    "    \n",
    "    # Log timing metrics\n",
    "    wandb.log({\n",
    "        f\"classification_dummy_{strategy}_train_time\": train_time,\n",
    "        f\"classification_dummy_{strategy}_predict_time\": predict_time\n",
    "    })\n"
   ]
  },
  {
   "cell_type": "code",
   "execution_count": 12,
   "metadata": {},
   "outputs": [
    {
     "name": "stdout",
     "output_type": "stream",
     "text": [
      "X_train type: <class 'numpy.ndarray'>\n",
      "X_train shape: (7460, 1)\n"
     ]
    }
   ],
   "source": [
    "print(\"X_train type:\", type(X_train))\n",
    "if hasattr(X_train, 'shape'):\n",
    "    print(\"X_train shape:\", X_train.shape)\n",
    "elif isinstance(X_train, list):\n",
    "    print(\"X_train is a list of length:\", len(X_train))\n",
    "    print(\"First element type:\", type(X_train[0]))\n",
    "\n",
    "import numpy as np\n",
    "from scipy.sparse import vstack\n",
    "\n",
    "# Extract sparse matrices from the array and stack them\n",
    "sparse_matrices = [matrix[0] for matrix in X_train]  # Assuming each row has a single element\n",
    "X_train_stacked = vstack(sparse_matrices)\n",
    "\n",
    "# Same for test data\n",
    "sparse_matrices_test = [matrix[0] for matrix in X_test]\n",
    "X_test_stacked = vstack(sparse_matrices_test)"
   ]
  },
  {
   "cell_type": "code",
   "execution_count": 13,
   "metadata": {},
   "outputs": [
    {
     "name": "stdout",
     "output_type": "stream",
     "text": [
      "\n",
      "Training Logistic Regression classifier\n"
     ]
    },
    {
     "name": "stdout",
     "output_type": "stream",
     "text": [
      "Training time: 11.1643 seconds\n",
      "Logistic Regression - Accuracy: 0.7510, F1 Score: 0.7672\n",
      "Confusion Matrix:\n",
      "[[245 122]\n",
      " [ 57 295]]\n"
     ]
    }
   ],
   "source": [
    "# ==================== Logistic Regression classifier\n",
    "print(\"\\nTraining Logistic Regression classifier\")\n",
    "log_reg = LogisticRegression(\n",
    "    random_state=config.random_state, \n",
    "    max_iter=config.logreg_max_iter,\n",
    "    C=config.logreg_C\n",
    ")\n",
    "\n",
    "# Training\n",
    "start_time = time.time()\n",
    "log_reg.fit(X_train_stacked, y_class_train)\n",
    "train_time = time.time() - start_time\n",
    "print(f\"Training time: {train_time:.4f} seconds\")\n",
    "\n",
    "# Prediction on test set\n",
    "start_time = time.time()\n",
    "y_pred = log_reg.predict(X_test_stacked)\n",
    "predict_time = time.time() - start_time\n",
    "\n",
    "# Evaluate\n",
    "log_reg_results = evaluate_classifier(y_class_test, y_pred, \"Logistic Regression\")\n",
    "log_reg_results['train_time'] = train_time\n",
    "log_reg_results['predict_time'] = predict_time\n",
    "\n",
    "# Log timing metrics\n",
    "wandb.log({\n",
    "    \"classification_logreg_train_time\": train_time,\n",
    "    \"classification_logreg_predict_time\": predict_time\n",
    "})"
   ]
  },
  {
   "cell_type": "code",
   "execution_count": 14,
   "metadata": {},
   "outputs": [
    {
     "data": {
      "image/png": "[encoded data removed]",
      "text/plain": [
       "<Figure size 1000x600 with 1 Axes>"
      ]
     },
     "metadata": {},
     "output_type": "display_data"
    }
   ],
   "source": [
    "# ==================== Classification performance visualization\n",
    "# Visualize classification results\n",
    "plt.figure(figsize=(10, 6))\n",
    "model_names = [f\"Dummy ({s})\" for s in dummy_strategies] + ['Logistic Regression']\n",
    "accuracies = [dummy_clf_results[s]['accuracy'] for s in dummy_strategies] + [log_reg_results['accuracy']]\n",
    "f1_scores = [dummy_clf_results[s]['f1'] for s in dummy_strategies] + [log_reg_results['f1']]\n",
    "\n",
    "x = np.arange(len(model_names))\n",
    "width = 0.35\n",
    "\n",
    "plt.bar(x - width/2, accuracies, width, label='Accuracy')\n",
    "plt.bar(x + width/2, f1_scores, width, label='F1 Score')\n",
    "plt.xlabel('Model')\n",
    "plt.ylabel('Score')\n",
    "plt.title('Classification Performance Comparison')\n",
    "plt.xticks(x, model_names, rotation=45, ha='right')\n",
    "plt.ylim(0, 1.0)\n",
    "plt.legend()\n",
    "plt.tight_layout()\n",
    "wandb.log({\"classification_performance_comparison\": wandb.Image(plt)})\n",
    "plt.show()"
   ]
  },
  {
   "cell_type": "markdown",
   "metadata": {},
   "source": [
    "# ref implementaton"
   ]
  },
  {
   "cell_type": "code",
   "execution_count": 15,
   "metadata": {},
   "outputs": [],
   "source": [
    "# ==================== Helper functions for regression\n",
    "def evaluate_regressor(y_true, y_pred, model_name):\n",
    "    \"\"\"Evaluate regressor performance and print results\"\"\"\n",
    "    rmse = np.sqrt(mean_squared_error(y_true, y_pred))\n",
    "    mae = mean_absolute_error(y_true, y_pred)\n",
    "    r2 = r2_score(y_true, y_pred)\n",
    "    \n",
    "    print(f\"{model_name} - RMSE: {rmse:.4f}, MAE: {mae:.4f}, R²: {r2:.4f}\")\n",
    "    \n",
    "    # Create scatter plot\n",
    "    plt.figure(figsize=(8, 6))\n",
    "    plt.scatter(y_true, y_pred, alpha=0.5)\n",
    "    plt.plot([min(y_true), max(y_true)], [min(y_true), max(y_true)], 'r--')\n",
    "    plt.xlabel('Actual Complexity')\n",
    "    plt.ylabel('Predicted Complexity')\n",
    "    plt.title(f'Predicted vs. Actual Complexity ({model_name})')\n",
    "    plt.tight_layout()\n",
    "    \n",
    "    # Log to wandb\n",
    "    clean_name = model_name.lower().replace(' ', '_').replace('(', '').replace(')', '')\n",
    "    wandb.log({\n",
    "        f\"regression_{clean_name}_rmse\": rmse,\n",
    "        f\"regression_{clean_name}_mae\": mae,\n",
    "        f\"regression_{clean_name}_r2\": r2,\n",
    "        f\"regression_{clean_name}_scatter\": wandb.Image(plt)\n",
    "    })\n",
    "    plt.close()\n",
    "    \n",
    "    # Create residual plot\n",
    "    residuals = y_pred - y_true\n",
    "    plt.figure(figsize=(8, 6))\n",
    "    plt.scatter(y_pred, residuals, alpha=0.5)\n",
    "    plt.axhline(y=0, color='r', linestyle='--')\n",
    "    plt.xlabel('Predicted Complexity')\n",
    "    plt.ylabel('Residual')\n",
    "    plt.title(f'Residual Plot ({model_name})')\n",
    "    plt.tight_layout()\n",
    "    \n",
    "    wandb.log({f\"regression_{clean_name}_residuals\": wandb.Image(plt)})\n",
    "    plt.close()\n",
    "    \n",
    "    return {\n",
    "        'rmse': rmse,\n",
    "        'mae': mae,\n",
    "        'r2': r2\n",
    "    }"
   ]
  },
  {
   "cell_type": "code",
   "execution_count": 16,
   "metadata": {},
   "outputs": [
    {
     "name": "stdout",
     "output_type": "stream",
     "text": [
      "\n",
      "--- Question Complexity Regression Baselines ---\n",
      "\n",
      "Training DummyRegressor with strategy: mean\n",
      "Training time: 0.0032 seconds\n",
      "Dummy Regressor (mean) - RMSE: 0.2172, MAE: 0.1716, R²: -0.0426\n",
      "\n",
      "Training DummyRegressor with strategy: median\n",
      "Training time: 0.0029 seconds\n",
      "Dummy Regressor (median) - RMSE: 0.2203, MAE: 0.1731, R²: -0.0724\n"
     ]
    }
   ],
   "source": [
    "# ==================== Dummy regression models\n",
    "print(\"\\n--- Question Complexity Regression Baselines ---\")\n",
    "\n",
    "# Test different strategies for dummy regressor\n",
    "dummy_strategies = ['mean', 'median']\n",
    "dummy_reg_results = {}\n",
    "\n",
    "for strategy in dummy_strategies:\n",
    "    print(f\"\\nTraining DummyRegressor with strategy: {strategy}\")\n",
    "    dummy_reg = DummyRegressor(strategy=strategy)\n",
    "    \n",
    "    # Training\n",
    "    start_time = time.time()\n",
    "    dummy_reg.fit(X_train, y_reg_train)\n",
    "    train_time = time.time() - start_time\n",
    "    print(f\"Training time: {train_time:.4f} seconds\")\n",
    "    \n",
    "    # Prediction on test set\n",
    "    start_time = time.time()\n",
    "    y_pred = dummy_reg.predict(X_test)\n",
    "    predict_time = time.time() - start_time\n",
    "    \n",
    "    # Evaluate\n",
    "    results = evaluate_regressor(y_reg_test, y_pred, f\"Dummy Regressor ({strategy})\")\n",
    "    results['train_time'] = train_time\n",
    "    results['predict_time'] = predict_time\n",
    "    dummy_reg_results[strategy] = results\n",
    "    \n",
    "    # Log timing metrics\n",
    "    wandb.log({\n",
    "        f\"regression_dummy_{strategy}_train_time\": train_time,\n",
    "        f\"regression_dummy_{strategy}_predict_time\": predict_time\n",
    "    })"
   ]
  },
  {
   "cell_type": "code",
   "execution_count": 17,
   "metadata": {},
   "outputs": [
    {
     "name": "stdout",
     "output_type": "stream",
     "text": [
      "\n",
      "Training Linear Regression model\n",
      "Training time: 35.7799 seconds\n",
      "Linear Regression - RMSE: 0.2120, MAE: 0.1745, R²: 0.0067\n"
     ]
    }
   ],
   "source": [
    "# ==================== Linear Regression model\n",
    "print(\"\\nTraining Linear Regression model\")\n",
    "lin_reg = LinearRegression(fit_intercept=config.linear_fit_intercept)\n",
    "\n",
    "# Training\n",
    "start_time = time.time()\n",
    "lin_reg.fit(X_train_stacked, y_reg_train)\n",
    "train_time = time.time() - start_time\n",
    "print(f\"Training time: {train_time:.4f} seconds\")\n",
    "\n",
    "# Prediction on test set\n",
    "start_time = time.time()\n",
    "y_pred = lin_reg.predict(X_test_stacked)\n",
    "predict_time = time.time() - start_time\n",
    "\n",
    "# Evaluate\n",
    "lin_reg_results = evaluate_regressor(y_reg_test, y_pred, \"Linear Regression\")\n",
    "lin_reg_results['train_time'] = train_time\n",
    "lin_reg_results['predict_time'] = predict_time\n",
    "\n",
    "# Log timing metrics\n",
    "wandb.log({\n",
    "    \"regression_linreg_train_time\": train_time,\n",
    "    \"regression_linreg_predict_time\": predict_time\n",
    "})\n"
   ]
  },
  {
   "cell_type": "code",
   "execution_count": 18,
   "metadata": {},
   "outputs": [
    {
     "data": {
      "image/png": "[encoded data removed]",
      "text/plain": [
       "<Figure size 1000x600 with 1 Axes>"
      ]
     },
     "metadata": {},
     "output_type": "display_data"
    }
   ],
   "source": [
    "# ==================== Regression performance visualization\n",
    "# Visualize regression results\n",
    "plt.figure(figsize=(10, 6))\n",
    "model_names = [f\"Dummy ({s})\" for s in dummy_strategies] + ['Linear Regression']\n",
    "rmse_values = [dummy_reg_results[s]['rmse'] for s in dummy_strategies] + [lin_reg_results['rmse']]\n",
    "mae_values = [dummy_reg_results[s]['mae'] for s in dummy_strategies] + [lin_reg_results['mae']]\n",
    "\n",
    "x = np.arange(len(model_names))\n",
    "width = 0.35\n",
    "\n",
    "plt.bar(x - width/2, rmse_values, width, label='RMSE')\n",
    "plt.bar(x + width/2, mae_values, width, label='MAE')\n",
    "plt.xlabel('Model')\n",
    "plt.ylabel('Error')\n",
    "plt.title('Regression Performance Comparison')\n",
    "plt.xticks(x, model_names, rotation=45, ha='right')\n",
    "plt.legend()\n",
    "plt.tight_layout()\n",
    "wandb.log({\"regression_performance_comparison\": wandb.Image(plt)})\n",
    "plt.show()"
   ]
  },
  {
   "cell_type": "code",
   "execution_count": null,
   "metadata": {},
   "outputs": [],
   "source": [
    "# add lang specific analysis"
   ]
  },
  {
   "cell_type": "code",
   "execution_count": 20,
   "metadata": {},
   "outputs": [],
   "source": [
    "wandb.finish()\n"
   ]
  }
 ],
 "metadata": {
  "kernelspec": {
   "display_name": "qtype-eval-pAepV5Z2-py3.12",
   "language": "python",
   "name": "python3"
  },
  "language_info": {
   "codemirror_mode": {
    "name": "ipython",
    "version": 3
   },
   "file_extension": ".py",
   "mimetype": "text/x-python",
   "name": "python",
   "nbconvert_exporter": "python",
   "pygments_lexer": "ipython3",
   "version": "3.12.3"
  }
 },
 "nbformat": 4,
 "nbformat_minor": 2
}
