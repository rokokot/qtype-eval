{
 "cells": [
  {
   "cell_type": "markdown",
   "metadata": {
    "id": "dFQZ5nRre5zI"
   },
   "source": [
    "# Question Type Classification Models: (S)TF-IDF + XGBoost Experiments\n",
    "#### Multilingual Question Type Classification and Complexity Prediction\n",
    "\n",
    "##### Author: Robin Kokot\n",
    "##### Date: March 2025\n"
   ]
  },
  {
   "cell_type": "code",
   "execution_count": 1,
   "metadata": {
    "colab": {
     "base_uri": "https://localhost:8080/"
    },
    "executionInfo": {
     "elapsed": 31375,
     "status": "ok",
     "timestamp": 1742912192289,
     "user": {
      "displayName": "Robin Kokot",
      "userId": "12410801071273089859"
     },
     "user_tz": -60
    },
    "id": "YyhQCrJjfG9c",
    "outputId": "e9b0b1ef-03a9-432c-e9f2-c463a6711815"
   },
   "outputs": [
    {
     "name": "stdout",
     "output_type": "stream",
     "text": [
      "Mounted at /content/drive\n"
     ]
    }
   ],
   "source": [
    "from google.colab import drive\n",
    "drive.mount('/content/drive')"
   ]
  },
  {
   "cell_type": "markdown",
   "metadata": {
    "id": "QHVgS2Zoe5zP"
   },
   "source": [
    "### Setup and Data Loading"
   ]
  },
  {
   "cell_type": "code",
   "execution_count": 2,
   "metadata": {
    "colab": {
     "base_uri": "https://localhost:8080/"
    },
    "collapsed": true,
    "executionInfo": {
     "elapsed": 13757,
     "status": "ok",
     "timestamp": 1742912211495,
     "user": {
      "displayName": "Robin Kokot",
      "userId": "12410801071273089859"
     },
     "user_tz": -60
    },
    "id": "Th_p10Vqe5zT",
    "outputId": "7f5229ad-2348-4944-b6a5-ae0279bd0e3e"
   },
   "outputs": [
    {
     "name": "stdout",
     "output_type": "stream",
     "text": [
      "\u001b[?25l   \u001b[90m━━━━━━━━━━━━━━━━━━━━━━━━━━━━━━━━━━━━━━━━\u001b[0m \u001b[32m0.0/487.4 kB\u001b[0m \u001b[31m?\u001b[0m eta \u001b[36m-:--:--\u001b[0m\r\u001b[2K   \u001b[90m━━━━━━━━━━━━━━━━━━━━━━━━━━━━━━━━━━━━━━━━\u001b[0m \u001b[32m487.4/487.4 kB\u001b[0m \u001b[31m27.5 MB/s\u001b[0m eta \u001b[36m0:00:00\u001b[0m\n",
      "\u001b[?25h\u001b[?25l   \u001b[90m━━━━━━━━━━━━━━━━━━━━━━━━━━━━━━━━━━━━━━━━\u001b[0m \u001b[32m0.0/116.3 kB\u001b[0m \u001b[31m?\u001b[0m eta \u001b[36m-:--:--\u001b[0m\r\u001b[2K   \u001b[90m━━━━━━━━━━━━━━━━━━━━━━━━━━━━━━━━━━━━━━━━\u001b[0m \u001b[32m116.3/116.3 kB\u001b[0m \u001b[31m12.2 MB/s\u001b[0m eta \u001b[36m0:00:00\u001b[0m\n",
      "\u001b[?25h\u001b[?25l   \u001b[90m━━━━━━━━━━━━━━━━━━━━━━━━━━━━━━━━━━━━━━━━\u001b[0m \u001b[32m0.0/183.9 kB\u001b[0m \u001b[31m?\u001b[0m eta \u001b[36m-:--:--\u001b[0m\r\u001b[2K   \u001b[90m━━━━━━━━━━━━━━━━━━━━━━━━━━━━━━━━━━━━━━━━\u001b[0m \u001b[32m183.9/183.9 kB\u001b[0m \u001b[31m18.6 MB/s\u001b[0m eta \u001b[36m0:00:00\u001b[0m\n",
      "\u001b[?25h\u001b[?25l   \u001b[90m━━━━━━━━━━━━━━━━━━━━━━━━━━━━━━━━━━━━━━━━\u001b[0m \u001b[32m0.0/143.5 kB\u001b[0m \u001b[31m?\u001b[0m eta \u001b[36m-:--:--\u001b[0m\r\u001b[2K   \u001b[90m━━━━━━━━━━━━━━━━━━━━━━━━━━━━━━━━━━━━━━━━\u001b[0m \u001b[32m143.5/143.5 kB\u001b[0m \u001b[31m14.0 MB/s\u001b[0m eta \u001b[36m0:00:00\u001b[0m\n",
      "\u001b[?25h\u001b[?25l   \u001b[90m━━━━━━━━━━━━━━━━━━━━━━━━━━━━━━━━━━━━━━━━\u001b[0m \u001b[32m0.0/194.8 kB\u001b[0m \u001b[31m?\u001b[0m eta \u001b[36m-:--:--\u001b[0m\r\u001b[2K   \u001b[90m━━━━━━━━━━━━━━━━━━━━━━━━━━━━━━━━━━━━━━━━\u001b[0m \u001b[32m194.8/194.8 kB\u001b[0m \u001b[31m18.5 MB/s\u001b[0m eta \u001b[36m0:00:00\u001b[0m\n",
      "\u001b[?25h\u001b[31mERROR: pip's dependency resolver does not currently take into account all the packages that are installed. This behaviour is the source of the following dependency conflicts.\n",
      "torch 2.6.0+cu124 requires nvidia-cublas-cu12==12.4.5.8; platform_system == \"Linux\" and platform_machine == \"x86_64\", but you have nvidia-cublas-cu12 12.5.3.2 which is incompatible.\n",
      "torch 2.6.0+cu124 requires nvidia-cuda-cupti-cu12==12.4.127; platform_system == \"Linux\" and platform_machine == \"x86_64\", but you have nvidia-cuda-cupti-cu12 12.5.82 which is incompatible.\n",
      "torch 2.6.0+cu124 requires nvidia-cuda-nvrtc-cu12==12.4.127; platform_system == \"Linux\" and platform_machine == \"x86_64\", but you have nvidia-cuda-nvrtc-cu12 12.5.82 which is incompatible.\n",
      "torch 2.6.0+cu124 requires nvidia-cuda-runtime-cu12==12.4.127; platform_system == \"Linux\" and platform_machine == \"x86_64\", but you have nvidia-cuda-runtime-cu12 12.5.82 which is incompatible.\n",
      "torch 2.6.0+cu124 requires nvidia-cudnn-cu12==9.1.0.70; platform_system == \"Linux\" and platform_machine == \"x86_64\", but you have nvidia-cudnn-cu12 9.3.0.75 which is incompatible.\n",
      "torch 2.6.0+cu124 requires nvidia-cufft-cu12==11.2.1.3; platform_system == \"Linux\" and platform_machine == \"x86_64\", but you have nvidia-cufft-cu12 11.2.3.61 which is incompatible.\n",
      "torch 2.6.0+cu124 requires nvidia-curand-cu12==10.3.5.147; platform_system == \"Linux\" and platform_machine == \"x86_64\", but you have nvidia-curand-cu12 10.3.6.82 which is incompatible.\n",
      "torch 2.6.0+cu124 requires nvidia-cusolver-cu12==11.6.1.9; platform_system == \"Linux\" and platform_machine == \"x86_64\", but you have nvidia-cusolver-cu12 11.6.3.83 which is incompatible.\n",
      "torch 2.6.0+cu124 requires nvidia-cusparse-cu12==12.3.1.170; platform_system == \"Linux\" and platform_machine == \"x86_64\", but you have nvidia-cusparse-cu12 12.5.1.3 which is incompatible.\n",
      "torch 2.6.0+cu124 requires nvidia-nvjitlink-cu12==12.4.127; platform_system == \"Linux\" and platform_machine == \"x86_64\", but you have nvidia-nvjitlink-cu12 12.5.82 which is incompatible.\n",
      "gcsfs 2025.3.0 requires fsspec==2025.3.0, but you have fsspec 2024.12.0 which is incompatible.\u001b[0m\u001b[31m\n",
      "\u001b[0m"
     ]
    }
   ],
   "source": [
    "!pip install -q wandb\n",
    "!pip install -q datasets\n",
    "\n",
    "import pandas as pd\n",
    "import numpy as np\n",
    "import matplotlib.pyplot as plt\n",
    "import seaborn as sns\n",
    "import pickle\n",
    "import json\n",
    "import xgboost as xgb\n",
    "from sklearn.metrics import accuracy_score, precision_recall_fscore_support, confusion_matrix, classification_report\n",
    "from scipy.sparse import vstack\n",
    "from datasets import load_dataset\n",
    "import wandb\n",
    "import logging\n",
    "import time\n",
    "import os\n",
    "\n",
    "# ==================== directories\n",
    "models_dir = \"/content/drive/MyDrive/ColabNotebooks/colabMAIbaselines/experiments/models\"\n",
    "os.makedirs(models_dir, exist_ok=True)\n",
    "figures_dir = \"/content/drive/MyDrive/ColabNotebooks/colabMAIbaselines/experiments/models\"\n",
    "os.makedirs(figures_dir, exist_ok=True)\n",
    "\n",
    "# ==================== Set up displays\n",
    "pd.set_option('display.max_columns', None)\n",
    "pd.set_option('display.max_rows', 20)\n",
    "pd.set_option('display.width', 1000)\n",
    "\n",
    "# ==================== Set up seed constant\n",
    "SEED = 69\n",
    "np.random.seed(SEED)"
   ]
  },
  {
   "cell_type": "code",
   "execution_count": 3,
   "metadata": {
    "colab": {
     "base_uri": "https://localhost:8080/",
     "height": 278
    },
    "collapsed": true,
    "executionInfo": {
     "elapsed": 52764,
     "status": "ok",
     "timestamp": 1742912275625,
     "user": {
      "displayName": "Robin Kokot",
      "userId": "12410801071273089859"
     },
     "user_tz": -60
    },
    "id": "Ubbdt2nBl09J",
    "outputId": "9d31f263-ee81-43ea-9949-3005576086b0"
   },
   "outputs": [
    {
     "name": "stderr",
     "output_type": "stream",
     "text": [
      "\u001b[34m\u001b[1mwandb\u001b[0m: Using wandb-core as the SDK backend.  Please refer to https://wandb.me/wandb-core for more information.\n"
     ]
    },
    {
     "data": {
      "application/javascript": "\n        window._wandbApiKey = new Promise((resolve, reject) => {\n            function loadScript(url) {\n            return new Promise(function(resolve, reject) {\n                let newScript = document.createElement(\"script\");\n                newScript.onerror = reject;\n                newScript.onload = resolve;\n                document.body.appendChild(newScript);\n                newScript.src = url;\n            });\n            }\n            loadScript(\"https://cdn.jsdelivr.net/npm/postmate/build/postmate.min.js\").then(() => {\n            const iframe = document.createElement('iframe')\n            iframe.style.cssText = \"width:0;height:0;border:none\"\n            document.body.appendChild(iframe)\n            const handshake = new Postmate({\n                container: iframe,\n                url: 'https://wandb.ai/authorize'\n            });\n            const timeout = setTimeout(() => reject(\"Couldn't auto authenticate\"), 5000)\n            handshake.then(function(child) {\n                child.on('authorize', data => {\n                    clearTimeout(timeout)\n                    resolve(data)\n                });\n            });\n            })\n        });\n    ",
      "text/plain": [
       "<IPython.core.display.Javascript object>"
      ]
     },
     "metadata": {},
     "output_type": "display_data"
    },
    {
     "name": "stderr",
     "output_type": "stream",
     "text": [
      "\u001b[34m\u001b[1mwandb\u001b[0m: Logging into wandb.ai. (Learn how to deploy a W&B server locally: https://wandb.me/wandb-server)\n",
      "\u001b[34m\u001b[1mwandb\u001b[0m: You can find your API key in your browser here: https://wandb.ai/authorize\n",
      "wandb: Paste an API key from your profile and hit enter:"
     ]
    },
    {
     "name": "stdout",
     "output_type": "stream",
     "text": [
      " ··········\n"
     ]
    },
    {
     "name": "stderr",
     "output_type": "stream",
     "text": [
      "\u001b[34m\u001b[1mwandb\u001b[0m: \u001b[33mWARNING\u001b[0m If you're specifying your api key in code, ensure this code is not shared publicly.\n",
      "\u001b[34m\u001b[1mwandb\u001b[0m: \u001b[33mWARNING\u001b[0m Consider setting the WANDB_API_KEY environment variable, or running `wandb login` from the command line.\n",
      "\u001b[34m\u001b[1mwandb\u001b[0m: No netrc file found, creating one.\n",
      "\u001b[34m\u001b[1mwandb\u001b[0m: Appending key for api.wandb.ai to your netrc file: /root/.netrc\n",
      "\u001b[34m\u001b[1mwandb\u001b[0m: Currently logged in as: \u001b[33mrokii\u001b[0m (\u001b[33mrokii-ku-leuven\u001b[0m) to \u001b[32mhttps://api.wandb.ai\u001b[0m. Use \u001b[1m`wandb login --relogin`\u001b[0m to force relogin\n"
     ]
    },
    {
     "data": {
      "text/html": [
       "Tracking run with wandb version 0.19.8"
      ],
      "text/plain": [
       "<IPython.core.display.HTML object>"
      ]
     },
     "metadata": {},
     "output_type": "display_data"
    },
    {
     "data": {
      "text/html": [
       "Run data is saved locally in <code>/content/wandb/run-20250325_141753-n6y8pm1u</code>"
      ],
      "text/plain": [
       "<IPython.core.display.HTML object>"
      ]
     },
     "metadata": {},
     "output_type": "display_data"
    },
    {
     "data": {
      "text/html": [
       "Syncing run <strong><a href='https://wandb.ai/rokii-ku-leuven/MAIthesis/runs/n6y8pm1u' target=\"_blank\">xgboost-clf-baseline</a></strong> to <a href='https://wandb.ai/rokii-ku-leuven/MAIthesis' target=\"_blank\">Weights & Biases</a> (<a href='https://wandb.me/developer-guide' target=\"_blank\">docs</a>)<br>"
      ],
      "text/plain": [
       "<IPython.core.display.HTML object>"
      ]
     },
     "metadata": {},
     "output_type": "display_data"
    },
    {
     "data": {
      "text/html": [
       " View project at <a href='https://wandb.ai/rokii-ku-leuven/MAIthesis' target=\"_blank\">https://wandb.ai/rokii-ku-leuven/MAIthesis</a>"
      ],
      "text/plain": [
       "<IPython.core.display.HTML object>"
      ]
     },
     "metadata": {},
     "output_type": "display_data"
    },
    {
     "data": {
      "text/html": [
       " View run at <a href='https://wandb.ai/rokii-ku-leuven/MAIthesis/runs/n6y8pm1u' target=\"_blank\">https://wandb.ai/rokii-ku-leuven/MAIthesis/runs/n6y8pm1u</a>"
      ],
      "text/plain": [
       "<IPython.core.display.HTML object>"
      ]
     },
     "metadata": {},
     "output_type": "display_data"
    }
   ],
   "source": [
    "# ==================== Wandb config\n",
    "run = wandb.init(project=\"MAIthesis\", name=\"xgboost-clf-baseline\", tags=[\"baseline\", \"xgboost\", \"question-classification\", \"tfidf\"], job_type=\"model-training\", dir=\"/content/drive/MyDrive/ColabNotebooks/colabMAIbaselines/experiments/\")\n",
    "\n",
    "config = wandb.config\n",
    "config.max_depth = 6\n",
    "config.learning_rate = 0.3\n",
    "config.n_estimators = 100\n",
    "config.objective = 'binary:logistic'\n",
    "config.random_state = 69\n",
    "config.subsample = 0.8\n",
    "config.colsample_bytree = 0.8\n",
    "config.eval_metric='error'\n",
    "\n",
    "\n",
    "wandb.run.notes = \"Baseline experiments with polar vs. content question type classification using XGBoost classifier on subword TF-IDF vectors\""
   ]
  },
  {
   "cell_type": "code",
   "execution_count": 4,
   "metadata": {
    "colab": {
     "base_uri": "https://localhost:8080/",
     "height": 397,
     "referenced_widgets": [
      "4380c339d6da4cd6916443631ffe0aa4",
      "016134edeb634885a9b8f6678a9147d1",
      "443bf8600f514c8e8adfef01cc0506a9",
      "c1ef5102b938457e82a378158936e82c",
      "5444d24a24b1454fb203f66d9e25ab23",
      "931ae8576072440bb0c98e5494a44b0a",
      "da3fe9a516e1431a8a630b6e154a6f88",
      "ccd4e4c49db145d895e2fb48b477b540",
      "f81f5f60771748b3a44f17dc1a3ea3a7",
      "3eb549b225424c68be1e865269c455f1",
      "47f6583441e844fd98292cf513157315",
      "56c465122306486eaa1ade871b5a5ec5",
      "b1c1ccb48b464b6689eac3e02f991a29",
      "d38ec0f4dab14325b0ce0b262896b4ff",
      "f45555693838445eb351fe3f82b908d9",
      "4e4b96aac56b4457afe1c13506bc388f",
      "24c7dcb5324b4e93a49eb60530ade66d",
      "48e307b38eea41a6b22bf2f8414a033b",
      "59404372a89c42838517a74973ddc7c6",
      "95fc2b56182f44988d74260db12a4028",
      "7806360d94e14cc88aab7d7c1d61ca36",
      "a19a8dcbb2e44550bfb5f8b283c74120",
      "1f136d23fd6f4556b4d132d323ec6c25",
      "1dd34b20a43047cd9cbd42005219d442",
      "c79dce296def443d97b97d5a2a67c97c",
      "e335d82feb1345829ed41d2f611c8ee9",
      "748434316de64cb193b5d9c29bcb86d2",
      "b24cd85b624a4422b9a0334e2638d335",
      "295189991db84348be5a493a125a0da6",
      "1616d6bd66a647b68ee4b93ca277d147",
      "e34910ef5fe44df0828f481a507f666e",
      "84975d3f24c543f888dc534411d35a23",
      "9ed156a9f5244c45aa6c3eb2b71baf84",
      "5bbbce73f45f4fc38589285e3bc12e8d",
      "d69f624992ec4d98b26cfbe4eda7858a",
      "2c7de6bb900c4e61bd68a8cc9cb0ccd3",
      "b40d509e2b184b6d842bda5236f8e898",
      "bbc4036b76de48329d5c5cc37a05de2c",
      "49d03beb1e54403eaac043c366e574bd",
      "b741b68efd3a42a1a461584a340de883",
      "5db714e5f8b54679bac81d733b11b8eb",
      "c8fa9f1ad8ba4187b131d0e847a7bb65",
      "1b0df9053293460baee59b0b13aedb46",
      "bb55ec4bee284194aaac98186577a0a5",
      "17d0981cec14471cbb58b65f552116fe",
      "8734f62aa37c4205873f93d6742b0c2a",
      "8b7f3376c0a9497985de50ed2bbc1519",
      "041ae3eed80a402e9d6fbc667e91c8cd",
      "2c1409e181ca4f4fa4f08c2cb6e094eb",
      "f1a5df8b34674411a830b6a8e5a9d51c",
      "e1112afbf79c484b93122993f6a33a90",
      "3c98301d592040df885d839c617cdb90",
      "d110b9d310c14877aaff4764564377d2",
      "d62dc3b8bf864377a8162dc1f5667e72",
      "365ec555ce3147da9ad53b51aa8a970b",
      "09755d1b357649229ce330e18b5173b0",
      "aef2932aa7d34acca127f9f5b6197333",
      "bf9fdf5e88d2410bb2d7bf23d4aab72d",
      "0b7799823885443cb3a7f88fd3cdad1b",
      "d3ecd9294e2d4fdabe8d3849aea024cf",
      "89539baf49754f6ca902321675a3dd25",
      "0897591d57344be08ccabc93b3e2a4cc",
      "37f50b91b9ed4b54a2d68219caaccc0b",
      "ec0f760472fd4ee8809bc98e5869e951",
      "a6c8161ce99e447395524eed3c3442f0",
      "cde1d34173c8457b97305a8eb8f07115",
      "0d97c5c5725b45d9b6cdb41b8e705358",
      "cb0df366978e49709d35aa3a3db163c9",
      "279630c7c33e469cb091d9ca8da3f43e",
      "b14301eeaed84cd79f984a46dbc7e4af",
      "e80674aca880499fb17883c31fad6bcd",
      "57520d49ced844b7992553dde7e1caaf",
      "12c937772353466b92951e2e4708dd12",
      "1ed75e4fa95047e0bab61338dcb8ff4b",
      "b86836fedc6f4443a34815782c3e9e08",
      "d4c2c175c3274647b78ff28fdbc0ab1b",
      "a6fe36368eb846fcb657b3362b6684e2"
     ]
    },
    "collapsed": true,
    "executionInfo": {
     "elapsed": 6834,
     "status": "ok",
     "timestamp": 1742912318082,
     "user": {
      "displayName": "Robin Kokot",
      "userId": "12410801071273089859"
     },
     "user_tz": -60
    },
    "id": "iSoUtuPZe5zX",
    "outputId": "2c55f059-a6c4-4a14-92f8-818f40372bda"
   },
   "outputs": [
    {
     "name": "stderr",
     "output_type": "stream",
     "text": [
      "/usr/local/lib/python3.11/dist-packages/huggingface_hub/utils/_auth.py:94: UserWarning: \n",
      "The secret `HF_TOKEN` does not exist in your Colab secrets.\n",
      "To authenticate with the Hugging Face Hub, create a token in your settings tab (https://huggingface.co/settings/tokens), set it as secret in your Google Colab and restart your session.\n",
      "You will be able to reuse this secret in all of your notebooks.\n",
      "Please note that authentication is recommended but still optional to access public models or datasets.\n",
      "  warnings.warn(\n"
     ]
    },
    {
     "data": {
      "application/vnd.jupyter.widget-view+json": {
       "model_id": "4380c339d6da4cd6916443631ffe0aa4",
       "version_major": 2,
       "version_minor": 0
      },
      "text/plain": [
       "README.md:   0%|          | 0.00/15.0k [00:00<?, ?B/s]"
      ]
     },
     "metadata": {},
     "output_type": "display_data"
    },
    {
     "data": {
      "application/vnd.jupyter.widget-view+json": {
       "model_id": "56c465122306486eaa1ade871b5a5ec5",
       "version_major": 2,
       "version_minor": 0
      },
      "text/plain": [
       "tydi_train_base.csv:   0%|          | 0.00/885k [00:00<?, ?B/s]"
      ]
     },
     "metadata": {},
     "output_type": "display_data"
    },
    {
     "data": {
      "application/vnd.jupyter.widget-view+json": {
       "model_id": "1f136d23fd6f4556b4d132d323ec6c25",
       "version_major": 2,
       "version_minor": 0
      },
      "text/plain": [
       "dev_base.csv:   0%|          | 0.00/57.4k [00:00<?, ?B/s]"
      ]
     },
     "metadata": {},
     "output_type": "display_data"
    },
    {
     "data": {
      "application/vnd.jupyter.widget-view+json": {
       "model_id": "5bbbce73f45f4fc38589285e3bc12e8d",
       "version_major": 2,
       "version_minor": 0
      },
      "text/plain": [
       "ud_test_base.csv:   0%|          | 0.00/97.2k [00:00<?, ?B/s]"
      ]
     },
     "metadata": {},
     "output_type": "display_data"
    },
    {
     "data": {
      "application/vnd.jupyter.widget-view+json": {
       "model_id": "17d0981cec14471cbb58b65f552116fe",
       "version_major": 2,
       "version_minor": 0
      },
      "text/plain": [
       "Generating train split:   0%|          | 0/7460 [00:00<?, ? examples/s]"
      ]
     },
     "metadata": {},
     "output_type": "display_data"
    },
    {
     "data": {
      "application/vnd.jupyter.widget-view+json": {
       "model_id": "09755d1b357649229ce330e18b5173b0",
       "version_major": 2,
       "version_minor": 0
      },
      "text/plain": [
       "Generating validation split:   0%|          | 0/441 [00:00<?, ? examples/s]"
      ]
     },
     "metadata": {},
     "output_type": "display_data"
    },
    {
     "data": {
      "application/vnd.jupyter.widget-view+json": {
       "model_id": "0d97c5c5725b45d9b6cdb41b8e705358",
       "version_major": 2,
       "version_minor": 0
      },
      "text/plain": [
       "Generating test split:   0%|          | 0/719 [00:00<?, ? examples/s]"
      ]
     },
     "metadata": {},
     "output_type": "display_data"
    },
    {
     "name": "stdout",
     "output_type": "stream",
     "text": [
      "Train label distribution: [3778 3682]\n",
      "Test label distribution: [367 352]\n",
      "Validation label distribution: [223 218]\n"
     ]
    }
   ],
   "source": [
    "# ==================== Dataset loading and label config\n",
    "dataset = load_dataset(\"rokokot/question-type-and-complexity-v2\")\n",
    "\n",
    "y_train = np.array(dataset['train']['question_type'])\n",
    "y_dev = np.array(dataset['validation']['question_type'])\n",
    "y_test= np.array(dataset['test']['question_type'])\n",
    "\n",
    "print(f\"Train label distribution: {np.bincount(y_train)}\")\n",
    "print(f\"Test label distribution: {np.bincount(y_test)}\")\n",
    "print(f\"Validation label distribution: {np.bincount(y_dev)}\")"
   ]
  },
  {
   "cell_type": "code",
   "execution_count": 5,
   "metadata": {
    "colab": {
     "base_uri": "https://localhost:8080/"
    },
    "executionInfo": {
     "elapsed": 3512,
     "status": "ok",
     "timestamp": 1742912329315,
     "user": {
      "displayName": "Robin Kokot",
      "userId": "12410801071273089859"
     },
     "user_tz": -60
    },
    "id": "VYOp3xbGl09Q",
    "outputId": "fd2c8dbb-0846-4822-cf7e-a7f02fded8f3"
   },
   "outputs": [
    {
     "name": "stdout",
     "output_type": "stream",
     "text": [
      "\n",
      "checking shapes of features and labels:\n",
      "Train - Features: 7460, Labels: 7460\n",
      "Test - Features: 719, Labels: 719\n",
      "Validation - Features: 441, Labels: 441\n"
     ]
    }
   ],
   "source": [
    "# ==================== TFIDF vectors loading\n",
    "train_vectors = \"/content/drive/MyDrive/ColabNotebooks/colabMAIbaselines/data/vectors/tfidf_vectors_train.pkl\"\n",
    "dev_vectors = \"/content/drive/MyDrive/ColabNotebooks/colabMAIbaselines/data/vectors/tfidf_vectors_dev.pkl\"\n",
    "test_vectors = \"/content/drive/MyDrive/ColabNotebooks/colabMAIbaselines/data/vectors/tfidf_vectors_test.pkl\"\n",
    "\n",
    "with open(train_vectors, 'rb') as v:\n",
    "  X_train = pickle.load(v)\n",
    "with open(dev_vectors, 'rb') as v:\n",
    "  X_dev = pickle.load(v)\n",
    "with open(test_vectors, 'rb') as v:\n",
    "  X_test = pickle.load(v)\n",
    "\n",
    "print(\"\\nchecking shapes of features and labels:\")\n",
    "print(f\"Train - Features: {X_train.shape[0]}, Labels: {y_train.shape[0]}\")\n",
    "print(f\"Test - Features: {X_test.shape[0]}, Labels: {y_test.shape[0]}\")\n",
    "print(f\"Validation - Features: {X_dev.shape[0]}, Labels: {y_dev.shape[0]}\")"
   ]
  },
  {
   "cell_type": "markdown",
   "metadata": {
    "id": "jBUHxjHBe5zi"
   },
   "source": []
  },
  {
   "cell_type": "code",
   "execution_count": 6,
   "metadata": {
    "executionInfo": {
     "elapsed": 35,
     "status": "ok",
     "timestamp": 1742912333610,
     "user": {
      "displayName": "Robin Kokot",
      "userId": "12410801071273089859"
     },
     "user_tz": -60
    },
    "id": "Hbn2AKhBl09V"
   },
   "outputs": [],
   "source": [
    "# ====================== Helper functions for data formatting\n",
    "sparse_matrices = [matrix[0] for matrix in X_train]\n",
    "X_train_stacked = vstack(sparse_matrices)\n",
    "\n",
    "sparse_matrices = [matrix[0] for matrix in X_dev]\n",
    "X_dev_stacked = vstack(sparse_matrices)\n",
    "\n",
    "sparse_matrices_test = [matrix[0] for matrix in X_test]\n",
    "X_test_stacked = vstack(sparse_matrices_test)"
   ]
  },
  {
   "cell_type": "markdown",
   "metadata": {
    "id": "BumiXNUBl09Z"
   },
   "source": [
    "## XGBoost baseline classifier setup"
   ]
  },
  {
   "cell_type": "code",
   "execution_count": 7,
   "metadata": {
    "executionInfo": {
     "elapsed": 10,
     "status": "ok",
     "timestamp": 1742912336676,
     "user": {
      "displayName": "Robin Kokot",
      "userId": "12410801071273089859"
     },
     "user_tz": -60
    },
    "id": "5DN4-CRBl09b"
   },
   "outputs": [],
   "source": [
    "# ==================== XGBoost config with TFIDF vectors\n",
    "xgb_clf = xgb.XGBClassifier(\n",
    "    max_depth=config.max_depth,\n",
    "    learning_rate=config.learning_rate,\n",
    "    n_estimators=config.n_estimators,\n",
    "    objective=config.objective,\n",
    "    random_state=config.random_state,\n",
    "    subsample=config.subsample,\n",
    "    colsample_bytree=config.colsample_bytree,\n",
    "    eval_metric=config.eval_metric\n",
    ")\n",
    "\n",
    "wandb.config.update({\n",
    "  \"model_type\": \"XGBoost\",\n",
    "  \"feature_type\": \"TF-IDF\",\n",
    "  \"train_samples\": X_train_stacked.shape[0],\n",
    "  \"test_samples\": X_test_stacked.shape[0],\n",
    "  \"dev_samples\": X_dev_stacked.shape[0],\n",
    "  \"feature_dim\": X_train_stacked.shape[1]\n",
    "})"
   ]
  },
  {
   "cell_type": "code",
   "execution_count": 8,
   "metadata": {
    "colab": {
     "base_uri": "https://localhost:8080/"
    },
    "executionInfo": {
     "elapsed": 64689,
     "status": "ok",
     "timestamp": 1742912423004,
     "user": {
      "displayName": "Robin Kokot",
      "userId": "12410801071273089859"
     },
     "user_tz": -60
    },
    "id": "GzfriESihew9",
    "outputId": "296aae44-afcb-4b08-c87f-a6b7d6c6e4d2"
   },
   "outputs": [
    {
     "name": "stdout",
     "output_type": "stream",
     "text": [
      "[0]\tvalidation_0-error:0.26233\tvalidation_1-error:0.31293\n",
      "[50]\tvalidation_0-error:0.03338\tvalidation_1-error:0.14739\n",
      "[99]\tvalidation_0-error:0.01609\tvalidation_1-error:0.12245\n",
      "training took 64.68 seconds\n"
     ]
    }
   ],
   "source": [
    "# ==================== Train the model with real labels\n",
    "start_time = time.time()\n",
    "\n",
    "xgb_clf.fit(X_train_stacked, y_train, eval_set=[(X_train_stacked, y_train), (X_dev_stacked, y_dev)], verbose=50)\n",
    "\n",
    "training_time = time.time() - start_time\n",
    "print(f\"training took {training_time:.2f} seconds\")\n",
    "wandb.log({\"training_time\": training_time})"
   ]
  },
  {
   "cell_type": "code",
   "execution_count": 9,
   "metadata": {
    "colab": {
     "base_uri": "https://localhost:8080/",
     "height": 676
    },
    "executionInfo": {
     "elapsed": 2007,
     "status": "ok",
     "timestamp": 1742912441337,
     "user": {
      "displayName": "Robin Kokot",
      "userId": "12410801071273089859"
     },
     "user_tz": -60
    },
    "id": "33YXghoRh6Z6",
    "outputId": "27cc61b7-fcf2-4004-84f4-81497123a6d4"
   },
   "outputs": [
    {
     "name": "stdout",
     "output_type": "stream",
     "text": [
      "Dev Set: Accuracy = 0.8776, F1 Score = 0.8773\n",
      "Confusion Matrix (Dev Set):\n",
      "[[194  29]\n",
      " [ 25 193]]\n"
     ]
    },
    {
     "data": {
      "image/png": "[encoded data removed]",
      "text/plain": [
       "<Figure size 800x600 with 2 Axes>"
      ]
     },
     "metadata": {},
     "output_type": "display_data"
    }
   ],
   "source": [
    "# ==================== Model evaluation - Dev set\n",
    "y_pred_dev = xgb_clf.predict(X_dev_stacked)\n",
    "y_pred_proba_dev = xgb_clf.predict_proba(X_dev_stacked)[:, 1]\n",
    "\n",
    "accuracy_dev = accuracy_score(y_dev, y_pred_dev)\n",
    "precision_dev, recall_dev, f1_dev, _ = precision_recall_fscore_support(y_dev, y_pred_proba_dev > 0.5, average='binary')\n",
    "\n",
    "print(f\"Dev Set: Accuracy = {accuracy_dev:.4f}, F1 Score = {f1_dev:.4f}\")\n",
    "\n",
    "cm_dev = confusion_matrix(y_dev, y_pred_dev)\n",
    "print(\"Confusion Matrix (Dev Set):\")\n",
    "print(cm_dev)\n",
    "\n",
    "plt.figure(figsize=(8, 6))\n",
    "sns.heatmap(cm_dev, annot=True, fmt='d', cmap='Blues',xticklabels=['Content', 'Polar'],  yticklabels=['Content', 'Polar'])\n",
    "plt.xlabel('Predicted')\n",
    "plt.ylabel('Actual')\n",
    "plt.title('Confusion Matrix (Dev Set)')\n",
    "plt.tight_layout()\n",
    "\n",
    "wandb.log({\"dev_accuracy\": accuracy_dev, \"dev_precision\": precision_dev, \"dev_recall\":recall_dev, \"dev_f1\": f1_dev})\n",
    "wandb.log({\"dev_confusion_matrix\": wandb.Image(plt)})"
   ]
  },
  {
   "cell_type": "code",
   "execution_count": 10,
   "metadata": {
    "colab": {
     "base_uri": "https://localhost:8080/",
     "height": 633
    },
    "executionInfo": {
     "elapsed": 84,
     "status": "ok",
     "timestamp": 1742912450553,
     "user": {
      "displayName": "Robin Kokot",
      "userId": "12410801071273089859"
     },
     "user_tz": -60
    },
    "id": "hfGVrDBAl09j",
    "outputId": "da52c144-49af-4fae-c956-c535504c0262"
   },
   "outputs": [
    {
     "name": "stdout",
     "output_type": "stream",
     "text": [
      "Test Set: Accuracy = 0.7761, F1 Score = 0.7895\n",
      "Confusion Matrix (Test Set):\n",
      "[[256 111]\n",
      " [ 50 302]]\n"
     ]
    },
    {
     "data": {
      "image/png": "[encoded data removed]",
      "text/plain": [
       "<Figure size 800x600 with 2 Axes>"
      ]
     },
     "metadata": {},
     "output_type": "display_data"
    }
   ],
   "source": [
    "# ==================== Evaluation - Test set\n",
    "y_pred_test = xgb_clf.predict(X_test_stacked)\n",
    "y_pred_proba_test = xgb_clf.predict_proba(X_test_stacked)[:, 1]\n",
    "\n",
    "accuracy_test = accuracy_score(y_test, y_pred_test)\n",
    "precision_test, recall_test, f1_test, _ = precision_recall_fscore_support(y_test, y_pred_proba_test > 0.5, average='binary')\n",
    "print(f\"Test Set: Accuracy = {accuracy_test:.4f}, F1 Score = {f1_test:.4f}\")\n",
    "\n",
    "cm_test = confusion_matrix(y_test, y_pred_test)\n",
    "print(\"Confusion Matrix (Test Set):\")\n",
    "print(cm_test)\n",
    "\n",
    "plt.figure(figsize=(8, 6))\n",
    "sns.heatmap(cm_test, annot=True, fmt='d', cmap='Blues', xticklabels=['Content', 'Polar'], yticklabels=['Content', 'Polar'])\n",
    "plt.xlabel('Predicted')\n",
    "plt.ylabel('Actual')\n",
    "plt.title('Confusion Matrix (Test Set)')\n",
    "plt.tight_layout\n",
    "\n",
    "wandb.log({\"test_accuracy\": accuracy_test,\"test_precision\": precision_test,\"test_recall\": recall_test,\"test_f1\": f1_test})\n",
    "wandb.log({\"test_confusion_matrix\": wandb.Image(plt)})"
   ]
  },
  {
   "cell_type": "code",
   "execution_count": 11,
   "metadata": {
    "colab": {
     "base_uri": "https://localhost:8080/",
     "height": 868
    },
    "executionInfo": {
     "elapsed": 837,
     "status": "ok",
     "timestamp": 1742912480130,
     "user": {
      "displayName": "Robin Kokot",
      "userId": "12410801071273089859"
     },
     "user_tz": -60
    },
    "id": "Kd37F5vDl09l",
    "outputId": "32a4dde1-4125-4531-8fe1-417f10d17a9b"
   },
   "outputs": [
    {
     "name": "stdout",
     "output_type": "stream",
     "text": [
      "Top 50 important features:\n",
      "       feature_index  importance\n",
      "86932          86932    0.037190\n",
      "14529          14529    0.036031\n",
      "1779            1779    0.033070\n",
      "545              545    0.027282\n",
      "1996            1996    0.027063\n",
      "...              ...         ...\n",
      "100              100    0.005909\n",
      "8                  8    0.005837\n",
      "347              347    0.005817\n",
      "2616            2616    0.005601\n",
      "2596            2596    0.005521\n",
      "\n",
      "[50 rows x 2 columns]\n"
     ]
    },
    {
     "data": {
      "image/png": "[encoded data removed]",
      "text/plain": [
       "<Figure size 1000x600 with 1 Axes>"
      ]
     },
     "metadata": {},
     "output_type": "display_data"
    }
   ],
   "source": [
    "# ==================== Feature importance extraction\n",
    "importance = xgb_clf.feature_importances_\n",
    "feature_importance_df = pd.DataFrame({'feature_index': range(len(importance)),'importance': importance}).sort_values('importance',ascending=False)\n",
    "\n",
    "top_features = feature_importance_df.head(50)\n",
    "print(\"Top 50 important features:\")\n",
    "print(top_features)\n",
    "\n",
    "plt.figure(figsize=(10, 6))\n",
    "plt.bar(range(50), top_features['importance'])\n",
    "plt.xlabel('Feature Index')\n",
    "plt.ylabel('Importance')\n",
    "plt.title('Top 50 Important Features')\n",
    "plt.tight_layout()\n",
    "\n",
    "wandb.log({\"feature_importance\": wandb.Image(plt)})\n",
    "wandb.log({\"feature_importance_table\": wandb.Table(data=[[int(idx), float(imp)] for idx, imp in zip(top_features['feature_index'], top_features['importance'])],columns=[\"feature_index\", \"importance\"])})"
   ]
  },
  {
   "cell_type": "code",
   "execution_count": 12,
   "metadata": {
    "colab": {
     "base_uri": "https://localhost:8080/"
    },
    "executionInfo": {
     "elapsed": 2562,
     "status": "ok",
     "timestamp": 1742912605018,
     "user": {
      "displayName": "Robin Kokot",
      "userId": "12410801071273089859"
     },
     "user_tz": -60
    },
    "id": "pB4W-pVNl09n",
    "outputId": "269207ef-2af3-4893-9c00-055163c327fc"
   },
   "outputs": [
    {
     "name": "stdout",
     "output_type": "stream",
     "text": [
      "Top tokens by importance:\n",
      "Token\t\tIndex\tIDF Value\n",
      "----------------------------------------\n",
      "▁Onko            86932 0.0000\n",
      "▁هل              14529 0.0000\n",
      "▁ли               1779 0.0000\n",
      "は                  545 0.0000\n",
      "▁Is               1996 0.0000\n",
      "初                12432 0.0000\n",
      "▁Apakah          47503 0.0000\n",
      "?                   24 0.3069\n",
      "▁O                 177 0.0000\n",
      "▁apakah          45841 0.0000\n",
      "何                 9007 0.0000\n",
      "▁What            66274 0.0000\n",
      "▁on                149 0.0000\n",
      "인가               67398 0.0000\n",
      "▁Does           121905 0.0000\n",
      "▁Does           121905 0.0000\n",
      "▁was              1513 0.0000\n",
      "▁Mill            16990 0.0000\n",
      "▁Do               3018 0.0000\n",
      "▁is                117 0.3069\n"
     ]
    }
   ],
   "source": [
    "# ==================== Load the token to index map for interpretation of the features\n",
    "with open('/content/drive/MyDrive/ColabNotebooks/colabMAIbaselines/data/vectors/token_to_index_mapping.pkl', 'rb') as f:\n",
    "    token_to_index = pickle.load(f)\n",
    "with open('/content/drive/MyDrive/ColabNotebooks/colabMAIbaselines/data/vectors/idf_values.pkl', 'rb') as f:\n",
    "    idf_values = pickle.load(f)\n",
    "\n",
    "index_to_token = {idx: token for token, idx in token_to_index.items()}\n",
    "\n",
    "top_indices = [86932, 14529, 1779, 545, 1996, 12432, 47503, 24, 177, 45841, 9007, 66274, 149, 67398, 121905, 121905, 1513, 16990, 3018, 117] # to do: fix this\n",
    "\n",
    "top_features = []\n",
    "for idx in top_indices:\n",
    "    token = index_to_token.get(idx, f\"Unknown-{idx}\")\n",
    "    idf = idf_values.get(idx, 0) if isinstance(idf_values, dict) else 0\n",
    "    top_features.append((token, idx, idf))\n",
    "\n",
    "print(\"Top tokens by importance:\")\n",
    "print(\"Token\\t\\tIndex\\tIDF Value\")\n",
    "print(\"-\" * 40)\n",
    "for token, idx, idf in top_features:\n",
    "    token_str = token if len(str(token)) < 8 else f\"{token[:7]}...\"\n",
    "    print(f\"{token_str:15} {idx:6d} {idf:.4f}\")"
   ]
  },
  {
   "cell_type": "code",
   "execution_count": 14,
   "metadata": {
    "colab": {
     "base_uri": "https://localhost:8080/"
    },
    "executionInfo": {
     "elapsed": 59,
     "status": "ok",
     "timestamp": 1742912741285,
     "user": {
      "displayName": "Robin Kokot",
      "userId": "12410801071273089859"
     },
     "user_tz": -60
    },
    "id": "zaTJ5dxfl09o",
    "outputId": "309d515e-2088-4205-8998-e47063f4453f"
   },
   "outputs": [
    {
     "name": "stderr",
     "output_type": "stream",
     "text": [
      "\u001b[34m\u001b[1mwandb\u001b[0m: \u001b[33mWARNING\u001b[0m Saving files without folders. If you want to preserve subdirectories pass base_path to wandb.save, i.e. wandb.save(\"/mnt/folder/file.h5\", base_path=\"/mnt\")\n"
     ]
    },
    {
     "data": {
      "text/plain": [
       "['/content/wandb/run-20250325_141753-n6y8pm1u/files/models/xgboost_clf_model.json']"
      ]
     },
     "execution_count": 14,
     "metadata": {},
     "output_type": "execute_result"
    }
   ],
   "source": [
    "# ==================== Save Model\n",
    "model_path = '/content/drive/MyDrive/ColabNotebooks/colabMAIbaselines/experiments/models/xgboost_clf_model.json'\n",
    "xgb_clf.save_model(model_path)\n",
    "\n",
    "wandb.save(model_path)"
   ]
  },
  {
   "cell_type": "markdown",
   "metadata": {
    "id": "v6QTIOK8l09q"
   },
   "source": [
    "## XGBoost with control labels\n"
   ]
  },
  {
   "cell_type": "code",
   "execution_count": null,
   "metadata": {
    "executionInfo": {
     "elapsed": 19,
     "status": "ok",
     "timestamp": 1742913109301,
     "user": {
      "displayName": "Robin Kokot",
      "userId": "12410801071273089859"
     },
     "user_tz": -60
    },
    "id": "r2gpmflhl09r"
   },
   "outputs": [],
   "source": [
    "# ==================== XGBoost config with TFIDF vectors in a loop over destroyed labels\n",
    "\n",
    "def train_destroyed_label(seed, y_train_destroyed):\n",
    "\n",
    "    wandb.init(\n",
    "        project=\"MAIthesis\",\n",
    "        name=f\"xgboost-destroyed-seed-{seed}\",\n",
    "        tags=[\"baseline\", \"xgboost\", \"control-labels\"],\n",
    "        job_type=\"model-training\",\n",
    "        reinit=True\n",
    "    )\n",
    "\n",
    "    config = wandb.config\n",
    "    config.max_depth = 6\n",
    "    config.learning_rate = 0.3\n",
    "    config.n_estimators = 100\n",
    "    config.objective = 'binary:logistic'\n",
    "    config.random_state = 69\n",
    "    config.subsample = 0.8\n",
    "    config.colsample_bytree = 0.8\n",
    "    config.eval_metric = 'error'\n",
    "\n",
    "    wandb.config.update({\n",
    "        \"model_type\": \"XGBoost\",\n",
    "        \"feature_type\": \"TF-IDF\",\n",
    "        \"label_type\": f\"destroyed-seed-{seed}\",\n",
    "        \"train_samples\": X_train_stacked.shape[0],\n",
    "        \"test_samples\": X_test_stacked.shape[0],\n",
    "        \"dev_samples\": X_dev_stacked.shape[0],\n",
    "        \"feature_dim\": X_train_stacked.shape[1]\n",
    "    })\n",
    "\n",
    "    xgb_clf = xgb.XGBClassifier(\n",
    "        max_depth=config.max_depth,\n",
    "        learning_rate=config.learning_rate,\n",
    "        n_estimators=config.n_estimators,\n",
    "        objective=config.objective,\n",
    "        random_state=config.random_state,\n",
    "        subsample=config.subsample,\n",
    "        colsample_bytree=config.colsample_bytree,\n",
    "        eval_metric=config.eval_metric\n",
    "    )\n",
    "\n",
    "    start_time = time.time()\n",
    "    xgb_clf.fit(\n",
    "        X_train_stacked, y_train_destroyed,\n",
    "        eval_set=[(X_train_stacked, y_train_destroyed), (X_dev_stacked, y_dev)],\n",
    "        verbose=50\n",
    "    )\n",
    "    training_time = time.time() - start_time\n",
    "    print(f\"Training took {training_time:.2f} seconds\")\n",
    "    wandb.log({\"training_time\": training_time})\n",
    "\n",
    "    # ==================== Evaluate on dev set (real labels)\n",
    "    y_pred_dev = xgb_clf.predict(X_dev_stacked)\n",
    "    y_pred_proba_dev = xgb_clf.predict_proba(X_dev_stacked)[:, 1]\n",
    "    accuracy_dev = accuracy_score(y_dev, y_pred_dev)\n",
    "    precision_dev, recall_dev, f1_dev, _ = precision_recall_fscore_support(y_dev, y_pred_proba_dev > 0.5, average='binary')\n",
    "\n",
    "    print(f\"Dev Set: Accuracy = {accuracy_dev:.4f}, F1 Score = {f1_dev:.4f}\")\n",
    "\n",
    "    cm_dev = confusion_matrix(y_dev, y_pred_dev)\n",
    "    print(\"Confusion Matrix (Dev Set):\")\n",
    "    print(cm_dev)\n",
    "\n",
    "    plt.figure(figsize=(8, 6))\n",
    "    sns.heatmap(cm_dev, annot=True, fmt='d', cmap='Blues',xticklabels=['Content', 'Polar'],yticklabels=['Content', 'Polar'])\n",
    "    plt.xlabel('Predicted')\n",
    "    plt.ylabel('Actual')\n",
    "    plt.title(f'Confusion Matrix - Dev Set (Destroyed Seed {seed})')\n",
    "    plt.tight_layout()\n",
    "\n",
    "    wandb.log({\"dev_accuracy\": accuracy_dev,\"dev_precision\": precision_dev,\"dev_recall\": recall_dev,\"dev_f1\": f1_dev})\n",
    "    wandb.log({\"dev_confusion_matrix\": wandb.Image(plt)})\n",
    "\n",
    "    # ==================== Evaluate on test set (real labels)\n",
    "    y_pred_test = xgb_clf.predict(X_test_stacked)\n",
    "    y_pred_proba_test = xgb_clf.predict_proba(X_test_stacked)[:, 1]\n",
    "\n",
    "    accuracy_test = accuracy_score(y_test, y_pred_test)\n",
    "    precision_test, recall_test, f1_test, _ = precision_recall_fscore_support(y_test, y_pred_proba_test > 0.5, average='binary')\n",
    "\n",
    "    print(f\"Test Set: Accuracy = {accuracy_test:.4f}, F1 Score = {f1_test:.4f}\")\n",
    "\n",
    "    cm_test = confusion_matrix(y_test, y_pred_test)\n",
    "    print(\"Confusion Matrix (Test Set):\")\n",
    "    print(cm_test)\n",
    "\n",
    "\n",
    "    plt.figure(figsize=(8, 6))\n",
    "    sns.heatmap(cm_test, annot=True, fmt='d', cmap='Blues',xticklabels=['Content', 'Polar'],yticklabels=['Content', 'Polar'])\n",
    "    plt.xlabel('Predicted')\n",
    "    plt.ylabel('Actual')\n",
    "    plt.title(f'Confusion Matrix - Test Set (Destroyed Seed {seed})')\n",
    "    plt.tight_layout()\n",
    "\n",
    "    wandb.log({\"test_accuracy\": accuracy_test,\"test_precision\": precision_test,\"test_recall\": recall_test,\"test_f1\": f1_test})\n",
    "    wandb.log({\"test_confusion_matrix\": wandb.Image(plt)})\n",
    "\n",
    "    model_path = f'/content/drive/MyDrive/ColabNotebooks/colabMAIbaselines/experiments/models/xgboost_clf_destroyed_seed_{seed}_model.json'\n",
    "    xgb_clf.save_model(model_path)\n",
    "    wandb.save(model_path)\n",
    "\n",
    "\n",
    "    return {'model': xgb_clf,'metrics': {'dev_accuracy': accuracy_dev,'dev_f1': f1_dev,'test_accuracy': accuracy_test,'test_f1': f1_test}}\n"
   ]
  },
  {
   "cell_type": "code",
   "execution_count": 29,
   "metadata": {
    "colab": {
     "base_uri": "https://localhost:8080/",
     "height": 1000
    },
    "executionInfo": {
     "elapsed": 212021,
     "status": "ok",
     "timestamp": 1742915087347,
     "user": {
      "displayName": "Robin Kokot",
      "userId": "12410801071273089859"
     },
     "user_tz": -60
    },
    "id": "SmdpUKGfl09t",
    "outputId": "bf893877-1552-445a-c7bd-74cf3a19001a"
   },
   "outputs": [
    {
     "data": {
      "text/html": [
       "Tracking run with wandb version 0.19.8"
      ],
      "text/plain": [
       "<IPython.core.display.HTML object>"
      ]
     },
     "metadata": {},
     "output_type": "display_data"
    },
    {
     "data": {
      "text/html": [
       "Run data is saved locally in <code>/content/wandb/run-20250325_150115-20geckho</code>"
      ],
      "text/plain": [
       "<IPython.core.display.HTML object>"
      ]
     },
     "metadata": {},
     "output_type": "display_data"
    },
    {
     "data": {
      "text/html": [
       "Syncing run <strong><a href='https://wandb.ai/rokii-ku-leuven/MAIthesis/runs/20geckho' target=\"_blank\">xgboost-destroyed-seed-1</a></strong> to <a href='https://wandb.ai/rokii-ku-leuven/MAIthesis' target=\"_blank\">Weights & Biases</a> (<a href='https://wandb.me/developer-guide' target=\"_blank\">docs</a>)<br>"
      ],
      "text/plain": [
       "<IPython.core.display.HTML object>"
      ]
     },
     "metadata": {},
     "output_type": "display_data"
    },
    {
     "data": {
      "text/html": [
       " View project at <a href='https://wandb.ai/rokii-ku-leuven/MAIthesis' target=\"_blank\">https://wandb.ai/rokii-ku-leuven/MAIthesis</a>"
      ],
      "text/plain": [
       "<IPython.core.display.HTML object>"
      ]
     },
     "metadata": {},
     "output_type": "display_data"
    },
    {
     "data": {
      "text/html": [
       " View run at <a href='https://wandb.ai/rokii-ku-leuven/MAIthesis/runs/20geckho' target=\"_blank\">https://wandb.ai/rokii-ku-leuven/MAIthesis/runs/20geckho</a>"
      ],
      "text/plain": [
       "<IPython.core.display.HTML object>"
      ]
     },
     "metadata": {},
     "output_type": "display_data"
    },
    {
     "name": "stdout",
     "output_type": "stream",
     "text": [
      "[0]\tvalidation_0-error:0.49035\tvalidation_1-error:0.51020\n",
      "[50]\tvalidation_0-error:0.33365\tvalidation_1-error:0.51247\n",
      "[99]\tvalidation_0-error:0.27131\tvalidation_1-error:0.48526\n",
      "Training took 62.48 seconds\n",
      "Dev Set: Accuracy = 0.5147, F1 Score = 0.4427\n",
      "Confusion Matrix (Dev Set):\n",
      "[[142  81]\n",
      " [133  85]]\n",
      "Test Set: Accuracy = 0.5090, F1 Score = 0.4087\n",
      "Confusion Matrix (Test Set):\n",
      "[[244 123]\n",
      " [230 122]]\n"
     ]
    },
    {
     "data": {
      "text/html": [],
      "text/plain": [
       "<IPython.core.display.HTML object>"
      ]
     },
     "metadata": {},
     "output_type": "display_data"
    },
    {
     "data": {
      "text/html": [
       "<br>    <style><br>        .wandb-row {<br>            display: flex;<br>            flex-direction: row;<br>            flex-wrap: wrap;<br>            justify-content: flex-start;<br>            width: 100%;<br>        }<br>        .wandb-col {<br>            display: flex;<br>            flex-direction: column;<br>            flex-basis: 100%;<br>            flex: 1;<br>            padding: 10px;<br>        }<br>    </style><br><div class=\"wandb-row\"><div class=\"wandb-col\"><h3>Run history:</h3><br/><table class=\"wandb\"><tr><td>dev_accuracy</td><td>▁</td></tr><tr><td>dev_f1</td><td>▁</td></tr><tr><td>dev_precision</td><td>▁</td></tr><tr><td>dev_recall</td><td>▁</td></tr><tr><td>test_accuracy</td><td>▁</td></tr><tr><td>test_f1</td><td>▁</td></tr><tr><td>test_precision</td><td>▁</td></tr><tr><td>test_recall</td><td>▁</td></tr><tr><td>training_time</td><td>▁</td></tr></table><br/></div><div class=\"wandb-col\"><h3>Run summary:</h3><br/><table class=\"wandb\"><tr><td>dev_accuracy</td><td>0.51474</td></tr><tr><td>dev_f1</td><td>0.44271</td></tr><tr><td>dev_precision</td><td>0.51205</td></tr><tr><td>dev_recall</td><td>0.38991</td></tr><tr><td>test_accuracy</td><td>0.50904</td></tr><tr><td>test_f1</td><td>0.40871</td></tr><tr><td>test_precision</td><td>0.49796</td></tr><tr><td>test_recall</td><td>0.34659</td></tr><tr><td>training_time</td><td>62.47754</td></tr></table><br/></div></div>"
      ],
      "text/plain": [
       "<IPython.core.display.HTML object>"
      ]
     },
     "metadata": {},
     "output_type": "display_data"
    },
    {
     "data": {
      "text/html": [
       " View run <strong style=\"color:#cdcd00\">xgboost-destroyed-seed-1</strong> at: <a href='https://wandb.ai/rokii-ku-leuven/MAIthesis/runs/20geckho' target=\"_blank\">https://wandb.ai/rokii-ku-leuven/MAIthesis/runs/20geckho</a><br> View project at: <a href='https://wandb.ai/rokii-ku-leuven/MAIthesis' target=\"_blank\">https://wandb.ai/rokii-ku-leuven/MAIthesis</a><br>Synced 5 W&B file(s), 2 media file(s), 0 artifact file(s) and 1 other file(s)"
      ],
      "text/plain": [
       "<IPython.core.display.HTML object>"
      ]
     },
     "metadata": {},
     "output_type": "display_data"
    },
    {
     "data": {
      "text/html": [
       "Find logs at: <code>./wandb/run-20250325_150115-20geckho/logs</code>"
      ],
      "text/plain": [
       "<IPython.core.display.HTML object>"
      ]
     },
     "metadata": {},
     "output_type": "display_data"
    },
    {
     "data": {
      "text/html": [
       "Tracking run with wandb version 0.19.8"
      ],
      "text/plain": [
       "<IPython.core.display.HTML object>"
      ]
     },
     "metadata": {},
     "output_type": "display_data"
    },
    {
     "data": {
      "text/html": [
       "Run data is saved locally in <code>/content/wandb/run-20250325_150223-nfklr5xe</code>"
      ],
      "text/plain": [
       "<IPython.core.display.HTML object>"
      ]
     },
     "metadata": {},
     "output_type": "display_data"
    },
    {
     "data": {
      "text/html": [
       "Syncing run <strong><a href='https://wandb.ai/rokii-ku-leuven/MAIthesis/runs/nfklr5xe' target=\"_blank\">xgboost-destroyed-seed-2</a></strong> to <a href='https://wandb.ai/rokii-ku-leuven/MAIthesis' target=\"_blank\">Weights & Biases</a> (<a href='https://wandb.me/developer-guide' target=\"_blank\">docs</a>)<br>"
      ],
      "text/plain": [
       "<IPython.core.display.HTML object>"
      ]
     },
     "metadata": {},
     "output_type": "display_data"
    },
    {
     "data": {
      "text/html": [
       " View project at <a href='https://wandb.ai/rokii-ku-leuven/MAIthesis' target=\"_blank\">https://wandb.ai/rokii-ku-leuven/MAIthesis</a>"
      ],
      "text/plain": [
       "<IPython.core.display.HTML object>"
      ]
     },
     "metadata": {},
     "output_type": "display_data"
    },
    {
     "data": {
      "text/html": [
       " View run at <a href='https://wandb.ai/rokii-ku-leuven/MAIthesis/runs/nfklr5xe' target=\"_blank\">https://wandb.ai/rokii-ku-leuven/MAIthesis/runs/nfklr5xe</a>"
      ],
      "text/plain": [
       "<IPython.core.display.HTML object>"
      ]
     },
     "metadata": {},
     "output_type": "display_data"
    },
    {
     "name": "stdout",
     "output_type": "stream",
     "text": [
      "[0]\tvalidation_0-error:0.48713\tvalidation_1-error:0.49660\n",
      "[50]\tvalidation_0-error:0.32909\tvalidation_1-error:0.54422\n",
      "[99]\tvalidation_0-error:0.27279\tvalidation_1-error:0.50340\n",
      "Training took 66.55 seconds\n",
      "Dev Set: Accuracy = 0.4966, F1 Score = 0.4861\n",
      "Confusion Matrix (Dev Set):\n",
      "[[114 109]\n",
      " [113 105]]\n",
      "Test Set: Accuracy = 0.4854, F1 Score = 0.4875\n",
      "Confusion Matrix (Test Set):\n",
      "[[173 194]\n",
      " [176 176]]\n"
     ]
    },
    {
     "data": {
      "text/html": [],
      "text/plain": [
       "<IPython.core.display.HTML object>"
      ]
     },
     "metadata": {},
     "output_type": "display_data"
    },
    {
     "data": {
      "text/html": [
       "<br>    <style><br>        .wandb-row {<br>            display: flex;<br>            flex-direction: row;<br>            flex-wrap: wrap;<br>            justify-content: flex-start;<br>            width: 100%;<br>        }<br>        .wandb-col {<br>            display: flex;<br>            flex-direction: column;<br>            flex-basis: 100%;<br>            flex: 1;<br>            padding: 10px;<br>        }<br>    </style><br><div class=\"wandb-row\"><div class=\"wandb-col\"><h3>Run history:</h3><br/><table class=\"wandb\"><tr><td>dev_accuracy</td><td>▁</td></tr><tr><td>dev_f1</td><td>▁</td></tr><tr><td>dev_precision</td><td>▁</td></tr><tr><td>dev_recall</td><td>▁</td></tr><tr><td>test_accuracy</td><td>▁</td></tr><tr><td>test_f1</td><td>▁</td></tr><tr><td>test_precision</td><td>▁</td></tr><tr><td>test_recall</td><td>▁</td></tr><tr><td>training_time</td><td>▁</td></tr></table><br/></div><div class=\"wandb-col\"><h3>Run summary:</h3><br/><table class=\"wandb\"><tr><td>dev_accuracy</td><td>0.4966</td></tr><tr><td>dev_f1</td><td>0.48611</td></tr><tr><td>dev_precision</td><td>0.49065</td></tr><tr><td>dev_recall</td><td>0.48165</td></tr><tr><td>test_accuracy</td><td>0.4854</td></tr><tr><td>test_f1</td><td>0.48753</td></tr><tr><td>test_precision</td><td>0.47568</td></tr><tr><td>test_recall</td><td>0.5</td></tr><tr><td>training_time</td><td>66.54954</td></tr></table><br/></div></div>"
      ],
      "text/plain": [
       "<IPython.core.display.HTML object>"
      ]
     },
     "metadata": {},
     "output_type": "display_data"
    },
    {
     "data": {
      "text/html": [
       " View run <strong style=\"color:#cdcd00\">xgboost-destroyed-seed-2</strong> at: <a href='https://wandb.ai/rokii-ku-leuven/MAIthesis/runs/nfklr5xe' target=\"_blank\">https://wandb.ai/rokii-ku-leuven/MAIthesis/runs/nfklr5xe</a><br> View project at: <a href='https://wandb.ai/rokii-ku-leuven/MAIthesis' target=\"_blank\">https://wandb.ai/rokii-ku-leuven/MAIthesis</a><br>Synced 5 W&B file(s), 2 media file(s), 0 artifact file(s) and 1 other file(s)"
      ],
      "text/plain": [
       "<IPython.core.display.HTML object>"
      ]
     },
     "metadata": {},
     "output_type": "display_data"
    },
    {
     "data": {
      "text/html": [
       "Find logs at: <code>./wandb/run-20250325_150223-nfklr5xe/logs</code>"
      ],
      "text/plain": [
       "<IPython.core.display.HTML object>"
      ]
     },
     "metadata": {},
     "output_type": "display_data"
    },
    {
     "data": {
      "text/html": [
       "Tracking run with wandb version 0.19.8"
      ],
      "text/plain": [
       "<IPython.core.display.HTML object>"
      ]
     },
     "metadata": {},
     "output_type": "display_data"
    },
    {
     "data": {
      "text/html": [
       "Run data is saved locally in <code>/content/wandb/run-20250325_150335-zpipl6cf</code>"
      ],
      "text/plain": [
       "<IPython.core.display.HTML object>"
      ]
     },
     "metadata": {},
     "output_type": "display_data"
    },
    {
     "data": {
      "text/html": [
       "Syncing run <strong><a href='https://wandb.ai/rokii-ku-leuven/MAIthesis/runs/zpipl6cf' target=\"_blank\">xgboost-destroyed-seed-3</a></strong> to <a href='https://wandb.ai/rokii-ku-leuven/MAIthesis' target=\"_blank\">Weights & Biases</a> (<a href='https://wandb.me/developer-guide' target=\"_blank\">docs</a>)<br>"
      ],
      "text/plain": [
       "<IPython.core.display.HTML object>"
      ]
     },
     "metadata": {},
     "output_type": "display_data"
    },
    {
     "data": {
      "text/html": [
       " View project at <a href='https://wandb.ai/rokii-ku-leuven/MAIthesis' target=\"_blank\">https://wandb.ai/rokii-ku-leuven/MAIthesis</a>"
      ],
      "text/plain": [
       "<IPython.core.display.HTML object>"
      ]
     },
     "metadata": {},
     "output_type": "display_data"
    },
    {
     "data": {
      "text/html": [
       " View run at <a href='https://wandb.ai/rokii-ku-leuven/MAIthesis/runs/zpipl6cf' target=\"_blank\">https://wandb.ai/rokii-ku-leuven/MAIthesis/runs/zpipl6cf</a>"
      ],
      "text/plain": [
       "<IPython.core.display.HTML object>"
      ]
     },
     "metadata": {},
     "output_type": "display_data"
    },
    {
     "name": "stdout",
     "output_type": "stream",
     "text": [
      "[0]\tvalidation_0-error:0.47989\tvalidation_1-error:0.50567\n",
      "[50]\tvalidation_0-error:0.32225\tvalidation_1-error:0.44671\n",
      "[99]\tvalidation_0-error:0.26783\tvalidation_1-error:0.43537\n",
      "Training took 63.02 seconds\n",
      "Dev Set: Accuracy = 0.5646, F1 Score = 0.5248\n",
      "Confusion Matrix (Dev Set):\n",
      "[[143  80]\n",
      " [112 106]]\n",
      "Test Set: Accuracy = 0.5118, F1 Score = 0.4641\n",
      "Confusion Matrix (Test Set):\n",
      "[[216 151]\n",
      " [200 152]]\n"
     ]
    },
    {
     "data": {
      "text/html": [],
      "text/plain": [
       "<IPython.core.display.HTML object>"
      ]
     },
     "metadata": {},
     "output_type": "display_data"
    },
    {
     "data": {
      "text/html": [
       "<br>    <style><br>        .wandb-row {<br>            display: flex;<br>            flex-direction: row;<br>            flex-wrap: wrap;<br>            justify-content: flex-start;<br>            width: 100%;<br>        }<br>        .wandb-col {<br>            display: flex;<br>            flex-direction: column;<br>            flex-basis: 100%;<br>            flex: 1;<br>            padding: 10px;<br>        }<br>    </style><br><div class=\"wandb-row\"><div class=\"wandb-col\"><h3>Run history:</h3><br/><table class=\"wandb\"><tr><td>dev_accuracy</td><td>▁</td></tr><tr><td>dev_f1</td><td>▁</td></tr><tr><td>dev_precision</td><td>▁</td></tr><tr><td>dev_recall</td><td>▁</td></tr><tr><td>test_accuracy</td><td>▁</td></tr><tr><td>test_f1</td><td>▁</td></tr><tr><td>test_precision</td><td>▁</td></tr><tr><td>test_recall</td><td>▁</td></tr><tr><td>training_time</td><td>▁</td></tr></table><br/></div><div class=\"wandb-col\"><h3>Run summary:</h3><br/><table class=\"wandb\"><tr><td>dev_accuracy</td><td>0.56463</td></tr><tr><td>dev_f1</td><td>0.52475</td></tr><tr><td>dev_precision</td><td>0.56989</td></tr><tr><td>dev_recall</td><td>0.48624</td></tr><tr><td>test_accuracy</td><td>0.51182</td></tr><tr><td>test_f1</td><td>0.46412</td></tr><tr><td>test_precision</td><td>0.50165</td></tr><tr><td>test_recall</td><td>0.43182</td></tr><tr><td>training_time</td><td>63.02154</td></tr></table><br/></div></div>"
      ],
      "text/plain": [
       "<IPython.core.display.HTML object>"
      ]
     },
     "metadata": {},
     "output_type": "display_data"
    },
    {
     "data": {
      "text/html": [
       " View run <strong style=\"color:#cdcd00\">xgboost-destroyed-seed-3</strong> at: <a href='https://wandb.ai/rokii-ku-leuven/MAIthesis/runs/zpipl6cf' target=\"_blank\">https://wandb.ai/rokii-ku-leuven/MAIthesis/runs/zpipl6cf</a><br> View project at: <a href='https://wandb.ai/rokii-ku-leuven/MAIthesis' target=\"_blank\">https://wandb.ai/rokii-ku-leuven/MAIthesis</a><br>Synced 5 W&B file(s), 2 media file(s), 0 artifact file(s) and 1 other file(s)"
      ],
      "text/plain": [
       "<IPython.core.display.HTML object>"
      ]
     },
     "metadata": {},
     "output_type": "display_data"
    },
    {
     "data": {
      "text/html": [
       "Find logs at: <code>./wandb/run-20250325_150335-zpipl6cf/logs</code>"
      ],
      "text/plain": [
       "<IPython.core.display.HTML object>"
      ]
     },
     "metadata": {},
     "output_type": "display_data"
    },
    {
     "data": {
      "text/html": [
       "Tracking run with wandb version 0.19.8"
      ],
      "text/plain": [
       "<IPython.core.display.HTML object>"
      ]
     },
     "metadata": {},
     "output_type": "display_data"
    },
    {
     "data": {
      "text/html": [
       "Run data is saved locally in <code>/content/drive/MyDrive/ColabNotebooks/colabMAIbaselines/experiments/wandb/wandb/run-20250325_150443-fxmud7jm</code>"
      ],
      "text/plain": [
       "<IPython.core.display.HTML object>"
      ]
     },
     "metadata": {},
     "output_type": "display_data"
    },
    {
     "data": {
      "text/html": [
       "Syncing run <strong><a href='https://wandb.ai/rokii-ku-leuven/MAIthesis/runs/fxmud7jm' target=\"_blank\">xgboost-destroyed-comparison</a></strong> to <a href='https://wandb.ai/rokii-ku-leuven/MAIthesis' target=\"_blank\">Weights & Biases</a> (<a href='https://wandb.me/developer-guide' target=\"_blank\">docs</a>)<br>"
      ],
      "text/plain": [
       "<IPython.core.display.HTML object>"
      ]
     },
     "metadata": {},
     "output_type": "display_data"
    },
    {
     "data": {
      "text/html": [
       " View project at <a href='https://wandb.ai/rokii-ku-leuven/MAIthesis' target=\"_blank\">https://wandb.ai/rokii-ku-leuven/MAIthesis</a>"
      ],
      "text/plain": [
       "<IPython.core.display.HTML object>"
      ]
     },
     "metadata": {},
     "output_type": "display_data"
    },
    {
     "data": {
      "text/html": [
       " View run at <a href='https://wandb.ai/rokii-ku-leuven/MAIthesis/runs/fxmud7jm' target=\"_blank\">https://wandb.ai/rokii-ku-leuven/MAIthesis/runs/fxmud7jm</a>"
      ],
      "text/plain": [
       "<IPython.core.display.HTML object>"
      ]
     },
     "metadata": {},
     "output_type": "display_data"
    },
    {
     "name": "stdout",
     "output_type": "stream",
     "text": [
      "\n",
      "Comparison results saved to /content/drive/MyDrive/ColabNotebooks/colabMAIbaselines/experiments/models and /content/drive/MyDrive/ColabNotebooks/colabMAIbaselines/experiments/models\n"
     ]
    },
    {
     "data": {
      "image/png": "[encoded data removed]",
      "text/plain": [
       "<Figure size 800x600 with 2 Axes>"
      ]
     },
     "metadata": {},
     "output_type": "display_data"
    },
    {
     "data": {
      "image/png": "[encoded data removed]",
      "text/plain": [
       "<Figure size 800x600 with 2 Axes>"
      ]
     },
     "metadata": {},
     "output_type": "display_data"
    },
    {
     "data": {
      "image/png": "[encoded data removed]",
      "text/plain": [
       "<Figure size 800x600 with 2 Axes>"
      ]
     },
     "metadata": {},
     "output_type": "display_data"
    },
    {
     "data": {
      "image/png": "[encoded data removed]",
      "text/plain": [
       "<Figure size 800x600 with 2 Axes>"
      ]
     },
     "metadata": {},
     "output_type": "display_data"
    },
    {
     "data": {
      "image/png": "[encoded data removed]",
      "text/plain": [
       "<Figure size 800x600 with 2 Axes>"
      ]
     },
     "metadata": {},
     "output_type": "display_data"
    },
    {
     "data": {
      "image/png": "[encoded data removed]",
      "text/plain": [
       "<Figure size 800x600 with 2 Axes>"
      ]
     },
     "metadata": {},
     "output_type": "display_data"
    },
    {
     "data": {
      "image/png": "[encoded data removed]",
      "text/plain": [
       "<Figure size 1000x600 with 1 Axes>"
      ]
     },
     "metadata": {},
     "output_type": "display_data"
    },
    {
     "data": {
      "image/png": "[encoded data removed]",
      "text/plain": [
       "<Figure size 1000x600 with 1 Axes>"
      ]
     },
     "metadata": {},
     "output_type": "display_data"
    }
   ],
   "source": [
    "# ==================== Run the training loop for destroyed sets\n",
    "results = {}\n",
    "for seed in [1, 2, 3]:\n",
    "    destroyed_path = f\"/content/drive/MyDrive/ColabNotebooks/colabMAIbaselines/data/destroyed/destroyed_types/question_type_destroyed_seed_{seed}.csv\"\n",
    "    destroyed_df = pd.read_csv(destroyed_path)\n",
    "    y_train_destroyed = np.array(destroyed_df['question_type_destroyed'])\n",
    "    result = train_destroyed_label(seed, y_train_destroyed)\n",
    "    results[seed] = result\n",
    "\n",
    "wandb.init(project=\"MAIthesis\",name=\"xgboost-destroyed-comparison\",tags=[\"baseline\", \"xgboost\", \"comparison\"],job_type=\"analysis\", dir=\"/content/drive/MyDrive/ColabNotebooks/colabMAIbaselines/experiments\")\n",
    "\n",
    "\n",
    "# =================== Plot performance stats for destroyed models on test labels\n",
    "plt.figure(figsize=(10, 6))\n",
    "models = ['Original'] + [f'Destroyed {seed}' for seed in [1, 2, 3]]\n",
    "test_accuracies = [accuracy_test] + [results[seed]['metrics']['test_accuracy'] for seed in [1, 2, 3]]\n",
    "\n",
    "plt.bar(models, test_accuracies, color=['blue'] + ['red']*3)\n",
    "plt.ylabel('Test Accuracy')\n",
    "plt.title('Test Accuracy: Original vs. Destroyed Labels')\n",
    "plt.ylim(0, 1)\n",
    "plt.grid(axis='y', linestyle='--', alpha=0.7)\n",
    "\n",
    "comparison_path = os.path.join(figures_dir, \"test_accuracy_comparison.png\")\n",
    "plt.savefig(comparison_path)\n",
    "wandb.log({\"test_accuracy_comparison\": wandb.Image(plt)})\n",
    "\n",
    "plt.figure(figsize=(10, 6))\n",
    "f1_scores = [f1_test] + [results[seed]['metrics']['test_f1'] for seed in [1, 2, 3]]\n",
    "\n",
    "plt.bar(models, f1_scores, color=['blue'] + ['red']*3)\n",
    "plt.ylabel('Test F1 Score')\n",
    "plt.title('Test F1 Score: Original vs. Destroyed Labels')\n",
    "plt.ylim(0, 1)\n",
    "plt.grid(axis='y', linestyle='--', alpha=0.7)\n",
    "\n",
    "f1_comparison_path = os.path.join(figures_dir, \"test_f1_comparison.png\")\n",
    "plt.savefig(f1_comparison_path)\n",
    "wandb.log({\"test_f1_comparison\": wandb.Image(plt)})\n",
    "\n",
    "comparison_metrics = {\"original\": {\"dev_accuracy\": float(accuracy_dev),\"dev_f1\": float(f1_dev),\"test_accuracy\": float(accuracy_test),\"test_f1\": float(f1_test)}}\n",
    "\n",
    "for seed in [1, 2, 3]:\n",
    "    comparison_metrics[f\"destroyed_seed_{seed}\"] = results[seed]['metrics']\n",
    "\n",
    "combined_metrics_path = os.path.join(models_dir, \"comparison_metrics.json\")\n",
    "with open(combined_metrics_path, 'w') as f:\n",
    "    json.dump(comparison_metrics, f, indent=4)\n",
    "\n",
    "comparison_table = wandb.Table(columns=[\"Model\", \"Test Accuracy\", \"Test F1\"])\n",
    "comparison_table.add_data(\"Original\", accuracy_test, f1_test)\n",
    "\n",
    "for seed in [1, 2, 3]:\n",
    "    metrics = results[seed]['metrics']\n",
    "    comparison_table.add_data(f\"Destroyed {seed}\", metrics['test_accuracy'],metrics['test_f1'])\n",
    "\n",
    "wandb.log({\"metrics_comparison\": comparison_table})\n",
    "\n",
    "print(f\"\\nComparison results saved to {models_dir} and {figures_dir}\")\n",
    "\n"
   ]
  },
  {
   "cell_type": "markdown",
   "metadata": {
    "id": "FfDQncH2l09u"
   },
   "source": [
    "### Language specific performance analysis"
   ]
  },
  {
   "cell_type": "code",
   "execution_count": 21,
   "metadata": {
    "colab": {
     "base_uri": "https://localhost:8080/",
     "height": 863
    },
    "executionInfo": {
     "elapsed": 1002,
     "status": "ok",
     "timestamp": 1742913969530,
     "user": {
      "displayName": "Robin Kokot",
      "userId": "12410801071273089859"
     },
     "user_tz": -60
    },
    "id": "NY2QkTSgl09v",
    "outputId": "a505d6c7-c66e-4a97-bc42-db5fc1c31d9e"
   },
   "outputs": [
    {
     "name": "stdout",
     "output_type": "stream",
     "text": [
      "\n",
      "Analyzing performance by language...\n",
      "ar: 77 samples, Baseline acc=0.9870\n",
      "en: 110 samples, Baseline acc=0.7818\n",
      "fi: 110 samples, Baseline acc=0.8364\n",
      "id: 110 samples, Baseline acc=0.6364\n",
      "ja: 92 samples, Baseline acc=0.6848\n",
      "ko: 110 samples, Baseline acc=0.7545\n",
      "ru: 110 samples, Baseline acc=0.8000\n"
     ]
    },
    {
     "data": {
      "image/png": "[encoded data removed]",
      "text/plain": [
       "<Figure size 1200x700 with 1 Axes>"
      ]
     },
     "metadata": {},
     "output_type": "display_data"
    }
   ],
   "source": [
    "# ==================== Analyze performance by language\n",
    "def analyze_language_performance():\n",
    "    print(\"\\nAnalyzing performance by language...\")\n",
    "\n",
    "    language_data = dataset['test']['language']\n",
    "    languages = sorted(list(set(language_data)))\n",
    "\n",
    "    # Store results for baseline and destroyed models\n",
    "    language_results = {}\n",
    "\n",
    "    # Calculate metrics for each language\n",
    "    for lang in languages:\n",
    "        # Create mask for this language\n",
    "        lang_mask = [x == lang for x in language_data]\n",
    "        lang_indices = [i for i, x in enumerate(lang_mask) if x]\n",
    "\n",
    "        # Skip if not enough samples\n",
    "        if len(lang_indices) < 10:\n",
    "            continue\n",
    "\n",
    "        # Get test data for this language\n",
    "        X_test_lang = X_test_stacked[lang_indices]\n",
    "        y_test_lang = y_test[lang_indices]\n",
    "\n",
    "        # Calculate baseline model performance\n",
    "        y_pred_baseline = xgb_clf.predict(X_test_lang)\n",
    "        accuracy_baseline = accuracy_score(y_test_lang, y_pred_baseline)\n",
    "        _, _, f1_baseline, _ = precision_recall_fscore_support(\n",
    "            y_test_lang, y_pred_baseline, average='binary'\n",
    "        )\n",
    "\n",
    "        # Store baseline results\n",
    "        language_results[lang] = {\n",
    "            'samples': len(y_test_lang),\n",
    "            'baseline': {\n",
    "                'accuracy': accuracy_baseline,\n",
    "                'f1': f1_baseline\n",
    "            },\n",
    "            'destroyed': {}\n",
    "        }\n",
    "\n",
    "        # Calculate performance for each destroyed model\n",
    "        for seed in [1, 2, 3]:\n",
    "            if seed in results:\n",
    "                destroyed_model = results[seed]['model']\n",
    "                y_pred_destroyed = destroyed_model.predict(X_test_lang)\n",
    "\n",
    "                accuracy_destroyed = accuracy_score(y_test_lang, y_pred_destroyed)\n",
    "                _, _, f1_destroyed, _ = precision_recall_fscore_support(\n",
    "                    y_test_lang, y_pred_destroyed, average='binary'\n",
    "                )\n",
    "\n",
    "                # Store destroyed model results\n",
    "                language_results[lang]['destroyed'][seed] = {\n",
    "                    'accuracy': accuracy_destroyed,\n",
    "                    'f1': f1_destroyed\n",
    "                }\n",
    "\n",
    "        print(f\"{lang}: {language_results[lang]['samples']} samples, Baseline acc={accuracy_baseline:.4f}\")\n",
    "\n",
    "    # Filter and sort languages by sample size\n",
    "    valid_languages = [(lang, info['samples']) for lang, info in language_results.items()]\n",
    "    valid_languages.sort(key=lambda x: x[1], reverse=True)\n",
    "    languages_ordered = [lang for lang, _ in valid_languages]\n",
    "\n",
    "    # Create visualization for top 10 languages\n",
    "    top_languages = languages_ordered[:10]\n",
    "\n",
    "    plt.figure(figsize=(12, 7))\n",
    "\n",
    "    # Set up for grouped bar chart\n",
    "    bar_width = 0.2\n",
    "    index = np.arange(len(top_languages))\n",
    "\n",
    "    # Plot baseline accuracy\n",
    "    baseline_acc = [language_results[lang]['baseline']['accuracy'] for lang in top_languages]\n",
    "    plt.bar(index, baseline_acc, bar_width, label='Baseline', color='#3498db')\n",
    "\n",
    "    # Plot destroyed models accuracy\n",
    "    for i, seed in enumerate([1, 2, 3]):\n",
    "        if any(seed in language_results[lang]['destroyed'] for lang in top_languages):\n",
    "            destroyed_acc = [\n",
    "                language_results[lang]['destroyed'].get(seed, {}).get('accuracy', 0)\n",
    "                for lang in top_languages\n",
    "            ]\n",
    "            plt.bar(index + (i+1)*bar_width, destroyed_acc, bar_width,\n",
    "                    label=f'Destroyed {seed}', color=f'#e74c3c', alpha=0.6+i*0.1)\n",
    "\n",
    "    # Add details to plot\n",
    "    plt.xlabel('Language')\n",
    "    plt.ylabel('Accuracy')\n",
    "    plt.title('Model Accuracy by Language')\n",
    "    plt.xticks(index + bar_width, top_languages)\n",
    "    plt.legend()\n",
    "\n",
    "    # Add sample size above bars\n",
    "    for i, lang in enumerate(top_languages):\n",
    "        plt.text(i, baseline_acc[i] + 0.02, f\"n={language_results[lang]['samples']}\",\n",
    "                ha='center', va='bottom', fontsize=8)\n",
    "\n",
    "    plt.tight_layout()\n",
    "\n",
    "    # Log to wandb\n",
    "    wandb.log({\"language_accuracy\": wandb.Image(plt)})\n",
    "\n",
    "    # Create summary table\n",
    "    table_data = []\n",
    "    for lang in languages_ordered:\n",
    "        info = language_results[lang]\n",
    "        row = [\n",
    "            lang,\n",
    "            info['samples'],\n",
    "            info['baseline']['accuracy'],\n",
    "            info['baseline']['f1']\n",
    "        ]\n",
    "        for seed in [1, 2, 3]:\n",
    "            if seed in info['destroyed']:\n",
    "                row.extend([\n",
    "                    info['destroyed'][seed]['accuracy'],\n",
    "                    info['destroyed'][seed]['f1']\n",
    "                ])\n",
    "            else:\n",
    "                row.extend([None, None])\n",
    "        table_data.append(row)\n",
    "\n",
    "    # Log table to wandb\n",
    "    columns = [\"Language\", \"Samples\", \"Baseline Acc\", \"Baseline F1\"]\n",
    "    for seed in [1, 2, 3]:\n",
    "        columns.extend([f\"Destroyed {seed} Acc\", f\"Destroyed {seed} F1\"])\n",
    "\n",
    "    wandb.log({\n",
    "        \"language_metrics\": wandb.Table(columns=columns, data=table_data)\n",
    "    })\n",
    "\n",
    "    return language_results, languages_ordered\n",
    "\n",
    "# Run the analysis\n",
    "language_results, languages_ordered = analyze_language_performance()"
   ]
  },
  {
   "cell_type": "code",
   "execution_count": 23,
   "metadata": {
    "colab": {
     "base_uri": "https://localhost:8080/",
     "height": 1000
    },
    "executionInfo": {
     "elapsed": 2997,
     "status": "ok",
     "timestamp": 1742914091121,
     "user": {
      "displayName": "Robin Kokot",
      "userId": "12410801071273089859"
     },
     "user_tz": -60
    },
    "id": "r7d5z9eql09x",
    "outputId": "10bc5426-e84d-4b55-affa-bfde6b25ccac"
   },
   "outputs": [
    {
     "name": "stdout",
     "output_type": "stream",
     "text": [
      "\n",
      "Generating confusion matrices by language...\n",
      "Generated confusion matrices and sensitivity analysis for 4 languages\n"
     ]
    },
    {
     "data": {
      "image/png": "[encoded data removed]",
      "text/plain": [
       "<Figure size 1600x400 with 4 Axes>"
      ]
     },
     "metadata": {},
     "output_type": "display_data"
    },
    {
     "data": {
      "image/png": "[encoded data removed]",
      "text/plain": [
       "<Figure size 1600x400 with 4 Axes>"
      ]
     },
     "metadata": {},
     "output_type": "display_data"
    },
    {
     "data": {
      "image/png": "[encoded data removed]",
      "text/plain": [
       "<Figure size 1600x400 with 4 Axes>"
      ]
     },
     "metadata": {},
     "output_type": "display_data"
    },
    {
     "data": {
      "image/png": "[encoded data removed]",
      "text/plain": [
       "<Figure size 1600x400 with 4 Axes>"
      ]
     },
     "metadata": {},
     "output_type": "display_data"
    },
    {
     "data": {
      "image/png": "[encoded data removed]",
      "text/plain": [
       "<Figure size 1200x800 with 1 Axes>"
      ]
     },
     "metadata": {},
     "output_type": "display_data"
    }
   ],
   "source": [
    "# ==================== Generate confusion matrices by language\n",
    "def create_language_confusion_matrices(language_results, languages_ordered):\n",
    "    print(\"\\nGenerating confusion matrices by language...\")\n",
    "\n",
    "    # Get language information\n",
    "    language_data = dataset['test']['language']\n",
    "\n",
    "    # Choose top languages by sample size (limit to 4 for clarity)\n",
    "    top_languages = languages_ordered[:4]\n",
    "\n",
    "    # Create comparison visualization for each top language\n",
    "    for lang in top_languages:\n",
    "        # Create mask for this language\n",
    "        lang_mask = [x == lang for x in language_data]\n",
    "        lang_indices = [i for i, x in enumerate(lang_mask) if x]\n",
    "\n",
    "        # Get test data for this language\n",
    "        X_test_lang = X_test_stacked[lang_indices]\n",
    "        y_test_lang = y_test[lang_indices]\n",
    "\n",
    "        # Set up subplot grid - baseline and up to 3 destroyed models\n",
    "        num_models = 1 + sum(seed in language_results[lang]['destroyed'] for seed in [1, 2, 3])\n",
    "        fig, axes = plt.subplots(1, num_models, figsize=(4*num_models, 4))\n",
    "\n",
    "        # Make axes iterable if only one subplot\n",
    "        if num_models == 1:\n",
    "            axes = [axes]\n",
    "\n",
    "        # Plot baseline confusion matrix\n",
    "        y_pred_baseline = xgb_clf.predict(X_test_lang)\n",
    "        cm_baseline = confusion_matrix(y_test_lang, y_pred_baseline)\n",
    "\n",
    "        sns.heatmap(cm_baseline, annot=True, fmt='d', cmap='Blues', cbar=False,\n",
    "                   xticklabels=['Content', 'Polar'],\n",
    "                   yticklabels=['Content', 'Polar'], ax=axes[0])\n",
    "\n",
    "        accuracy_baseline = accuracy_score(y_test_lang, y_pred_baseline)\n",
    "        axes[0].set_title(f\"Baseline\\n(acc={accuracy_baseline:.2f})\")\n",
    "\n",
    "        # Plot destroyed model confusion matrices\n",
    "        plot_idx = 1\n",
    "        for seed in [1, 2, 3]:\n",
    "            if seed in language_results[lang]['destroyed']:\n",
    "                destroyed_model = results[seed]['model']\n",
    "                y_pred_destroyed = destroyed_model.predict(X_test_lang)\n",
    "                cm_destroyed = confusion_matrix(y_test_lang, y_pred_destroyed)\n",
    "\n",
    "                sns.heatmap(cm_destroyed, annot=True, fmt='d', cmap='Reds', cbar=False,\n",
    "                           xticklabels=['Content', 'Polar'],\n",
    "                           yticklabels=['Content', 'Polar'], ax=axes[plot_idx])\n",
    "\n",
    "                accuracy_destroyed = accuracy_score(y_test_lang, y_pred_destroyed)\n",
    "                axes[plot_idx].set_title(f\"Destroyed {seed}\\n(acc={accuracy_destroyed:.2f})\")\n",
    "\n",
    "                plot_idx += 1\n",
    "\n",
    "        plt.suptitle(f\"{lang} (n={language_results[lang]['samples']})\", fontsize=16)\n",
    "        plt.tight_layout()\n",
    "\n",
    "        # Log to wandb\n",
    "        wandb.log({f\"confusion_matrices_{lang}\": wandb.Image(plt)})\n",
    "\n",
    "    # Create composite visualization of accuracy drops for all languages\n",
    "    plt.figure(figsize=(12, 8))\n",
    "\n",
    "    # Calculate average accuracy drop for each language\n",
    "    drops = []\n",
    "    for lang in languages_ordered:\n",
    "        if lang in language_results:\n",
    "            baseline_acc = language_results[lang]['baseline']['accuracy']\n",
    "            destroyed_accs = [\n",
    "                language_results[lang]['destroyed'][seed]['accuracy']\n",
    "                for seed in [1, 2, 3]\n",
    "                if seed in language_results[lang]['destroyed']\n",
    "            ]\n",
    "\n",
    "            if destroyed_accs:\n",
    "                avg_destroyed_acc = sum(destroyed_accs) / len(destroyed_accs)\n",
    "                drop = baseline_acc - avg_destroyed_acc\n",
    "                drops.append((lang, drop, language_results[lang]['samples']))\n",
    "\n",
    "    # Sort by drop amount\n",
    "    drops.sort(key=lambda x: x[1], reverse=True)\n",
    "\n",
    "    # Plot horizontal bar chart of drops\n",
    "    languages = [x[0] for x in drops]\n",
    "    acc_drops = [x[1] for x in drops]\n",
    "    samples = [x[2] for x in drops]\n",
    "\n",
    "    # Limit to top 15 languages\n",
    "    if len(languages) > 15:\n",
    "        languages = languages[:15]\n",
    "        acc_drops = acc_drops[:15]\n",
    "        samples = samples[:15]\n",
    "\n",
    "    y_pos = np.arange(len(languages))\n",
    "    bars = plt.barh(y_pos, acc_drops, align='center')\n",
    "\n",
    "    # Color bars based on drop magnitude\n",
    "    for i, bar in enumerate(bars):\n",
    "        bar.set_color(plt.cm.YlOrRd(acc_drops[i] / max(acc_drops) if max(acc_drops) > 0 else 0))\n",
    "\n",
    "    plt.yticks(y_pos, languages)\n",
    "    plt.xlabel('Average Accuracy Drop (Baseline - Destroyed)')\n",
    "    plt.title('Language Sensitivity to Label Destruction')\n",
    "\n",
    "    # Add sample sizes as annotations\n",
    "    for i, (drop, size) in enumerate(zip(acc_drops, samples)):\n",
    "        plt.text(drop + 0.01, i, f\"n={size}\", va='center')\n",
    "\n",
    "    plt.grid(axis='x', linestyle='--', alpha=0.3)\n",
    "    plt.tight_layout()\n",
    "\n",
    "    # Log to wandb\n",
    "    wandb.log({\"language_sensitivity\": wandb.Image(plt)})\n",
    "\n",
    "    print(f\"Generated confusion matrices and sensitivity analysis for {len(top_languages)} languages\")\n",
    "\n",
    "# Run the analysis\n",
    "create_language_confusion_matrices(language_results, languages_ordered)"
   ]
  },
  {
   "cell_type": "code",
   "execution_count": 27,
   "metadata": {
    "colab": {
     "base_uri": "https://localhost:8080/",
     "height": 1000
    },
    "executionInfo": {
     "elapsed": 868,
     "status": "error",
     "timestamp": 1742914631623,
     "user": {
      "displayName": "Robin Kokot",
      "userId": "12410801071273089859"
     },
     "user_tz": -60
    },
    "id": "Jk9xaP-6l09z",
    "outputId": "ed32b764-8145-43b0-d90d-5c87add6c6ed"
   },
   "outputs": [
    {
     "name": "stdout",
     "output_type": "stream",
     "text": [
      "\n",
      "Analyzing feature distribution across languages...\n"
     ]
    },
    {
     "name": "stderr",
     "output_type": "stream",
     "text": [
      "/usr/local/lib/python3.11/dist-packages/seaborn/utils.py:61: UserWarning: Glyph 12399 (\\N{HIRAGANA LETTER HA}) missing from font(s) DejaVu Sans.\n",
      "  fig.canvas.draw()\n",
      "/usr/local/lib/python3.11/dist-packages/seaborn/utils.py:61: UserWarning: Glyph 21021 (\\N{CJK UNIFIED IDEOGRAPH-521D}) missing from font(s) DejaVu Sans.\n",
      "  fig.canvas.draw()\n",
      "/usr/local/lib/python3.11/dist-packages/seaborn/utils.py:61: UserWarning: Glyph 20309 (\\N{CJK UNIFIED IDEOGRAPH-4F55}) missing from font(s) DejaVu Sans.\n",
      "  fig.canvas.draw()\n",
      "/usr/local/lib/python3.11/dist-packages/seaborn/utils.py:61: UserWarning: Glyph 51064 (\\N{HANGUL SYLLABLE IN}) missing from font(s) DejaVu Sans.\n",
      "  fig.canvas.draw()\n",
      "/usr/local/lib/python3.11/dist-packages/seaborn/utils.py:61: UserWarning: Glyph 44032 (\\N{HANGUL SYLLABLE GA}) missing from font(s) DejaVu Sans.\n",
      "  fig.canvas.draw()\n",
      "/usr/local/lib/python3.11/dist-packages/wandb/sdk/data_types/image.py:302: UserWarning: Glyph 12399 (\\N{HIRAGANA LETTER HA}) missing from font(s) DejaVu Sans.\n",
      "  util.ensure_matplotlib_figure(data).savefig(buf, format=\"png\")\n",
      "/usr/local/lib/python3.11/dist-packages/wandb/sdk/data_types/image.py:302: UserWarning: Glyph 21021 (\\N{CJK UNIFIED IDEOGRAPH-521D}) missing from font(s) DejaVu Sans.\n",
      "  util.ensure_matplotlib_figure(data).savefig(buf, format=\"png\")\n",
      "/usr/local/lib/python3.11/dist-packages/wandb/sdk/data_types/image.py:302: UserWarning: Glyph 20309 (\\N{CJK UNIFIED IDEOGRAPH-4F55}) missing from font(s) DejaVu Sans.\n",
      "  util.ensure_matplotlib_figure(data).savefig(buf, format=\"png\")\n",
      "/usr/local/lib/python3.11/dist-packages/wandb/sdk/data_types/image.py:302: UserWarning: Glyph 51064 (\\N{HANGUL SYLLABLE IN}) missing from font(s) DejaVu Sans.\n",
      "  util.ensure_matplotlib_figure(data).savefig(buf, format=\"png\")\n",
      "/usr/local/lib/python3.11/dist-packages/wandb/sdk/data_types/image.py:302: UserWarning: Glyph 44032 (\\N{HANGUL SYLLABLE GA}) missing from font(s) DejaVu Sans.\n",
      "  util.ensure_matplotlib_figure(data).savefig(buf, format=\"png\")\n"
     ]
    },
    {
     "ename": "Error",
     "evalue": "You must call wandb.init() before wandb.log()",
     "output_type": "error",
     "traceback": [
      "\u001b[0;31m---------------------------------------------------------------------------\u001b[0m",
      "\u001b[0;31mError\u001b[0m                                     Traceback (most recent call last)",
      "\u001b[0;32m<ipython-input-27-186828114f06>\u001b[0m in \u001b[0;36m<cell line: 0>\u001b[0;34m()\u001b[0m\n\u001b[1;32m    128\u001b[0m \u001b[0;34m\u001b[0m\u001b[0m\n\u001b[1;32m    129\u001b[0m \u001b[0;31m# Run the analysis\u001b[0m\u001b[0;34m\u001b[0m\u001b[0;34m\u001b[0m\u001b[0m\n\u001b[0;32m--> 130\u001b[0;31m \u001b[0manalyze_feature_distribution\u001b[0m\u001b[0;34m(\u001b[0m\u001b[0mlanguage_results\u001b[0m\u001b[0;34m,\u001b[0m \u001b[0mlanguages_ordered\u001b[0m\u001b[0;34m)\u001b[0m\u001b[0;34m\u001b[0m\u001b[0;34m\u001b[0m\u001b[0m\n\u001b[0m",
      "\u001b[0;32m<ipython-input-27-186828114f06>\u001b[0m in \u001b[0;36manalyze_feature_distribution\u001b[0;34m(language_results, languages_ordered)\u001b[0m\n\u001b[1;32m     76\u001b[0m \u001b[0;34m\u001b[0m\u001b[0m\n\u001b[1;32m     77\u001b[0m         \u001b[0;31m# Log to wandb\u001b[0m\u001b[0;34m\u001b[0m\u001b[0;34m\u001b[0m\u001b[0m\n\u001b[0;32m---> 78\u001b[0;31m         \u001b[0mwandb\u001b[0m\u001b[0;34m.\u001b[0m\u001b[0mlog\u001b[0m\u001b[0;34m(\u001b[0m\u001b[0;34m{\u001b[0m\u001b[0;34m\"feature_distribution\"\u001b[0m\u001b[0;34m:\u001b[0m \u001b[0mwandb\u001b[0m\u001b[0;34m.\u001b[0m\u001b[0mImage\u001b[0m\u001b[0;34m(\u001b[0m\u001b[0mplt\u001b[0m\u001b[0;34m)\u001b[0m\u001b[0;34m}\u001b[0m\u001b[0;34m)\u001b[0m\u001b[0;34m\u001b[0m\u001b[0;34m\u001b[0m\u001b[0m\n\u001b[0m\u001b[1;32m     79\u001b[0m \u001b[0;34m\u001b[0m\u001b[0m\n\u001b[1;32m     80\u001b[0m         \u001b[0;31m# Calculate language performance impact\u001b[0m\u001b[0;34m\u001b[0m\u001b[0;34m\u001b[0m\u001b[0m\n",
      "\u001b[0;32m/usr/local/lib/python3.11/dist-packages/wandb/sdk/lib/preinit.py\u001b[0m in \u001b[0;36mpreinit_wrapper\u001b[0;34m(*args, **kwargs)\u001b[0m\n\u001b[1;32m     34\u001b[0m ) -> Callable:\n\u001b[1;32m     35\u001b[0m     \u001b[0;32mdef\u001b[0m \u001b[0mpreinit_wrapper\u001b[0m\u001b[0;34m(\u001b[0m\u001b[0;34m*\u001b[0m\u001b[0margs\u001b[0m\u001b[0;34m:\u001b[0m \u001b[0mAny\u001b[0m\u001b[0;34m,\u001b[0m \u001b[0;34m**\u001b[0m\u001b[0mkwargs\u001b[0m\u001b[0;34m:\u001b[0m \u001b[0mAny\u001b[0m\u001b[0;34m)\u001b[0m \u001b[0;34m->\u001b[0m \u001b[0mAny\u001b[0m\u001b[0;34m:\u001b[0m\u001b[0;34m\u001b[0m\u001b[0;34m\u001b[0m\u001b[0m\n\u001b[0;32m---> 36\u001b[0;31m         \u001b[0;32mraise\u001b[0m \u001b[0mwandb\u001b[0m\u001b[0;34m.\u001b[0m\u001b[0mError\u001b[0m\u001b[0;34m(\u001b[0m\u001b[0;34mf\"You must call wandb.init() before {name}()\"\u001b[0m\u001b[0;34m)\u001b[0m\u001b[0;34m\u001b[0m\u001b[0;34m\u001b[0m\u001b[0m\n\u001b[0m\u001b[1;32m     37\u001b[0m \u001b[0;34m\u001b[0m\u001b[0m\n\u001b[1;32m     38\u001b[0m     \u001b[0mpreinit_wrapper\u001b[0m\u001b[0;34m.\u001b[0m\u001b[0m__name__\u001b[0m \u001b[0;34m=\u001b[0m \u001b[0mstr\u001b[0m\u001b[0;34m(\u001b[0m\u001b[0mname\u001b[0m\u001b[0;34m)\u001b[0m\u001b[0;34m\u001b[0m\u001b[0;34m\u001b[0m\u001b[0m\n",
      "\u001b[0;31mError\u001b[0m: You must call wandb.init() before wandb.log()"
     ]
    },
    {
     "name": "stderr",
     "output_type": "stream",
     "text": [
      "/usr/local/lib/python3.11/dist-packages/IPython/core/events.py:89: UserWarning: Glyph 12399 (\\N{HIRAGANA LETTER HA}) missing from font(s) DejaVu Sans.\n",
      "  func(*args, **kwargs)\n",
      "/usr/local/lib/python3.11/dist-packages/IPython/core/events.py:89: UserWarning: Glyph 21021 (\\N{CJK UNIFIED IDEOGRAPH-521D}) missing from font(s) DejaVu Sans.\n",
      "  func(*args, **kwargs)\n",
      "/usr/local/lib/python3.11/dist-packages/IPython/core/events.py:89: UserWarning: Glyph 20309 (\\N{CJK UNIFIED IDEOGRAPH-4F55}) missing from font(s) DejaVu Sans.\n",
      "  func(*args, **kwargs)\n",
      "/usr/local/lib/python3.11/dist-packages/IPython/core/events.py:89: UserWarning: Glyph 51064 (\\N{HANGUL SYLLABLE IN}) missing from font(s) DejaVu Sans.\n",
      "  func(*args, **kwargs)\n",
      "/usr/local/lib/python3.11/dist-packages/IPython/core/events.py:89: UserWarning: Glyph 44032 (\\N{HANGUL SYLLABLE GA}) missing from font(s) DejaVu Sans.\n",
      "  func(*args, **kwargs)\n",
      "/usr/local/lib/python3.11/dist-packages/IPython/core/pylabtools.py:151: UserWarning: Glyph 12399 (\\N{HIRAGANA LETTER HA}) missing from font(s) DejaVu Sans.\n",
      "  fig.canvas.print_figure(bytes_io, **kw)\n",
      "/usr/local/lib/python3.11/dist-packages/IPython/core/pylabtools.py:151: UserWarning: Glyph 21021 (\\N{CJK UNIFIED IDEOGRAPH-521D}) missing from font(s) DejaVu Sans.\n",
      "  fig.canvas.print_figure(bytes_io, **kw)\n",
      "/usr/local/lib/python3.11/dist-packages/IPython/core/pylabtools.py:151: UserWarning: Glyph 20309 (\\N{CJK UNIFIED IDEOGRAPH-4F55}) missing from font(s) DejaVu Sans.\n",
      "  fig.canvas.print_figure(bytes_io, **kw)\n",
      "/usr/local/lib/python3.11/dist-packages/IPython/core/pylabtools.py:151: UserWarning: Glyph 51064 (\\N{HANGUL SYLLABLE IN}) missing from font(s) DejaVu Sans.\n",
      "  fig.canvas.print_figure(bytes_io, **kw)\n",
      "/usr/local/lib/python3.11/dist-packages/IPython/core/pylabtools.py:151: UserWarning: Glyph 44032 (\\N{HANGUL SYLLABLE GA}) missing from font(s) DejaVu Sans.\n",
      "  fig.canvas.print_figure(bytes_io, **kw)\n"
     ]
    },
    {
     "data": {
      "image/png": "[encoded data removed]",
      "text/plain": [
       "<Figure size 1400x800 with 2 Axes>"
      ]
     },
     "metadata": {},
     "output_type": "display_data"
    }
   ],
   "source": [
    "# ==================== Analyze feature importance patterns by language\n",
    "def analyze_feature_distribution(language_results, languages_ordered):\n",
    "    print(\"\\nAnalyzing feature distribution across languages...\")\n",
    "\n",
    "    # Get language information\n",
    "    language_data = dataset['test']['language']\n",
    "\n",
    "    # Get top features from the baseline model\n",
    "    feature_importance = xgb_clf.feature_importances_\n",
    "    importance_df = pd.DataFrame({\n",
    "        'feature_index': range(len(feature_importance)),\n",
    "        'importance': feature_importance\n",
    "    }).sort_values('importance', ascending=False)\n",
    "\n",
    "    top_features = importance_df.head(20)['feature_index'].tolist()\n",
    "\n",
    "    # Create index_to_token mapping\n",
    "    index_to_token = {idx: token for token, idx in token_to_index.items()}\n",
    "\n",
    "    # Get display names for top features\n",
    "    top_feature_names = []\n",
    "    for idx in top_features:\n",
    "        token = index_to_token.get(idx, f\"Unknown-{idx}\")\n",
    "        if isinstance(token, bytes):\n",
    "            token = token.decode('utf-8', errors='replace')\n",
    "        if len(str(token)) > 15:\n",
    "            token = str(token)[:12] + \"...\"\n",
    "        top_feature_names.append(str(token))\n",
    "\n",
    "    # Choose top languages by sample size (limit to 10)\n",
    "    top_languages = languages_ordered[:10]\n",
    "\n",
    "    # Calculate feature presence for each language\n",
    "    feature_presence = {}\n",
    "\n",
    "    for lang in top_languages:\n",
    "        # Create mask for this language\n",
    "        lang_mask = [x == lang for x in language_data]\n",
    "        lang_indices = [i for i, x in enumerate(lang_mask) if x]\n",
    "\n",
    "        # Skip if not enough samples\n",
    "        if len(lang_indices) < 10:\n",
    "            continue\n",
    "\n",
    "        # Get test data for this language\n",
    "        X_test_lang = X_test_stacked[lang_indices]\n",
    "\n",
    "        # Calculate average value for each top feature\n",
    "        feature_values = []\n",
    "        for idx in top_features:\n",
    "            feature_col = X_test_lang[:, idx].toarray().flatten()\n",
    "            avg_value = np.mean(feature_col)\n",
    "            feature_values.append(avg_value)\n",
    "\n",
    "        feature_presence[lang] = feature_values\n",
    "\n",
    "    # Create heatmap of feature presence\n",
    "    if feature_presence:\n",
    "        plt.figure(figsize=(14, 8))\n",
    "\n",
    "        # Prepare data for heatmap\n",
    "        langs = list(feature_presence.keys())\n",
    "        heatmap_data = [feature_presence[lang] for lang in langs]\n",
    "\n",
    "        # Create heatmap\n",
    "        ax = sns.heatmap(heatmap_data, cmap='YlGnBu',\n",
    "                       xticklabels=top_feature_names,\n",
    "                       yticklabels=langs)\n",
    "\n",
    "        plt.title('Top 20 Feature Distribution Across Languages')\n",
    "        plt.xlabel('Features')\n",
    "        plt.ylabel('Languages')\n",
    "        plt.xticks(rotation=45, ha='right')\n",
    "\n",
    "        plt.tight_layout()\n",
    "\n",
    "        # Log to wandb\n",
    "        wandb.log({\"feature_distribution\": wandb.Image(plt)})\n",
    "\n",
    "        # Calculate language performance impact\n",
    "        language_impacts = []\n",
    "\n",
    "        for lang in feature_presence:\n",
    "            # Skip if no baseline or destroyed model data\n",
    "            if (lang not in language_results or\n",
    "                not any(seed in language_results[lang]['destroyed'] for seed in [1, 2, 3])):\n",
    "                continue\n",
    "\n",
    "            # Calculate impact\n",
    "            baseline_acc = language_results[lang]['baseline']['accuracy']\n",
    "            destroyed_accs = [\n",
    "                language_results[lang]['destroyed'][seed]['accuracy']\n",
    "                for seed in [1, 2, 3]\n",
    "                if seed in language_results[lang]['destroyed']\n",
    "            ]\n",
    "\n",
    "            if destroyed_accs:\n",
    "                avg_destroyed_acc = sum(destroyed_accs) / len(destroyed_accs)\n",
    "                accuracy_drop = baseline_acc - avg_destroyed_acc\n",
    "\n",
    "                # Simplified feature score (sum of feature values)\n",
    "                feature_score = sum(feature_presence[lang])\n",
    "\n",
    "                language_impacts.append([\n",
    "                    lang,\n",
    "                    language_results[lang]['samples'],\n",
    "                    baseline_acc,\n",
    "                    avg_destroyed_acc,\n",
    "                    accuracy_drop,\n",
    "                    feature_score\n",
    "                ])\n",
    "\n",
    "        # Log language impact table to wandb\n",
    "        if language_impacts:\n",
    "            wandb.log({\n",
    "                \"language_feature_impact\": wandb.Table(\n",
    "                    columns=[\"Language\", \"Samples\", \"Baseline Acc\",\n",
    "                            \"Avg Destroyed Acc\", \"Accuracy Drop\", \"Feature Score\"],\n",
    "                    data=language_impacts\n",
    "                )\n",
    "            })\n",
    "\n",
    "\n",
    "\n",
    "        print(f\"Generated feature distribution heatmap for {len(feature_presence)} languages\")\n",
    "    else:\n",
    "        print(\"Not enough language data to analyze feature distribution\")\n",
    "\n",
    "# Run the analysis\n",
    "analyze_feature_distribution(language_results, languages_ordered)"
   ]
  },
  {
   "cell_type": "code",
   "execution_count": 28,
   "metadata": {
    "executionInfo": {
     "elapsed": 38,
     "status": "ok",
     "timestamp": 1742914637504,
     "user": {
      "displayName": "Robin Kokot",
      "userId": "12410801071273089859"
     },
     "user_tz": -60
    },
    "id": "yZcQO_OTl091"
   },
   "outputs": [],
   "source": [
    "wandb.finish()"
   ]
  },
  {
   "cell_type": "code",
   "execution_count": null,
   "metadata": {
    "id": "Am7Ke6U5l093"
   },
   "outputs": [],
   "source": []
  }
 ],
 "metadata": {
  "accelerator": "GPU",
  "colab": {
   "gpuType": "T4",
   "provenance": []
  },
  "kernelspec": {
   "display_name": "Python 3",
   "name": "python3"
  },
  "language_info": {
   "codemirror_mode": {
    "name": "ipython",
    "version": 3
   },
   "file_extension": ".py",
   "mimetype": "text/x-python",
   "name": "python",
   "nbconvert_exporter": "python",
   "pygments_lexer": "ipython3",
   "version": "3.12.3"
  },
  "widgets": {
   "application/vnd.jupyter.widget-state+json": {
    "016134edeb634885a9b8f6678a9147d1": {
     "model_module": "@jupyter-widgets/controls",
     "model_module_version": "1.5.0",
     "model_name": "HTMLModel",
     "state": {
      "_dom_classes": [],
      "_model_module": "@jupyter-widgets/controls",
      "_model_module_version": "1.5.0",
      "_model_name": "HTMLModel",
      "_view_count": null,
      "_view_module": "@jupyter-widgets/controls",
      "_view_module_version": "1.5.0",
      "_view_name": "HTMLView",
      "description": "",
      "description_tooltip": null,
      "layout": "IPY_MODEL_931ae8576072440bb0c98e5494a44b0a",
      "placeholder": "​",
      "style": "IPY_MODEL_da3fe9a516e1431a8a630b6e154a6f88",
      "value": "README.md: 100%"
     }
    },
    "041ae3eed80a402e9d6fbc667e91c8cd": {
     "model_module": "@jupyter-widgets/controls",
     "model_module_version": "1.5.0",
     "model_name": "HTMLModel",
     "state": {
      "_dom_classes": [],
      "_model_module": "@jupyter-widgets/controls",
      "_model_module_version": "1.5.0",
      "_model_name": "HTMLModel",
      "_view_count": null,
      "_view_module": "@jupyter-widgets/controls",
      "_view_module_version": "1.5.0",
      "_view_name": "HTMLView",
      "description": "",
      "description_tooltip": null,
      "layout": "IPY_MODEL_d62dc3b8bf864377a8162dc1f5667e72",
      "placeholder": "​",
      "style": "IPY_MODEL_365ec555ce3147da9ad53b51aa8a970b",
      "value": " 7460/7460 [00:00&lt;00:00, 94772.46 examples/s]"
     }
    },
    "0897591d57344be08ccabc93b3e2a4cc": {
     "model_module": "@jupyter-widgets/controls",
     "model_module_version": "1.5.0",
     "model_name": "DescriptionStyleModel",
     "state": {
      "_model_module": "@jupyter-widgets/controls",
      "_model_module_version": "1.5.0",
      "_model_name": "DescriptionStyleModel",
      "_view_count": null,
      "_view_module": "@jupyter-widgets/base",
      "_view_module_version": "1.2.0",
      "_view_name": "StyleView",
      "description_width": ""
     }
    },
    "09755d1b357649229ce330e18b5173b0": {
     "model_module": "@jupyter-widgets/controls",
     "model_module_version": "1.5.0",
     "model_name": "HBoxModel",
     "state": {
      "_dom_classes": [],
      "_model_module": "@jupyter-widgets/controls",
      "_model_module_version": "1.5.0",
      "_model_name": "HBoxModel",
      "_view_count": null,
      "_view_module": "@jupyter-widgets/controls",
      "_view_module_version": "1.5.0",
      "_view_name": "HBoxView",
      "box_style": "",
      "children": [
       "IPY_MODEL_aef2932aa7d34acca127f9f5b6197333",
       "IPY_MODEL_bf9fdf5e88d2410bb2d7bf23d4aab72d",
       "IPY_MODEL_0b7799823885443cb3a7f88fd3cdad1b"
      ],
      "layout": "IPY_MODEL_d3ecd9294e2d4fdabe8d3849aea024cf"
     }
    },
    "0b7799823885443cb3a7f88fd3cdad1b": {
     "model_module": "@jupyter-widgets/controls",
     "model_module_version": "1.5.0",
     "model_name": "HTMLModel",
     "state": {
      "_dom_classes": [],
      "_model_module": "@jupyter-widgets/controls",
      "_model_module_version": "1.5.0",
      "_model_name": "HTMLModel",
      "_view_count": null,
      "_view_module": "@jupyter-widgets/controls",
      "_view_module_version": "1.5.0",
      "_view_name": "HTMLView",
      "description": "",
      "description_tooltip": null,
      "layout": "IPY_MODEL_a6c8161ce99e447395524eed3c3442f0",
      "placeholder": "​",
      "style": "IPY_MODEL_cde1d34173c8457b97305a8eb8f07115",
      "value": " 441/441 [00:00&lt;00:00, 20034.96 examples/s]"
     }
    },
    "0d97c5c5725b45d9b6cdb41b8e705358": {
     "model_module": "@jupyter-widgets/controls",
     "model_module_version": "1.5.0",
     "model_name": "HBoxModel",
     "state": {
      "_dom_classes": [],
      "_model_module": "@jupyter-widgets/controls",
      "_model_module_version": "1.5.0",
      "_model_name": "HBoxModel",
      "_view_count": null,
      "_view_module": "@jupyter-widgets/controls",
      "_view_module_version": "1.5.0",
      "_view_name": "HBoxView",
      "box_style": "",
      "children": [
       "IPY_MODEL_cb0df366978e49709d35aa3a3db163c9",
       "IPY_MODEL_279630c7c33e469cb091d9ca8da3f43e",
       "IPY_MODEL_b14301eeaed84cd79f984a46dbc7e4af"
      ],
      "layout": "IPY_MODEL_e80674aca880499fb17883c31fad6bcd"
     }
    },
    "12c937772353466b92951e2e4708dd12": {
     "model_module": "@jupyter-widgets/controls",
     "model_module_version": "1.5.0",
     "model_name": "DescriptionStyleModel",
     "state": {
      "_model_module": "@jupyter-widgets/controls",
      "_model_module_version": "1.5.0",
      "_model_name": "DescriptionStyleModel",
      "_view_count": null,
      "_view_module": "@jupyter-widgets/base",
      "_view_module_version": "1.2.0",
      "_view_name": "StyleView",
      "description_width": ""
     }
    },
    "1616d6bd66a647b68ee4b93ca277d147": {
     "model_module": "@jupyter-widgets/base",
     "model_module_version": "1.2.0",
     "model_name": "LayoutModel",
     "state": {
      "_model_module": "@jupyter-widgets/base",
      "_model_module_version": "1.2.0",
      "_model_name": "LayoutModel",
      "_view_count": null,
      "_view_module": "@jupyter-widgets/base",
      "_view_module_version": "1.2.0",
      "_view_name": "LayoutView",
      "align_content": null,
      "align_items": null,
      "align_self": null,
      "border": null,
      "bottom": null,
      "display": null,
      "flex": null,
      "flex_flow": null,
      "grid_area": null,
      "grid_auto_columns": null,
      "grid_auto_flow": null,
      "grid_auto_rows": null,
      "grid_column": null,
      "grid_gap": null,
      "grid_row": null,
      "grid_template_areas": null,
      "grid_template_columns": null,
      "grid_template_rows": null,
      "height": null,
      "justify_content": null,
      "justify_items": null,
      "left": null,
      "margin": null,
      "max_height": null,
      "max_width": null,
      "min_height": null,
      "min_width": null,
      "object_fit": null,
      "object_position": null,
      "order": null,
      "overflow": null,
      "overflow_x": null,
      "overflow_y": null,
      "padding": null,
      "right": null,
      "top": null,
      "visibility": null,
      "width": null
     }
    },
    "17d0981cec14471cbb58b65f552116fe": {
     "model_module": "@jupyter-widgets/controls",
     "model_module_version": "1.5.0",
     "model_name": "HBoxModel",
     "state": {
      "_dom_classes": [],
      "_model_module": "@jupyter-widgets/controls",
      "_model_module_version": "1.5.0",
      "_model_name": "HBoxModel",
      "_view_count": null,
      "_view_module": "@jupyter-widgets/controls",
      "_view_module_version": "1.5.0",
      "_view_name": "HBoxView",
      "box_style": "",
      "children": [
       "IPY_MODEL_8734f62aa37c4205873f93d6742b0c2a",
       "IPY_MODEL_8b7f3376c0a9497985de50ed2bbc1519",
       "IPY_MODEL_041ae3eed80a402e9d6fbc667e91c8cd"
      ],
      "layout": "IPY_MODEL_2c1409e181ca4f4fa4f08c2cb6e094eb"
     }
    },
    "1b0df9053293460baee59b0b13aedb46": {
     "model_module": "@jupyter-widgets/base",
     "model_module_version": "1.2.0",
     "model_name": "LayoutModel",
     "state": {
      "_model_module": "@jupyter-widgets/base",
      "_model_module_version": "1.2.0",
      "_model_name": "LayoutModel",
      "_view_count": null,
      "_view_module": "@jupyter-widgets/base",
      "_view_module_version": "1.2.0",
      "_view_name": "LayoutView",
      "align_content": null,
      "align_items": null,
      "align_self": null,
      "border": null,
      "bottom": null,
      "display": null,
      "flex": null,
      "flex_flow": null,
      "grid_area": null,
      "grid_auto_columns": null,
      "grid_auto_flow": null,
      "grid_auto_rows": null,
      "grid_column": null,
      "grid_gap": null,
      "grid_row": null,
      "grid_template_areas": null,
      "grid_template_columns": null,
      "grid_template_rows": null,
      "height": null,
      "justify_content": null,
      "justify_items": null,
      "left": null,
      "margin": null,
      "max_height": null,
      "max_width": null,
      "min_height": null,
      "min_width": null,
      "object_fit": null,
      "object_position": null,
      "order": null,
      "overflow": null,
      "overflow_x": null,
      "overflow_y": null,
      "padding": null,
      "right": null,
      "top": null,
      "visibility": null,
      "width": null
     }
    },
    "1dd34b20a43047cd9cbd42005219d442": {
     "model_module": "@jupyter-widgets/controls",
     "model_module_version": "1.5.0",
     "model_name": "HTMLModel",
     "state": {
      "_dom_classes": [],
      "_model_module": "@jupyter-widgets/controls",
      "_model_module_version": "1.5.0",
      "_model_name": "HTMLModel",
      "_view_count": null,
      "_view_module": "@jupyter-widgets/controls",
      "_view_module_version": "1.5.0",
      "_view_name": "HTMLView",
      "description": "",
      "description_tooltip": null,
      "layout": "IPY_MODEL_b24cd85b624a4422b9a0334e2638d335",
      "placeholder": "​",
      "style": "IPY_MODEL_295189991db84348be5a493a125a0da6",
      "value": "dev_base.csv: 100%"
     }
    },
    "1ed75e4fa95047e0bab61338dcb8ff4b": {
     "model_module": "@jupyter-widgets/base",
     "model_module_version": "1.2.0",
     "model_name": "LayoutModel",
     "state": {
      "_model_module": "@jupyter-widgets/base",
      "_model_module_version": "1.2.0",
      "_model_name": "LayoutModel",
      "_view_count": null,
      "_view_module": "@jupyter-widgets/base",
      "_view_module_version": "1.2.0",
      "_view_name": "LayoutView",
      "align_content": null,
      "align_items": null,
      "align_self": null,
      "border": null,
      "bottom": null,
      "display": null,
      "flex": null,
      "flex_flow": null,
      "grid_area": null,
      "grid_auto_columns": null,
      "grid_auto_flow": null,
      "grid_auto_rows": null,
      "grid_column": null,
      "grid_gap": null,
      "grid_row": null,
      "grid_template_areas": null,
      "grid_template_columns": null,
      "grid_template_rows": null,
      "height": null,
      "justify_content": null,
      "justify_items": null,
      "left": null,
      "margin": null,
      "max_height": null,
      "max_width": null,
      "min_height": null,
      "min_width": null,
      "object_fit": null,
      "object_position": null,
      "order": null,
      "overflow": null,
      "overflow_x": null,
      "overflow_y": null,
      "padding": null,
      "right": null,
      "top": null,
      "visibility": null,
      "width": null
     }
    },
    "1f136d23fd6f4556b4d132d323ec6c25": {
     "model_module": "@jupyter-widgets/controls",
     "model_module_version": "1.5.0",
     "model_name": "HBoxModel",
     "state": {
      "_dom_classes": [],
      "_model_module": "@jupyter-widgets/controls",
      "_model_module_version": "1.5.0",
      "_model_name": "HBoxModel",
      "_view_count": null,
      "_view_module": "@jupyter-widgets/controls",
      "_view_module_version": "1.5.0",
      "_view_name": "HBoxView",
      "box_style": "",
      "children": [
       "IPY_MODEL_1dd34b20a43047cd9cbd42005219d442",
       "IPY_MODEL_c79dce296def443d97b97d5a2a67c97c",
       "IPY_MODEL_e335d82feb1345829ed41d2f611c8ee9"
      ],
      "layout": "IPY_MODEL_748434316de64cb193b5d9c29bcb86d2"
     }
    },
    "24c7dcb5324b4e93a49eb60530ade66d": {
     "model_module": "@jupyter-widgets/base",
     "model_module_version": "1.2.0",
     "model_name": "LayoutModel",
     "state": {
      "_model_module": "@jupyter-widgets/base",
      "_model_module_version": "1.2.0",
      "_model_name": "LayoutModel",
      "_view_count": null,
      "_view_module": "@jupyter-widgets/base",
      "_view_module_version": "1.2.0",
      "_view_name": "LayoutView",
      "align_content": null,
      "align_items": null,
      "align_self": null,
      "border": null,
      "bottom": null,
      "display": null,
      "flex": null,
      "flex_flow": null,
      "grid_area": null,
      "grid_auto_columns": null,
      "grid_auto_flow": null,
      "grid_auto_rows": null,
      "grid_column": null,
      "grid_gap": null,
      "grid_row": null,
      "grid_template_areas": null,
      "grid_template_columns": null,
      "grid_template_rows": null,
      "height": null,
      "justify_content": null,
      "justify_items": null,
      "left": null,
      "margin": null,
      "max_height": null,
      "max_width": null,
      "min_height": null,
      "min_width": null,
      "object_fit": null,
      "object_position": null,
      "order": null,
      "overflow": null,
      "overflow_x": null,
      "overflow_y": null,
      "padding": null,
      "right": null,
      "top": null,
      "visibility": null,
      "width": null
     }
    },
    "279630c7c33e469cb091d9ca8da3f43e": {
     "model_module": "@jupyter-widgets/controls",
     "model_module_version": "1.5.0",
     "model_name": "FloatProgressModel",
     "state": {
      "_dom_classes": [],
      "_model_module": "@jupyter-widgets/controls",
      "_model_module_version": "1.5.0",
      "_model_name": "FloatProgressModel",
      "_view_count": null,
      "_view_module": "@jupyter-widgets/controls",
      "_view_module_version": "1.5.0",
      "_view_name": "ProgressView",
      "bar_style": "success",
      "description": "",
      "description_tooltip": null,
      "layout": "IPY_MODEL_1ed75e4fa95047e0bab61338dcb8ff4b",
      "max": 719,
      "min": 0,
      "orientation": "horizontal",
      "style": "IPY_MODEL_b86836fedc6f4443a34815782c3e9e08",
      "value": 719
     }
    },
    "295189991db84348be5a493a125a0da6": {
     "model_module": "@jupyter-widgets/controls",
     "model_module_version": "1.5.0",
     "model_name": "DescriptionStyleModel",
     "state": {
      "_model_module": "@jupyter-widgets/controls",
      "_model_module_version": "1.5.0",
      "_model_name": "DescriptionStyleModel",
      "_view_count": null,
      "_view_module": "@jupyter-widgets/base",
      "_view_module_version": "1.2.0",
      "_view_name": "StyleView",
      "description_width": ""
     }
    },
    "2c1409e181ca4f4fa4f08c2cb6e094eb": {
     "model_module": "@jupyter-widgets/base",
     "model_module_version": "1.2.0",
     "model_name": "LayoutModel",
     "state": {
      "_model_module": "@jupyter-widgets/base",
      "_model_module_version": "1.2.0",
      "_model_name": "LayoutModel",
      "_view_count": null,
      "_view_module": "@jupyter-widgets/base",
      "_view_module_version": "1.2.0",
      "_view_name": "LayoutView",
      "align_content": null,
      "align_items": null,
      "align_self": null,
      "border": null,
      "bottom": null,
      "display": null,
      "flex": null,
      "flex_flow": null,
      "grid_area": null,
      "grid_auto_columns": null,
      "grid_auto_flow": null,
      "grid_auto_rows": null,
      "grid_column": null,
      "grid_gap": null,
      "grid_row": null,
      "grid_template_areas": null,
      "grid_template_columns": null,
      "grid_template_rows": null,
      "height": null,
      "justify_content": null,
      "justify_items": null,
      "left": null,
      "margin": null,
      "max_height": null,
      "max_width": null,
      "min_height": null,
      "min_width": null,
      "object_fit": null,
      "object_position": null,
      "order": null,
      "overflow": null,
      "overflow_x": null,
      "overflow_y": null,
      "padding": null,
      "right": null,
      "top": null,
      "visibility": null,
      "width": null
     }
    },
    "2c7de6bb900c4e61bd68a8cc9cb0ccd3": {
     "model_module": "@jupyter-widgets/controls",
     "model_module_version": "1.5.0",
     "model_name": "FloatProgressModel",
     "state": {
      "_dom_classes": [],
      "_model_module": "@jupyter-widgets/controls",
      "_model_module_version": "1.5.0",
      "_model_name": "FloatProgressModel",
      "_view_count": null,
      "_view_module": "@jupyter-widgets/controls",
      "_view_module_version": "1.5.0",
      "_view_name": "ProgressView",
      "bar_style": "success",
      "description": "",
      "description_tooltip": null,
      "layout": "IPY_MODEL_5db714e5f8b54679bac81d733b11b8eb",
      "max": 97249,
      "min": 0,
      "orientation": "horizontal",
      "style": "IPY_MODEL_c8fa9f1ad8ba4187b131d0e847a7bb65",
      "value": 97249
     }
    },
    "365ec555ce3147da9ad53b51aa8a970b": {
     "model_module": "@jupyter-widgets/controls",
     "model_module_version": "1.5.0",
     "model_name": "DescriptionStyleModel",
     "state": {
      "_model_module": "@jupyter-widgets/controls",
      "_model_module_version": "1.5.0",
      "_model_name": "DescriptionStyleModel",
      "_view_count": null,
      "_view_module": "@jupyter-widgets/base",
      "_view_module_version": "1.2.0",
      "_view_name": "StyleView",
      "description_width": ""
     }
    },
    "37f50b91b9ed4b54a2d68219caaccc0b": {
     "model_module": "@jupyter-widgets/base",
     "model_module_version": "1.2.0",
     "model_name": "LayoutModel",
     "state": {
      "_model_module": "@jupyter-widgets/base",
      "_model_module_version": "1.2.0",
      "_model_name": "LayoutModel",
      "_view_count": null,
      "_view_module": "@jupyter-widgets/base",
      "_view_module_version": "1.2.0",
      "_view_name": "LayoutView",
      "align_content": null,
      "align_items": null,
      "align_self": null,
      "border": null,
      "bottom": null,
      "display": null,
      "flex": null,
      "flex_flow": null,
      "grid_area": null,
      "grid_auto_columns": null,
      "grid_auto_flow": null,
      "grid_auto_rows": null,
      "grid_column": null,
      "grid_gap": null,
      "grid_row": null,
      "grid_template_areas": null,
      "grid_template_columns": null,
      "grid_template_rows": null,
      "height": null,
      "justify_content": null,
      "justify_items": null,
      "left": null,
      "margin": null,
      "max_height": null,
      "max_width": null,
      "min_height": null,
      "min_width": null,
      "object_fit": null,
      "object_position": null,
      "order": null,
      "overflow": null,
      "overflow_x": null,
      "overflow_y": null,
      "padding": null,
      "right": null,
      "top": null,
      "visibility": null,
      "width": null
     }
    },
    "3c98301d592040df885d839c617cdb90": {
     "model_module": "@jupyter-widgets/base",
     "model_module_version": "1.2.0",
     "model_name": "LayoutModel",
     "state": {
      "_model_module": "@jupyter-widgets/base",
      "_model_module_version": "1.2.0",
      "_model_name": "LayoutModel",
      "_view_count": null,
      "_view_module": "@jupyter-widgets/base",
      "_view_module_version": "1.2.0",
      "_view_name": "LayoutView",
      "align_content": null,
      "align_items": null,
      "align_self": null,
      "border": null,
      "bottom": null,
      "display": null,
      "flex": null,
      "flex_flow": null,
      "grid_area": null,
      "grid_auto_columns": null,
      "grid_auto_flow": null,
      "grid_auto_rows": null,
      "grid_column": null,
      "grid_gap": null,
      "grid_row": null,
      "grid_template_areas": null,
      "grid_template_columns": null,
      "grid_template_rows": null,
      "height": null,
      "justify_content": null,
      "justify_items": null,
      "left": null,
      "margin": null,
      "max_height": null,
      "max_width": null,
      "min_height": null,
      "min_width": null,
      "object_fit": null,
      "object_position": null,
      "order": null,
      "overflow": null,
      "overflow_x": null,
      "overflow_y": null,
      "padding": null,
      "right": null,
      "top": null,
      "visibility": null,
      "width": null
     }
    },
    "3eb549b225424c68be1e865269c455f1": {
     "model_module": "@jupyter-widgets/base",
     "model_module_version": "1.2.0",
     "model_name": "LayoutModel",
     "state": {
      "_model_module": "@jupyter-widgets/base",
      "_model_module_version": "1.2.0",
      "_model_name": "LayoutModel",
      "_view_count": null,
      "_view_module": "@jupyter-widgets/base",
      "_view_module_version": "1.2.0",
      "_view_name": "LayoutView",
      "align_content": null,
      "align_items": null,
      "align_self": null,
      "border": null,
      "bottom": null,
      "display": null,
      "flex": null,
      "flex_flow": null,
      "grid_area": null,
      "grid_auto_columns": null,
      "grid_auto_flow": null,
      "grid_auto_rows": null,
      "grid_column": null,
      "grid_gap": null,
      "grid_row": null,
      "grid_template_areas": null,
      "grid_template_columns": null,
      "grid_template_rows": null,
      "height": null,
      "justify_content": null,
      "justify_items": null,
      "left": null,
      "margin": null,
      "max_height": null,
      "max_width": null,
      "min_height": null,
      "min_width": null,
      "object_fit": null,
      "object_position": null,
      "order": null,
      "overflow": null,
      "overflow_x": null,
      "overflow_y": null,
      "padding": null,
      "right": null,
      "top": null,
      "visibility": null,
      "width": null
     }
    },
    "4380c339d6da4cd6916443631ffe0aa4": {
     "model_module": "@jupyter-widgets/controls",
     "model_module_version": "1.5.0",
     "model_name": "HBoxModel",
     "state": {
      "_dom_classes": [],
      "_model_module": "@jupyter-widgets/controls",
      "_model_module_version": "1.5.0",
      "_model_name": "HBoxModel",
      "_view_count": null,
      "_view_module": "@jupyter-widgets/controls",
      "_view_module_version": "1.5.0",
      "_view_name": "HBoxView",
      "box_style": "",
      "children": [
       "IPY_MODEL_016134edeb634885a9b8f6678a9147d1",
       "IPY_MODEL_443bf8600f514c8e8adfef01cc0506a9",
       "IPY_MODEL_c1ef5102b938457e82a378158936e82c"
      ],
      "layout": "IPY_MODEL_5444d24a24b1454fb203f66d9e25ab23"
     }
    },
    "443bf8600f514c8e8adfef01cc0506a9": {
     "model_module": "@jupyter-widgets/controls",
     "model_module_version": "1.5.0",
     "model_name": "FloatProgressModel",
     "state": {
      "_dom_classes": [],
      "_model_module": "@jupyter-widgets/controls",
      "_model_module_version": "1.5.0",
      "_model_name": "FloatProgressModel",
      "_view_count": null,
      "_view_module": "@jupyter-widgets/controls",
      "_view_module_version": "1.5.0",
      "_view_name": "ProgressView",
      "bar_style": "success",
      "description": "",
      "description_tooltip": null,
      "layout": "IPY_MODEL_ccd4e4c49db145d895e2fb48b477b540",
      "max": 15012,
      "min": 0,
      "orientation": "horizontal",
      "style": "IPY_MODEL_f81f5f60771748b3a44f17dc1a3ea3a7",
      "value": 15012
     }
    },
    "47f6583441e844fd98292cf513157315": {
     "model_module": "@jupyter-widgets/controls",
     "model_module_version": "1.5.0",
     "model_name": "DescriptionStyleModel",
     "state": {
      "_model_module": "@jupyter-widgets/controls",
      "_model_module_version": "1.5.0",
      "_model_name": "DescriptionStyleModel",
      "_view_count": null,
      "_view_module": "@jupyter-widgets/base",
      "_view_module_version": "1.2.0",
      "_view_name": "StyleView",
      "description_width": ""
     }
    },
    "48e307b38eea41a6b22bf2f8414a033b": {
     "model_module": "@jupyter-widgets/controls",
     "model_module_version": "1.5.0",
     "model_name": "DescriptionStyleModel",
     "state": {
      "_model_module": "@jupyter-widgets/controls",
      "_model_module_version": "1.5.0",
      "_model_name": "DescriptionStyleModel",
      "_view_count": null,
      "_view_module": "@jupyter-widgets/base",
      "_view_module_version": "1.2.0",
      "_view_name": "StyleView",
      "description_width": ""
     }
    },
    "49d03beb1e54403eaac043c366e574bd": {
     "model_module": "@jupyter-widgets/base",
     "model_module_version": "1.2.0",
     "model_name": "LayoutModel",
     "state": {
      "_model_module": "@jupyter-widgets/base",
      "_model_module_version": "1.2.0",
      "_model_name": "LayoutModel",
      "_view_count": null,
      "_view_module": "@jupyter-widgets/base",
      "_view_module_version": "1.2.0",
      "_view_name": "LayoutView",
      "align_content": null,
      "align_items": null,
      "align_self": null,
      "border": null,
      "bottom": null,
      "display": null,
      "flex": null,
      "flex_flow": null,
      "grid_area": null,
      "grid_auto_columns": null,
      "grid_auto_flow": null,
      "grid_auto_rows": null,
      "grid_column": null,
      "grid_gap": null,
      "grid_row": null,
      "grid_template_areas": null,
      "grid_template_columns": null,
      "grid_template_rows": null,
      "height": null,
      "justify_content": null,
      "justify_items": null,
      "left": null,
      "margin": null,
      "max_height": null,
      "max_width": null,
      "min_height": null,
      "min_width": null,
      "object_fit": null,
      "object_position": null,
      "order": null,
      "overflow": null,
      "overflow_x": null,
      "overflow_y": null,
      "padding": null,
      "right": null,
      "top": null,
      "visibility": null,
      "width": null
     }
    },
    "4e4b96aac56b4457afe1c13506bc388f": {
     "model_module": "@jupyter-widgets/base",
     "model_module_version": "1.2.0",
     "model_name": "LayoutModel",
     "state": {
      "_model_module": "@jupyter-widgets/base",
      "_model_module_version": "1.2.0",
      "_model_name": "LayoutModel",
      "_view_count": null,
      "_view_module": "@jupyter-widgets/base",
      "_view_module_version": "1.2.0",
      "_view_name": "LayoutView",
      "align_content": null,
      "align_items": null,
      "align_self": null,
      "border": null,
      "bottom": null,
      "display": null,
      "flex": null,
      "flex_flow": null,
      "grid_area": null,
      "grid_auto_columns": null,
      "grid_auto_flow": null,
      "grid_auto_rows": null,
      "grid_column": null,
      "grid_gap": null,
      "grid_row": null,
      "grid_template_areas": null,
      "grid_template_columns": null,
      "grid_template_rows": null,
      "height": null,
      "justify_content": null,
      "justify_items": null,
      "left": null,
      "margin": null,
      "max_height": null,
      "max_width": null,
      "min_height": null,
      "min_width": null,
      "object_fit": null,
      "object_position": null,
      "order": null,
      "overflow": null,
      "overflow_x": null,
      "overflow_y": null,
      "padding": null,
      "right": null,
      "top": null,
      "visibility": null,
      "width": null
     }
    },
    "5444d24a24b1454fb203f66d9e25ab23": {
     "model_module": "@jupyter-widgets/base",
     "model_module_version": "1.2.0",
     "model_name": "LayoutModel",
     "state": {
      "_model_module": "@jupyter-widgets/base",
      "_model_module_version": "1.2.0",
      "_model_name": "LayoutModel",
      "_view_count": null,
      "_view_module": "@jupyter-widgets/base",
      "_view_module_version": "1.2.0",
      "_view_name": "LayoutView",
      "align_content": null,
      "align_items": null,
      "align_self": null,
      "border": null,
      "bottom": null,
      "display": null,
      "flex": null,
      "flex_flow": null,
      "grid_area": null,
      "grid_auto_columns": null,
      "grid_auto_flow": null,
      "grid_auto_rows": null,
      "grid_column": null,
      "grid_gap": null,
      "grid_row": null,
      "grid_template_areas": null,
      "grid_template_columns": null,
      "grid_template_rows": null,
      "height": null,
      "justify_content": null,
      "justify_items": null,
      "left": null,
      "margin": null,
      "max_height": null,
      "max_width": null,
      "min_height": null,
      "min_width": null,
      "object_fit": null,
      "object_position": null,
      "order": null,
      "overflow": null,
      "overflow_x": null,
      "overflow_y": null,
      "padding": null,
      "right": null,
      "top": null,
      "visibility": null,
      "width": null
     }
    },
    "56c465122306486eaa1ade871b5a5ec5": {
     "model_module": "@jupyter-widgets/controls",
     "model_module_version": "1.5.0",
     "model_name": "HBoxModel",
     "state": {
      "_dom_classes": [],
      "_model_module": "@jupyter-widgets/controls",
      "_model_module_version": "1.5.0",
      "_model_name": "HBoxModel",
      "_view_count": null,
      "_view_module": "@jupyter-widgets/controls",
      "_view_module_version": "1.5.0",
      "_view_name": "HBoxView",
      "box_style": "",
      "children": [
       "IPY_MODEL_b1c1ccb48b464b6689eac3e02f991a29",
       "IPY_MODEL_d38ec0f4dab14325b0ce0b262896b4ff",
       "IPY_MODEL_f45555693838445eb351fe3f82b908d9"
      ],
      "layout": "IPY_MODEL_4e4b96aac56b4457afe1c13506bc388f"
     }
    },
    "57520d49ced844b7992553dde7e1caaf": {
     "model_module": "@jupyter-widgets/base",
     "model_module_version": "1.2.0",
     "model_name": "LayoutModel",
     "state": {
      "_model_module": "@jupyter-widgets/base",
      "_model_module_version": "1.2.0",
      "_model_name": "LayoutModel",
      "_view_count": null,
      "_view_module": "@jupyter-widgets/base",
      "_view_module_version": "1.2.0",
      "_view_name": "LayoutView",
      "align_content": null,
      "align_items": null,
      "align_self": null,
      "border": null,
      "bottom": null,
      "display": null,
      "flex": null,
      "flex_flow": null,
      "grid_area": null,
      "grid_auto_columns": null,
      "grid_auto_flow": null,
      "grid_auto_rows": null,
      "grid_column": null,
      "grid_gap": null,
      "grid_row": null,
      "grid_template_areas": null,
      "grid_template_columns": null,
      "grid_template_rows": null,
      "height": null,
      "justify_content": null,
      "justify_items": null,
      "left": null,
      "margin": null,
      "max_height": null,
      "max_width": null,
      "min_height": null,
      "min_width": null,
      "object_fit": null,
      "object_position": null,
      "order": null,
      "overflow": null,
      "overflow_x": null,
      "overflow_y": null,
      "padding": null,
      "right": null,
      "top": null,
      "visibility": null,
      "width": null
     }
    },
    "59404372a89c42838517a74973ddc7c6": {
     "model_module": "@jupyter-widgets/base",
     "model_module_version": "1.2.0",
     "model_name": "LayoutModel",
     "state": {
      "_model_module": "@jupyter-widgets/base",
      "_model_module_version": "1.2.0",
      "_model_name": "LayoutModel",
      "_view_count": null,
      "_view_module": "@jupyter-widgets/base",
      "_view_module_version": "1.2.0",
      "_view_name": "LayoutView",
      "align_content": null,
      "align_items": null,
      "align_self": null,
      "border": null,
      "bottom": null,
      "display": null,
      "flex": null,
      "flex_flow": null,
      "grid_area": null,
      "grid_auto_columns": null,
      "grid_auto_flow": null,
      "grid_auto_rows": null,
      "grid_column": null,
      "grid_gap": null,
      "grid_row": null,
      "grid_template_areas": null,
      "grid_template_columns": null,
      "grid_template_rows": null,
      "height": null,
      "justify_content": null,
      "justify_items": null,
      "left": null,
      "margin": null,
      "max_height": null,
      "max_width": null,
      "min_height": null,
      "min_width": null,
      "object_fit": null,
      "object_position": null,
      "order": null,
      "overflow": null,
      "overflow_x": null,
      "overflow_y": null,
      "padding": null,
      "right": null,
      "top": null,
      "visibility": null,
      "width": null
     }
    },
    "5bbbce73f45f4fc38589285e3bc12e8d": {
     "model_module": "@jupyter-widgets/controls",
     "model_module_version": "1.5.0",
     "model_name": "HBoxModel",
     "state": {
      "_dom_classes": [],
      "_model_module": "@jupyter-widgets/controls",
      "_model_module_version": "1.5.0",
      "_model_name": "HBoxModel",
      "_view_count": null,
      "_view_module": "@jupyter-widgets/controls",
      "_view_module_version": "1.5.0",
      "_view_name": "HBoxView",
      "box_style": "",
      "children": [
       "IPY_MODEL_d69f624992ec4d98b26cfbe4eda7858a",
       "IPY_MODEL_2c7de6bb900c4e61bd68a8cc9cb0ccd3",
       "IPY_MODEL_b40d509e2b184b6d842bda5236f8e898"
      ],
      "layout": "IPY_MODEL_bbc4036b76de48329d5c5cc37a05de2c"
     }
    },
    "5db714e5f8b54679bac81d733b11b8eb": {
     "model_module": "@jupyter-widgets/base",
     "model_module_version": "1.2.0",
     "model_name": "LayoutModel",
     "state": {
      "_model_module": "@jupyter-widgets/base",
      "_model_module_version": "1.2.0",
      "_model_name": "LayoutModel",
      "_view_count": null,
      "_view_module": "@jupyter-widgets/base",
      "_view_module_version": "1.2.0",
      "_view_name": "LayoutView",
      "align_content": null,
      "align_items": null,
      "align_self": null,
      "border": null,
      "bottom": null,
      "display": null,
      "flex": null,
      "flex_flow": null,
      "grid_area": null,
      "grid_auto_columns": null,
      "grid_auto_flow": null,
      "grid_auto_rows": null,
      "grid_column": null,
      "grid_gap": null,
      "grid_row": null,
      "grid_template_areas": null,
      "grid_template_columns": null,
      "grid_template_rows": null,
      "height": null,
      "justify_content": null,
      "justify_items": null,
      "left": null,
      "margin": null,
      "max_height": null,
      "max_width": null,
      "min_height": null,
      "min_width": null,
      "object_fit": null,
      "object_position": null,
      "order": null,
      "overflow": null,
      "overflow_x": null,
      "overflow_y": null,
      "padding": null,
      "right": null,
      "top": null,
      "visibility": null,
      "width": null
     }
    },
    "748434316de64cb193b5d9c29bcb86d2": {
     "model_module": "@jupyter-widgets/base",
     "model_module_version": "1.2.0",
     "model_name": "LayoutModel",
     "state": {
      "_model_module": "@jupyter-widgets/base",
      "_model_module_version": "1.2.0",
      "_model_name": "LayoutModel",
      "_view_count": null,
      "_view_module": "@jupyter-widgets/base",
      "_view_module_version": "1.2.0",
      "_view_name": "LayoutView",
      "align_content": null,
      "align_items": null,
      "align_self": null,
      "border": null,
      "bottom": null,
      "display": null,
      "flex": null,
      "flex_flow": null,
      "grid_area": null,
      "grid_auto_columns": null,
      "grid_auto_flow": null,
      "grid_auto_rows": null,
      "grid_column": null,
      "grid_gap": null,
      "grid_row": null,
      "grid_template_areas": null,
      "grid_template_columns": null,
      "grid_template_rows": null,
      "height": null,
      "justify_content": null,
      "justify_items": null,
      "left": null,
      "margin": null,
      "max_height": null,
      "max_width": null,
      "min_height": null,
      "min_width": null,
      "object_fit": null,
      "object_position": null,
      "order": null,
      "overflow": null,
      "overflow_x": null,
      "overflow_y": null,
      "padding": null,
      "right": null,
      "top": null,
      "visibility": null,
      "width": null
     }
    },
    "7806360d94e14cc88aab7d7c1d61ca36": {
     "model_module": "@jupyter-widgets/base",
     "model_module_version": "1.2.0",
     "model_name": "LayoutModel",
     "state": {
      "_model_module": "@jupyter-widgets/base",
      "_model_module_version": "1.2.0",
      "_model_name": "LayoutModel",
      "_view_count": null,
      "_view_module": "@jupyter-widgets/base",
      "_view_module_version": "1.2.0",
      "_view_name": "LayoutView",
      "align_content": null,
      "align_items": null,
      "align_self": null,
      "border": null,
      "bottom": null,
      "display": null,
      "flex": null,
      "flex_flow": null,
      "grid_area": null,
      "grid_auto_columns": null,
      "grid_auto_flow": null,
      "grid_auto_rows": null,
      "grid_column": null,
      "grid_gap": null,
      "grid_row": null,
      "grid_template_areas": null,
      "grid_template_columns": null,
      "grid_template_rows": null,
      "height": null,
      "justify_content": null,
      "justify_items": null,
      "left": null,
      "margin": null,
      "max_height": null,
      "max_width": null,
      "min_height": null,
      "min_width": null,
      "object_fit": null,
      "object_position": null,
      "order": null,
      "overflow": null,
      "overflow_x": null,
      "overflow_y": null,
      "padding": null,
      "right": null,
      "top": null,
      "visibility": null,
      "width": null
     }
    },
    "84975d3f24c543f888dc534411d35a23": {
     "model_module": "@jupyter-widgets/base",
     "model_module_version": "1.2.0",
     "model_name": "LayoutModel",
     "state": {
      "_model_module": "@jupyter-widgets/base",
      "_model_module_version": "1.2.0",
      "_model_name": "LayoutModel",
      "_view_count": null,
      "_view_module": "@jupyter-widgets/base",
      "_view_module_version": "1.2.0",
      "_view_name": "LayoutView",
      "align_content": null,
      "align_items": null,
      "align_self": null,
      "border": null,
      "bottom": null,
      "display": null,
      "flex": null,
      "flex_flow": null,
      "grid_area": null,
      "grid_auto_columns": null,
      "grid_auto_flow": null,
      "grid_auto_rows": null,
      "grid_column": null,
      "grid_gap": null,
      "grid_row": null,
      "grid_template_areas": null,
      "grid_template_columns": null,
      "grid_template_rows": null,
      "height": null,
      "justify_content": null,
      "justify_items": null,
      "left": null,
      "margin": null,
      "max_height": null,
      "max_width": null,
      "min_height": null,
      "min_width": null,
      "object_fit": null,
      "object_position": null,
      "order": null,
      "overflow": null,
      "overflow_x": null,
      "overflow_y": null,
      "padding": null,
      "right": null,
      "top": null,
      "visibility": null,
      "width": null
     }
    },
    "8734f62aa37c4205873f93d6742b0c2a": {
     "model_module": "@jupyter-widgets/controls",
     "model_module_version": "1.5.0",
     "model_name": "HTMLModel",
     "state": {
      "_dom_classes": [],
      "_model_module": "@jupyter-widgets/controls",
      "_model_module_version": "1.5.0",
      "_model_name": "HTMLModel",
      "_view_count": null,
      "_view_module": "@jupyter-widgets/controls",
      "_view_module_version": "1.5.0",
      "_view_name": "HTMLView",
      "description": "",
      "description_tooltip": null,
      "layout": "IPY_MODEL_f1a5df8b34674411a830b6a8e5a9d51c",
      "placeholder": "​",
      "style": "IPY_MODEL_e1112afbf79c484b93122993f6a33a90",
      "value": "Generating train split: 100%"
     }
    },
    "89539baf49754f6ca902321675a3dd25": {
     "model_module": "@jupyter-widgets/base",
     "model_module_version": "1.2.0",
     "model_name": "LayoutModel",
     "state": {
      "_model_module": "@jupyter-widgets/base",
      "_model_module_version": "1.2.0",
      "_model_name": "LayoutModel",
      "_view_count": null,
      "_view_module": "@jupyter-widgets/base",
      "_view_module_version": "1.2.0",
      "_view_name": "LayoutView",
      "align_content": null,
      "align_items": null,
      "align_self": null,
      "border": null,
      "bottom": null,
      "display": null,
      "flex": null,
      "flex_flow": null,
      "grid_area": null,
      "grid_auto_columns": null,
      "grid_auto_flow": null,
      "grid_auto_rows": null,
      "grid_column": null,
      "grid_gap": null,
      "grid_row": null,
      "grid_template_areas": null,
      "grid_template_columns": null,
      "grid_template_rows": null,
      "height": null,
      "justify_content": null,
      "justify_items": null,
      "left": null,
      "margin": null,
      "max_height": null,
      "max_width": null,
      "min_height": null,
      "min_width": null,
      "object_fit": null,
      "object_position": null,
      "order": null,
      "overflow": null,
      "overflow_x": null,
      "overflow_y": null,
      "padding": null,
      "right": null,
      "top": null,
      "visibility": null,
      "width": null
     }
    },
    "8b7f3376c0a9497985de50ed2bbc1519": {
     "model_module": "@jupyter-widgets/controls",
     "model_module_version": "1.5.0",
     "model_name": "FloatProgressModel",
     "state": {
      "_dom_classes": [],
      "_model_module": "@jupyter-widgets/controls",
      "_model_module_version": "1.5.0",
      "_model_name": "FloatProgressModel",
      "_view_count": null,
      "_view_module": "@jupyter-widgets/controls",
      "_view_module_version": "1.5.0",
      "_view_name": "ProgressView",
      "bar_style": "success",
      "description": "",
      "description_tooltip": null,
      "layout": "IPY_MODEL_3c98301d592040df885d839c617cdb90",
      "max": 7460,
      "min": 0,
      "orientation": "horizontal",
      "style": "IPY_MODEL_d110b9d310c14877aaff4764564377d2",
      "value": 7460
     }
    },
    "931ae8576072440bb0c98e5494a44b0a": {
     "model_module": "@jupyter-widgets/base",
     "model_module_version": "1.2.0",
     "model_name": "LayoutModel",
     "state": {
      "_model_module": "@jupyter-widgets/base",
      "_model_module_version": "1.2.0",
      "_model_name": "LayoutModel",
      "_view_count": null,
      "_view_module": "@jupyter-widgets/base",
      "_view_module_version": "1.2.0",
      "_view_name": "LayoutView",
      "align_content": null,
      "align_items": null,
      "align_self": null,
      "border": null,
      "bottom": null,
      "display": null,
      "flex": null,
      "flex_flow": null,
      "grid_area": null,
      "grid_auto_columns": null,
      "grid_auto_flow": null,
      "grid_auto_rows": null,
      "grid_column": null,
      "grid_gap": null,
      "grid_row": null,
      "grid_template_areas": null,
      "grid_template_columns": null,
      "grid_template_rows": null,
      "height": null,
      "justify_content": null,
      "justify_items": null,
      "left": null,
      "margin": null,
      "max_height": null,
      "max_width": null,
      "min_height": null,
      "min_width": null,
      "object_fit": null,
      "object_position": null,
      "order": null,
      "overflow": null,
      "overflow_x": null,
      "overflow_y": null,
      "padding": null,
      "right": null,
      "top": null,
      "visibility": null,
      "width": null
     }
    },
    "95fc2b56182f44988d74260db12a4028": {
     "model_module": "@jupyter-widgets/controls",
     "model_module_version": "1.5.0",
     "model_name": "ProgressStyleModel",
     "state": {
      "_model_module": "@jupyter-widgets/controls",
      "_model_module_version": "1.5.0",
      "_model_name": "ProgressStyleModel",
      "_view_count": null,
      "_view_module": "@jupyter-widgets/base",
      "_view_module_version": "1.2.0",
      "_view_name": "StyleView",
      "bar_color": null,
      "description_width": ""
     }
    },
    "9ed156a9f5244c45aa6c3eb2b71baf84": {
     "model_module": "@jupyter-widgets/controls",
     "model_module_version": "1.5.0",
     "model_name": "DescriptionStyleModel",
     "state": {
      "_model_module": "@jupyter-widgets/controls",
      "_model_module_version": "1.5.0",
      "_model_name": "DescriptionStyleModel",
      "_view_count": null,
      "_view_module": "@jupyter-widgets/base",
      "_view_module_version": "1.2.0",
      "_view_name": "StyleView",
      "description_width": ""
     }
    },
    "a19a8dcbb2e44550bfb5f8b283c74120": {
     "model_module": "@jupyter-widgets/controls",
     "model_module_version": "1.5.0",
     "model_name": "DescriptionStyleModel",
     "state": {
      "_model_module": "@jupyter-widgets/controls",
      "_model_module_version": "1.5.0",
      "_model_name": "DescriptionStyleModel",
      "_view_count": null,
      "_view_module": "@jupyter-widgets/base",
      "_view_module_version": "1.2.0",
      "_view_name": "StyleView",
      "description_width": ""
     }
    },
    "a6c8161ce99e447395524eed3c3442f0": {
     "model_module": "@jupyter-widgets/base",
     "model_module_version": "1.2.0",
     "model_name": "LayoutModel",
     "state": {
      "_model_module": "@jupyter-widgets/base",
      "_model_module_version": "1.2.0",
      "_model_name": "LayoutModel",
      "_view_count": null,
      "_view_module": "@jupyter-widgets/base",
      "_view_module_version": "1.2.0",
      "_view_name": "LayoutView",
      "align_content": null,
      "align_items": null,
      "align_self": null,
      "border": null,
      "bottom": null,
      "display": null,
      "flex": null,
      "flex_flow": null,
      "grid_area": null,
      "grid_auto_columns": null,
      "grid_auto_flow": null,
      "grid_auto_rows": null,
      "grid_column": null,
      "grid_gap": null,
      "grid_row": null,
      "grid_template_areas": null,
      "grid_template_columns": null,
      "grid_template_rows": null,
      "height": null,
      "justify_content": null,
      "justify_items": null,
      "left": null,
      "margin": null,
      "max_height": null,
      "max_width": null,
      "min_height": null,
      "min_width": null,
      "object_fit": null,
      "object_position": null,
      "order": null,
      "overflow": null,
      "overflow_x": null,
      "overflow_y": null,
      "padding": null,
      "right": null,
      "top": null,
      "visibility": null,
      "width": null
     }
    },
    "a6fe36368eb846fcb657b3362b6684e2": {
     "model_module": "@jupyter-widgets/controls",
     "model_module_version": "1.5.0",
     "model_name": "DescriptionStyleModel",
     "state": {
      "_model_module": "@jupyter-widgets/controls",
      "_model_module_version": "1.5.0",
      "_model_name": "DescriptionStyleModel",
      "_view_count": null,
      "_view_module": "@jupyter-widgets/base",
      "_view_module_version": "1.2.0",
      "_view_name": "StyleView",
      "description_width": ""
     }
    },
    "aef2932aa7d34acca127f9f5b6197333": {
     "model_module": "@jupyter-widgets/controls",
     "model_module_version": "1.5.0",
     "model_name": "HTMLModel",
     "state": {
      "_dom_classes": [],
      "_model_module": "@jupyter-widgets/controls",
      "_model_module_version": "1.5.0",
      "_model_name": "HTMLModel",
      "_view_count": null,
      "_view_module": "@jupyter-widgets/controls",
      "_view_module_version": "1.5.0",
      "_view_name": "HTMLView",
      "description": "",
      "description_tooltip": null,
      "layout": "IPY_MODEL_89539baf49754f6ca902321675a3dd25",
      "placeholder": "​",
      "style": "IPY_MODEL_0897591d57344be08ccabc93b3e2a4cc",
      "value": "Generating validation split: 100%"
     }
    },
    "b14301eeaed84cd79f984a46dbc7e4af": {
     "model_module": "@jupyter-widgets/controls",
     "model_module_version": "1.5.0",
     "model_name": "HTMLModel",
     "state": {
      "_dom_classes": [],
      "_model_module": "@jupyter-widgets/controls",
      "_model_module_version": "1.5.0",
      "_model_name": "HTMLModel",
      "_view_count": null,
      "_view_module": "@jupyter-widgets/controls",
      "_view_module_version": "1.5.0",
      "_view_name": "HTMLView",
      "description": "",
      "description_tooltip": null,
      "layout": "IPY_MODEL_d4c2c175c3274647b78ff28fdbc0ab1b",
      "placeholder": "​",
      "style": "IPY_MODEL_a6fe36368eb846fcb657b3362b6684e2",
      "value": " 719/719 [00:00&lt;00:00, 30523.63 examples/s]"
     }
    },
    "b1c1ccb48b464b6689eac3e02f991a29": {
     "model_module": "@jupyter-widgets/controls",
     "model_module_version": "1.5.0",
     "model_name": "HTMLModel",
     "state": {
      "_dom_classes": [],
      "_model_module": "@jupyter-widgets/controls",
      "_model_module_version": "1.5.0",
      "_model_name": "HTMLModel",
      "_view_count": null,
      "_view_module": "@jupyter-widgets/controls",
      "_view_module_version": "1.5.0",
      "_view_name": "HTMLView",
      "description": "",
      "description_tooltip": null,
      "layout": "IPY_MODEL_24c7dcb5324b4e93a49eb60530ade66d",
      "placeholder": "​",
      "style": "IPY_MODEL_48e307b38eea41a6b22bf2f8414a033b",
      "value": "tydi_train_base.csv: 100%"
     }
    },
    "b24cd85b624a4422b9a0334e2638d335": {
     "model_module": "@jupyter-widgets/base",
     "model_module_version": "1.2.0",
     "model_name": "LayoutModel",
     "state": {
      "_model_module": "@jupyter-widgets/base",
      "_model_module_version": "1.2.0",
      "_model_name": "LayoutModel",
      "_view_count": null,
      "_view_module": "@jupyter-widgets/base",
      "_view_module_version": "1.2.0",
      "_view_name": "LayoutView",
      "align_content": null,
      "align_items": null,
      "align_self": null,
      "border": null,
      "bottom": null,
      "display": null,
      "flex": null,
      "flex_flow": null,
      "grid_area": null,
      "grid_auto_columns": null,
      "grid_auto_flow": null,
      "grid_auto_rows": null,
      "grid_column": null,
      "grid_gap": null,
      "grid_row": null,
      "grid_template_areas": null,
      "grid_template_columns": null,
      "grid_template_rows": null,
      "height": null,
      "justify_content": null,
      "justify_items": null,
      "left": null,
      "margin": null,
      "max_height": null,
      "max_width": null,
      "min_height": null,
      "min_width": null,
      "object_fit": null,
      "object_position": null,
      "order": null,
      "overflow": null,
      "overflow_x": null,
      "overflow_y": null,
      "padding": null,
      "right": null,
      "top": null,
      "visibility": null,
      "width": null
     }
    },
    "b40d509e2b184b6d842bda5236f8e898": {
     "model_module": "@jupyter-widgets/controls",
     "model_module_version": "1.5.0",
     "model_name": "HTMLModel",
     "state": {
      "_dom_classes": [],
      "_model_module": "@jupyter-widgets/controls",
      "_model_module_version": "1.5.0",
      "_model_name": "HTMLModel",
      "_view_count": null,
      "_view_module": "@jupyter-widgets/controls",
      "_view_module_version": "1.5.0",
      "_view_name": "HTMLView",
      "description": "",
      "description_tooltip": null,
      "layout": "IPY_MODEL_1b0df9053293460baee59b0b13aedb46",
      "placeholder": "​",
      "style": "IPY_MODEL_bb55ec4bee284194aaac98186577a0a5",
      "value": " 97.2k/97.2k [00:00&lt;00:00, 9.67MB/s]"
     }
    },
    "b741b68efd3a42a1a461584a340de883": {
     "model_module": "@jupyter-widgets/controls",
     "model_module_version": "1.5.0",
     "model_name": "DescriptionStyleModel",
     "state": {
      "_model_module": "@jupyter-widgets/controls",
      "_model_module_version": "1.5.0",
      "_model_name": "DescriptionStyleModel",
      "_view_count": null,
      "_view_module": "@jupyter-widgets/base",
      "_view_module_version": "1.2.0",
      "_view_name": "StyleView",
      "description_width": ""
     }
    },
    "b86836fedc6f4443a34815782c3e9e08": {
     "model_module": "@jupyter-widgets/controls",
     "model_module_version": "1.5.0",
     "model_name": "ProgressStyleModel",
     "state": {
      "_model_module": "@jupyter-widgets/controls",
      "_model_module_version": "1.5.0",
      "_model_name": "ProgressStyleModel",
      "_view_count": null,
      "_view_module": "@jupyter-widgets/base",
      "_view_module_version": "1.2.0",
      "_view_name": "StyleView",
      "bar_color": null,
      "description_width": ""
     }
    },
    "bb55ec4bee284194aaac98186577a0a5": {
     "model_module": "@jupyter-widgets/controls",
     "model_module_version": "1.5.0",
     "model_name": "DescriptionStyleModel",
     "state": {
      "_model_module": "@jupyter-widgets/controls",
      "_model_module_version": "1.5.0",
      "_model_name": "DescriptionStyleModel",
      "_view_count": null,
      "_view_module": "@jupyter-widgets/base",
      "_view_module_version": "1.2.0",
      "_view_name": "StyleView",
      "description_width": ""
     }
    },
    "bbc4036b76de48329d5c5cc37a05de2c": {
     "model_module": "@jupyter-widgets/base",
     "model_module_version": "1.2.0",
     "model_name": "LayoutModel",
     "state": {
      "_model_module": "@jupyter-widgets/base",
      "_model_module_version": "1.2.0",
      "_model_name": "LayoutModel",
      "_view_count": null,
      "_view_module": "@jupyter-widgets/base",
      "_view_module_version": "1.2.0",
      "_view_name": "LayoutView",
      "align_content": null,
      "align_items": null,
      "align_self": null,
      "border": null,
      "bottom": null,
      "display": null,
      "flex": null,
      "flex_flow": null,
      "grid_area": null,
      "grid_auto_columns": null,
      "grid_auto_flow": null,
      "grid_auto_rows": null,
      "grid_column": null,
      "grid_gap": null,
      "grid_row": null,
      "grid_template_areas": null,
      "grid_template_columns": null,
      "grid_template_rows": null,
      "height": null,
      "justify_content": null,
      "justify_items": null,
      "left": null,
      "margin": null,
      "max_height": null,
      "max_width": null,
      "min_height": null,
      "min_width": null,
      "object_fit": null,
      "object_position": null,
      "order": null,
      "overflow": null,
      "overflow_x": null,
      "overflow_y": null,
      "padding": null,
      "right": null,
      "top": null,
      "visibility": null,
      "width": null
     }
    },
    "bf9fdf5e88d2410bb2d7bf23d4aab72d": {
     "model_module": "@jupyter-widgets/controls",
     "model_module_version": "1.5.0",
     "model_name": "FloatProgressModel",
     "state": {
      "_dom_classes": [],
      "_model_module": "@jupyter-widgets/controls",
      "_model_module_version": "1.5.0",
      "_model_name": "FloatProgressModel",
      "_view_count": null,
      "_view_module": "@jupyter-widgets/controls",
      "_view_module_version": "1.5.0",
      "_view_name": "ProgressView",
      "bar_style": "success",
      "description": "",
      "description_tooltip": null,
      "layout": "IPY_MODEL_37f50b91b9ed4b54a2d68219caaccc0b",
      "max": 441,
      "min": 0,
      "orientation": "horizontal",
      "style": "IPY_MODEL_ec0f760472fd4ee8809bc98e5869e951",
      "value": 441
     }
    },
    "c1ef5102b938457e82a378158936e82c": {
     "model_module": "@jupyter-widgets/controls",
     "model_module_version": "1.5.0",
     "model_name": "HTMLModel",
     "state": {
      "_dom_classes": [],
      "_model_module": "@jupyter-widgets/controls",
      "_model_module_version": "1.5.0",
      "_model_name": "HTMLModel",
      "_view_count": null,
      "_view_module": "@jupyter-widgets/controls",
      "_view_module_version": "1.5.0",
      "_view_name": "HTMLView",
      "description": "",
      "description_tooltip": null,
      "layout": "IPY_MODEL_3eb549b225424c68be1e865269c455f1",
      "placeholder": "​",
      "style": "IPY_MODEL_47f6583441e844fd98292cf513157315",
      "value": " 15.0k/15.0k [00:00&lt;00:00, 514kB/s]"
     }
    },
    "c79dce296def443d97b97d5a2a67c97c": {
     "model_module": "@jupyter-widgets/controls",
     "model_module_version": "1.5.0",
     "model_name": "FloatProgressModel",
     "state": {
      "_dom_classes": [],
      "_model_module": "@jupyter-widgets/controls",
      "_model_module_version": "1.5.0",
      "_model_name": "FloatProgressModel",
      "_view_count": null,
      "_view_module": "@jupyter-widgets/controls",
      "_view_module_version": "1.5.0",
      "_view_name": "ProgressView",
      "bar_style": "success",
      "description": "",
      "description_tooltip": null,
      "layout": "IPY_MODEL_1616d6bd66a647b68ee4b93ca277d147",
      "max": 57444,
      "min": 0,
      "orientation": "horizontal",
      "style": "IPY_MODEL_e34910ef5fe44df0828f481a507f666e",
      "value": 57444
     }
    },
    "c8fa9f1ad8ba4187b131d0e847a7bb65": {
     "model_module": "@jupyter-widgets/controls",
     "model_module_version": "1.5.0",
     "model_name": "ProgressStyleModel",
     "state": {
      "_model_module": "@jupyter-widgets/controls",
      "_model_module_version": "1.5.0",
      "_model_name": "ProgressStyleModel",
      "_view_count": null,
      "_view_module": "@jupyter-widgets/base",
      "_view_module_version": "1.2.0",
      "_view_name": "StyleView",
      "bar_color": null,
      "description_width": ""
     }
    },
    "cb0df366978e49709d35aa3a3db163c9": {
     "model_module": "@jupyter-widgets/controls",
     "model_module_version": "1.5.0",
     "model_name": "HTMLModel",
     "state": {
      "_dom_classes": [],
      "_model_module": "@jupyter-widgets/controls",
      "_model_module_version": "1.5.0",
      "_model_name": "HTMLModel",
      "_view_count": null,
      "_view_module": "@jupyter-widgets/controls",
      "_view_module_version": "1.5.0",
      "_view_name": "HTMLView",
      "description": "",
      "description_tooltip": null,
      "layout": "IPY_MODEL_57520d49ced844b7992553dde7e1caaf",
      "placeholder": "​",
      "style": "IPY_MODEL_12c937772353466b92951e2e4708dd12",
      "value": "Generating test split: 100%"
     }
    },
    "ccd4e4c49db145d895e2fb48b477b540": {
     "model_module": "@jupyter-widgets/base",
     "model_module_version": "1.2.0",
     "model_name": "LayoutModel",
     "state": {
      "_model_module": "@jupyter-widgets/base",
      "_model_module_version": "1.2.0",
      "_model_name": "LayoutModel",
      "_view_count": null,
      "_view_module": "@jupyter-widgets/base",
      "_view_module_version": "1.2.0",
      "_view_name": "LayoutView",
      "align_content": null,
      "align_items": null,
      "align_self": null,
      "border": null,
      "bottom": null,
      "display": null,
      "flex": null,
      "flex_flow": null,
      "grid_area": null,
      "grid_auto_columns": null,
      "grid_auto_flow": null,
      "grid_auto_rows": null,
      "grid_column": null,
      "grid_gap": null,
      "grid_row": null,
      "grid_template_areas": null,
      "grid_template_columns": null,
      "grid_template_rows": null,
      "height": null,
      "justify_content": null,
      "justify_items": null,
      "left": null,
      "margin": null,
      "max_height": null,
      "max_width": null,
      "min_height": null,
      "min_width": null,
      "object_fit": null,
      "object_position": null,
      "order": null,
      "overflow": null,
      "overflow_x": null,
      "overflow_y": null,
      "padding": null,
      "right": null,
      "top": null,
      "visibility": null,
      "width": null
     }
    },
    "cde1d34173c8457b97305a8eb8f07115": {
     "model_module": "@jupyter-widgets/controls",
     "model_module_version": "1.5.0",
     "model_name": "DescriptionStyleModel",
     "state": {
      "_model_module": "@jupyter-widgets/controls",
      "_model_module_version": "1.5.0",
      "_model_name": "DescriptionStyleModel",
      "_view_count": null,
      "_view_module": "@jupyter-widgets/base",
      "_view_module_version": "1.2.0",
      "_view_name": "StyleView",
      "description_width": ""
     }
    },
    "d110b9d310c14877aaff4764564377d2": {
     "model_module": "@jupyter-widgets/controls",
     "model_module_version": "1.5.0",
     "model_name": "ProgressStyleModel",
     "state": {
      "_model_module": "@jupyter-widgets/controls",
      "_model_module_version": "1.5.0",
      "_model_name": "ProgressStyleModel",
      "_view_count": null,
      "_view_module": "@jupyter-widgets/base",
      "_view_module_version": "1.2.0",
      "_view_name": "StyleView",
      "bar_color": null,
      "description_width": ""
     }
    },
    "d38ec0f4dab14325b0ce0b262896b4ff": {
     "model_module": "@jupyter-widgets/controls",
     "model_module_version": "1.5.0",
     "model_name": "FloatProgressModel",
     "state": {
      "_dom_classes": [],
      "_model_module": "@jupyter-widgets/controls",
      "_model_module_version": "1.5.0",
      "_model_name": "FloatProgressModel",
      "_view_count": null,
      "_view_module": "@jupyter-widgets/controls",
      "_view_module_version": "1.5.0",
      "_view_name": "ProgressView",
      "bar_style": "success",
      "description": "",
      "description_tooltip": null,
      "layout": "IPY_MODEL_59404372a89c42838517a74973ddc7c6",
      "max": 885374,
      "min": 0,
      "orientation": "horizontal",
      "style": "IPY_MODEL_95fc2b56182f44988d74260db12a4028",
      "value": 885374
     }
    },
    "d3ecd9294e2d4fdabe8d3849aea024cf": {
     "model_module": "@jupyter-widgets/base",
     "model_module_version": "1.2.0",
     "model_name": "LayoutModel",
     "state": {
      "_model_module": "@jupyter-widgets/base",
      "_model_module_version": "1.2.0",
      "_model_name": "LayoutModel",
      "_view_count": null,
      "_view_module": "@jupyter-widgets/base",
      "_view_module_version": "1.2.0",
      "_view_name": "LayoutView",
      "align_content": null,
      "align_items": null,
      "align_self": null,
      "border": null,
      "bottom": null,
      "display": null,
      "flex": null,
      "flex_flow": null,
      "grid_area": null,
      "grid_auto_columns": null,
      "grid_auto_flow": null,
      "grid_auto_rows": null,
      "grid_column": null,
      "grid_gap": null,
      "grid_row": null,
      "grid_template_areas": null,
      "grid_template_columns": null,
      "grid_template_rows": null,
      "height": null,
      "justify_content": null,
      "justify_items": null,
      "left": null,
      "margin": null,
      "max_height": null,
      "max_width": null,
      "min_height": null,
      "min_width": null,
      "object_fit": null,
      "object_position": null,
      "order": null,
      "overflow": null,
      "overflow_x": null,
      "overflow_y": null,
      "padding": null,
      "right": null,
      "top": null,
      "visibility": null,
      "width": null
     }
    },
    "d4c2c175c3274647b78ff28fdbc0ab1b": {
     "model_module": "@jupyter-widgets/base",
     "model_module_version": "1.2.0",
     "model_name": "LayoutModel",
     "state": {
      "_model_module": "@jupyter-widgets/base",
      "_model_module_version": "1.2.0",
      "_model_name": "LayoutModel",
      "_view_count": null,
      "_view_module": "@jupyter-widgets/base",
      "_view_module_version": "1.2.0",
      "_view_name": "LayoutView",
      "align_content": null,
      "align_items": null,
      "align_self": null,
      "border": null,
      "bottom": null,
      "display": null,
      "flex": null,
      "flex_flow": null,
      "grid_area": null,
      "grid_auto_columns": null,
      "grid_auto_flow": null,
      "grid_auto_rows": null,
      "grid_column": null,
      "grid_gap": null,
      "grid_row": null,
      "grid_template_areas": null,
      "grid_template_columns": null,
      "grid_template_rows": null,
      "height": null,
      "justify_content": null,
      "justify_items": null,
      "left": null,
      "margin": null,
      "max_height": null,
      "max_width": null,
      "min_height": null,
      "min_width": null,
      "object_fit": null,
      "object_position": null,
      "order": null,
      "overflow": null,
      "overflow_x": null,
      "overflow_y": null,
      "padding": null,
      "right": null,
      "top": null,
      "visibility": null,
      "width": null
     }
    },
    "d62dc3b8bf864377a8162dc1f5667e72": {
     "model_module": "@jupyter-widgets/base",
     "model_module_version": "1.2.0",
     "model_name": "LayoutModel",
     "state": {
      "_model_module": "@jupyter-widgets/base",
      "_model_module_version": "1.2.0",
      "_model_name": "LayoutModel",
      "_view_count": null,
      "_view_module": "@jupyter-widgets/base",
      "_view_module_version": "1.2.0",
      "_view_name": "LayoutView",
      "align_content": null,
      "align_items": null,
      "align_self": null,
      "border": null,
      "bottom": null,
      "display": null,
      "flex": null,
      "flex_flow": null,
      "grid_area": null,
      "grid_auto_columns": null,
      "grid_auto_flow": null,
      "grid_auto_rows": null,
      "grid_column": null,
      "grid_gap": null,
      "grid_row": null,
      "grid_template_areas": null,
      "grid_template_columns": null,
      "grid_template_rows": null,
      "height": null,
      "justify_content": null,
      "justify_items": null,
      "left": null,
      "margin": null,
      "max_height": null,
      "max_width": null,
      "min_height": null,
      "min_width": null,
      "object_fit": null,
      "object_position": null,
      "order": null,
      "overflow": null,
      "overflow_x": null,
      "overflow_y": null,
      "padding": null,
      "right": null,
      "top": null,
      "visibility": null,
      "width": null
     }
    },
    "d69f624992ec4d98b26cfbe4eda7858a": {
     "model_module": "@jupyter-widgets/controls",
     "model_module_version": "1.5.0",
     "model_name": "HTMLModel",
     "state": {
      "_dom_classes": [],
      "_model_module": "@jupyter-widgets/controls",
      "_model_module_version": "1.5.0",
      "_model_name": "HTMLModel",
      "_view_count": null,
      "_view_module": "@jupyter-widgets/controls",
      "_view_module_version": "1.5.0",
      "_view_name": "HTMLView",
      "description": "",
      "description_tooltip": null,
      "layout": "IPY_MODEL_49d03beb1e54403eaac043c366e574bd",
      "placeholder": "​",
      "style": "IPY_MODEL_b741b68efd3a42a1a461584a340de883",
      "value": "ud_test_base.csv: 100%"
     }
    },
    "da3fe9a516e1431a8a630b6e154a6f88": {
     "model_module": "@jupyter-widgets/controls",
     "model_module_version": "1.5.0",
     "model_name": "DescriptionStyleModel",
     "state": {
      "_model_module": "@jupyter-widgets/controls",
      "_model_module_version": "1.5.0",
      "_model_name": "DescriptionStyleModel",
      "_view_count": null,
      "_view_module": "@jupyter-widgets/base",
      "_view_module_version": "1.2.0",
      "_view_name": "StyleView",
      "description_width": ""
     }
    },
    "e1112afbf79c484b93122993f6a33a90": {
     "model_module": "@jupyter-widgets/controls",
     "model_module_version": "1.5.0",
     "model_name": "DescriptionStyleModel",
     "state": {
      "_model_module": "@jupyter-widgets/controls",
      "_model_module_version": "1.5.0",
      "_model_name": "DescriptionStyleModel",
      "_view_count": null,
      "_view_module": "@jupyter-widgets/base",
      "_view_module_version": "1.2.0",
      "_view_name": "StyleView",
      "description_width": ""
     }
    },
    "e335d82feb1345829ed41d2f611c8ee9": {
     "model_module": "@jupyter-widgets/controls",
     "model_module_version": "1.5.0",
     "model_name": "HTMLModel",
     "state": {
      "_dom_classes": [],
      "_model_module": "@jupyter-widgets/controls",
      "_model_module_version": "1.5.0",
      "_model_name": "HTMLModel",
      "_view_count": null,
      "_view_module": "@jupyter-widgets/controls",
      "_view_module_version": "1.5.0",
      "_view_name": "HTMLView",
      "description": "",
      "description_tooltip": null,
      "layout": "IPY_MODEL_84975d3f24c543f888dc534411d35a23",
      "placeholder": "​",
      "style": "IPY_MODEL_9ed156a9f5244c45aa6c3eb2b71baf84",
      "value": " 57.4k/57.4k [00:00&lt;00:00, 5.25MB/s]"
     }
    },
    "e34910ef5fe44df0828f481a507f666e": {
     "model_module": "@jupyter-widgets/controls",
     "model_module_version": "1.5.0",
     "model_name": "ProgressStyleModel",
     "state": {
      "_model_module": "@jupyter-widgets/controls",
      "_model_module_version": "1.5.0",
      "_model_name": "ProgressStyleModel",
      "_view_count": null,
      "_view_module": "@jupyter-widgets/base",
      "_view_module_version": "1.2.0",
      "_view_name": "StyleView",
      "bar_color": null,
      "description_width": ""
     }
    },
    "e80674aca880499fb17883c31fad6bcd": {
     "model_module": "@jupyter-widgets/base",
     "model_module_version": "1.2.0",
     "model_name": "LayoutModel",
     "state": {
      "_model_module": "@jupyter-widgets/base",
      "_model_module_version": "1.2.0",
      "_model_name": "LayoutModel",
      "_view_count": null,
      "_view_module": "@jupyter-widgets/base",
      "_view_module_version": "1.2.0",
      "_view_name": "LayoutView",
      "align_content": null,
      "align_items": null,
      "align_self": null,
      "border": null,
      "bottom": null,
      "display": null,
      "flex": null,
      "flex_flow": null,
      "grid_area": null,
      "grid_auto_columns": null,
      "grid_auto_flow": null,
      "grid_auto_rows": null,
      "grid_column": null,
      "grid_gap": null,
      "grid_row": null,
      "grid_template_areas": null,
      "grid_template_columns": null,
      "grid_template_rows": null,
      "height": null,
      "justify_content": null,
      "justify_items": null,
      "left": null,
      "margin": null,
      "max_height": null,
      "max_width": null,
      "min_height": null,
      "min_width": null,
      "object_fit": null,
      "object_position": null,
      "order": null,
      "overflow": null,
      "overflow_x": null,
      "overflow_y": null,
      "padding": null,
      "right": null,
      "top": null,
      "visibility": null,
      "width": null
     }
    },
    "ec0f760472fd4ee8809bc98e5869e951": {
     "model_module": "@jupyter-widgets/controls",
     "model_module_version": "1.5.0",
     "model_name": "ProgressStyleModel",
     "state": {
      "_model_module": "@jupyter-widgets/controls",
      "_model_module_version": "1.5.0",
      "_model_name": "ProgressStyleModel",
      "_view_count": null,
      "_view_module": "@jupyter-widgets/base",
      "_view_module_version": "1.2.0",
      "_view_name": "StyleView",
      "bar_color": null,
      "description_width": ""
     }
    },
    "f1a5df8b34674411a830b6a8e5a9d51c": {
     "model_module": "@jupyter-widgets/base",
     "model_module_version": "1.2.0",
     "model_name": "LayoutModel",
     "state": {
      "_model_module": "@jupyter-widgets/base",
      "_model_module_version": "1.2.0",
      "_model_name": "LayoutModel",
      "_view_count": null,
      "_view_module": "@jupyter-widgets/base",
      "_view_module_version": "1.2.0",
      "_view_name": "LayoutView",
      "align_content": null,
      "align_items": null,
      "align_self": null,
      "border": null,
      "bottom": null,
      "display": null,
      "flex": null,
      "flex_flow": null,
      "grid_area": null,
      "grid_auto_columns": null,
      "grid_auto_flow": null,
      "grid_auto_rows": null,
      "grid_column": null,
      "grid_gap": null,
      "grid_row": null,
      "grid_template_areas": null,
      "grid_template_columns": null,
      "grid_template_rows": null,
      "height": null,
      "justify_content": null,
      "justify_items": null,
      "left": null,
      "margin": null,
      "max_height": null,
      "max_width": null,
      "min_height": null,
      "min_width": null,
      "object_fit": null,
      "object_position": null,
      "order": null,
      "overflow": null,
      "overflow_x": null,
      "overflow_y": null,
      "padding": null,
      "right": null,
      "top": null,
      "visibility": null,
      "width": null
     }
    },
    "f45555693838445eb351fe3f82b908d9": {
     "model_module": "@jupyter-widgets/controls",
     "model_module_version": "1.5.0",
     "model_name": "HTMLModel",
     "state": {
      "_dom_classes": [],
      "_model_module": "@jupyter-widgets/controls",
      "_model_module_version": "1.5.0",
      "_model_name": "HTMLModel",
      "_view_count": null,
      "_view_module": "@jupyter-widgets/controls",
      "_view_module_version": "1.5.0",
      "_view_name": "HTMLView",
      "description": "",
      "description_tooltip": null,
      "layout": "IPY_MODEL_7806360d94e14cc88aab7d7c1d61ca36",
      "placeholder": "​",
      "style": "IPY_MODEL_a19a8dcbb2e44550bfb5f8b283c74120",
      "value": " 885k/885k [00:00&lt;00:00, 15.8MB/s]"
     }
    },
    "f81f5f60771748b3a44f17dc1a3ea3a7": {
     "model_module": "@jupyter-widgets/controls",
     "model_module_version": "1.5.0",
     "model_name": "ProgressStyleModel",
     "state": {
      "_model_module": "@jupyter-widgets/controls",
      "_model_module_version": "1.5.0",
      "_model_name": "ProgressStyleModel",
      "_view_count": null,
      "_view_module": "@jupyter-widgets/base",
      "_view_module_version": "1.2.0",
      "_view_name": "StyleView",
      "bar_color": null,
      "description_width": ""
     }
    }
   }
  }
 },
 "nbformat": 4,
 "nbformat_minor": 0
}
