{
 "cells": [
  {
   "cell_type": "markdown",
   "metadata": {},
   "source": [
    "# Question Type and Complexity Dummy Baseline Experiments\n",
    "#### Multilingual Question Type Classification and Complexity Prediction\n",
    "\n",
    "This notebook implements simple baselines for both question type classification (polar vs. content) and complexity regression.\n",
    "\n",
    "We'll use simple dummy models from scikit-learn as baselines and use these results for comparison with ML models.\n",
    "\n",
    "##### Author: Robin Kokot\n",
    "##### Date: March 2025\n"
   ]
  },
  {
   "cell_type": "code",
   "execution_count": null,
   "metadata": {},
   "outputs": [],
   "source": [
    "#from google.colab import drive\n",
    "#drive.mount('/content/drive')"
   ]
  },
  {
   "cell_type": "code",
   "execution_count": 1,
   "metadata": {},
   "outputs": [],
   "source": [
    "import pandas as pd\n",
    "import numpy as np\n",
    "import matplotlib.pyplot as plt\n",
    "import seaborn as sns\n",
    "import pickle\n",
    "import time\n",
    "import os\n",
    "from sklearn.dummy import DummyClassifier, DummyRegressor\n",
    "from sklearn.linear_model import LogisticRegression, LinearRegression\n",
    "from sklearn.metrics import (accuracy_score, precision_recall_fscore_support, confusion_matrix, classification_report,mean_squared_error, mean_absolute_error, r2_score)\n",
    "from datasets import load_dataset\n",
    "from scipy.sparse import vstack\n",
    "import wandb\n",
    "import logging\n",
    "\n",
    "# ==================== Set up displays\n",
    "pd.set_option('display.max_columns', None)\n",
    "pd.set_option('display.max_rows', 20)\n",
    "pd.set_option('display.width', 1000)\n",
    "\n",
    "# ==================== Set up seed constant\n",
    "SEED = 69\n",
    "np.random.seed(SEED)\n"
   ]
  },
  {
   "cell_type": "code",
   "execution_count": 3,
   "metadata": {},
   "outputs": [],
   "source": [
    "# ==================== Wandb config\n",
    "run = wandb.init(project=\"MAIthesis\", name=\"dummy-baselines\", tags=[\"baseline\", \"dummy-models\", \"question-classification\", \"complexity-regression\", \"tfidf\"], job_type=\"model-training\", dir=\"/home/robin/Research/qtype-eval/scripts/experiments/baselines\")\n",
    "\n",
    "config = wandb.config\n",
    "config.logreg_max_iter = 1000\n",
    "config.logreg_C = 1.0\n",
    "config.linear_fit_intercept = True\n",
    "config.random_state = SEED\n",
    "\n",
    "wandb.run.notes = \"Combined control experiments with dummy models for both question type classification and complexity regression using TF-IDF vectors\"\n"
   ]
  },
  {
   "cell_type": "code",
   "execution_count": null,
   "metadata": {},
   "outputs": [
    {
     "name": "stdout",
     "output_type": "stream",
     "text": [
      "Loading dataset...\n",
      "Classification label distribution (train): [3778 3682]\n",
      "Classification label distribution (test): [367 352]\n",
      "Classification label distribution (dev): [223 218]\n",
      "\n",
      "Regression target stats (train): mean=0.3855, std=0.1693, min=0.0000, max=1.0000\n",
      "Regression target stats (test): mean=0.4294, std=0.2127, min=0.0000, max=1.0000\n",
      "Regression target stats (dev): mean=0.4466, std=0.2359, min=0.0000, max=1.0000\n",
      "\n",
      "===== Example Questions with Labels and Complexity Scores =====\n",
      "\n",
      "Example 1:\n",
      "Text: Onko Tampereen rantatunneli Suomen pisin maantietunneli?\n",
      "Language: fi\n",
      "Question Type: 1\n",
      "Original Complexity Score: 1.4590\n",
      "Language-Normalized Complexity Score: 0.3608\n",
      "\n",
      "Example 2:\n",
      "Text: В каком фильме снимался Дзюн Фукуяма?\n",
      "Language: ru\n",
      "Question Type: 0\n",
      "Original Complexity Score: 1.2430\n",
      "Language-Normalized Complexity Score: 0.2536\n",
      "\n",
      "Example 3:\n",
      "Text: Kuka oli Mary Jane Watsonin lempisukulainen perheen ulkopuolelta?\n",
      "Language: fi\n",
      "Question Type: 0\n",
      "Original Complexity Score: 1.4550\n",
      "Language-Normalized Complexity Score: 0.3597\n",
      "\n",
      "Example 4:\n",
      "Text: Milloin HMS Castleton tilattiin?\n",
      "Language: fi\n",
      "Question Type: 0\n",
      "Original Complexity Score: 1.7320\n",
      "Language-Normalized Complexity Score: 0.4330\n",
      "\n",
      "Example 5:\n",
      "Text: 6.25전쟁 당시 남한 편에서 싸운 나라는 몇 개국인가?\n",
      "Language: ko\n",
      "Question Type: 0\n",
      "Original Complexity Score: 2.4710\n",
      "Language-Normalized Complexity Score: 0.5105\n"
     ]
    }
   ],
   "source": [
    "# ==================== Dataset loading and label config\n",
    "dataset = load_dataset(\"rokokot/question-type-and-complexity-v2\")\n",
    "\n",
    "train_df = pd.DataFrame(dataset['train'])\n",
    "dev_df = pd.DataFrame(dataset['validation'])\n",
    "test_df = pd.DataFrame(dataset['test'])\n",
    "\n",
    "y_class_train = np.array(dataset['train']['question_type'])  \n",
    "y_class_dev = np.array(dataset['validation']['question_type'])\n",
    "y_class_test = np.array(dataset['test']['question_type'])\n",
    "\n",
    "def normalize_complexity_scores(df):\n",
    "    df['lang_norm_complexity_score'] = 0.0\n",
    "    for language, group in df.groupby('language'):\n",
    "        min_score = group['complexity_score'].min()\n",
    "        max_score = group['complexity_score'].max()\n",
    "        if min_score == max_score:\n",
    "            df.loc[df['language'] == language, 'lang_norm_complexity_score'] = 0.5\n",
    "        else:\n",
    "            normalized_scores = (group['complexity_score'] - min_score) / (max_score - min_score)\n",
    "            df.loc[df['language'] == language, 'lang_norm_complexity_score'] = normalized_scores.values\n",
    "\n",
    "    return df\n",
    "\n",
    "train_df = normalize_complexity_scores(train_df)\n",
    "dev_df = normalize_complexity_scores(dev_df)\n",
    "test_df = normalize_complexity_scores(test_df)\n",
    "\n",
    "y_reg_train = np.array(train_df['lang_norm_complexity_score']) \n",
    "y_reg_dev = np.array(dev_df['lang_norm_complexity_score'])\n",
    "y_reg_test = np.array(test_df['lang_norm_complexity_score'])\n",
    "\n",
    "langs_train = np.array(train_df['language'])\n",
    "langs_dev = np.array(dev_df['language'])\n",
    "langs_test = np.array(test_df['language'])\n",
    "\n",
    "print(f\"Classification label distribution (train): {np.bincount(y_class_train)}\")\n",
    "print(f\"Classification label distribution (test): {np.bincount(y_class_test)}\")\n",
    "print(f\"Classification label distribution (dev): {np.bincount(y_class_dev)}\")\n",
    "\n",
    "print(f\"\\nRegression target stats (train): mean={y_reg_train.mean():.4f}, std={y_reg_train.std():.4f}, min={y_reg_train.min():.4f}, max={y_reg_train.max():.4f}\")\n",
    "print(f\"Regression target stats (test): mean={y_reg_test.mean():.4f}, std={y_reg_test.std():.4f}, min={y_reg_test.min():.4f}, max={y_reg_test.max():.4f}\")\n",
    "print(f\"Regression target stats (dev): mean={y_reg_dev.mean():.4f}, std={y_reg_dev.std():.4f}, min={y_reg_dev.min():.4f}, max={y_reg_dev.max():.4f}\")\n",
    "\n",
    "num_examples = 5\n",
    "for i in range(num_examples):\n",
    "    print(f\"\\nExample {i+1}:\")\n",
    "    print(f\"Text: {train_df['text'].iloc[i]}\")\n",
    "    print(f\"Language: {train_df['language'].iloc[i]}\")\n",
    "    print(f\"Question Type: {train_df['question_type'].iloc[i]}\")\n",
    "    print(f\"Original Complexity Score: {train_df['complexity_score'].iloc[i]:.4f}\")\n",
    "    print(f\"Language-Normalized Complexity Score: {train_df['lang_norm_complexity_score'].iloc[i]:.4f}\")\n"
   ]
  },
  {
   "cell_type": "code",
   "execution_count": 7,
   "metadata": {},
   "outputs": [
    {
     "name": "stdout",
     "output_type": "stream",
     "text": [
      "Loading TF-IDF vectors...\n",
      "TF-IDF vectors loaded successfully.\n",
      "Train - Features: 7460, Classification Labels: 7460, Regression Targets: 7460\n",
      "Test - Features: 719, Classification Labels: 719, Regression Targets: 719\n",
      "Validation - Features: 441, Classification Labels: 441, Regression Targets: 441\n"
     ]
    }
   ],
   "source": [
    "# ==================== TFIDF vectors loading\n",
    "tfidf_dir = \"/home/robin/Research/qtype-eval/scripts/data/vectors\"\n",
    "train_vectors = f\"{tfidf_dir}/tfidf_vectors_train.pkl\"\n",
    "dev_vectors = f\"{tfidf_dir}/tfidf_vectors_dev.pkl\"\n",
    "test_vectors = f\"{tfidf_dir}/tfidf_vectors_test.pkl\"\n",
    "\n",
    "\n",
    "print(\"Loading TF-IDF vectors...\")\n",
    "with open(train_vectors, 'rb') as v:    \n",
    "    X_train = pickle.load(v)\n",
    "with open(dev_vectors, 'rb') as v:\n",
    "    X_dev = pickle.load(v)\n",
    "with open(test_vectors, 'rb') as v:\n",
    "    X_test = pickle.load(v)\n",
    "print(\"TF-IDF vectors loaded successfully.\")\n",
    "\n",
    "print(f\"Train - Features: {X_train.shape[0]}, Classification Labels: {y_class_train.shape[0]}, Regression Targets: {y_reg_train.shape[0]}\")\n",
    "print(f\"Test - Features: {X_test.shape[0]}, Classification Labels: {y_class_test.shape[0]}, Regression Targets: {y_reg_test.shape[0]}\")\n",
    "print(f\"Validation - Features: {X_dev.shape[0]}, Classification Labels: {y_class_dev.shape[0]}, Regression Targets: {y_reg_dev.shape[0]}\")\n"
   ]
  },
  {
   "cell_type": "code",
   "execution_count": 8,
   "metadata": {},
   "outputs": [],
   "source": [
    "wandb.config.update({\"feature_type\": \"TF-IDF\",\"train_samples\": X_train.shape[0],\"test_samples\": X_test.shape[0],\"dev_samples\": X_dev.shape[0],\"feature_dim\": X_train.shape[1]})"
   ]
  },
  {
   "cell_type": "code",
   "execution_count": 9,
   "metadata": {},
   "outputs": [],
   "source": [
    "# ==================== Helper functions for models\n",
    "sparse_matrices = [matrix[0] for matrix in X_train] \n",
    "X_train_stacked = vstack(sparse_matrices)\n",
    "\n",
    "sparse_matrices_test = [matrix[0] for matrix in X_test]\n",
    "X_test_stacked = vstack(sparse_matrices_test)"
   ]
  },
  {
   "cell_type": "markdown",
   "metadata": {},
   "source": [
    "# clf implementation"
   ]
  },
  {
   "cell_type": "code",
   "execution_count": null,
   "metadata": {},
   "outputs": [],
   "source": [
    "# ==================== Helper functions for classification\n",
    "def evaluate_classifier(y_true, y_pred, model_name):\n",
    "    accuracy = accuracy_score(y_true, y_pred)\n",
    "    precision, recall, f1, _ = precision_recall_fscore_support(y_true, y_pred, average='binary')\n",
    "    cm = confusion_matrix(y_true, y_pred)\n",
    "    \n",
    "    print(f\"{model_name} - Accuracy: {accuracy:.4f}, F1 Score: {f1:.4f}\")\n",
    "    print(f\"Confusion Matrix:\\n{cm}\")\n",
    "    \n",
    "    plt.figure(figsize=(8, 6))\n",
    "    sns.heatmap(cm, annot=True, fmt='d', cmap='Blues', xticklabels=['Content', 'Polar'], yticklabels=['Content', 'Polar'])\n",
    "    plt.xlabel('Predicted')\n",
    "    plt.ylabel('Actual')\n",
    "    plt.title(f'Confusion Matrix ({model_name})')\n",
    "    plt.tight_layout()\n",
    "    \n",
    "    clean_name = model_name.lower().replace(' ', '_').replace('(', '').replace(')', '')\n",
    "    wandb.log({f\"classification_{clean_name}_accuracy\": accuracy,f\"classification_{clean_name}_precision\": precision,f\"classification_{clean_name}_recall\": recall,f\"classification_{clean_name}_f1\": f1,f\"classification_{clean_name}_cm\": wandb.Image(plt)})      #tracking\n",
    "\n",
    "    plt.close()\n",
    "    \n",
    "    return {'accuracy': accuracy,'precision': precision,'recall': recall,'f1': f1,'confusion_matrix': cm}"
   ]
  },
  {
   "cell_type": "code",
   "execution_count": 12,
   "metadata": {},
   "outputs": [
    {
     "name": "stdout",
     "output_type": "stream",
     "text": [
      "\n",
      "Training DummyClassifier with strategy: stratified\n",
      "Training time: 0.0040 seconds\n",
      "Dummy Classifier (stratified) - Accuracy: 0.4645, F1 Score: 0.4444\n",
      "Confusion Matrix:\n",
      "[[180 187]\n",
      " [198 154]]\n",
      "\n",
      "Training DummyClassifier with strategy: most_frequent\n",
      "Training time: 0.0030 seconds\n",
      "Dummy Classifier (most_frequent) - Accuracy: 0.5104, F1 Score: 0.0000\n",
      "Confusion Matrix:\n",
      "[[367   0]\n",
      " [352   0]]\n"
     ]
    },
    {
     "name": "stderr",
     "output_type": "stream",
     "text": [
      "/home/robin/.cache/pypoetry/virtualenvs/qtype-eval-pAepV5Z2-py3.12/lib/python3.12/site-packages/sklearn/metrics/_classification.py:1565: UndefinedMetricWarning: Precision is ill-defined and being set to 0.0 due to no predicted samples. Use `zero_division` parameter to control this behavior.\n",
      "  _warn_prf(average, modifier, f\"{metric.capitalize()} is\", len(result))\n"
     ]
    },
    {
     "name": "stdout",
     "output_type": "stream",
     "text": [
      "\n",
      "Training DummyClassifier with strategy: uniform\n",
      "Training time: 0.0031 seconds\n",
      "Dummy Classifier (uniform) - Accuracy: 0.5160, F1 Score: 0.5233\n",
      "Confusion Matrix:\n",
      "[[180 187]\n",
      " [161 191]]\n"
     ]
    }
   ],
   "source": [
    "# ==================== Dummy classification models\n",
    "dummy_strategies = ['stratified', 'most_frequent', 'uniform']\n",
    "dummy_clf_results = {}\n",
    "\n",
    "for strategy in dummy_strategies:\n",
    "    print(f\"\\nTraining DummyClassifier with strategy: {strategy}\")\n",
    "    dummy_clf = DummyClassifier(strategy=strategy, random_state=SEED)\n",
    "    \n",
    "    start_time = time.time()\n",
    "    dummy_clf.fit(X_train_stacked, y_class_train)\n",
    "    train_time = time.time() - start_time\n",
    "    print(f\"Training time: {train_time:.4f} seconds\")\n",
    "    \n",
    "    start_time = time.time()\n",
    "    y_pred = dummy_clf.predict(X_test_stacked)\n",
    "    predict_time = time.time() - start_time\n",
    "    \n",
    "    results = evaluate_classifier(y_class_test, y_pred, f\"Dummy Classifier ({strategy})\")\n",
    "    results['train_time'] = train_time\n",
    "    results['predict_time'] = predict_time\n",
    "    dummy_clf_results[strategy] = results\n",
    "    \n",
    "    wandb.log({f\"classification_dummy_{strategy}_train_time\": train_time, f\"classification_dummy_{strategy}_predict_time\": predict_time})           #tracking\n"
   ]
  },
  {
   "cell_type": "code",
   "execution_count": 16,
   "metadata": {},
   "outputs": [
    {
     "data": {
      "image/png": "[encoded data removed]",
      "text/plain": [
       "<Figure size 1000x600 with 1 Axes>"
      ]
     },
     "metadata": {},
     "output_type": "display_data"
    }
   ],
   "source": [
    "# ==================== Classification performance visualization\n",
    "plt.figure(figsize=(10, 6))\n",
    "model_names = [f\"Dummy ({s})\" for s in dummy_strategies]\n",
    "accuracies = [dummy_clf_results[s]['accuracy'] for s in dummy_strategies]\n",
    "f1_scores = [dummy_clf_results[s]['f1'] for s in dummy_strategies]\n",
    "\n",
    "x = np.arange(len(model_names))\n",
    "width = 0.35\n",
    "\n",
    "plt.bar(x - width/2, accuracies, width, label='Accuracy')\n",
    "plt.bar(x + width/2, f1_scores, width, label='F1 Score')\n",
    "plt.xlabel('Model')\n",
    "plt.ylabel('Score')\n",
    "plt.title('Classification Performance Comparison')\n",
    "plt.xticks(x, model_names, rotation=45, ha='right')\n",
    "plt.ylim(0, 1.0)\n",
    "plt.legend()\n",
    "plt.tight_layout()\n",
    "wandb.log({\"classification_performance_comparison\": wandb.Image(plt)})              #tracking\n",
    "plt.show()"
   ]
  },
  {
   "cell_type": "markdown",
   "metadata": {},
   "source": [
    "# reg implementaton"
   ]
  },
  {
   "cell_type": "code",
   "execution_count": 17,
   "metadata": {},
   "outputs": [],
   "source": [
    "# ==================== Helper functions for regression\n",
    "def evaluate_regressor(y_true, y_pred, model_name):\n",
    "    \"\"\"Evaluate regressor performance and print results\"\"\"\n",
    "    rmse = np.sqrt(mean_squared_error(y_true, y_pred))\n",
    "    mae = mean_absolute_error(y_true, y_pred)\n",
    "    r2 = r2_score(y_true, y_pred)\n",
    "    \n",
    "    print(f\"{model_name} - RMSE: {rmse:.4f}, MAE: {mae:.4f}, R²: {r2:.4f}\")\n",
    "    \n",
    "    plt.figure(figsize=(8, 6))\n",
    "    plt.scatter(y_true, y_pred, alpha=0.5)\n",
    "    plt.plot([min(y_true), max(y_true)], [min(y_true), max(y_true)], 'r--')\n",
    "    plt.xlabel('Actual Complexity')\n",
    "    plt.ylabel('Predicted Complexity')\n",
    "    plt.title(f'Predicted vs. Actual Complexity ({model_name})')\n",
    "    plt.tight_layout()\n",
    "    \n",
    "    clean_name = model_name.lower().replace(' ', '_').replace('(', '').replace(')', '')\n",
    "    wandb.log({f\"regression_{clean_name}_rmse\": rmse,f\"regression_{clean_name}_mae\": mae,f\"regression_{clean_name}_r2\": r2,f\"regression_{clean_name}_scatter\": wandb.Image(plt)})           #tracking\n",
    "    plt.close()\n",
    "    \n",
    "    return {'rmse': rmse,'mae': mae,'r2': r2}"
   ]
  },
  {
   "cell_type": "code",
   "execution_count": 18,
   "metadata": {},
   "outputs": [
    {
     "name": "stdout",
     "output_type": "stream",
     "text": [
      "\n",
      "Training DummyRegressor with strategy: mean\n",
      "Training time: 0.0017 seconds\n",
      "Dummy Regressor (mean) - RMSE: 0.2172, MAE: 0.1716, R²: -0.0426\n",
      "\n",
      "Training DummyRegressor with strategy: median\n",
      "Training time: 0.0028 seconds\n",
      "Dummy Regressor (median) - RMSE: 0.2203, MAE: 0.1731, R²: -0.0724\n"
     ]
    }
   ],
   "source": [
    "# ==================== Dummy regression models\n",
    "dummy_strategies = ['mean', 'median']\n",
    "dummy_reg_results = {}\n",
    "\n",
    "for strategy in dummy_strategies:\n",
    "    print(f\"\\nTraining DummyRegressor with strategy: {strategy}\")\n",
    "    dummy_reg = DummyRegressor(strategy=strategy)\n",
    "    \n",
    "    start_time = time.time()\n",
    "    dummy_reg.fit(X_train, y_reg_train)\n",
    "    train_time = time.time() - start_time\n",
    "    print(f\"Training time: {train_time:.4f} seconds\")\n",
    "    \n",
    "    start_time = time.time()\n",
    "    y_pred = dummy_reg.predict(X_test)\n",
    "    predict_time = time.time() - start_time\n",
    "    \n",
    "    results = evaluate_regressor(y_reg_test, y_pred, f\"Dummy Regressor ({strategy})\")\n",
    "    results['train_time'] = train_time\n",
    "    results['predict_time'] = predict_time\n",
    "    dummy_reg_results[strategy] = results\n",
    "    \n",
    "    wandb.log({f\"regression_dummy_{strategy}_train_time\": train_time,f\"regression_dummy_{strategy}_predict_time\": predict_time})"
   ]
  },
  {
   "cell_type": "code",
   "execution_count": 19,
   "metadata": {},
   "outputs": [
    {
     "data": {
      "image/png": "[encoded data removed]",
      "text/plain": [
       "<Figure size 1000x600 with 1 Axes>"
      ]
     },
     "metadata": {},
     "output_type": "display_data"
    }
   ],
   "source": [
    "# ==================== Regression performance visualization\n",
    "plt.figure(figsize=(10, 6))\n",
    "model_names = [f\"Dummy ({s})\" for s in dummy_strategies] \n",
    "rmse_values = [dummy_reg_results[s]['rmse'] for s in dummy_strategies] \n",
    "mae_values = [dummy_reg_results[s]['mae'] for s in dummy_strategies]\n",
    "\n",
    "x = np.arange(len(model_names))\n",
    "width = 0.35\n",
    "\n",
    "plt.bar(x - width/2, rmse_values, width, label='RMSE')\n",
    "plt.bar(x + width/2, mae_values, width, label='MAE')\n",
    "plt.xlabel('Model')\n",
    "plt.ylabel('Error')\n",
    "plt.title('Regression Performance Comparison')\n",
    "plt.xticks(x, model_names, rotation=45, ha='right')\n",
    "plt.legend()\n",
    "plt.tight_layout()\n",
    "wandb.log({\"regression_performance_comparison\": wandb.Image(plt)})              #tracking\n",
    "plt.show()"
   ]
  },
  {
   "cell_type": "markdown",
   "metadata": {},
   "source": [
    "## Control labels "
   ]
  },
  {
   "cell_type": "code",
   "execution_count": null,
   "metadata": {},
   "outputs": [],
   "source": []
  },
  {
   "cell_type": "markdown",
   "metadata": {},
   "source": [
    "## Individual signals regression\n"
   ]
  },
  {
   "cell_type": "code",
   "execution_count": 20,
   "metadata": {},
   "outputs": [
    {
     "data": {
      "text/html": [],
      "text/plain": [
       "<IPython.core.display.HTML object>"
      ]
     },
     "metadata": {},
     "output_type": "display_data"
    },
    {
     "data": {
      "text/html": [
       "<br>    <style><br>        .wandb-row {<br>            display: flex;<br>            flex-direction: row;<br>            flex-wrap: wrap;<br>            justify-content: flex-start;<br>            width: 100%;<br>        }<br>        .wandb-col {<br>            display: flex;<br>            flex-direction: column;<br>            flex-basis: 100%;<br>            flex: 1;<br>            padding: 10px;<br>        }<br>    </style><br><div class=\"wandb-row\"><div class=\"wandb-col\"><h3>Run history:</h3><br/><table class=\"wandb\"><tr><td>classification_dummy_classifier_most_frequent_accuracy</td><td>▁▁</td></tr><tr><td>classification_dummy_classifier_most_frequent_f1</td><td>▁▁</td></tr><tr><td>classification_dummy_classifier_most_frequent_precision</td><td>▁▁</td></tr><tr><td>classification_dummy_classifier_most_frequent_recall</td><td>▁▁</td></tr><tr><td>classification_dummy_classifier_stratified_accuracy</td><td>▁▁</td></tr><tr><td>classification_dummy_classifier_stratified_f1</td><td>▁▁</td></tr><tr><td>classification_dummy_classifier_stratified_precision</td><td>▁▁</td></tr><tr><td>classification_dummy_classifier_stratified_recall</td><td>▁▁</td></tr><tr><td>classification_dummy_classifier_uniform_accuracy</td><td>▁▁</td></tr><tr><td>classification_dummy_classifier_uniform_f1</td><td>▁▁</td></tr><tr><td>classification_dummy_classifier_uniform_precision</td><td>▁▁</td></tr><tr><td>classification_dummy_classifier_uniform_recall</td><td>▁▁</td></tr><tr><td>classification_dummy_most_frequent_predict_time</td><td>▁█</td></tr><tr><td>classification_dummy_most_frequent_train_time</td><td>▁█</td></tr><tr><td>classification_dummy_stratified_predict_time</td><td>█▁</td></tr><tr><td>classification_dummy_stratified_train_time</td><td>█▁</td></tr><tr><td>classification_dummy_uniform_predict_time</td><td>█▁</td></tr><tr><td>classification_dummy_uniform_train_time</td><td>▁█</td></tr><tr><td>classification_logistic_regression_accuracy</td><td>▁</td></tr><tr><td>classification_logistic_regression_f1</td><td>▁</td></tr><tr><td>classification_logistic_regression_precision</td><td>▁</td></tr><tr><td>classification_logistic_regression_recall</td><td>▁</td></tr><tr><td>classification_logreg_predict_time</td><td>▁</td></tr><tr><td>classification_logreg_train_time</td><td>▁</td></tr><tr><td>regression_dummy_mean_predict_time</td><td>▁</td></tr><tr><td>regression_dummy_mean_train_time</td><td>▁</td></tr><tr><td>regression_dummy_median_predict_time</td><td>▁</td></tr><tr><td>regression_dummy_median_train_time</td><td>▁</td></tr><tr><td>regression_dummy_regressor_mean_mae</td><td>▁</td></tr><tr><td>regression_dummy_regressor_mean_r2</td><td>▁</td></tr><tr><td>regression_dummy_regressor_mean_rmse</td><td>▁</td></tr><tr><td>regression_dummy_regressor_median_mae</td><td>▁</td></tr><tr><td>regression_dummy_regressor_median_r2</td><td>▁</td></tr><tr><td>regression_dummy_regressor_median_rmse</td><td>▁</td></tr></table><br/></div><div class=\"wandb-col\"><h3>Run summary:</h3><br/><table class=\"wandb\"><tr><td>classification_dummy_classifier_most_frequent_accuracy</td><td>0.51043</td></tr><tr><td>classification_dummy_classifier_most_frequent_f1</td><td>0</td></tr><tr><td>classification_dummy_classifier_most_frequent_precision</td><td>0</td></tr><tr><td>classification_dummy_classifier_most_frequent_recall</td><td>0</td></tr><tr><td>classification_dummy_classifier_stratified_accuracy</td><td>0.46453</td></tr><tr><td>classification_dummy_classifier_stratified_f1</td><td>0.44444</td></tr><tr><td>classification_dummy_classifier_stratified_precision</td><td>0.45161</td></tr><tr><td>classification_dummy_classifier_stratified_recall</td><td>0.4375</td></tr><tr><td>classification_dummy_classifier_uniform_accuracy</td><td>0.51599</td></tr><tr><td>classification_dummy_classifier_uniform_f1</td><td>0.52329</td></tr><tr><td>classification_dummy_classifier_uniform_precision</td><td>0.50529</td></tr><tr><td>classification_dummy_classifier_uniform_recall</td><td>0.54261</td></tr><tr><td>classification_dummy_most_frequent_predict_time</td><td>0.00188</td></tr><tr><td>classification_dummy_most_frequent_train_time</td><td>0.00301</td></tr><tr><td>classification_dummy_stratified_predict_time</td><td>0.00363</td></tr><tr><td>classification_dummy_stratified_train_time</td><td>0.00398</td></tr><tr><td>classification_dummy_uniform_predict_time</td><td>0.002</td></tr><tr><td>classification_dummy_uniform_train_time</td><td>0.0031</td></tr><tr><td>classification_logistic_regression_accuracy</td><td>0.75104</td></tr><tr><td>classification_logistic_regression_f1</td><td>0.76723</td></tr><tr><td>classification_logistic_regression_precision</td><td>0.70743</td></tr><tr><td>classification_logistic_regression_recall</td><td>0.83807</td></tr><tr><td>classification_logreg_predict_time</td><td>0.00199</td></tr><tr><td>classification_logreg_train_time</td><td>7.08069</td></tr><tr><td>regression_dummy_mean_predict_time</td><td>0.00047</td></tr><tr><td>regression_dummy_mean_train_time</td><td>0.00173</td></tr><tr><td>regression_dummy_median_predict_time</td><td>0.00041</td></tr><tr><td>regression_dummy_median_train_time</td><td>0.00283</td></tr><tr><td>regression_dummy_regressor_mean_mae</td><td>0.17158</td></tr><tr><td>regression_dummy_regressor_mean_r2</td><td>-0.04262</td></tr><tr><td>regression_dummy_regressor_mean_rmse</td><td>0.21722</td></tr><tr><td>regression_dummy_regressor_median_mae</td><td>0.17312</td></tr><tr><td>regression_dummy_regressor_median_r2</td><td>-0.07243</td></tr><tr><td>regression_dummy_regressor_median_rmse</td><td>0.22031</td></tr></table><br/></div></div>"
      ],
      "text/plain": [
       "<IPython.core.display.HTML object>"
      ]
     },
     "metadata": {},
     "output_type": "display_data"
    },
    {
     "data": {
      "text/html": [
       " View run <strong style=\"color:#cdcd00\">dummy-baselines</strong> at: <a href='https://wandb.ai/rokii-ku-leuven/MAIthesis/runs/6hl40lnb' target=\"_blank\">https://wandb.ai/rokii-ku-leuven/MAIthesis/runs/6hl40lnb</a><br> View project at: <a href='https://wandb.ai/rokii-ku-leuven/MAIthesis' target=\"_blank\">https://wandb.ai/rokii-ku-leuven/MAIthesis</a><br>Synced 4 W&B file(s), 11 media file(s), 0 artifact file(s) and 0 other file(s)"
      ],
      "text/plain": [
       "<IPython.core.display.HTML object>"
      ]
     },
     "metadata": {},
     "output_type": "display_data"
    },
    {
     "data": {
      "text/html": [
       "Find logs at: <code>./wandb/wandb/run-20250327_203214-6hl40lnb/logs</code>"
      ],
      "text/plain": [
       "<IPython.core.display.HTML object>"
      ]
     },
     "metadata": {},
     "output_type": "display_data"
    }
   ],
   "source": [
    "wandb.finish()\n"
   ]
  }
 ],
 "metadata": {
  "kernelspec": {
   "display_name": "qtype-eval-pAepV5Z2-py3.12",
   "language": "python",
   "name": "python3"
  },
  "language_info": {
   "codemirror_mode": {
    "name": "ipython",
    "version": 3
   },
   "file_extension": ".py",
   "mimetype": "text/x-python",
   "name": "python",
   "nbconvert_exporter": "python",
   "pygments_lexer": "ipython3",
   "version": "3.12.3"
  }
 },
 "nbformat": 4,
 "nbformat_minor": 2
}
